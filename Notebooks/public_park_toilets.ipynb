{
 "cells": [
  {
   "cell_type": "code",
   "execution_count": 1,
   "metadata": {
    "collapsed": true
   },
   "outputs": [],
   "source": [
    "from bs4 import BeautifulSoup\n",
    "import urllib2\n",
    "import pandas as pd"
   ]
  },
  {
   "cell_type": "code",
   "execution_count": 2,
   "metadata": {
    "collapsed": false
   },
   "outputs": [],
   "source": [
    "html = \"https://www.nycgovparks.org/facilities/bathrooms\"\n",
    "page = urllib2.urlopen(html)\n",
    "soup = BeautifulSoup(page, \"lxml\")"
   ]
  },
  {
   "cell_type": "code",
   "execution_count": 3,
   "metadata": {
    "collapsed": false
   },
   "outputs": [],
   "source": [
    "manhattan = soup.find(id=\"tab-M\")\n",
    "t_man = manhattan.find_all('tbody')[0].find_all('tr')\n",
    "manhattan_toilets = pd.DataFrame(columns=('Name', 'park', 'addr', 'long', 'lat'))\n",
    "\n",
    "for i in xrange(len(t_man)):\n",
    "    \n",
    "    Name = t_man[i].find_all('td')[0].string\n",
    "    park = t_man[i].find_all('td')[1].contents[0].string\n",
    "    try: \n",
    "        addr = t_man[i].find_all('td')[1].contents[2]\n",
    "    except IndexError:\n",
    "        addr = t_man[i].find_all('td')[1].contents[0].string\n",
    "        \n",
    "    url = \"https://www.nycgovparks.org/\" + t_man[i].find_all('td')[1].a['href']\n",
    "    page1 = urllib2.urlopen(url)\n",
    "    soup1 = BeautifulSoup(page1, \"lxml\")\n",
    "\n",
    "    lon = \"-\" + soup1.find_all('p')[4].a['href'].split('=')[2].split('-')[1].split(\"%\")[0]\n",
    "    lat = soup1.find_all('p')[4].a['href'].split('=')[2].split(\"%\")[0]\n",
    "\n",
    "    manhattan_toilets.loc[i] = [Name, park, addr, lon, lat]"
   ]
  },
  {
   "cell_type": "code",
   "execution_count": 145,
   "metadata": {
    "collapsed": false
   },
   "outputs": [
    {
     "data": {
      "text/plain": [
       "[<td>Bridge Park 2</td>,\n",
       " <td>Bridge &amp; Prospect streets</td>,\n",
       " <td>Yes</td>,\n",
       " <td></td>]"
      ]
     },
     "execution_count": 145,
     "metadata": {},
     "output_type": "execute_result"
    }
   ],
   "source": [
    "t_bk[17].find_all('td')"
   ]
  },
  {
   "cell_type": "code",
   "execution_count": 4,
   "metadata": {
    "collapsed": false
   },
   "outputs": [],
   "source": [
    "Brooklyn = soup.find(id=\"tab-B\")\n",
    "t_bk = Brooklyn.find_all('tbody')[0].find_all('tr')\n",
    "Brooklyn_toilets = pd.DataFrame(columns=('Name', 'park', 'addr', 'long', 'lat'))\n",
    "\n",
    "for i in xrange(len(t_bk)):\n",
    "    \n",
    "    Name = t_bk[i].find_all('td')[0].string\n",
    "    park = t_bk[i].find_all('td')[1].contents[0].string\n",
    "    try: \n",
    "        addr = t_bk[i].find_all('td')[1].contents[2]\n",
    "    except IndexError:\n",
    "        addr = t_bk[i].find_all('td')[1].contents[0].string\n",
    "        \n",
    "    try:    \n",
    "        url = \"https://www.nycgovparks.org/\" + t_bk[i].find_all('td')[1].a['href']\n",
    "        page1 = urllib2.urlopen(url)\n",
    "        soup1 = BeautifulSoup(page1, \"lxml\")\n",
    "\n",
    "        lon = \"-\" + soup1.find_all('p')[4].a['href'].split('=')[2].split('-')[1].split(\"%\")[0]\n",
    "        lat = soup1.find_all('p')[4].a['href'].split('=')[2].split(\"%\")[0]\n",
    "    except:\n",
    "        pass\n",
    "\n",
    "    Brooklyn_toilets.loc[i] = [Name, park, addr, lon, lat]"
   ]
  },
  {
   "cell_type": "code",
   "execution_count": 10,
   "metadata": {
    "collapsed": false
   },
   "outputs": [
    {
     "data": {
      "text/plain": [
       "[<p id=\"site-tagline\">Official Website of the New York City Department of Parks &amp; Recreation</p>,\n",
       " <p class=\"breadcrumb\"><a href=\"/parks/\">Find A Park</a> &gt; Mosholu Playground</p>,\n",
       " <p class=\"park_location\" style=\"margin-bottom: 0;\">Mosholu Parkway South bet. Bainbridge Ave. and Briggs Ave.</p>,\n",
       " <p class=\"borough\" style=\"font-weight:lighter;\"><span>Bronx</span></p>,\n",
       " <p>Directions via <a href=\"http://maps.google.com/maps?t=h&amp;daddr=\">Google Maps</a></p>,\n",
       " <p style=\"margin-bottom: 7.5px\"><a href=\"/about/lost-and-found\">Lost and Found Information</a></p>,\n",
       " <p id=\"park_more_details\"><strong>Zip Code:</strong> 10458<br/><strong>Community Board:</strong> 07<br/><strong>Council Member:</strong><a href=\"http://council.nyc.gov/d11/html/members/home.shtml\">Andrew Cohen</a><br/><strong>Park ID:</strong> X197<br/><strong>Acreage:</strong> 0.41<br/><strong>Property Type:</strong> Jointly Operated Playground</p>,\n",
       " <p>Was this information helpful? \\xa0 <input id=\"submit_YES_helpful\" name=\"yes\" type=\"button\" value=\"Yes\"/> <input id=\"no_button\" name=\"no\" type=\"button\" value=\"No\"/></p>,\n",
       " <p id=\"thank_you_feedback\">Thank you for yourfeedback.</p>,\n",
       " <p>(Optional) Please tell us how we can make this page more helpful.<br/>If you need a response,please use the <a href=\"http://nyc.gov/html/mail/html/maildpr.html\">Contact the Commissioner</a>form instead.</p>,\n",
       " <p><textarea id=\"reason_no\" name=\"reason_no\"></textarea></p>,\n",
       " <p id=\"buttons\"><input id=\"submit_NO_helpful\" name=\"submit\" type=\"button\" value=\"Submit\"/></p>]"
      ]
     },
     "execution_count": 10,
     "metadata": {},
     "output_type": "execute_result"
    }
   ],
   "source": [
    "soup1.find_all('p')"
   ]
  },
  {
   "cell_type": "code",
   "execution_count": 11,
   "metadata": {
    "collapsed": false
   },
   "outputs": [],
   "source": [
    "Bronx = soup.find(id=\"tab-X\")\n",
    "t_bx = Bronx.find_all('tbody')[0].find_all('tr')\n",
    "Bronx_toilets = pd.DataFrame(columns=('Name', 'park', 'addr', 'long', 'lat'))\n",
    "\n",
    "for i in xrange(len(t_bx)):\n",
    "    \n",
    "    Name = t_bx[i].find_all('td')[0].string\n",
    "    park = t_bx[i].find_all('td')[1].contents[0].string\n",
    "    try: \n",
    "        addr = t_bx[i].find_all('td')[1].contents[2]\n",
    "    except IndexError:\n",
    "        addr = t_bx[i].find_all('td')[1].contents[0].string\n",
    "    \n",
    "    try:    \n",
    "        url = \"https://www.nycgovparks.org/\" + t_bx[i].find_all('td')[1].a['href']\n",
    "        page1 = urllib2.urlopen(url)\n",
    "        soup1 = BeautifulSoup(page1, \"lxml\")\n",
    "\n",
    "        lon = \"-\" + soup1.find_all('p')[4].a['href'].split('=')[2].split('-')[1].split(\"%\")[0]\n",
    "        lat = soup1.find_all('p')[4].a['href'].split('=')[2].split(\"%\")[0]\n",
    "    except:\n",
    "        pass\n",
    "    \n",
    "    \n",
    "    Bronx_toilets.loc[i] = [Name, park, addr, lon, lat]"
   ]
  },
  {
   "cell_type": "code",
   "execution_count": 13,
   "metadata": {
    "collapsed": false
   },
   "outputs": [],
   "source": [
    "queens = soup.find(id=\"tab-Q\")\n",
    "t_queens = queens.find_all('tbody')[0].find_all('tr')\n",
    "queens_toilets = pd.DataFrame(columns=('Name', 'park', 'addr', 'long', 'lat'))\n",
    "\n",
    "for i in xrange(len(t_queens)):\n",
    "    \n",
    "    Name = t_queens[i].find_all('td')[0].string\n",
    "    park = t_queens[i].find_all('td')[1].contents[0].string\n",
    "    try: \n",
    "        addr = t_queens[i].find_all('td')[1].contents[2]\n",
    "    except IndexError:\n",
    "        addr = t_queens[i].find_all('td')[1].contents[0].string\n",
    "    \n",
    "    try:\n",
    "        url = \"https://www.nycgovparks.org/\" + t_queens[i].find_all('td')[1].a['href']\n",
    "        page1 = urllib2.urlopen(url)\n",
    "        soup1 = BeautifulSoup(page1, \"lxml\")\n",
    "\n",
    "        lon = \"-\" + soup1.find_all('p')[4].a['href'].split('=')[2].split('-')[1].split(\"%\")[0]\n",
    "        lat = soup1.find_all('p')[4].a['href'].split('=')[2].split(\"%\")[0]\n",
    "    except:\n",
    "        pass\n",
    "\n",
    "    queens_toilets.loc[i] = [Name, park, addr, lon, lat]"
   ]
  },
  {
   "cell_type": "code",
   "execution_count": 22,
   "metadata": {
    "collapsed": false,
    "scrolled": false
   },
   "outputs": [],
   "source": [
    "public_toilets= pd.concat([Brooklyn_toilets, Bronx_toilets, queens_toilets], ignore_index=True)"
   ]
  },
  {
   "cell_type": "code",
   "execution_count": 28,
   "metadata": {
    "collapsed": false,
    "scrolled": false
   },
   "outputs": [],
   "source": [
    "manhattan_toilets.to_excel('man.xls')"
   ]
  },
  {
   "cell_type": "code",
   "execution_count": 23,
   "metadata": {
    "collapsed": true
   },
   "outputs": [],
   "source": [
    "public_toilets.to_csv(\"public_toilets.csv\")"
   ]
  },
  {
   "cell_type": "code",
   "execution_count": null,
   "metadata": {
    "collapsed": true
   },
   "outputs": [],
   "source": []
  }
 ],
 "metadata": {
  "anaconda-cloud": {},
  "kernelspec": {
   "display_name": "Python [default]",
   "language": "python",
   "name": "python2"
  },
  "language_info": {
   "codemirror_mode": {
    "name": "ipython",
    "version": 2
   },
   "file_extension": ".py",
   "mimetype": "text/x-python",
   "name": "python",
   "nbconvert_exporter": "python",
   "pygments_lexer": "ipython2",
   "version": "2.7.12"
  }
 },
 "nbformat": 4,
 "nbformat_minor": 1
}
