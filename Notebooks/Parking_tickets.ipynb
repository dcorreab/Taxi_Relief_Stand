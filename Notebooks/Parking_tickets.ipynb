{
 "cells": [
  {
   "cell_type": "code",
   "execution_count": 1,
   "metadata": {
    "collapsed": true
   },
   "outputs": [],
   "source": [
    "import pandas as pd\n",
    "import numpy as np\n",
    "import json\n",
    "import re\n",
    "import urllib2\n",
    "import geopandas as gp\n",
    "from shapely.geometry import Point\n",
    "import matplotlib.pyplot as plt\n",
    "%matplotlib inline"
   ]
  },
  {
   "cell_type": "code",
   "execution_count": 678,
   "metadata": {
    "collapsed": true
   },
   "outputs": [],
   "source": [
    "data_path = \"./Capstone - Taxi Relief Stand/Data/Parking Tickets\""
   ]
  },
  {
   "cell_type": "code",
   "execution_count": 679,
   "metadata": {
    "collapsed": true
   },
   "outputs": [],
   "source": [
    "vio_codes = pd.read_csv(data_path + \"/DOF_Parking_Violation_Codes.csv\")"
   ]
  },
  {
   "cell_type": "code",
   "execution_count": 680,
   "metadata": {
    "collapsed": true
   },
   "outputs": [],
   "source": [
    "vio = pd.read_csv(data_path + \"/Parking_Ticket_2016.csv\")"
   ]
  },
  {
   "cell_type": "code",
   "execution_count": 681,
   "metadata": {
    "collapsed": false
   },
   "outputs": [
    {
     "data": {
      "text/plain": [
       "array(['999', 'PAS', 'OMT', 'COM', 'TRL', 'OML', 'OMS', 'FAR', 'APP',\n",
       "       'OMF', 'ORC', 'OMV', 'OMR', 'CBS', 'MOT', 'SRF', 'TRC', 'TOW'], dtype=object)"
      ]
     },
     "execution_count": 681,
     "metadata": {},
     "output_type": "execute_result"
    }
   ],
   "source": [
    "vio['Plate Type'].unique()"
   ]
  },
  {
   "cell_type": "code",
   "execution_count": 682,
   "metadata": {
    "collapsed": false,
    "scrolled": false
   },
   "outputs": [],
   "source": [
    "vio = vio[vio['Plate Type'] == 'OMT']"
   ]
  },
  {
   "cell_type": "code",
   "execution_count": 683,
   "metadata": {
    "collapsed": false,
    "scrolled": false
   },
   "outputs": [
    {
     "data": {
      "text/plain": [
       "32360"
      ]
     },
     "execution_count": 683,
     "metadata": {},
     "output_type": "execute_result"
    }
   ],
   "source": [
    "len(vio)"
   ]
  },
  {
   "cell_type": "code",
   "execution_count": 684,
   "metadata": {
    "collapsed": true
   },
   "outputs": [],
   "source": [
    "vio = vio.loc[:,['Summons Number', 'House Number', 'Street Name', 'Intersecting Street', 'Issue Date']]"
   ]
  },
  {
   "cell_type": "code",
   "execution_count": 685,
   "metadata": {
    "collapsed": false
   },
   "outputs": [],
   "source": [
    "vio.reset_index(inplace=True, drop=True)"
   ]
  },
  {
   "cell_type": "code",
   "execution_count": 98,
   "metadata": {
    "collapsed": false
   },
   "outputs": [],
   "source": [
    "data_path = \"./Capstone - Taxi Relief Stand/Data_Warehouse/Parking Tickets\"\n",
    "vio_2015 = pd.read_csv(data_path + \"/parking_violations_taxi_2015.csv\")"
   ]
  },
  {
   "cell_type": "code",
   "execution_count": 99,
   "metadata": {
    "collapsed": true
   },
   "outputs": [],
   "source": [
    "vio_2015 = vio_2015.loc[:,['Summons Number', 'House Number', 'Street Name', 'Intersecting Street', 'Issue Date']]"
   ]
  },
  {
   "cell_type": "code",
   "execution_count": 100,
   "metadata": {
    "collapsed": true
   },
   "outputs": [],
   "source": [
    "vio_2015['Issue Date'] = pd.to_datetime(vio_2015['Issue Date'])\n",
    "vio_2015 = vio_2015[vio_2015['Issue Date'] >= '2015-01-01']"
   ]
  },
  {
   "cell_type": "code",
   "execution_count": 101,
   "metadata": {
    "collapsed": false
   },
   "outputs": [
    {
     "data": {
      "text/plain": [
       "count                   31765\n",
       "unique                    181\n",
       "top       2015-01-14 00:00:00\n",
       "freq                      479\n",
       "first     2015-01-01 00:00:00\n",
       "last      2015-06-30 00:00:00\n",
       "Name: Issue Date, dtype: object"
      ]
     },
     "execution_count": 101,
     "metadata": {},
     "output_type": "execute_result"
    }
   ],
   "source": [
    "vio_2015['Issue Date'].describe()"
   ]
  },
  {
   "cell_type": "markdown",
   "metadata": {},
   "source": [
    "## Address = House no. + Street name\n",
    "## However, in some cases House no. is missing, so we use intersection street\n",
    "## We are adding New York at the end of the address\n",
    "## IF housing no. is NaN, we use intersection street - by adding '&' and 'st new york'"
   ]
  },
  {
   "cell_type": "code",
   "execution_count": 104,
   "metadata": {
    "collapsed": true
   },
   "outputs": [],
   "source": [
    "def create_address(data):\n",
    "    \n",
    "    if ( (type(data['Intersecting Street']) == str) & (type(data['Street Name']) == str)):\n",
    "        add =  (data['Intersecting Street'] + ' %26 ' + data['Street Name'] + ' st New York NY')\n",
    "        add = add.upper()\n",
    "        add_re = re.findall((r\"\\w*\\s.*/O.*?\\s(.*)\"),add)    \n",
    "        if len(add_re) == 0:\n",
    "            return add\n",
    "        else:\n",
    "            return add_re[0]\n",
    "    \n",
    "    elif ((type(data['Street Name']) == str) & (type(data['House Number']) == str)):\n",
    "        add = (str(data['House Number']) + ' ' + data['Street Name'] + ' New York NY')\n",
    "        add = add.upper()\n",
    "        add_re = re.findall((r\"\\w*\\s.*/O.*?\\s(.*)\"),add)\n",
    "        if len(add_re) == 0:\n",
    "            return add\n",
    "        else:\n",
    "            return add_re[0]\n",
    "    else:\n",
    "        return ''"
   ]
  },
  {
   "cell_type": "code",
   "execution_count": 796,
   "metadata": {
    "collapsed": false
   },
   "outputs": [],
   "source": [
    "vio.loc[:,'Address'] = vio.apply(create_address, axis=1)"
   ]
  },
  {
   "cell_type": "code",
   "execution_count": 105,
   "metadata": {
    "collapsed": false
   },
   "outputs": [],
   "source": [
    "vio_2015.loc[:,'Address'] = vio_2015.apply(create_address, axis=1)"
   ]
  },
  {
   "cell_type": "code",
   "execution_count": 106,
   "metadata": {
    "collapsed": false
   },
   "outputs": [
    {
     "data": {
      "text/plain": [
       "31765"
      ]
     },
     "execution_count": 106,
     "metadata": {},
     "output_type": "execute_result"
    }
   ],
   "source": [
    "len(vio_2015)"
   ]
  },
  {
   "cell_type": "code",
   "execution_count": 107,
   "metadata": {
    "collapsed": false,
    "scrolled": true
   },
   "outputs": [
    {
     "name": "stdout",
     "output_type": "stream",
     "text": [
      "<class 'pandas.core.frame.DataFrame'>\n",
      "Int64Index: 31765 entries, 2 to 63305\n",
      "Data columns (total 6 columns):\n",
      "Summons Number         31765 non-null int64\n",
      "House Number           20443 non-null object\n",
      "Street Name            31763 non-null object\n",
      "Intersecting Street    14743 non-null object\n",
      "Issue Date             31765 non-null datetime64[ns]\n",
      "Address                31765 non-null object\n",
      "dtypes: datetime64[ns](1), int64(1), object(4)\n",
      "memory usage: 1.7+ MB\n"
     ]
    }
   ],
   "source": [
    "vio_2015.info()"
   ]
  },
  {
   "cell_type": "code",
   "execution_count": 797,
   "metadata": {
    "collapsed": false,
    "scrolled": true
   },
   "outputs": [
    {
     "data": {
      "text/html": [
       "<div>\n",
       "<table border=\"1\" class=\"dataframe\">\n",
       "  <thead>\n",
       "    <tr style=\"text-align: right;\">\n",
       "      <th></th>\n",
       "      <th>Summons Number</th>\n",
       "      <th>House Number</th>\n",
       "      <th>Street Name</th>\n",
       "      <th>Intersecting Street</th>\n",
       "      <th>Issue Date</th>\n",
       "      <th>Address</th>\n",
       "    </tr>\n",
       "  </thead>\n",
       "  <tbody>\n",
       "    <tr>\n",
       "      <th>0</th>\n",
       "      <td>1131604908</td>\n",
       "      <td>93-02</td>\n",
       "      <td>SUTPHIN BLVD</td>\n",
       "      <td>NaN</td>\n",
       "      <td>06/30/2015</td>\n",
       "      <td>93-02 sutphin blvd new york ny</td>\n",
       "    </tr>\n",
       "    <tr>\n",
       "      <th>1</th>\n",
       "      <td>1255154809</td>\n",
       "      <td>NaN</td>\n",
       "      <td>E 125</td>\n",
       "      <td>PARK AVE</td>\n",
       "      <td>06/20/2015</td>\n",
       "      <td>park ave %26 e 125 st new york ny</td>\n",
       "    </tr>\n",
       "    <tr>\n",
       "      <th>2</th>\n",
       "      <td>1359750186</td>\n",
       "      <td>34-14</td>\n",
       "      <td>64 ST</td>\n",
       "      <td>NaN</td>\n",
       "      <td>07/01/2015</td>\n",
       "      <td>34-14 64 st new york ny</td>\n",
       "    </tr>\n",
       "    <tr>\n",
       "      <th>3</th>\n",
       "      <td>1362784618</td>\n",
       "      <td>90-15</td>\n",
       "      <td>QUEENS BLVD</td>\n",
       "      <td>NaN</td>\n",
       "      <td>07/21/2015</td>\n",
       "      <td>90-15 queens blvd new york ny</td>\n",
       "    </tr>\n",
       "    <tr>\n",
       "      <th>4</th>\n",
       "      <td>1362806274</td>\n",
       "      <td>90-15</td>\n",
       "      <td>QUEENS BLVD</td>\n",
       "      <td>NaN</td>\n",
       "      <td>07/19/2015</td>\n",
       "      <td>90-15 queens blvd new york ny</td>\n",
       "    </tr>\n",
       "  </tbody>\n",
       "</table>\n",
       "</div>"
      ],
      "text/plain": [
       "   Summons Number House Number   Street Name Intersecting Street  Issue Date  \\\n",
       "0      1131604908        93-02  SUTPHIN BLVD                 NaN  06/30/2015   \n",
       "1      1255154809          NaN         E 125            PARK AVE  06/20/2015   \n",
       "2      1359750186        34-14         64 ST                 NaN  07/01/2015   \n",
       "3      1362784618        90-15   QUEENS BLVD                 NaN  07/21/2015   \n",
       "4      1362806274        90-15   QUEENS BLVD                 NaN  07/19/2015   \n",
       "\n",
       "                             Address  \n",
       "0     93-02 sutphin blvd new york ny  \n",
       "1  park ave %26 e 125 st new york ny  \n",
       "2            34-14 64 st new york ny  \n",
       "3      90-15 queens blvd new york ny  \n",
       "4      90-15 queens blvd new york ny  "
      ]
     },
     "execution_count": 797,
     "metadata": {},
     "output_type": "execute_result"
    }
   ],
   "source": [
    "vio.head()"
   ]
  },
  {
   "cell_type": "code",
   "execution_count": 798,
   "metadata": {
    "collapsed": false
   },
   "outputs": [],
   "source": [
    "vio = vio[vio.Address != '']"
   ]
  },
  {
   "cell_type": "code",
   "execution_count": 109,
   "metadata": {
    "collapsed": false
   },
   "outputs": [],
   "source": [
    "vio_2015_blank = vio_2015[vio_2015.Address == '']"
   ]
  },
  {
   "cell_type": "code",
   "execution_count": 110,
   "metadata": {
    "collapsed": true
   },
   "outputs": [],
   "source": [
    "vio_2015 = vio_2015[vio_2015.Address != '']"
   ]
  },
  {
   "cell_type": "code",
   "execution_count": 111,
   "metadata": {
    "collapsed": true
   },
   "outputs": [],
   "source": [
    "add_2015_uni = vio_2015.Address.unique()"
   ]
  },
  {
   "cell_type": "code",
   "execution_count": 112,
   "metadata": {
    "collapsed": false
   },
   "outputs": [
    {
     "data": {
      "text/plain": [
       "8998"
      ]
     },
     "execution_count": 112,
     "metadata": {},
     "output_type": "execute_result"
    }
   ],
   "source": [
    "len(add_2015_uni)"
   ]
  },
  {
   "cell_type": "code",
   "execution_count": 799,
   "metadata": {
    "collapsed": false
   },
   "outputs": [],
   "source": [
    "address_uni = vio.Address.unique()"
   ]
  },
  {
   "cell_type": "code",
   "execution_count": 800,
   "metadata": {
    "collapsed": false
   },
   "outputs": [
    {
     "data": {
      "text/plain": [
       "14612"
      ]
     },
     "execution_count": 800,
     "metadata": {},
     "output_type": "execute_result"
    }
   ],
   "source": [
    "len(address_uni)"
   ]
  },
  {
   "cell_type": "code",
   "execution_count": 801,
   "metadata": {
    "collapsed": false,
    "scrolled": true
   },
   "outputs": [],
   "source": [
    "add_uni_api = map(lambda x: x.replace(\" \", \"+\"),address_uni)"
   ]
  },
  {
   "cell_type": "code",
   "execution_count": 114,
   "metadata": {
    "collapsed": true
   },
   "outputs": [],
   "source": [
    "add_2015_uni_api = map(lambda x: x.replace(\" \", \"+\"),add_2015_uni)"
   ]
  },
  {
   "cell_type": "code",
   "execution_count": 116,
   "metadata": {
    "collapsed": false
   },
   "outputs": [],
   "source": [
    "len(add_uni_api)"
   ]
  },
  {
   "cell_type": "code",
   "execution_count": 803,
   "metadata": {
    "collapsed": true
   },
   "outputs": [],
   "source": [
    "add_df = pd.DataFrame([address_uni, add_uni_api]).T"
   ]
  },
  {
   "cell_type": "code",
   "execution_count": 117,
   "metadata": {
    "collapsed": true
   },
   "outputs": [],
   "source": [
    "add_2015_df = pd.DataFrame([add_2015_uni, add_2015_uni_api]).T"
   ]
  },
  {
   "cell_type": "code",
   "execution_count": 118,
   "metadata": {
    "collapsed": false
   },
   "outputs": [
    {
     "data": {
      "text/html": [
       "<div>\n",
       "<table border=\"1\" class=\"dataframe\">\n",
       "  <thead>\n",
       "    <tr style=\"text-align: right;\">\n",
       "      <th></th>\n",
       "      <th>add_uni</th>\n",
       "      <th>add_uni_api</th>\n",
       "    </tr>\n",
       "  </thead>\n",
       "  <tbody>\n",
       "    <tr>\n",
       "      <th>0</th>\n",
       "      <td>626 10TH AVE NEW YORK NY</td>\n",
       "      <td>626+10TH+AVE+NEW+YORK+NY</td>\n",
       "    </tr>\n",
       "    <tr>\n",
       "      <th>1</th>\n",
       "      <td>213 PARK AVE SOUTH NEW YORK NY</td>\n",
       "      <td>213+PARK+AVE+SOUTH+NEW+YORK+NY</td>\n",
       "    </tr>\n",
       "    <tr>\n",
       "      <th>2</th>\n",
       "      <td>150 2ND AVE NEW YORK NY</td>\n",
       "      <td>150+2ND+AVE+NEW+YORK+NY</td>\n",
       "    </tr>\n",
       "    <tr>\n",
       "      <th>3</th>\n",
       "      <td>2477 VALENTINE AVE NEW YORK NY</td>\n",
       "      <td>2477+VALENTINE+AVE+NEW+YORK+NY</td>\n",
       "    </tr>\n",
       "    <tr>\n",
       "      <th>4</th>\n",
       "      <td>16714 HILLSIDE AVE NEW YORK NY</td>\n",
       "      <td>16714+HILLSIDE+AVE+NEW+YORK+NY</td>\n",
       "    </tr>\n",
       "  </tbody>\n",
       "</table>\n",
       "</div>"
      ],
      "text/plain": [
       "                          add_uni                     add_uni_api\n",
       "0        626 10TH AVE NEW YORK NY        626+10TH+AVE+NEW+YORK+NY\n",
       "1  213 PARK AVE SOUTH NEW YORK NY  213+PARK+AVE+SOUTH+NEW+YORK+NY\n",
       "2         150 2ND AVE NEW YORK NY         150+2ND+AVE+NEW+YORK+NY\n",
       "3  2477 VALENTINE AVE NEW YORK NY  2477+VALENTINE+AVE+NEW+YORK+NY\n",
       "4  16714 HILLSIDE AVE NEW YORK NY  16714+HILLSIDE+AVE+NEW+YORK+NY"
      ]
     },
     "execution_count": 118,
     "metadata": {},
     "output_type": "execute_result"
    }
   ],
   "source": [
    "add_2015_df.columns = ['add_uni', 'add_uni_api']\n",
    "add_2015_df.head()"
   ]
  },
  {
   "cell_type": "code",
   "execution_count": 120,
   "metadata": {
    "collapsed": false
   },
   "outputs": [],
   "source": [
    "add_df.columns = ['add_uni', 'add_uni_api']\n",
    "add_df.head()"
   ]
  },
  {
   "cell_type": "code",
   "execution_count": 137,
   "metadata": {
    "collapsed": false
   },
   "outputs": [],
   "source": [
    "f = open('./API_key.txt', 'r')\n",
    "key = f.readlines()[0]"
   ]
  },
  {
   "cell_type": "code",
   "execution_count": 903,
   "metadata": {
    "collapsed": false
   },
   "outputs": [],
   "source": [
    "add_df.reset_index(inplace=True, drop=True)"
   ]
  },
  {
   "cell_type": "code",
   "execution_count": 122,
   "metadata": {
    "collapsed": false,
    "scrolled": true
   },
   "outputs": [],
   "source": [
    "def geo_coder(start, stop, add_df):\n",
    "    \n",
    "    for i in range(start, stop):\n",
    "\n",
    "        print '\\r',str(i),\n",
    "        add = add_df.loc[i,'add_uni_api']\n",
    "        url = \"https://maps.googleapis.com/maps/api/geocode/json?address=\" + add + \\\n",
    "\"&components=country:US&key=\" + key\n",
    "    \n",
    "        response = urllib2.urlopen(url)\n",
    "        data = response.read().decode(\"utf-8\")\n",
    "        info = json.loads(data)\n",
    "        if info['status'] == 'ZERO_RESULTS':\n",
    "            add_df.loc[i,'lat'] = 0\n",
    "            add_df.loc[i,'lng'] = 0\n",
    "    \n",
    "        elif info['status'] == 'OK': \n",
    "    \n",
    "            try:\n",
    "                add_df.loc[i,'lat'] = info['results'][0]['geometry']['location']['lat']\n",
    "                add_df.loc[i,'lng'] = info['results'][0]['geometry']['location']['lng']\n",
    "    \n",
    "            except IndexError:\n",
    "                print \"Some issue\"\n",
    "                pass\n",
    "        \n",
    "        elif info['status'] == 'OVER_QUERY_LIMIT':\n",
    "            print \"Done with limit\"\n",
    "            break\n",
    "        \n",
    "    return add_df"
   ]
  },
  {
   "cell_type": "code",
   "execution_count": 123,
   "metadata": {
    "collapsed": false
   },
   "outputs": [
    {
     "data": {
      "text/plain": [
       "8998"
      ]
     },
     "execution_count": 123,
     "metadata": {},
     "output_type": "execute_result"
    }
   ],
   "source": [
    "len(add_2015_df)"
   ]
  },
  {
   "cell_type": "code",
   "execution_count": 125,
   "metadata": {
    "collapsed": false
   },
   "outputs": [
    {
     "name": "stdout",
     "output_type": "stream",
     "text": [
      "2479 Done with limit\n"
     ]
    }
   ],
   "source": [
    "add_2015_df = geo_coder(0,2500,add_2015_df)"
   ]
  },
  {
   "cell_type": "code",
   "execution_count": 130,
   "metadata": {
    "collapsed": false
   },
   "outputs": [
    {
     "name": "stdout",
     "output_type": "stream",
     "text": [
      "4971 Done with limit\n"
     ]
    }
   ],
   "source": [
    "add_2015_df = geo_coder(2479, 4979, add_2015_df)"
   ]
  },
  {
   "cell_type": "code",
   "execution_count": 133,
   "metadata": {
    "collapsed": false
   },
   "outputs": [
    {
     "name": "stdout",
     "output_type": "stream",
     "text": [
      "7444 Done with limit\n"
     ]
    }
   ],
   "source": [
    "add_2015_df = geo_coder(6148, 7471, add_2015_df)"
   ]
  },
  {
   "cell_type": "code",
   "execution_count": 140,
   "metadata": {
    "collapsed": false
   },
   "outputs": [],
   "source": [
    "add_2015_df = geo_coder(8996, 8999, add_2015_df)"
   ]
  },
  {
   "cell_type": "code",
   "execution_count": 143,
   "metadata": {
    "collapsed": false
   },
   "outputs": [
    {
     "data": {
      "text/html": [
       "<div>\n",
       "<table border=\"1\" class=\"dataframe\">\n",
       "  <thead>\n",
       "    <tr style=\"text-align: right;\">\n",
       "      <th></th>\n",
       "      <th>add_uni</th>\n",
       "      <th>add_uni_api</th>\n",
       "      <th>lat</th>\n",
       "      <th>lng</th>\n",
       "    </tr>\n",
       "  </thead>\n",
       "  <tbody>\n",
       "    <tr>\n",
       "      <th>2264</th>\n",
       "      <td>3RD AVE %26 E 29TH ST ST NEW YORK NY</td>\n",
       "      <td>3RD+AVE+%26+E+29TH+ST+ST+NEW+YORK+NY</td>\n",
       "      <td>0.0</td>\n",
       "      <td>0.0</td>\n",
       "    </tr>\n",
       "    <tr>\n",
       "      <th>5894</th>\n",
       "      <td>35-23 36TH ST NEW YORK NY</td>\n",
       "      <td>35-23+36TH+ST+NEW+YORK+NY</td>\n",
       "      <td>0.0</td>\n",
       "      <td>0.0</td>\n",
       "    </tr>\n",
       "  </tbody>\n",
       "</table>\n",
       "</div>"
      ],
      "text/plain": [
       "                                   add_uni  \\\n",
       "2264  3RD AVE %26 E 29TH ST ST NEW YORK NY   \n",
       "5894             35-23 36TH ST NEW YORK NY   \n",
       "\n",
       "                               add_uni_api  lat  lng  \n",
       "2264  3RD+AVE+%26+E+29TH+ST+ST+NEW+YORK+NY  0.0  0.0  \n",
       "5894             35-23+36TH+ST+NEW+YORK+NY  0.0  0.0  "
      ]
     },
     "execution_count": 143,
     "metadata": {},
     "output_type": "execute_result"
    }
   ],
   "source": [
    "add_2015_df[add_2015_df.lng == 0]"
   ]
  },
  {
   "cell_type": "code",
   "execution_count": 144,
   "metadata": {
    "collapsed": false
   },
   "outputs": [
    {
     "name": "stdout",
     "output_type": "stream",
     "text": [
      "2264\n"
     ]
    }
   ],
   "source": [
    "add_2015_df = geo_coder(2264, 2265, add_2015_df)"
   ]
  },
  {
   "cell_type": "code",
   "execution_count": 145,
   "metadata": {
    "collapsed": false
   },
   "outputs": [
    {
     "name": "stdout",
     "output_type": "stream",
     "text": [
      "5894\n"
     ]
    }
   ],
   "source": [
    "add_2015_df = geo_coder(5894, 5895, add_2015_df)"
   ]
  },
  {
   "cell_type": "code",
   "execution_count": 146,
   "metadata": {
    "collapsed": false
   },
   "outputs": [
    {
     "data": {
      "text/html": [
       "<div>\n",
       "<table border=\"1\" class=\"dataframe\">\n",
       "  <thead>\n",
       "    <tr style=\"text-align: right;\">\n",
       "      <th></th>\n",
       "      <th>add_uni</th>\n",
       "      <th>add_uni_api</th>\n",
       "      <th>lat</th>\n",
       "      <th>lng</th>\n",
       "    </tr>\n",
       "  </thead>\n",
       "  <tbody>\n",
       "  </tbody>\n",
       "</table>\n",
       "</div>"
      ],
      "text/plain": [
       "Empty DataFrame\n",
       "Columns: [add_uni, add_uni_api, lat, lng]\n",
       "Index: []"
      ]
     },
     "execution_count": 146,
     "metadata": {},
     "output_type": "execute_result"
    }
   ],
   "source": [
    "add_2015_df[add_2015_df.lng == 0]"
   ]
  },
  {
   "cell_type": "code",
   "execution_count": 150,
   "metadata": {
    "collapsed": true
   },
   "outputs": [],
   "source": [
    "wrong_index = add_2015_df[add_2015_df.lng == add_2015_df.lng.value_counts().index[0]].index"
   ]
  },
  {
   "cell_type": "code",
   "execution_count": 927,
   "metadata": {
    "collapsed": false
   },
   "outputs": [],
   "source": [
    "# wrong_index = add_df[add_df.lng == v.index[0]].index"
   ]
  },
  {
   "cell_type": "code",
   "execution_count": 154,
   "metadata": {
    "collapsed": false
   },
   "outputs": [],
   "source": [
    "def geo_coder_index(wrong_index, add_df):\n",
    "\n",
    "    for i in wrong_index:\n",
    "\n",
    "        print '\\r',str(i),\n",
    "        add = add_df.loc[i,'add_uni_api']\n",
    "        url = \"https://maps.googleapis.com/maps/api/geocode/json?address=\" + add + \\\n",
    "\"&components=country:US&key=\" + key\n",
    "    \n",
    "        response = urllib2.urlopen(url)\n",
    "        data = response.read().decode(\"utf-8\")\n",
    "        info = json.loads(data)\n",
    "        if info['status'] == 'ZERO_RESULTS':\n",
    "            add_df.loc[i,'lat'] = 0\n",
    "            add_df.loc[i,'lng'] = 0\n",
    "    \n",
    "        elif info['status'] == 'OK': \n",
    "    \n",
    "            try:\n",
    "                add_df.loc[i,'lat'] = info['results'][0]['geometry']['location']['lat']\n",
    "                add_df.loc[i,'lng'] = info['results'][0]['geometry']['location']['lng']\n",
    "    \n",
    "            except IndexError:\n",
    "                print \"Some issue\"\n",
    "                pass\n",
    "        \n",
    "        elif info['status'] == 'OVER_QUERY_LIMIT':\n",
    "            print \"Done with limit\"\n",
    "            break\n",
    "    \n",
    "    return add_df"
   ]
  },
  {
   "cell_type": "code",
   "execution_count": 155,
   "metadata": {
    "collapsed": false
   },
   "outputs": [
    {
     "name": "stdout",
     "output_type": "stream",
     "text": [
      "8948\n"
     ]
    }
   ],
   "source": [
    "add_2015_df.loc[wrong_index] = geo_coder_index(wrong_index, add_2015_df)"
   ]
  },
  {
   "cell_type": "code",
   "execution_count": 162,
   "metadata": {
    "collapsed": true
   },
   "outputs": [],
   "source": [
    "# add_df_1 = add_df.loc[:10000]\n",
    "\n",
    "# add_df_2 = pd.read_csv(\"./add_parking_vio_mapper_2.csv\")\n",
    "\n",
    "# add_df_2.drop(['Unnamed: 0'], axis=1, inplace=True)"
   ]
  },
  {
   "cell_type": "markdown",
   "metadata": {},
   "source": [
    "# Final"
   ]
  },
  {
   "cell_type": "code",
   "execution_count": 944,
   "metadata": {
    "collapsed": false
   },
   "outputs": [],
   "source": [
    "add_df = pd.concat([add_df_1, add_df_2], ignore_index=True)"
   ]
  },
  {
   "cell_type": "code",
   "execution_count": 948,
   "metadata": {
    "collapsed": false
   },
   "outputs": [],
   "source": [
    "v = add_df.lat.value_counts()"
   ]
  },
  {
   "cell_type": "code",
   "execution_count": 957,
   "metadata": {
    "collapsed": false
   },
   "outputs": [],
   "source": [
    "wrong_index = add_df[add_df.lat == v.index[0]].index"
   ]
  },
  {
   "cell_type": "code",
   "execution_count": 959,
   "metadata": {
    "collapsed": false
   },
   "outputs": [
    {
     "name": "stdout",
     "output_type": "stream",
     "text": [
      "14554\n"
     ]
    }
   ],
   "source": [
    "for i in wrong_index:\n",
    "\n",
    "    print '\\r',str(i),\n",
    "    add = add_df.loc[i,'add_uni_api']\n",
    "    url = \"https://maps.googleapis.com/maps/api/geocode/json?address=\" + add + \\\n",
    "\"&components=country:US&key=\" + key\n",
    "    \n",
    "    response = urllib2.urlopen(url)\n",
    "    data = response.read().decode(\"utf-8\")\n",
    "    info = json.loads(data)\n",
    "    if info['status'] == 'ZERO_RESULTS':\n",
    "        add_df.loc[i,'lat'] = 0\n",
    "        add_df.loc[i,'lng'] = 0\n",
    "    \n",
    "    elif info['status'] == 'OK': \n",
    "    \n",
    "        try:\n",
    "            add_df.loc[i,'lat'] = info['results'][0]['geometry']['location']['lat']\n",
    "            add_df.loc[i,'lng'] = info['results'][0]['geometry']['location']['lng']\n",
    "    \n",
    "        except IndexError:\n",
    "            print \"Some issue\"\n",
    "            pass\n",
    "        \n",
    "    elif info['status'] == 'OVER_QUERY_LIMIT':\n",
    "        print \"Done with limit\"\n",
    "        break"
   ]
  },
  {
   "cell_type": "code",
   "execution_count": 960,
   "metadata": {
    "collapsed": true
   },
   "outputs": [],
   "source": [
    "v = add_df.lat.value_counts()"
   ]
  },
  {
   "cell_type": "code",
   "execution_count": 964,
   "metadata": {
    "collapsed": false
   },
   "outputs": [],
   "source": [
    "add_df.to_csv(\"add_parking_vio_mapper.csv\")"
   ]
  },
  {
   "cell_type": "code",
   "execution_count": 966,
   "metadata": {
    "collapsed": true
   },
   "outputs": [],
   "source": [
    "wr_add = gp.read_file(\"./wrong_address/wrong_address.shp\")"
   ]
  },
  {
   "cell_type": "code",
   "execution_count": 968,
   "metadata": {
    "collapsed": false,
    "scrolled": false
   },
   "outputs": [],
   "source": [
    "wr_add.drop(['Field1','geometry'], axis=1, inplace=True)"
   ]
  },
  {
   "cell_type": "code",
   "execution_count": 972,
   "metadata": {
    "collapsed": false
   },
   "outputs": [
    {
     "name": "stdout",
     "output_type": "stream",
     "text": [
      "202\n"
     ]
    }
   ],
   "source": [
    "for i in range(len(wr_add)):\n",
    "\n",
    "    print '\\r',str(i),\n",
    "    add = wr_add.loc[i,'add_uni_ap']\n",
    "    url = \"https://maps.googleapis.com/maps/api/geocode/json?address=\" + add + \\\n",
    "\"&components=country:US&key=\" + key\n",
    "    \n",
    "    response = urllib2.urlopen(url)\n",
    "    data = response.read().decode(\"utf-8\")\n",
    "    info = json.loads(data)\n",
    "    if info['status'] == 'ZERO_RESULTS':\n",
    "        wr_add.loc[i,'lat'] = 0\n",
    "        wr_add.loc[i,'lng'] = 0\n",
    "    \n",
    "    elif info['status'] == 'OK': \n",
    "    \n",
    "        try:\n",
    "            wr_add.loc[i,'lat'] = info['results'][0]['geometry']['location']['lat']\n",
    "            wr_add.loc[i,'lng'] = info['results'][0]['geometry']['location']['lng']\n",
    "    \n",
    "        except IndexError:\n",
    "            print \"Some issue\"\n",
    "            pass\n",
    "        \n",
    "    elif info['status'] == 'OVER_QUERY_LIMIT':\n",
    "        print \"Done with limit\"\n",
    "        break"
   ]
  },
  {
   "cell_type": "code",
   "execution_count": 997,
   "metadata": {
    "collapsed": false
   },
   "outputs": [],
   "source": [
    "add = wr_add.loc[i,'add_uni_ap']\n",
    "url = \"https://maps.googleapis.com/maps/api/geocode/json?address=180+university+ave+new+york,+ny\" + \\\n",
    "\"&components=country:US&key=\" + key\n",
    "    \n",
    "response = urllib2.urlopen(url)\n",
    "data = response.read().decode(\"utf-8\")\n",
    "info = json.loads(data)"
   ]
  },
  {
   "cell_type": "code",
   "execution_count": 994,
   "metadata": {
    "collapsed": false
   },
   "outputs": [],
   "source": [
    "wr_add.loc[199,'lat'] = info['results'][0]['geometry']['location']['lat']\n",
    "wr_add.loc[199,'lng'] = info['results'][0]['geometry']['location']['lng']"
   ]
  },
  {
   "cell_type": "code",
   "execution_count": 999,
   "metadata": {
    "collapsed": true
   },
   "outputs": [],
   "source": [
    "wr_add.to_csv(\"./wrong_address/wr_add_updated.csv\")"
   ]
  },
  {
   "cell_type": "code",
   "execution_count": 1012,
   "metadata": {
    "collapsed": false
   },
   "outputs": [
    {
     "data": {
      "text/plain": [
       "203"
      ]
     },
     "execution_count": 1012,
     "metadata": {},
     "output_type": "execute_result"
    }
   ],
   "source": [
    "len(wr_add)"
   ]
  },
  {
   "cell_type": "code",
   "execution_count": 1001,
   "metadata": {
    "collapsed": true
   },
   "outputs": [],
   "source": [
    "correct_1 = gp.read_file(\"./correct_address/correct_address.shp\")"
   ]
  },
  {
   "cell_type": "code",
   "execution_count": 1002,
   "metadata": {
    "collapsed": true
   },
   "outputs": [],
   "source": [
    "correct_2 = gp.read_file(\"./correct_address/correct_address_2.shp\")"
   ]
  },
  {
   "cell_type": "code",
   "execution_count": 1003,
   "metadata": {
    "collapsed": true
   },
   "outputs": [],
   "source": [
    "correct_address = pd.concat([correct_1, correct_2], ignore_index=True)"
   ]
  },
  {
   "cell_type": "code",
   "execution_count": 1005,
   "metadata": {
    "collapsed": false,
    "scrolled": false
   },
   "outputs": [],
   "source": [
    "correct_address.drop(['Field1','geometry'], axis=1, inplace=True)"
   ]
  },
  {
   "cell_type": "code",
   "execution_count": 1007,
   "metadata": {
    "collapsed": false
   },
   "outputs": [
    {
     "data": {
      "text/plain": [
       "32231"
      ]
     },
     "execution_count": 1007,
     "metadata": {},
     "output_type": "execute_result"
    }
   ],
   "source": [
    "len(vio)"
   ]
  },
  {
   "cell_type": "code",
   "execution_count": 1008,
   "metadata": {
    "collapsed": false
   },
   "outputs": [
    {
     "data": {
      "text/plain": [
       "14419"
      ]
     },
     "execution_count": 1008,
     "metadata": {},
     "output_type": "execute_result"
    }
   ],
   "source": [
    "len(correct_address)"
   ]
  },
  {
   "cell_type": "code",
   "execution_count": 1031,
   "metadata": {
    "collapsed": false
   },
   "outputs": [],
   "source": [
    "vio_df = pd.merge(vio, correct_address, left_on='Address', right_on='add_uni')"
   ]
  },
  {
   "cell_type": "code",
   "execution_count": 164,
   "metadata": {
    "collapsed": false
   },
   "outputs": [],
   "source": [
    "vio_2015_df = pd.merge(vio_2015, add_2015_df, left_on='Address', right_on='add_uni') "
   ]
  },
  {
   "cell_type": "code",
   "execution_count": 1032,
   "metadata": {
    "collapsed": false
   },
   "outputs": [
    {
     "data": {
      "text/plain": [
       "31978"
      ]
     },
     "execution_count": 1032,
     "metadata": {},
     "output_type": "execute_result"
    }
   ],
   "source": [
    "len(vio_df)"
   ]
  },
  {
   "cell_type": "code",
   "execution_count": 1033,
   "metadata": {
    "collapsed": false
   },
   "outputs": [
    {
     "data": {
      "text/plain": [
       "253"
      ]
     },
     "execution_count": 1033,
     "metadata": {},
     "output_type": "execute_result"
    }
   ],
   "source": [
    "32231 - 31978"
   ]
  },
  {
   "cell_type": "code",
   "execution_count": 170,
   "metadata": {
    "collapsed": false,
    "scrolled": false
   },
   "outputs": [],
   "source": [
    "vio_df.drop(['House Number','Street Name', 'Intersecting Street','Address', 'add_uni', 'add_uni_ap'], axis=1, inplace=True)"
   ]
  },
  {
   "cell_type": "code",
   "execution_count": 172,
   "metadata": {
    "collapsed": false
   },
   "outputs": [],
   "source": [
    "vio_2015_df.drop(['House Number','Street Name', 'Intersecting Street','Address', 'add_uni', 'add_uni_api'], axis=1, inplace=True)"
   ]
  },
  {
   "cell_type": "code",
   "execution_count": 1037,
   "metadata": {
    "collapsed": false
   },
   "outputs": [],
   "source": [
    "vio_df['Issue Date'] = pd.to_datetime(vio_df['Issue Date'])"
   ]
  },
  {
   "cell_type": "code",
   "execution_count": 173,
   "metadata": {
    "collapsed": true
   },
   "outputs": [],
   "source": [
    "vio_2015_df['Issue Date'] = pd.to_datetime(vio_2015_df['Issue Date'])"
   ]
  },
  {
   "cell_type": "code",
   "execution_count": 1043,
   "metadata": {
    "collapsed": false
   },
   "outputs": [],
   "source": [
    "vio_df = vio_df[(vio_df['Issue Date'] >= \"2015-07-01\") & (vio_df['Issue Date'] <= \"2016-06-30\")] "
   ]
  },
  {
   "cell_type": "code",
   "execution_count": 1044,
   "metadata": {
    "collapsed": true
   },
   "outputs": [],
   "source": [
    "vio_df.reset_index(inplace=True, drop=True)"
   ]
  },
  {
   "cell_type": "code",
   "execution_count": 1045,
   "metadata": {
    "collapsed": false
   },
   "outputs": [],
   "source": [
    "vio_df.to_csv(\"./vio_2016.csv\")"
   ]
  },
  {
   "cell_type": "code",
   "execution_count": 1053,
   "metadata": {
    "collapsed": false
   },
   "outputs": [],
   "source": [
    "vio_weel = vio_df.set_index('Issue Date').groupby([pd.TimeGrouper('D')]).agg({'Summons Number':'count'})"
   ]
  },
  {
   "cell_type": "code",
   "execution_count": 1054,
   "metadata": {
    "collapsed": false
   },
   "outputs": [
    {
     "data": {
      "text/plain": [
       "<matplotlib.axes._subplots.AxesSubplot at 0x1baf9978>"
      ]
     },
     "execution_count": 1054,
     "metadata": {},
     "output_type": "execute_result"
    },
    {
     "data": {
      "image/png": "[encoded data removed]",
      "text/plain": [
       "<matplotlib.figure.Figure at 0x1b9d1128>"
      ]
     },
     "metadata": {},
     "output_type": "display_data"
    }
   ],
   "source": [
    "vio_weel.plot()"
   ]
  },
  {
   "cell_type": "markdown",
   "metadata": {},
   "source": [
    "# Merge Jan 2015 - June 2015 and July 2015 to Dec 2015 from respective dataframes"
   ]
  },
  {
   "cell_type": "code",
   "execution_count": 285,
   "metadata": {
    "collapsed": true
   },
   "outputs": [],
   "source": [
    "vio = pd.read_csv(\"./vio_2016.csv\")\n",
    "vio.drop(['Unnamed: 0'], axis=1, inplace=True)"
   ]
  },
  {
   "cell_type": "code",
   "execution_count": 286,
   "metadata": {
    "collapsed": false
   },
   "outputs": [
    {
     "data": {
      "text/html": [
       "<div>\n",
       "<table border=\"1\" class=\"dataframe\">\n",
       "  <thead>\n",
       "    <tr style=\"text-align: right;\">\n",
       "      <th></th>\n",
       "      <th>Summons Number</th>\n",
       "      <th>Issue Date</th>\n",
       "      <th>lat</th>\n",
       "      <th>lng</th>\n",
       "    </tr>\n",
       "  </thead>\n",
       "  <tbody>\n",
       "    <tr>\n",
       "      <th>0</th>\n",
       "      <td>1131612360</td>\n",
       "      <td>2015-08-06</td>\n",
       "      <td>40.700519</td>\n",
       "      <td>-73.807702</td>\n",
       "    </tr>\n",
       "    <tr>\n",
       "      <th>1</th>\n",
       "      <td>1131613120</td>\n",
       "      <td>2015-08-06</td>\n",
       "      <td>40.700519</td>\n",
       "      <td>-73.807702</td>\n",
       "    </tr>\n",
       "    <tr>\n",
       "      <th>2</th>\n",
       "      <td>1131613132</td>\n",
       "      <td>2015-08-06</td>\n",
       "      <td>40.700519</td>\n",
       "      <td>-73.807702</td>\n",
       "    </tr>\n",
       "    <tr>\n",
       "      <th>3</th>\n",
       "      <td>1131613296</td>\n",
       "      <td>2015-08-07</td>\n",
       "      <td>40.700519</td>\n",
       "      <td>-73.807702</td>\n",
       "    </tr>\n",
       "    <tr>\n",
       "      <th>4</th>\n",
       "      <td>1131613260</td>\n",
       "      <td>2015-08-28</td>\n",
       "      <td>40.700519</td>\n",
       "      <td>-73.807702</td>\n",
       "    </tr>\n",
       "  </tbody>\n",
       "</table>\n",
       "</div>"
      ],
      "text/plain": [
       "   Summons Number  Issue Date        lat        lng\n",
       "0      1131612360  2015-08-06  40.700519 -73.807702\n",
       "1      1131613120  2015-08-06  40.700519 -73.807702\n",
       "2      1131613132  2015-08-06  40.700519 -73.807702\n",
       "3      1131613296  2015-08-07  40.700519 -73.807702\n",
       "4      1131613260  2015-08-28  40.700519 -73.807702"
      ]
     },
     "execution_count": 286,
     "metadata": {},
     "output_type": "execute_result"
    }
   ],
   "source": [
    "vio.head()"
   ]
  },
  {
   "cell_type": "code",
   "execution_count": 287,
   "metadata": {
    "collapsed": false
   },
   "outputs": [],
   "source": [
    "vio['Issue Date'] = pd.to_datetime(vio['Issue Date'])"
   ]
  },
  {
   "cell_type": "code",
   "execution_count": 288,
   "metadata": {
    "collapsed": false
   },
   "outputs": [
    {
     "data": {
      "text/plain": [
       "count                   31343\n",
       "unique                    363\n",
       "top       2016-02-29 00:00:00\n",
       "freq                      167\n",
       "first     2015-07-01 00:00:00\n",
       "last      2016-06-27 00:00:00\n",
       "Name: Issue Date, dtype: object"
      ]
     },
     "execution_count": 288,
     "metadata": {},
     "output_type": "execute_result"
    }
   ],
   "source": [
    "vio['Issue Date'].describe()"
   ]
  },
  {
   "cell_type": "code",
   "execution_count": 289,
   "metadata": {
    "collapsed": false
   },
   "outputs": [],
   "source": [
    "vio_df2 = vio[vio['Issue Date'] <= '2015-12-31']"
   ]
  },
  {
   "cell_type": "code",
   "execution_count": 290,
   "metadata": {
    "collapsed": false
   },
   "outputs": [
    {
     "data": {
      "text/html": [
       "<div>\n",
       "<table border=\"1\" class=\"dataframe\">\n",
       "  <thead>\n",
       "    <tr style=\"text-align: right;\">\n",
       "      <th></th>\n",
       "      <th>Summons Number</th>\n",
       "      <th>Issue Date</th>\n",
       "      <th>lat</th>\n",
       "      <th>lng</th>\n",
       "    </tr>\n",
       "  </thead>\n",
       "  <tbody>\n",
       "    <tr>\n",
       "      <th>0</th>\n",
       "      <td>7854353001</td>\n",
       "      <td>2015-04-03</td>\n",
       "      <td>40.761128</td>\n",
       "      <td>-73.994043</td>\n",
       "    </tr>\n",
       "    <tr>\n",
       "      <th>1</th>\n",
       "      <td>7064177651</td>\n",
       "      <td>2015-01-13</td>\n",
       "      <td>40.761128</td>\n",
       "      <td>-73.994043</td>\n",
       "    </tr>\n",
       "  </tbody>\n",
       "</table>\n",
       "</div>"
      ],
      "text/plain": [
       "   Summons Number Issue Date        lat        lng\n",
       "0      7854353001 2015-04-03  40.761128 -73.994043\n",
       "1      7064177651 2015-01-13  40.761128 -73.994043"
      ]
     },
     "execution_count": 290,
     "metadata": {},
     "output_type": "execute_result"
    }
   ],
   "source": [
    "vio_2015_df.head(2)"
   ]
  },
  {
   "cell_type": "code",
   "execution_count": 291,
   "metadata": {
    "collapsed": false
   },
   "outputs": [
    {
     "data": {
      "text/plain": [
       "count                   16313\n",
       "unique                    184\n",
       "top       2015-11-27 00:00:00\n",
       "freq                      164\n",
       "first     2015-07-01 00:00:00\n",
       "last      2015-12-31 00:00:00\n",
       "Name: Issue Date, dtype: object"
      ]
     },
     "execution_count": 291,
     "metadata": {},
     "output_type": "execute_result"
    }
   ],
   "source": [
    "vio_df2['Issue Date'].describe()"
   ]
  },
  {
   "cell_type": "code",
   "execution_count": 292,
   "metadata": {
    "collapsed": false
   },
   "outputs": [
    {
     "data": {
      "text/plain": [
       "count                   31603\n",
       "unique                    181\n",
       "top       2015-01-14 00:00:00\n",
       "freq                      477\n",
       "first     2015-01-01 00:00:00\n",
       "last      2015-06-30 00:00:00\n",
       "Name: Issue Date, dtype: object"
      ]
     },
     "execution_count": 292,
     "metadata": {},
     "output_type": "execute_result"
    }
   ],
   "source": [
    "vio_2015_df['Issue Date'].describe()"
   ]
  },
  {
   "cell_type": "code",
   "execution_count": 293,
   "metadata": {
    "collapsed": false
   },
   "outputs": [],
   "source": [
    "vio_df_2015 = pd.concat([vio_df2, vio_2015_df], ignore_index=True)"
   ]
  },
  {
   "cell_type": "code",
   "execution_count": 294,
   "metadata": {
    "collapsed": false
   },
   "outputs": [],
   "source": [
    "vio_df_2015 = vio_df_2015.sort_values(by='Issue Date')"
   ]
  },
  {
   "cell_type": "code",
   "execution_count": 297,
   "metadata": {
    "collapsed": false
   },
   "outputs": [],
   "source": [
    "vio_df_2015.drop_duplicates(inplace=True)"
   ]
  },
  {
   "cell_type": "code",
   "execution_count": 298,
   "metadata": {
    "collapsed": true
   },
   "outputs": [],
   "source": [
    "vio_df_2015.to_csv('./violations_2015.csv')"
   ]
  },
  {
   "cell_type": "markdown",
   "metadata": {
    "collapsed": true
   },
   "source": [
    "# Merge violations with hexagons"
   ]
  },
  {
   "cell_type": "code",
   "execution_count": 5,
   "metadata": {
    "collapsed": false
   },
   "outputs": [],
   "source": [
    "vio = pd.read_csv(\"./violations_2015.csv\")"
   ]
  },
  {
   "cell_type": "code",
   "execution_count": 6,
   "metadata": {
    "collapsed": false
   },
   "outputs": [
    {
     "data": {
      "text/plain": [
       "Index([u'Unnamed: 0', u'Summons Number', u'Issue Date', u'lat', u'lng'], dtype='object')"
      ]
     },
     "execution_count": 6,
     "metadata": {},
     "output_type": "execute_result"
    }
   ],
   "source": [
    "vio.columns"
   ]
  },
  {
   "cell_type": "code",
   "execution_count": 7,
   "metadata": {
    "collapsed": true
   },
   "outputs": [],
   "source": [
    "vio.drop([u'Unnamed: 0'], axis=1, inplace=True)"
   ]
  },
  {
   "cell_type": "code",
   "execution_count": 8,
   "metadata": {
    "collapsed": false
   },
   "outputs": [
    {
     "data": {
      "text/plain": [
       "44645"
      ]
     },
     "execution_count": 8,
     "metadata": {},
     "output_type": "execute_result"
    }
   ],
   "source": [
    "len(vio)"
   ]
  },
  {
   "cell_type": "code",
   "execution_count": 9,
   "metadata": {
    "collapsed": false
   },
   "outputs": [],
   "source": [
    "data_path = \"./Capstone - Taxi Relief Stand/Data_Warehouse/Parking Tickets\"\n",
    "vio_all = pd.read_csv(data_path + \"/Parking_Ticket_2016.csv\")"
   ]
  },
  {
   "cell_type": "code",
   "execution_count": 10,
   "metadata": {
    "collapsed": false
   },
   "outputs": [
    {
     "name": "stderr",
     "output_type": "stream",
     "text": [
      "C:\\Users\\Vishwajeet\\Anaconda2\\lib\\site-packages\\IPython\\core\\interactiveshell.py:2717: DtypeWarning: Columns (29) have mixed types. Specify dtype option on import or set low_memory=False.\n",
      "  interactivity=interactivity, compiler=compiler, result=result)\n"
     ]
    }
   ],
   "source": [
    "data_path = \"./Capstone - Taxi Relief Stand/Data_Warehouse/Parking Tickets\"\n",
    "vio_2015 = pd.read_csv(data_path + \"/parking_violations_taxi_2015.csv\")"
   ]
  },
  {
   "cell_type": "code",
   "execution_count": 11,
   "metadata": {
    "collapsed": false
   },
   "outputs": [
    {
     "data": {
      "text/plain": [
       "Index([u'Summons Number', u'Plate ID', u'Registration State', u'Plate Type',\n",
       "       u'Issue Date', u'Violation Code', u'Vehicle Body Type', u'Vehicle Make',\n",
       "       u'Issuing Agency', u'Street Code1', u'Street Code2', u'Street Code3',\n",
       "       u'Vehicle Expiration Date', u'Violation Location',\n",
       "       u'Violation Precinct', u'Issuer Precinct', u'Issuer Code',\n",
       "       u'Issuer Command', u'Issuer Squad', u'Violation Time',\n",
       "       u'Time First Observed', u'Violation County',\n",
       "       u'Violation In Front Of Or Opposite', u'House Number', u'Street Name',\n",
       "       u'Intersecting Street', u'Date First Observed', u'Law Section',\n",
       "       u'Sub Division', u'Violation Legal Code', u'Days Parking In Effect    ',\n",
       "       u'From Hours In Effect', u'To Hours In Effect', u'Vehicle Color',\n",
       "       u'Unregistered Vehicle?', u'Vehicle Year', u'Meter Number',\n",
       "       u'Feet From Curb', u'Violation Post Code', u'Violation Description',\n",
       "       u'No Standing or Stopping Violation', u'Hydrant Violation',\n",
       "       u'Double Parking Violation'],\n",
       "      dtype='object')"
      ]
     },
     "execution_count": 11,
     "metadata": {},
     "output_type": "execute_result"
    }
   ],
   "source": [
    "vio_2015.columns"
   ]
  },
  {
   "cell_type": "code",
   "execution_count": 12,
   "metadata": {
    "collapsed": false,
    "scrolled": false
   },
   "outputs": [
    {
     "data": {
      "text/plain": [
       "Index([u'Unnamed: 0', u'Summons Number', u'Plate ID', u'Registration State',\n",
       "       u'Plate Type', u'Issue Date', u'Violation Code', u'Vehicle Body Type',\n",
       "       u'Vehicle Make', u'Issuing Agency', u'Street Code1', u'Street Code2',\n",
       "       u'Street Code3', u'Vehicle Expiration Date', u'Violation Location',\n",
       "       u'Violation Precinct', u'Issuer Precinct', u'Issuer Code',\n",
       "       u'Issuer Command', u'Issuer Squad', u'Violation Time',\n",
       "       u'Time First Observed', u'Violation County',\n",
       "       u'Violation In Front Of Or Opposite', u'House Number', u'Street Name',\n",
       "       u'Intersecting Street', u'Date First Observed', u'Law Section',\n",
       "       u'Sub Division', u'Violation Legal Code', u'Days Parking In Effect    ',\n",
       "       u'From Hours In Effect', u'To Hours In Effect', u'Vehicle Color',\n",
       "       u'Unregistered Vehicle?', u'Vehicle Year', u'Meter Number',\n",
       "       u'Feet From Curb', u'Violation Post Code', u'Violation Description',\n",
       "       u'No Standing or Stopping Violation', u'Hydrant Violation',\n",
       "       u'Double Parking Violation', u'Address'],\n",
       "      dtype='object')"
      ]
     },
     "execution_count": 12,
     "metadata": {},
     "output_type": "execute_result"
    }
   ],
   "source": [
    "vio_all.columns"
   ]
  },
  {
   "cell_type": "code",
   "execution_count": 13,
   "metadata": {
    "collapsed": true
   },
   "outputs": [],
   "source": [
    "vio_all.drop([u'Unnamed: 0', u'Plate ID', u'Registration State',\n",
    "       u'Plate Type', u'Issue Date', u'Vehicle Body Type',\n",
    "       u'Vehicle Make', u'Issuing Agency', u'Street Code1', u'Street Code2',\n",
    "       u'Street Code3', u'Vehicle Expiration Date', u'Violation Location',\n",
    "       u'Violation Precinct', u'Issuer Precinct', u'Issuer Code',\n",
    "       u'Issuer Command', u'Issuer Squad', u'Violation Time',\n",
    "       u'Time First Observed', u'Violation County',\n",
    "       u'Violation In Front Of Or Opposite', u'House Number', u'Street Name',\n",
    "       u'Intersecting Street', u'Date First Observed', u'Law Section',\n",
    "       u'Sub Division', u'Violation Legal Code', u'Days Parking In Effect    ',\n",
    "       u'From Hours In Effect', u'To Hours In Effect', u'Vehicle Color',\n",
    "       u'Unregistered Vehicle?', u'Vehicle Year', u'Meter Number',\n",
    "       u'Feet From Curb', u'Violation Post Code', u'Violation Description',\n",
    "       u'No Standing or Stopping Violation', u'Hydrant Violation',\n",
    "       u'Double Parking Violation', u'Address'], axis=1, inplace=True)"
   ]
  },
  {
   "cell_type": "code",
   "execution_count": 14,
   "metadata": {
    "collapsed": false
   },
   "outputs": [],
   "source": [
    "vio_2015.drop([u'Plate ID', u'Registration State',\n",
    "       u'Plate Type', u'Issue Date', u'Vehicle Body Type',\n",
    "       u'Vehicle Make', u'Issuing Agency', u'Street Code1', u'Street Code2',\n",
    "       u'Street Code3', u'Vehicle Expiration Date', u'Violation Location',\n",
    "       u'Violation Precinct', u'Issuer Precinct', u'Issuer Code',\n",
    "       u'Issuer Command', u'Issuer Squad', u'Violation Time',\n",
    "       u'Time First Observed', u'Violation County',\n",
    "       u'Violation In Front Of Or Opposite', u'House Number', u'Street Name',\n",
    "       u'Intersecting Street', u'Date First Observed', u'Law Section',\n",
    "       u'Sub Division', u'Violation Legal Code', u'Days Parking In Effect    ',\n",
    "       u'From Hours In Effect', u'To Hours In Effect', u'Vehicle Color',\n",
    "       u'Unregistered Vehicle?', u'Vehicle Year', u'Meter Number',\n",
    "       u'Feet From Curb', u'Violation Post Code', u'Violation Description',\n",
    "       u'No Standing or Stopping Violation', u'Hydrant Violation',\n",
    "       u'Double Parking Violation'], axis=1, inplace=True)"
   ]
  },
  {
   "cell_type": "code",
   "execution_count": 15,
   "metadata": {
    "collapsed": false
   },
   "outputs": [
    {
     "data": {
      "text/plain": [
       "33806"
      ]
     },
     "execution_count": 15,
     "metadata": {},
     "output_type": "execute_result"
    }
   ],
   "source": [
    "len(vio_all)"
   ]
  },
  {
   "cell_type": "code",
   "execution_count": 16,
   "metadata": {
    "collapsed": false
   },
   "outputs": [
    {
     "data": {
      "text/plain": [
       "63309"
      ]
     },
     "execution_count": 16,
     "metadata": {},
     "output_type": "execute_result"
    }
   ],
   "source": [
    "len(vio_2015)"
   ]
  },
  {
   "cell_type": "code",
   "execution_count": 17,
   "metadata": {
    "collapsed": true
   },
   "outputs": [],
   "source": [
    "vio_2015.drop_duplicates(inplace=True)"
   ]
  },
  {
   "cell_type": "code",
   "execution_count": 18,
   "metadata": {
    "collapsed": false
   },
   "outputs": [
    {
     "data": {
      "text/plain": [
       "59025"
      ]
     },
     "execution_count": 18,
     "metadata": {},
     "output_type": "execute_result"
    }
   ],
   "source": [
    "len(vio_2015)"
   ]
  },
  {
   "cell_type": "code",
   "execution_count": 19,
   "metadata": {
    "collapsed": false
   },
   "outputs": [
    {
     "data": {
      "text/plain": [
       "44645"
      ]
     },
     "execution_count": 19,
     "metadata": {},
     "output_type": "execute_result"
    }
   ],
   "source": [
    "len(vio)"
   ]
  },
  {
   "cell_type": "code",
   "execution_count": 20,
   "metadata": {
    "collapsed": false
   },
   "outputs": [],
   "source": [
    "vio_all = pd.concat([vio_2015, vio_all], ignore_index=True)"
   ]
  },
  {
   "cell_type": "code",
   "execution_count": 21,
   "metadata": {
    "collapsed": false
   },
   "outputs": [
    {
     "data": {
      "text/plain": [
       "44645"
      ]
     },
     "execution_count": 21,
     "metadata": {},
     "output_type": "execute_result"
    }
   ],
   "source": [
    "len(vio)"
   ]
  },
  {
   "cell_type": "code",
   "execution_count": 22,
   "metadata": {
    "collapsed": false
   },
   "outputs": [
    {
     "data": {
      "text/plain": [
       "92831"
      ]
     },
     "execution_count": 22,
     "metadata": {},
     "output_type": "execute_result"
    }
   ],
   "source": [
    "len(vio_all)"
   ]
  },
  {
   "cell_type": "code",
   "execution_count": 23,
   "metadata": {
    "collapsed": true
   },
   "outputs": [],
   "source": [
    "vio = pd.merge(vio, vio_all, on='Summons Number')"
   ]
  },
  {
   "cell_type": "code",
   "execution_count": 24,
   "metadata": {
    "collapsed": false
   },
   "outputs": [
    {
     "data": {
      "text/plain": [
       "45287"
      ]
     },
     "execution_count": 24,
     "metadata": {},
     "output_type": "execute_result"
    }
   ],
   "source": [
    "len(vio)"
   ]
  },
  {
   "cell_type": "code",
   "execution_count": 25,
   "metadata": {
    "collapsed": true
   },
   "outputs": [],
   "source": [
    "vio.drop_duplicates(inplace = True)"
   ]
  },
  {
   "cell_type": "code",
   "execution_count": 26,
   "metadata": {
    "collapsed": false
   },
   "outputs": [
    {
     "data": {
      "text/plain": [
       "Index([u'Summons Number', u'Issue Date', u'lat', u'lng', u'Violation Code'], dtype='object')"
      ]
     },
     "execution_count": 26,
     "metadata": {},
     "output_type": "execute_result"
    }
   ],
   "source": [
    "vio.columns"
   ]
  },
  {
   "cell_type": "code",
   "execution_count": 27,
   "metadata": {
    "collapsed": false
   },
   "outputs": [
    {
     "data": {
      "text/html": [
       "<div>\n",
       "<table border=\"1\" class=\"dataframe\">\n",
       "  <thead>\n",
       "    <tr style=\"text-align: right;\">\n",
       "      <th></th>\n",
       "      <th>Summons Number</th>\n",
       "      <th>Issue Date</th>\n",
       "      <th>lat</th>\n",
       "      <th>lng</th>\n",
       "      <th>Violation Code</th>\n",
       "    </tr>\n",
       "  </thead>\n",
       "  <tbody>\n",
       "    <tr>\n",
       "      <th>0</th>\n",
       "      <td>5084467648</td>\n",
       "      <td>2015-01-01</td>\n",
       "      <td>40.681834</td>\n",
       "      <td>-73.975838</td>\n",
       "      <td>7</td>\n",
       "    </tr>\n",
       "    <tr>\n",
       "      <th>1</th>\n",
       "      <td>5084465937</td>\n",
       "      <td>2015-01-01</td>\n",
       "      <td>40.621994</td>\n",
       "      <td>-73.994920</td>\n",
       "      <td>7</td>\n",
       "    </tr>\n",
       "    <tr>\n",
       "      <th>2</th>\n",
       "      <td>5084467235</td>\n",
       "      <td>2015-01-01</td>\n",
       "      <td>40.678797</td>\n",
       "      <td>-73.953002</td>\n",
       "      <td>7</td>\n",
       "    </tr>\n",
       "    <tr>\n",
       "      <th>3</th>\n",
       "      <td>5084474409</td>\n",
       "      <td>2015-01-01</td>\n",
       "      <td>40.739792</td>\n",
       "      <td>-73.979542</td>\n",
       "      <td>7</td>\n",
       "    </tr>\n",
       "    <tr>\n",
       "      <th>4</th>\n",
       "      <td>5084472267</td>\n",
       "      <td>2015-01-01</td>\n",
       "      <td>40.776024</td>\n",
       "      <td>-73.987242</td>\n",
       "      <td>7</td>\n",
       "    </tr>\n",
       "  </tbody>\n",
       "</table>\n",
       "</div>"
      ],
      "text/plain": [
       "   Summons Number  Issue Date        lat        lng  Violation Code\n",
       "0      5084467648  2015-01-01  40.681834 -73.975838               7\n",
       "1      5084465937  2015-01-01  40.621994 -73.994920               7\n",
       "2      5084467235  2015-01-01  40.678797 -73.953002               7\n",
       "3      5084474409  2015-01-01  40.739792 -73.979542               7\n",
       "4      5084472267  2015-01-01  40.776024 -73.987242               7"
      ]
     },
     "execution_count": 27,
     "metadata": {},
     "output_type": "execute_result"
    }
   ],
   "source": [
    "vio.head()"
   ]
  },
  {
   "cell_type": "code",
   "execution_count": 28,
   "metadata": {
    "collapsed": false
   },
   "outputs": [
    {
     "data": {
      "text/plain": [
       "44645"
      ]
     },
     "execution_count": 28,
     "metadata": {},
     "output_type": "execute_result"
    }
   ],
   "source": [
    "len(vio)"
   ]
  },
  {
   "cell_type": "code",
   "execution_count": 37,
   "metadata": {
    "collapsed": false
   },
   "outputs": [
    {
     "data": {
      "text/plain": [
       "Int64Index([ 5,  7,  8,  9, 10, 11, 13, 14, 16, 17, 18, 19, 20, 21, 23, 24, 26,\n",
       "            27, 31, 34, 36, 37, 38, 39, 40, 41, 45, 46, 47, 48, 49, 50, 51, 52,\n",
       "            53, 55, 60, 61, 62, 64, 65, 67, 68, 70, 71, 72, 73, 74, 75, 79, 80,\n",
       "            98],\n",
       "           dtype='int64')"
      ]
     },
     "execution_count": 37,
     "metadata": {},
     "output_type": "execute_result"
    }
   ],
   "source": [
    "vio['Violation Code'].value_counts().index.sort_values()"
   ]
  },
  {
   "cell_type": "code",
   "execution_count": 38,
   "metadata": {
    "collapsed": true
   },
   "outputs": [],
   "source": [
    "ind = [6,10,11, 12,13,14,16,17,18,19,20,21,22,23,24,27,32,33,34,35,39,40,42,43,44,45,46,47,48,49,50,51,52,53,55,56,57,58,59,\n",
    "60,61,62,63,66,67,68,70,71,72,73,74,75,77,78,80,82,83,84,85,86,89,91,92,93,96,97,98,99,37,38]"
   ]
  },
  {
   "cell_type": "code",
   "execution_count": 39,
   "metadata": {
    "collapsed": false
   },
   "outputs": [
    {
     "data": {
      "text/html": [
       "<div>\n",
       "<table border=\"1\" class=\"dataframe\">\n",
       "  <thead>\n",
       "    <tr style=\"text-align: right;\">\n",
       "      <th></th>\n",
       "      <th>Summons Number</th>\n",
       "      <th>Issue Date</th>\n",
       "      <th>lat</th>\n",
       "      <th>lng</th>\n",
       "      <th>Violation Code</th>\n",
       "    </tr>\n",
       "  </thead>\n",
       "  <tbody>\n",
       "    <tr>\n",
       "      <th>50</th>\n",
       "      <td>7825976496</td>\n",
       "      <td>2015-01-02</td>\n",
       "      <td>40.744230</td>\n",
       "      <td>-73.986841</td>\n",
       "      <td>23</td>\n",
       "    </tr>\n",
       "    <tr>\n",
       "      <th>51</th>\n",
       "      <td>7130789529</td>\n",
       "      <td>2015-01-02</td>\n",
       "      <td>40.777556</td>\n",
       "      <td>-73.948885</td>\n",
       "      <td>50</td>\n",
       "    </tr>\n",
       "    <tr>\n",
       "      <th>53</th>\n",
       "      <td>7565917291</td>\n",
       "      <td>2015-01-02</td>\n",
       "      <td>40.890506</td>\n",
       "      <td>-73.859308</td>\n",
       "      <td>38</td>\n",
       "    </tr>\n",
       "    <tr>\n",
       "      <th>54</th>\n",
       "      <td>7855158686</td>\n",
       "      <td>2015-01-02</td>\n",
       "      <td>40.743806</td>\n",
       "      <td>-73.996259</td>\n",
       "      <td>13</td>\n",
       "    </tr>\n",
       "    <tr>\n",
       "      <th>55</th>\n",
       "      <td>7839592958</td>\n",
       "      <td>2015-01-02</td>\n",
       "      <td>40.762391</td>\n",
       "      <td>-73.978607</td>\n",
       "      <td>14</td>\n",
       "    </tr>\n",
       "    <tr>\n",
       "      <th>56</th>\n",
       "      <td>7329115022</td>\n",
       "      <td>2015-01-02</td>\n",
       "      <td>40.752111</td>\n",
       "      <td>-73.944251</td>\n",
       "      <td>20</td>\n",
       "    </tr>\n",
       "    <tr>\n",
       "      <th>57</th>\n",
       "      <td>7322584119</td>\n",
       "      <td>2015-01-02</td>\n",
       "      <td>40.822179</td>\n",
       "      <td>-73.939662</td>\n",
       "      <td>20</td>\n",
       "    </tr>\n",
       "    <tr>\n",
       "      <th>58</th>\n",
       "      <td>8004076713</td>\n",
       "      <td>2015-01-02</td>\n",
       "      <td>40.705103</td>\n",
       "      <td>-73.806174</td>\n",
       "      <td>38</td>\n",
       "    </tr>\n",
       "    <tr>\n",
       "      <th>60</th>\n",
       "      <td>7977176695</td>\n",
       "      <td>2015-01-02</td>\n",
       "      <td>40.804614</td>\n",
       "      <td>-73.947884</td>\n",
       "      <td>21</td>\n",
       "    </tr>\n",
       "    <tr>\n",
       "      <th>62</th>\n",
       "      <td>7839592946</td>\n",
       "      <td>2015-01-02</td>\n",
       "      <td>40.761788</td>\n",
       "      <td>-73.980034</td>\n",
       "      <td>14</td>\n",
       "    </tr>\n",
       "    <tr>\n",
       "      <th>65</th>\n",
       "      <td>8002473802</td>\n",
       "      <td>2015-01-02</td>\n",
       "      <td>40.744230</td>\n",
       "      <td>-73.986841</td>\n",
       "      <td>23</td>\n",
       "    </tr>\n",
       "    <tr>\n",
       "      <th>68</th>\n",
       "      <td>7811785985</td>\n",
       "      <td>2015-01-02</td>\n",
       "      <td>40.797573</td>\n",
       "      <td>-73.951570</td>\n",
       "      <td>20</td>\n",
       "    </tr>\n",
       "    <tr>\n",
       "      <th>69</th>\n",
       "      <td>8030550730</td>\n",
       "      <td>2015-01-02</td>\n",
       "      <td>40.804238</td>\n",
       "      <td>-73.954216</td>\n",
       "      <td>46</td>\n",
       "    </tr>\n",
       "    <tr>\n",
       "      <th>70</th>\n",
       "      <td>8010212040</td>\n",
       "      <td>2015-01-02</td>\n",
       "      <td>40.751050</td>\n",
       "      <td>-74.002187</td>\n",
       "      <td>13</td>\n",
       "    </tr>\n",
       "    <tr>\n",
       "      <th>71</th>\n",
       "      <td>7341577502</td>\n",
       "      <td>2015-01-02</td>\n",
       "      <td>40.779562</td>\n",
       "      <td>-73.950020</td>\n",
       "      <td>13</td>\n",
       "    </tr>\n",
       "    <tr>\n",
       "      <th>73</th>\n",
       "      <td>7880751038</td>\n",
       "      <td>2015-01-02</td>\n",
       "      <td>40.744628</td>\n",
       "      <td>-73.985247</td>\n",
       "      <td>23</td>\n",
       "    </tr>\n",
       "    <tr>\n",
       "      <th>74</th>\n",
       "      <td>7744284604</td>\n",
       "      <td>2015-01-02</td>\n",
       "      <td>40.805337</td>\n",
       "      <td>-73.934267</td>\n",
       "      <td>21</td>\n",
       "    </tr>\n",
       "    <tr>\n",
       "      <th>75</th>\n",
       "      <td>7324796795</td>\n",
       "      <td>2015-01-02</td>\n",
       "      <td>40.776558</td>\n",
       "      <td>-73.911699</td>\n",
       "      <td>38</td>\n",
       "    </tr>\n",
       "    <tr>\n",
       "      <th>76</th>\n",
       "      <td>7839592934</td>\n",
       "      <td>2015-01-02</td>\n",
       "      <td>40.761788</td>\n",
       "      <td>-73.980034</td>\n",
       "      <td>14</td>\n",
       "    </tr>\n",
       "    <tr>\n",
       "      <th>77</th>\n",
       "      <td>8004429348</td>\n",
       "      <td>2015-01-02</td>\n",
       "      <td>40.765467</td>\n",
       "      <td>-73.970045</td>\n",
       "      <td>14</td>\n",
       "    </tr>\n",
       "    <tr>\n",
       "      <th>78</th>\n",
       "      <td>8001025962</td>\n",
       "      <td>2015-01-02</td>\n",
       "      <td>40.742813</td>\n",
       "      <td>-73.982067</td>\n",
       "      <td>23</td>\n",
       "    </tr>\n",
       "    <tr>\n",
       "      <th>79</th>\n",
       "      <td>8011069986</td>\n",
       "      <td>2015-01-02</td>\n",
       "      <td>40.750166</td>\n",
       "      <td>-73.944693</td>\n",
       "      <td>20</td>\n",
       "    </tr>\n",
       "    <tr>\n",
       "      <th>80</th>\n",
       "      <td>8005414950</td>\n",
       "      <td>2015-01-02</td>\n",
       "      <td>40.727854</td>\n",
       "      <td>-73.985476</td>\n",
       "      <td>37</td>\n",
       "    </tr>\n",
       "    <tr>\n",
       "      <th>81</th>\n",
       "      <td>8011069974</td>\n",
       "      <td>2015-01-02</td>\n",
       "      <td>40.752111</td>\n",
       "      <td>-73.944251</td>\n",
       "      <td>20</td>\n",
       "    </tr>\n",
       "    <tr>\n",
       "      <th>82</th>\n",
       "      <td>7329115010</td>\n",
       "      <td>2015-01-02</td>\n",
       "      <td>40.752111</td>\n",
       "      <td>-73.944251</td>\n",
       "      <td>20</td>\n",
       "    </tr>\n",
       "    <tr>\n",
       "      <th>83</th>\n",
       "      <td>8008239876</td>\n",
       "      <td>2015-01-02</td>\n",
       "      <td>40.779562</td>\n",
       "      <td>-73.950020</td>\n",
       "      <td>13</td>\n",
       "    </tr>\n",
       "    <tr>\n",
       "      <th>84</th>\n",
       "      <td>7928380511</td>\n",
       "      <td>2015-01-02</td>\n",
       "      <td>40.700920</td>\n",
       "      <td>-73.991344</td>\n",
       "      <td>21</td>\n",
       "    </tr>\n",
       "    <tr>\n",
       "      <th>86</th>\n",
       "      <td>8014071104</td>\n",
       "      <td>2015-01-02</td>\n",
       "      <td>40.761788</td>\n",
       "      <td>-73.980034</td>\n",
       "      <td>14</td>\n",
       "    </tr>\n",
       "    <tr>\n",
       "      <th>88</th>\n",
       "      <td>7632794580</td>\n",
       "      <td>2015-01-02</td>\n",
       "      <td>40.770298</td>\n",
       "      <td>-73.909634</td>\n",
       "      <td>20</td>\n",
       "    </tr>\n",
       "    <tr>\n",
       "      <th>94</th>\n",
       "      <td>7045063143</td>\n",
       "      <td>2015-01-02</td>\n",
       "      <td>40.732901</td>\n",
       "      <td>-73.985504</td>\n",
       "      <td>20</td>\n",
       "    </tr>\n",
       "    <tr>\n",
       "      <th>...</th>\n",
       "      <td>...</td>\n",
       "      <td>...</td>\n",
       "      <td>...</td>\n",
       "      <td>...</td>\n",
       "      <td>...</td>\n",
       "    </tr>\n",
       "    <tr>\n",
       "      <th>45256</th>\n",
       "      <td>7492754310</td>\n",
       "      <td>2015-12-31</td>\n",
       "      <td>40.754194</td>\n",
       "      <td>-73.932796</td>\n",
       "      <td>21</td>\n",
       "    </tr>\n",
       "    <tr>\n",
       "      <th>45257</th>\n",
       "      <td>7495165420</td>\n",
       "      <td>2015-12-31</td>\n",
       "      <td>40.883456</td>\n",
       "      <td>-73.877722</td>\n",
       "      <td>21</td>\n",
       "    </tr>\n",
       "    <tr>\n",
       "      <th>45258</th>\n",
       "      <td>7185581928</td>\n",
       "      <td>2015-12-31</td>\n",
       "      <td>40.744664</td>\n",
       "      <td>-73.886142</td>\n",
       "      <td>21</td>\n",
       "    </tr>\n",
       "    <tr>\n",
       "      <th>45259</th>\n",
       "      <td>7629508761</td>\n",
       "      <td>2015-12-31</td>\n",
       "      <td>40.854311</td>\n",
       "      <td>-73.886036</td>\n",
       "      <td>20</td>\n",
       "    </tr>\n",
       "    <tr>\n",
       "      <th>45260</th>\n",
       "      <td>7615769942</td>\n",
       "      <td>2015-12-31</td>\n",
       "      <td>40.761527</td>\n",
       "      <td>-73.919132</td>\n",
       "      <td>21</td>\n",
       "    </tr>\n",
       "    <tr>\n",
       "      <th>45261</th>\n",
       "      <td>8040829549</td>\n",
       "      <td>2015-12-31</td>\n",
       "      <td>40.776578</td>\n",
       "      <td>-73.955914</td>\n",
       "      <td>19</td>\n",
       "    </tr>\n",
       "    <tr>\n",
       "      <th>45262</th>\n",
       "      <td>7714380834</td>\n",
       "      <td>2015-12-31</td>\n",
       "      <td>40.867141</td>\n",
       "      <td>-73.922032</td>\n",
       "      <td>40</td>\n",
       "    </tr>\n",
       "    <tr>\n",
       "      <th>45263</th>\n",
       "      <td>7896113740</td>\n",
       "      <td>2015-12-31</td>\n",
       "      <td>40.762479</td>\n",
       "      <td>-73.997510</td>\n",
       "      <td>40</td>\n",
       "    </tr>\n",
       "    <tr>\n",
       "      <th>45264</th>\n",
       "      <td>7803832404</td>\n",
       "      <td>2015-12-31</td>\n",
       "      <td>40.763571</td>\n",
       "      <td>-73.998835</td>\n",
       "      <td>21</td>\n",
       "    </tr>\n",
       "    <tr>\n",
       "      <th>45265</th>\n",
       "      <td>7808275463</td>\n",
       "      <td>2015-12-31</td>\n",
       "      <td>40.579578</td>\n",
       "      <td>-73.962207</td>\n",
       "      <td>21</td>\n",
       "    </tr>\n",
       "    <tr>\n",
       "      <th>45266</th>\n",
       "      <td>7003886170</td>\n",
       "      <td>2015-12-31</td>\n",
       "      <td>40.746198</td>\n",
       "      <td>-73.929484</td>\n",
       "      <td>16</td>\n",
       "    </tr>\n",
       "    <tr>\n",
       "      <th>45268</th>\n",
       "      <td>1403395998</td>\n",
       "      <td>2015-12-31</td>\n",
       "      <td>40.755427</td>\n",
       "      <td>-73.990727</td>\n",
       "      <td>17</td>\n",
       "    </tr>\n",
       "    <tr>\n",
       "      <th>45269</th>\n",
       "      <td>7003063414</td>\n",
       "      <td>2015-12-31</td>\n",
       "      <td>40.749367</td>\n",
       "      <td>-73.888038</td>\n",
       "      <td>21</td>\n",
       "    </tr>\n",
       "    <tr>\n",
       "      <th>45270</th>\n",
       "      <td>1401574737</td>\n",
       "      <td>2015-12-31</td>\n",
       "      <td>40.599612</td>\n",
       "      <td>-73.950951</td>\n",
       "      <td>21</td>\n",
       "    </tr>\n",
       "    <tr>\n",
       "      <th>45271</th>\n",
       "      <td>7431943740</td>\n",
       "      <td>2015-12-31</td>\n",
       "      <td>40.703816</td>\n",
       "      <td>-73.808789</td>\n",
       "      <td>20</td>\n",
       "    </tr>\n",
       "    <tr>\n",
       "      <th>45272</th>\n",
       "      <td>1403345028</td>\n",
       "      <td>2015-12-31</td>\n",
       "      <td>40.743983</td>\n",
       "      <td>-73.988131</td>\n",
       "      <td>19</td>\n",
       "    </tr>\n",
       "    <tr>\n",
       "      <th>45273</th>\n",
       "      <td>1404683800</td>\n",
       "      <td>2015-12-31</td>\n",
       "      <td>40.743983</td>\n",
       "      <td>-73.988131</td>\n",
       "      <td>19</td>\n",
       "    </tr>\n",
       "    <tr>\n",
       "      <th>45274</th>\n",
       "      <td>1399561583</td>\n",
       "      <td>2015-12-31</td>\n",
       "      <td>40.729563</td>\n",
       "      <td>-74.012699</td>\n",
       "      <td>10</td>\n",
       "    </tr>\n",
       "    <tr>\n",
       "      <th>45275</th>\n",
       "      <td>7007419562</td>\n",
       "      <td>2015-12-31</td>\n",
       "      <td>40.749773</td>\n",
       "      <td>-73.946083</td>\n",
       "      <td>20</td>\n",
       "    </tr>\n",
       "    <tr>\n",
       "      <th>45276</th>\n",
       "      <td>7882603569</td>\n",
       "      <td>2015-12-31</td>\n",
       "      <td>40.750781</td>\n",
       "      <td>-73.974465</td>\n",
       "      <td>14</td>\n",
       "    </tr>\n",
       "    <tr>\n",
       "      <th>45277</th>\n",
       "      <td>7882603557</td>\n",
       "      <td>2015-12-31</td>\n",
       "      <td>40.750781</td>\n",
       "      <td>-73.974465</td>\n",
       "      <td>14</td>\n",
       "    </tr>\n",
       "    <tr>\n",
       "      <th>45278</th>\n",
       "      <td>8049325313</td>\n",
       "      <td>2015-12-31</td>\n",
       "      <td>40.761706</td>\n",
       "      <td>-73.997694</td>\n",
       "      <td>13</td>\n",
       "    </tr>\n",
       "    <tr>\n",
       "      <th>45279</th>\n",
       "      <td>8225500301</td>\n",
       "      <td>2015-12-31</td>\n",
       "      <td>40.708284</td>\n",
       "      <td>-73.799558</td>\n",
       "      <td>21</td>\n",
       "    </tr>\n",
       "    <tr>\n",
       "      <th>45280</th>\n",
       "      <td>8048319172</td>\n",
       "      <td>2015-12-31</td>\n",
       "      <td>40.714173</td>\n",
       "      <td>-73.990073</td>\n",
       "      <td>39</td>\n",
       "    </tr>\n",
       "    <tr>\n",
       "      <th>45281</th>\n",
       "      <td>8048319184</td>\n",
       "      <td>2015-12-31</td>\n",
       "      <td>40.714173</td>\n",
       "      <td>-73.990073</td>\n",
       "      <td>39</td>\n",
       "    </tr>\n",
       "    <tr>\n",
       "      <th>45282</th>\n",
       "      <td>7005812475</td>\n",
       "      <td>2015-12-31</td>\n",
       "      <td>40.741831</td>\n",
       "      <td>-73.924887</td>\n",
       "      <td>21</td>\n",
       "    </tr>\n",
       "    <tr>\n",
       "      <th>45283</th>\n",
       "      <td>7002280170</td>\n",
       "      <td>2015-12-31</td>\n",
       "      <td>40.744744</td>\n",
       "      <td>-73.922447</td>\n",
       "      <td>21</td>\n",
       "    </tr>\n",
       "    <tr>\n",
       "      <th>45284</th>\n",
       "      <td>7002280399</td>\n",
       "      <td>2015-12-31</td>\n",
       "      <td>40.741562</td>\n",
       "      <td>-73.924896</td>\n",
       "      <td>21</td>\n",
       "    </tr>\n",
       "    <tr>\n",
       "      <th>45285</th>\n",
       "      <td>7003886169</td>\n",
       "      <td>2015-12-31</td>\n",
       "      <td>40.746049</td>\n",
       "      <td>-73.928281</td>\n",
       "      <td>40</td>\n",
       "    </tr>\n",
       "    <tr>\n",
       "      <th>45286</th>\n",
       "      <td>1399934247</td>\n",
       "      <td>2015-12-31</td>\n",
       "      <td>40.842142</td>\n",
       "      <td>-73.924048</td>\n",
       "      <td>40</td>\n",
       "    </tr>\n",
       "  </tbody>\n",
       "</table>\n",
       "<p>32617 rows × 5 columns</p>\n",
       "</div>"
      ],
      "text/plain": [
       "       Summons Number  Issue Date        lat        lng  Violation Code\n",
       "50         7825976496  2015-01-02  40.744230 -73.986841              23\n",
       "51         7130789529  2015-01-02  40.777556 -73.948885              50\n",
       "53         7565917291  2015-01-02  40.890506 -73.859308              38\n",
       "54         7855158686  2015-01-02  40.743806 -73.996259              13\n",
       "55         7839592958  2015-01-02  40.762391 -73.978607              14\n",
       "56         7329115022  2015-01-02  40.752111 -73.944251              20\n",
       "57         7322584119  2015-01-02  40.822179 -73.939662              20\n",
       "58         8004076713  2015-01-02  40.705103 -73.806174              38\n",
       "60         7977176695  2015-01-02  40.804614 -73.947884              21\n",
       "62         7839592946  2015-01-02  40.761788 -73.980034              14\n",
       "65         8002473802  2015-01-02  40.744230 -73.986841              23\n",
       "68         7811785985  2015-01-02  40.797573 -73.951570              20\n",
       "69         8030550730  2015-01-02  40.804238 -73.954216              46\n",
       "70         8010212040  2015-01-02  40.751050 -74.002187              13\n",
       "71         7341577502  2015-01-02  40.779562 -73.950020              13\n",
       "73         7880751038  2015-01-02  40.744628 -73.985247              23\n",
       "74         7744284604  2015-01-02  40.805337 -73.934267              21\n",
       "75         7324796795  2015-01-02  40.776558 -73.911699              38\n",
       "76         7839592934  2015-01-02  40.761788 -73.980034              14\n",
       "77         8004429348  2015-01-02  40.765467 -73.970045              14\n",
       "78         8001025962  2015-01-02  40.742813 -73.982067              23\n",
       "79         8011069986  2015-01-02  40.750166 -73.944693              20\n",
       "80         8005414950  2015-01-02  40.727854 -73.985476              37\n",
       "81         8011069974  2015-01-02  40.752111 -73.944251              20\n",
       "82         7329115010  2015-01-02  40.752111 -73.944251              20\n",
       "83         8008239876  2015-01-02  40.779562 -73.950020              13\n",
       "84         7928380511  2015-01-02  40.700920 -73.991344              21\n",
       "86         8014071104  2015-01-02  40.761788 -73.980034              14\n",
       "88         7632794580  2015-01-02  40.770298 -73.909634              20\n",
       "94         7045063143  2015-01-02  40.732901 -73.985504              20\n",
       "...               ...         ...        ...        ...             ...\n",
       "45256      7492754310  2015-12-31  40.754194 -73.932796              21\n",
       "45257      7495165420  2015-12-31  40.883456 -73.877722              21\n",
       "45258      7185581928  2015-12-31  40.744664 -73.886142              21\n",
       "45259      7629508761  2015-12-31  40.854311 -73.886036              20\n",
       "45260      7615769942  2015-12-31  40.761527 -73.919132              21\n",
       "45261      8040829549  2015-12-31  40.776578 -73.955914              19\n",
       "45262      7714380834  2015-12-31  40.867141 -73.922032              40\n",
       "45263      7896113740  2015-12-31  40.762479 -73.997510              40\n",
       "45264      7803832404  2015-12-31  40.763571 -73.998835              21\n",
       "45265      7808275463  2015-12-31  40.579578 -73.962207              21\n",
       "45266      7003886170  2015-12-31  40.746198 -73.929484              16\n",
       "45268      1403395998  2015-12-31  40.755427 -73.990727              17\n",
       "45269      7003063414  2015-12-31  40.749367 -73.888038              21\n",
       "45270      1401574737  2015-12-31  40.599612 -73.950951              21\n",
       "45271      7431943740  2015-12-31  40.703816 -73.808789              20\n",
       "45272      1403345028  2015-12-31  40.743983 -73.988131              19\n",
       "45273      1404683800  2015-12-31  40.743983 -73.988131              19\n",
       "45274      1399561583  2015-12-31  40.729563 -74.012699              10\n",
       "45275      7007419562  2015-12-31  40.749773 -73.946083              20\n",
       "45276      7882603569  2015-12-31  40.750781 -73.974465              14\n",
       "45277      7882603557  2015-12-31  40.750781 -73.974465              14\n",
       "45278      8049325313  2015-12-31  40.761706 -73.997694              13\n",
       "45279      8225500301  2015-12-31  40.708284 -73.799558              21\n",
       "45280      8048319172  2015-12-31  40.714173 -73.990073              39\n",
       "45281      8048319184  2015-12-31  40.714173 -73.990073              39\n",
       "45282      7005812475  2015-12-31  40.741831 -73.924887              21\n",
       "45283      7002280170  2015-12-31  40.744744 -73.922447              21\n",
       "45284      7002280399  2015-12-31  40.741562 -73.924896              21\n",
       "45285      7003886169  2015-12-31  40.746049 -73.928281              40\n",
       "45286      1399934247  2015-12-31  40.842142 -73.924048              40\n",
       "\n",
       "[32617 rows x 5 columns]"
      ]
     },
     "execution_count": 39,
     "metadata": {},
     "output_type": "execute_result"
    }
   ],
   "source": [
    "vio[vio['Violation Code'].isin(ind)]"
   ]
  },
  {
   "cell_type": "code",
   "execution_count": null,
   "metadata": {
    "collapsed": true
   },
   "outputs": [],
   "source": []
  },
  {
   "cell_type": "code",
   "execution_count": null,
   "metadata": {
    "collapsed": true
   },
   "outputs": [],
   "source": []
  },
  {
   "cell_type": "code",
   "execution_count": 3,
   "metadata": {
    "collapsed": true
   },
   "outputs": [],
   "source": [
    "vio = pd.read_csv(\"./violations_2015.csv\")"
   ]
  },
  {
   "cell_type": "code",
   "execution_count": null,
   "metadata": {
    "collapsed": true
   },
   "outputs": [],
   "source": []
  },
  {
   "cell_type": "code",
   "execution_count": null,
   "metadata": {
    "collapsed": true
   },
   "outputs": [],
   "source": []
  },
  {
   "cell_type": "code",
   "execution_count": 325,
   "metadata": {
    "collapsed": true
   },
   "outputs": [],
   "source": [
    "vio_codes = pd.read_csv(data_path + \"/DOF_Parking_Violation_Codes.csv\")"
   ]
  },
  {
   "cell_type": "markdown",
   "metadata": {},
   "source": [
    "# Hexagons"
   ]
  },
  {
   "cell_type": "code",
   "execution_count": 330,
   "metadata": {
    "collapsed": true
   },
   "outputs": [],
   "source": [
    "hexagons = gp.read_file('./Capstone - Taxi Relief Stand/Data_Warehouse/Hexagon_Shapefile_4003/hexagons_clipped.shp')"
   ]
  },
  {
   "cell_type": "code",
   "execution_count": 331,
   "metadata": {
    "collapsed": false
   },
   "outputs": [
    {
     "data": {
      "text/html": [
       "<div>\n",
       "<table border=\"1\" class=\"dataframe\">\n",
       "  <thead>\n",
       "    <tr style=\"text-align: right;\">\n",
       "      <th></th>\n",
       "      <th>GRID_ID</th>\n",
       "      <th>Id</th>\n",
       "      <th>geometry</th>\n",
       "    </tr>\n",
       "  </thead>\n",
       "  <tbody>\n",
       "    <tr>\n",
       "      <th>0</th>\n",
       "      <td>BZ-45</td>\n",
       "      <td>0</td>\n",
       "      <td>POLYGON ((1014951.499084486 205223.478088384, ...</td>\n",
       "    </tr>\n",
       "    <tr>\n",
       "      <th>1</th>\n",
       "      <td>CC-66</td>\n",
       "      <td>0</td>\n",
       "      <td>POLYGON ((1018899.721130365 172550.5435180648,...</td>\n",
       "    </tr>\n",
       "  </tbody>\n",
       "</table>\n",
       "</div>"
      ],
      "text/plain": [
       "  GRID_ID  Id                                           geometry\n",
       "0   BZ-45   0  POLYGON ((1014951.499084486 205223.478088384, ...\n",
       "1   CC-66   0  POLYGON ((1018899.721130365 172550.5435180648,..."
      ]
     },
     "execution_count": 331,
     "metadata": {},
     "output_type": "execute_result"
    }
   ],
   "source": [
    "hexagons.head(2)"
   ]
  },
  {
   "cell_type": "code",
   "execution_count": 335,
   "metadata": {
    "collapsed": false
   },
   "outputs": [
    {
     "data": {
      "text/plain": [
       "{'init': 'epsg:4326', 'no_defs': True}"
      ]
     },
     "execution_count": 335,
     "metadata": {},
     "output_type": "execute_result"
    }
   ],
   "source": [
    "hexagons = hexagons.to_crs(epsg=4326)\n",
    "hexagons.crs"
   ]
  },
  {
   "cell_type": "code",
   "execution_count": 343,
   "metadata": {
    "collapsed": false
   },
   "outputs": [
    {
     "data": {
      "text/plain": [
       "count                   41545\n",
       "unique                    365\n",
       "top       2015-03-02 00:00:00\n",
       "freq                      209\n",
       "first     2015-01-01 00:00:00\n",
       "last      2015-12-31 00:00:00\n",
       "Name: Issue Date, dtype: object"
      ]
     },
     "execution_count": 343,
     "metadata": {},
     "output_type": "execute_result"
    }
   ],
   "source": [
    "vio_hex = gp.sjoin(vio, hexagons)\n",
    "vio_hex.columns\n",
    "vio_hex.drop([u'index_right', u'Id'], axis = 1, inplace = True)\n",
    "vio_hex['Issue Date'] = pd.to_datetime(vio_hex['Issue Date'])\n",
    "(vio_hex['Issue Date']).describe()"
   ]
  },
  {
   "cell_type": "code",
   "execution_count": 360,
   "metadata": {
    "collapsed": false
   },
   "outputs": [
    {
     "data": {
      "text/html": [
       "<div>\n",
       "<table border=\"1\" class=\"dataframe\">\n",
       "  <thead>\n",
       "    <tr style=\"text-align: right;\">\n",
       "      <th></th>\n",
       "      <th>GRID_ID</th>\n",
       "      <th>Violation Code</th>\n",
       "      <th>Summons Number</th>\n",
       "    </tr>\n",
       "  </thead>\n",
       "  <tbody>\n",
       "    <tr>\n",
       "      <th>1491</th>\n",
       "      <td>BG-42</td>\n",
       "      <td>23</td>\n",
       "      <td>1257</td>\n",
       "    </tr>\n",
       "    <tr>\n",
       "      <th>1495</th>\n",
       "      <td>BG-42</td>\n",
       "      <td>38</td>\n",
       "      <td>207</td>\n",
       "    </tr>\n",
       "    <tr>\n",
       "      <th>1484</th>\n",
       "      <td>BG-42</td>\n",
       "      <td>13</td>\n",
       "      <td>119</td>\n",
       "    </tr>\n",
       "    <tr>\n",
       "      <th>1489</th>\n",
       "      <td>BG-42</td>\n",
       "      <td>20</td>\n",
       "      <td>72</td>\n",
       "    </tr>\n",
       "    <tr>\n",
       "      <th>1497</th>\n",
       "      <td>BG-42</td>\n",
       "      <td>40</td>\n",
       "      <td>59</td>\n",
       "    </tr>\n",
       "    <tr>\n",
       "      <th>1499</th>\n",
       "      <td>BG-42</td>\n",
       "      <td>46</td>\n",
       "      <td>43</td>\n",
       "    </tr>\n",
       "    <tr>\n",
       "      <th>1494</th>\n",
       "      <td>BG-42</td>\n",
       "      <td>37</td>\n",
       "      <td>31</td>\n",
       "    </tr>\n",
       "    <tr>\n",
       "      <th>1490</th>\n",
       "      <td>BG-42</td>\n",
       "      <td>21</td>\n",
       "      <td>25</td>\n",
       "    </tr>\n",
       "    <tr>\n",
       "      <th>1487</th>\n",
       "      <td>BG-42</td>\n",
       "      <td>17</td>\n",
       "      <td>24</td>\n",
       "    </tr>\n",
       "    <tr>\n",
       "      <th>1485</th>\n",
       "      <td>BG-42</td>\n",
       "      <td>14</td>\n",
       "      <td>21</td>\n",
       "    </tr>\n",
       "    <tr>\n",
       "      <th>1502</th>\n",
       "      <td>BG-42</td>\n",
       "      <td>53</td>\n",
       "      <td>15</td>\n",
       "    </tr>\n",
       "    <tr>\n",
       "      <th>1503</th>\n",
       "      <td>BG-42</td>\n",
       "      <td>70</td>\n",
       "      <td>13</td>\n",
       "    </tr>\n",
       "    <tr>\n",
       "      <th>1488</th>\n",
       "      <td>BG-42</td>\n",
       "      <td>19</td>\n",
       "      <td>11</td>\n",
       "    </tr>\n",
       "    <tr>\n",
       "      <th>1501</th>\n",
       "      <td>BG-42</td>\n",
       "      <td>50</td>\n",
       "      <td>11</td>\n",
       "    </tr>\n",
       "    <tr>\n",
       "      <th>1493</th>\n",
       "      <td>BG-42</td>\n",
       "      <td>31</td>\n",
       "      <td>10</td>\n",
       "    </tr>\n",
       "    <tr>\n",
       "      <th>1496</th>\n",
       "      <td>BG-42</td>\n",
       "      <td>39</td>\n",
       "      <td>9</td>\n",
       "    </tr>\n",
       "    <tr>\n",
       "      <th>1504</th>\n",
       "      <td>BG-42</td>\n",
       "      <td>71</td>\n",
       "      <td>5</td>\n",
       "    </tr>\n",
       "    <tr>\n",
       "      <th>1500</th>\n",
       "      <td>BG-42</td>\n",
       "      <td>47</td>\n",
       "      <td>4</td>\n",
       "    </tr>\n",
       "    <tr>\n",
       "      <th>1506</th>\n",
       "      <td>BG-42</td>\n",
       "      <td>73</td>\n",
       "      <td>4</td>\n",
       "    </tr>\n",
       "    <tr>\n",
       "      <th>1505</th>\n",
       "      <td>BG-42</td>\n",
       "      <td>72</td>\n",
       "      <td>3</td>\n",
       "    </tr>\n",
       "    <tr>\n",
       "      <th>1492</th>\n",
       "      <td>BG-42</td>\n",
       "      <td>24</td>\n",
       "      <td>1</td>\n",
       "    </tr>\n",
       "    <tr>\n",
       "      <th>1498</th>\n",
       "      <td>BG-42</td>\n",
       "      <td>45</td>\n",
       "      <td>1</td>\n",
       "    </tr>\n",
       "    <tr>\n",
       "      <th>1486</th>\n",
       "      <td>BG-42</td>\n",
       "      <td>16</td>\n",
       "      <td>1</td>\n",
       "    </tr>\n",
       "  </tbody>\n",
       "</table>\n",
       "</div>"
      ],
      "text/plain": [
       "     GRID_ID  Violation Code  Summons Number\n",
       "1491   BG-42              23            1257\n",
       "1495   BG-42              38             207\n",
       "1484   BG-42              13             119\n",
       "1489   BG-42              20              72\n",
       "1497   BG-42              40              59\n",
       "1499   BG-42              46              43\n",
       "1494   BG-42              37              31\n",
       "1490   BG-42              21              25\n",
       "1487   BG-42              17              24\n",
       "1485   BG-42              14              21\n",
       "1502   BG-42              53              15\n",
       "1503   BG-42              70              13\n",
       "1488   BG-42              19              11\n",
       "1501   BG-42              50              11\n",
       "1493   BG-42              31              10\n",
       "1496   BG-42              39               9\n",
       "1504   BG-42              71               5\n",
       "1500   BG-42              47               4\n",
       "1506   BG-42              73               4\n",
       "1505   BG-42              72               3\n",
       "1492   BG-42              24               1\n",
       "1498   BG-42              45               1\n",
       "1486   BG-42              16               1"
      ]
     },
     "execution_count": 360,
     "metadata": {},
     "output_type": "execute_result"
    }
   ],
   "source": [
    "vio_codes_hex = vio_hex.groupby(['GRID_ID', 'Violation Code']).agg({'Summons Number':'count'})\n",
    "vio_codes_hex.reset_index(inplace=True)\n",
    "vio_codes_hex[vio_codes_hex.GRID_ID == 'BG-42'].sort_values(by='Summons Number', ascending=False)"
   ]
  },
  {
   "cell_type": "code",
   "execution_count": 356,
   "metadata": {
    "collapsed": true
   },
   "outputs": [],
   "source": [
    "vio_hex.to_csv(\"./violations_nyc_2015.csv\")"
   ]
  },
  {
   "cell_type": "markdown",
   "metadata": {},
   "source": [
    "# Manhattan hexagons"
   ]
  },
  {
   "cell_type": "code",
   "execution_count": 364,
   "metadata": {
    "collapsed": true
   },
   "outputs": [],
   "source": [
    "vio = pd.read_csv(\"./violations_2015.csv\")\n",
    "vio.drop([u'Unnamed: 0'], axis=1, inplace=True)"
   ]
  },
  {
   "cell_type": "code",
   "execution_count": 365,
   "metadata": {
    "collapsed": true
   },
   "outputs": [],
   "source": [
    "manhattan = pd.read_csv(\"./Capstone - Taxi Relief Stand/Data_Warehouse/Other_Data/manhattan.csv\")"
   ]
  },
  {
   "cell_type": "code",
   "execution_count": 366,
   "metadata": {
    "collapsed": false
   },
   "outputs": [
    {
     "data": {
      "text/plain": [
       "{'init': 'epsg:4326', 'no_defs': True}"
      ]
     },
     "execution_count": 366,
     "metadata": {},
     "output_type": "execute_result"
    }
   ],
   "source": [
    "crs = {'init': 'epsg:4326', 'no_defs': True}\n",
    "manhattan = gp.GeoDataFrame(manhattan, crs=crs)\n",
    "manhattan.crs"
   ]
  },
  {
   "cell_type": "code",
   "execution_count": 367,
   "metadata": {
    "collapsed": false
   },
   "outputs": [],
   "source": [
    "crs = {'init': 'epsg:4326', 'no_defs': True}\n",
    "geometry = [Point(xy) for xy in zip(vio[\"lng\"], vio[\"lat\"])]\n",
    "vio = vio.drop([\"lng\", \"lat\"], axis=1)\n",
    "vio = gp.GeoDataFrame(vio, crs=crs, geometry=geometry)"
   ]
  },
  {
   "cell_type": "code",
   "execution_count": 368,
   "metadata": {
    "collapsed": false
   },
   "outputs": [
    {
     "data": {
      "text/plain": [
       "{'init': 'epsg:4326', 'no_defs': True}"
      ]
     },
     "execution_count": 368,
     "metadata": {},
     "output_type": "execute_result"
    }
   ],
   "source": [
    "vio.crs"
   ]
  },
  {
   "cell_type": "code",
   "execution_count": 369,
   "metadata": {
    "collapsed": false
   },
   "outputs": [
    {
     "data": {
      "text/html": [
       "<div>\n",
       "<table border=\"1\" class=\"dataframe\">\n",
       "  <thead>\n",
       "    <tr style=\"text-align: right;\">\n",
       "      <th></th>\n",
       "      <th>Summons Number</th>\n",
       "      <th>Issue Date</th>\n",
       "      <th>geometry</th>\n",
       "    </tr>\n",
       "  </thead>\n",
       "  <tbody>\n",
       "    <tr>\n",
       "      <th>0</th>\n",
       "      <td>5084467648</td>\n",
       "      <td>2015-01-01</td>\n",
       "      <td>POINT (-73.97583840000002 40.6818342)</td>\n",
       "    </tr>\n",
       "    <tr>\n",
       "      <th>1</th>\n",
       "      <td>5084465937</td>\n",
       "      <td>2015-01-01</td>\n",
       "      <td>POINT (-73.99491999999999 40.621994)</td>\n",
       "    </tr>\n",
       "    <tr>\n",
       "      <th>2</th>\n",
       "      <td>5084467235</td>\n",
       "      <td>2015-01-01</td>\n",
       "      <td>POINT (-73.9530018 40.6787972)</td>\n",
       "    </tr>\n",
       "    <tr>\n",
       "      <th>3</th>\n",
       "      <td>5084474409</td>\n",
       "      <td>2015-01-01</td>\n",
       "      <td>POINT (-73.9795422 40.7397923)</td>\n",
       "    </tr>\n",
       "    <tr>\n",
       "      <th>4</th>\n",
       "      <td>5084472267</td>\n",
       "      <td>2015-01-01</td>\n",
       "      <td>POINT (-73.9872417 40.7760243)</td>\n",
       "    </tr>\n",
       "  </tbody>\n",
       "</table>\n",
       "</div>"
      ],
      "text/plain": [
       "   Summons Number  Issue Date                               geometry\n",
       "0      5084467648  2015-01-01  POINT (-73.97583840000002 40.6818342)\n",
       "1      5084465937  2015-01-01   POINT (-73.99491999999999 40.621994)\n",
       "2      5084467235  2015-01-01         POINT (-73.9530018 40.6787972)\n",
       "3      5084474409  2015-01-01         POINT (-73.9795422 40.7397923)\n",
       "4      5084472267  2015-01-01         POINT (-73.9872417 40.7760243)"
      ]
     },
     "execution_count": 369,
     "metadata": {},
     "output_type": "execute_result"
    }
   ],
   "source": [
    "vio.head()"
   ]
  },
  {
   "cell_type": "code",
   "execution_count": 377,
   "metadata": {
    "collapsed": false
   },
   "outputs": [],
   "source": [
    "manhattan_grids = manhattan.GRID_ID.values"
   ]
  },
  {
   "cell_type": "code",
   "execution_count": 379,
   "metadata": {
    "collapsed": false
   },
   "outputs": [],
   "source": [
    "vio_hex_ts = gp.sjoin(hexagons, vio)"
   ]
  },
  {
   "cell_type": "code",
   "execution_count": 408,
   "metadata": {
    "collapsed": false
   },
   "outputs": [],
   "source": [
    "vio_hex_ts.to_csv('./vio_nyc_ts.csv')"
   ]
  },
  {
   "cell_type": "code",
   "execution_count": 388,
   "metadata": {
    "collapsed": false
   },
   "outputs": [],
   "source": [
    "manhattan_vio_ts = vio_hex_ts[vio_hex_ts.GRID_ID.isin(manhattan_grids)]"
   ]
  },
  {
   "cell_type": "code",
   "execution_count": 397,
   "metadata": {
    "collapsed": false
   },
   "outputs": [
    {
     "name": "stderr",
     "output_type": "stream",
     "text": [
      "C:\\Users\\Vishwajeet\\Anaconda2\\lib\\site-packages\\ipykernel\\__main__.py:1: SettingWithCopyWarning: \n",
      "A value is trying to be set on a copy of a slice from a DataFrame.\n",
      "Try using .loc[row_indexer,col_indexer] = value instead\n",
      "\n",
      "See the caveats in the documentation: http://pandas.pydata.org/pandas-docs/stable/indexing.html#indexing-view-versus-copy\n",
      "  if __name__ == '__main__':\n"
     ]
    }
   ],
   "source": [
    "manhattan_vio_ts['Issue Date'] = pd.to_datetime(manhattan_vio_ts['Issue Date'])"
   ]
  },
  {
   "cell_type": "code",
   "execution_count": 398,
   "metadata": {
    "collapsed": false
   },
   "outputs": [
    {
     "data": {
      "text/plain": [
       "count                   28820\n",
       "unique                    365\n",
       "top       2015-01-15 00:00:00\n",
       "freq                      163\n",
       "first     2015-01-01 00:00:00\n",
       "last      2015-12-31 00:00:00\n",
       "Name: Issue Date, dtype: object"
      ]
     },
     "execution_count": 398,
     "metadata": {},
     "output_type": "execute_result"
    }
   ],
   "source": [
    "manhattan_vio_ts[\"Issue Date\"].describe()"
   ]
  },
  {
   "cell_type": "code",
   "execution_count": 402,
   "metadata": {
    "collapsed": false
   },
   "outputs": [],
   "source": [
    "manhattan_vio_ts = manhattan_vio_ts.groupby(['GRID_ID', 'Issue Date']).agg({'geometry':'first', \n",
    "                                                          'index_right':'count'})"
   ]
  },
  {
   "cell_type": "code",
   "execution_count": 403,
   "metadata": {
    "collapsed": true
   },
   "outputs": [],
   "source": [
    "manhattan_vio_ts.reset_index(inplace=True)"
   ]
  },
  {
   "cell_type": "code",
   "execution_count": 404,
   "metadata": {
    "collapsed": true
   },
   "outputs": [],
   "source": [
    "manhattan_vio_ts.to_csv(\"./manhattan_violations_timeseries.csv\")"
   ]
  },
  {
   "cell_type": "code",
   "execution_count": null,
   "metadata": {
    "collapsed": true
   },
   "outputs": [],
   "source": []
  }
 ],
 "metadata": {
  "anaconda-cloud": {},
  "kernelspec": {
   "display_name": "Python [conda root]",
   "language": "python",
   "name": "conda-root-py"
  },
  "language_info": {
   "codemirror_mode": {
    "name": "ipython",
    "version": 2
   },
   "file_extension": ".py",
   "mimetype": "text/x-python",
   "name": "python",
   "nbconvert_exporter": "python",
   "pygments_lexer": "ipython2",
   "version": "2.7.12"
  }
 },
 "nbformat": 4,
 "nbformat_minor": 1
}
