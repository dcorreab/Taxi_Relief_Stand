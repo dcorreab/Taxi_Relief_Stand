{
 "cells": [
  {
   "cell_type": "code",
   "execution_count": 1,
   "metadata": {
    "collapsed": false
   },
   "outputs": [],
   "source": [
    "import pandas as pd\n",
    "import numpy as np\n",
    "import datetime as dt\n",
    "from shapely.geometry import Point\n",
    "import seaborn as sns\n",
    "import geopandas as gp\n",
    "from pandas.tools.plotting import scatter_matrix\n",
    "import matplotlib.pyplot as plt\n",
    "%matplotlib inline"
   ]
  },
  {
   "cell_type": "markdown",
   "metadata": {},
   "source": [
    "# Usage of Current Relief Stands"
   ]
  },
  {
   "cell_type": "code",
   "execution_count": 3,
   "metadata": {
    "collapsed": false
   },
   "outputs": [],
   "source": [
    "usage = pd.read_csv(\"./Capstone - Taxi Relief Stand/Data_Warehouse/Hadoop_Processed_Data/usage_2015_July23.csv\")\n",
    "usage.date = pd.to_datetime(usage.date, dayfirst = True)\n",
    "# usage.drop(['time_usage', 'time_usage_min'], axis=1, inplace=True)"
   ]
  },
  {
   "cell_type": "code",
   "execution_count": 4,
   "metadata": {
    "collapsed": false
   },
   "outputs": [
    {
     "data": {
      "text/plain": [
       "60"
      ]
     },
     "execution_count": 4,
     "metadata": {},
     "output_type": "execute_result"
    }
   ],
   "source": [
    "len(usage.relief_stand_idx.unique())"
   ]
  },
  {
   "cell_type": "code",
   "execution_count": 5,
   "metadata": {
    "collapsed": false
   },
   "outputs": [
    {
     "data": {
      "text/plain": [
       "array([ 0,  1,  2,  3,  4,  5,  6,  7,  8,  9, 10, 11, 12, 13, 14, 15, 16,\n",
       "       17, 18, 19, 20, 21, 22, 23, 24, 25, 26, 27, 28, 29, 30, 31, 32, 33,\n",
       "       34, 35, 36, 37, 38, 39, 40, 41, 42, 43, 44, 45, 46, 47, 48, 49, 50,\n",
       "       51, 52, 53, 54, 55, 56, 57, 58, 59], dtype=int64)"
      ]
     },
     "execution_count": 5,
     "metadata": {},
     "output_type": "execute_result"
    }
   ],
   "source": [
    "usage.relief_stand_idx.unique()"
   ]
  },
  {
   "cell_type": "code",
   "execution_count": 6,
   "metadata": {
    "collapsed": false
   },
   "outputs": [
    {
     "data": {
      "text/html": [
       "<div>\n",
       "<table border=\"1\" class=\"dataframe\">\n",
       "  <thead>\n",
       "    <tr style=\"text-align: right;\">\n",
       "      <th></th>\n",
       "      <th>relief_stand_idx</th>\n",
       "      <th>date</th>\n",
       "      <th>car_usage</th>\n",
       "      <th>time_usage_hrs</th>\n",
       "      <th>Avg_hrs/car</th>\n",
       "    </tr>\n",
       "  </thead>\n",
       "  <tbody>\n",
       "    <tr>\n",
       "      <th>0</th>\n",
       "      <td>0</td>\n",
       "      <td>2015-01-01</td>\n",
       "      <td>78</td>\n",
       "      <td>262.999167</td>\n",
       "      <td>3.371784</td>\n",
       "    </tr>\n",
       "    <tr>\n",
       "      <th>1</th>\n",
       "      <td>0</td>\n",
       "      <td>2015-01-02</td>\n",
       "      <td>101</td>\n",
       "      <td>226.645278</td>\n",
       "      <td>2.244013</td>\n",
       "    </tr>\n",
       "  </tbody>\n",
       "</table>\n",
       "</div>"
      ],
      "text/plain": [
       "   relief_stand_idx       date  car_usage  time_usage_hrs  Avg_hrs/car\n",
       "0                 0 2015-01-01         78      262.999167     3.371784\n",
       "1                 0 2015-01-02        101      226.645278     2.244013"
      ]
     },
     "execution_count": 6,
     "metadata": {},
     "output_type": "execute_result"
    }
   ],
   "source": [
    "usage.head(2)"
   ]
  },
  {
   "cell_type": "markdown",
   "metadata": {},
   "source": [
    "# Relief stand geolocation"
   ]
  },
  {
   "cell_type": "code",
   "execution_count": 7,
   "metadata": {
    "collapsed": false
   },
   "outputs": [],
   "source": [
    "relief_stands = pd.read_csv(\"./New York City Taxi Relief Stations.csv\")"
   ]
  },
  {
   "cell_type": "code",
   "execution_count": 8,
   "metadata": {
    "collapsed": false
   },
   "outputs": [],
   "source": [
    "for i in range(len(relief_stands)):\n",
    "    relief_stands.loc[i,'lat'] = float(relief_stands.loc[i, 'Latitude, Longitude'].split(' ')[0])\n",
    "    relief_stands.loc[i,'lng'] = float(relief_stands.loc[i, 'Latitude, Longitude'].split(' ')[1])"
   ]
  },
  {
   "cell_type": "code",
   "execution_count": 9,
   "metadata": {
    "collapsed": false
   },
   "outputs": [],
   "source": [
    "crs = {'init': 'epsg:4326', 'no_defs': True}\n",
    "geometry = [Point(xy) for xy in zip(relief_stands['lng'], relief_stands['lat'])]\n",
    "relief_stands = relief_stands.drop([\"lng\", \"lat\", 'Latitude, Longitude'], axis=1)\n",
    "relief_stands = gp.GeoDataFrame(relief_stands, crs=crs, geometry=geometry)"
   ]
  },
  {
   "cell_type": "code",
   "execution_count": 10,
   "metadata": {
    "collapsed": false
   },
   "outputs": [],
   "source": [
    "relief_stands.reset_index(inplace=True)"
   ]
  },
  {
   "cell_type": "code",
   "execution_count": 11,
   "metadata": {
    "collapsed": false
   },
   "outputs": [],
   "source": [
    "relief_stands.drop([u'Stand Type'], axis=1, inplace=True)"
   ]
  },
  {
   "cell_type": "code",
   "execution_count": 12,
   "metadata": {
    "collapsed": false
   },
   "outputs": [],
   "source": [
    "relief_stands.columns = ['RS_ID', 'Location', 'geometry']"
   ]
  },
  {
   "cell_type": "code",
   "execution_count": 13,
   "metadata": {
    "collapsed": false
   },
   "outputs": [],
   "source": [
    "relief_stands.RS_ID = relief_stands.index"
   ]
  },
  {
   "cell_type": "code",
   "execution_count": 13,
   "metadata": {
    "collapsed": false
   },
   "outputs": [],
   "source": [
    "relief_stands.to_file(\"./relief_stands_23July.shp\")\n",
    "relief_stands.to_csv(\"./relief_stands_23July.csv\")"
   ]
  },
  {
   "cell_type": "code",
   "execution_count": 14,
   "metadata": {
    "collapsed": false
   },
   "outputs": [
    {
     "data": {
      "text/plain": [
       "geopandas.geodataframe.GeoDataFrame"
      ]
     },
     "execution_count": 14,
     "metadata": {},
     "output_type": "execute_result"
    }
   ],
   "source": [
    "type(relief_stands)"
   ]
  },
  {
   "cell_type": "code",
   "execution_count": 15,
   "metadata": {
    "collapsed": false
   },
   "outputs": [],
   "source": [
    "with open('relief_stands_23July.geojson', 'w') as f:\n",
    "    f.write(relief_stands.to_json())\n",
    "# relief_stands.to_file(\"./relief_stands_23July.geojson\")"
   ]
  },
  {
   "cell_type": "code",
   "execution_count": 15,
   "metadata": {
    "collapsed": false
   },
   "outputs": [
    {
     "data": {
      "text/html": [
       "<div>\n",
       "<table border=\"1\" class=\"dataframe\">\n",
       "  <thead>\n",
       "    <tr style=\"text-align: right;\">\n",
       "      <th></th>\n",
       "      <th>RS_ID</th>\n",
       "      <th>Location</th>\n",
       "      <th>geometry</th>\n",
       "    </tr>\n",
       "  </thead>\n",
       "  <tbody>\n",
       "    <tr>\n",
       "      <th>0</th>\n",
       "      <td>0</td>\n",
       "      <td>Park Avenue  between E 135th St and E 138th St...</td>\n",
       "      <td>POINT (-73.929918 40.812311)</td>\n",
       "    </tr>\n",
       "    <tr>\n",
       "      <th>1</th>\n",
       "      <td>1</td>\n",
       "      <td>Fourth Avenue between Third St and Sixth St</td>\n",
       "      <td>POINT (-73.98652069390001 40.6731545147)</td>\n",
       "    </tr>\n",
       "    <tr>\n",
       "      <th>2</th>\n",
       "      <td>2</td>\n",
       "      <td>North 6th Street between Berry St and Wythe St</td>\n",
       "      <td>POINT (-73.9602709752 40.7185812457)</td>\n",
       "    </tr>\n",
       "    <tr>\n",
       "      <th>3</th>\n",
       "      <td>3</td>\n",
       "      <td>Utica Avenue between Winthrop St and Rutland Blvd</td>\n",
       "      <td>POINT (-73.9311791758 40.6594997188)</td>\n",
       "    </tr>\n",
       "    <tr>\n",
       "      <th>4</th>\n",
       "      <td>4</td>\n",
       "      <td>Tenth Avenue between W 26th St and W 28th St</td>\n",
       "      <td>POINT (-74.0022979229 40.7502959021)</td>\n",
       "    </tr>\n",
       "  </tbody>\n",
       "</table>\n",
       "</div>"
      ],
      "text/plain": [
       "   RS_ID                                           Location  \\\n",
       "0      0  Park Avenue  between E 135th St and E 138th St...   \n",
       "1      1        Fourth Avenue between Third St and Sixth St   \n",
       "2      2     North 6th Street between Berry St and Wythe St   \n",
       "3      3  Utica Avenue between Winthrop St and Rutland Blvd   \n",
       "4      4       Tenth Avenue between W 26th St and W 28th St   \n",
       "\n",
       "                                   geometry  \n",
       "0              POINT (-73.929918 40.812311)  \n",
       "1  POINT (-73.98652069390001 40.6731545147)  \n",
       "2      POINT (-73.9602709752 40.7185812457)  \n",
       "3      POINT (-73.9311791758 40.6594997188)  \n",
       "4      POINT (-74.0022979229 40.7502959021)  "
      ]
     },
     "execution_count": 15,
     "metadata": {},
     "output_type": "execute_result"
    }
   ],
   "source": [
    "relief_stands.head()"
   ]
  },
  {
   "cell_type": "markdown",
   "metadata": {},
   "source": [
    "# Indexed relief stands is file /relief_stands_23July.csv"
   ]
  },
  {
   "cell_type": "markdown",
   "metadata": {},
   "source": [
    "# Merge indexed relief stand data with relief stand geolocated data"
   ]
  },
  {
   "cell_type": "code",
   "execution_count": 16,
   "metadata": {
    "collapsed": false
   },
   "outputs": [
    {
     "data": {
      "text/plain": [
       "count                   16583\n",
       "unique                    365\n",
       "top       2015-05-22 00:00:00\n",
       "freq                       53\n",
       "first     2015-01-01 00:00:00\n",
       "last      2015-12-31 00:00:00\n",
       "Name: date, dtype: object"
      ]
     },
     "execution_count": 16,
     "metadata": {},
     "output_type": "execute_result"
    }
   ],
   "source": [
    "usage.date.describe()"
   ]
  },
  {
   "cell_type": "code",
   "execution_count": 17,
   "metadata": {
    "collapsed": false
   },
   "outputs": [
    {
     "data": {
      "text/html": [
       "<div>\n",
       "<table border=\"1\" class=\"dataframe\">\n",
       "  <thead>\n",
       "    <tr style=\"text-align: right;\">\n",
       "      <th></th>\n",
       "      <th>relief_stand_idx</th>\n",
       "      <th>date</th>\n",
       "      <th>car_usage</th>\n",
       "      <th>time_usage_hrs</th>\n",
       "      <th>Avg_hrs/car</th>\n",
       "    </tr>\n",
       "  </thead>\n",
       "  <tbody>\n",
       "    <tr>\n",
       "      <th>0</th>\n",
       "      <td>0</td>\n",
       "      <td>2015-01-01</td>\n",
       "      <td>78</td>\n",
       "      <td>262.999167</td>\n",
       "      <td>3.371784</td>\n",
       "    </tr>\n",
       "    <tr>\n",
       "      <th>1</th>\n",
       "      <td>0</td>\n",
       "      <td>2015-01-02</td>\n",
       "      <td>101</td>\n",
       "      <td>226.645278</td>\n",
       "      <td>2.244013</td>\n",
       "    </tr>\n",
       "    <tr>\n",
       "      <th>2</th>\n",
       "      <td>0</td>\n",
       "      <td>2015-01-03</td>\n",
       "      <td>69</td>\n",
       "      <td>238.721111</td>\n",
       "      <td>3.459726</td>\n",
       "    </tr>\n",
       "    <tr>\n",
       "      <th>3</th>\n",
       "      <td>0</td>\n",
       "      <td>2015-01-04</td>\n",
       "      <td>77</td>\n",
       "      <td>216.010556</td>\n",
       "      <td>2.805332</td>\n",
       "    </tr>\n",
       "    <tr>\n",
       "      <th>4</th>\n",
       "      <td>0</td>\n",
       "      <td>2015-01-05</td>\n",
       "      <td>84</td>\n",
       "      <td>169.230278</td>\n",
       "      <td>2.014646</td>\n",
       "    </tr>\n",
       "  </tbody>\n",
       "</table>\n",
       "</div>"
      ],
      "text/plain": [
       "   relief_stand_idx       date  car_usage  time_usage_hrs  Avg_hrs/car\n",
       "0                 0 2015-01-01         78      262.999167     3.371784\n",
       "1                 0 2015-01-02        101      226.645278     2.244013\n",
       "2                 0 2015-01-03         69      238.721111     3.459726\n",
       "3                 0 2015-01-04         77      216.010556     2.805332\n",
       "4                 0 2015-01-05         84      169.230278     2.014646"
      ]
     },
     "execution_count": 17,
     "metadata": {},
     "output_type": "execute_result"
    }
   ],
   "source": [
    "usage.head()"
   ]
  },
  {
   "cell_type": "code",
   "execution_count": 18,
   "metadata": {
    "collapsed": true
   },
   "outputs": [],
   "source": [
    "usage_relief = pd.merge(usage, relief_stands, left_on='relief_stand_idx', right_on='RS_ID')"
   ]
  },
  {
   "cell_type": "code",
   "execution_count": 19,
   "metadata": {
    "collapsed": false
   },
   "outputs": [
    {
     "data": {
      "text/plain": [
       "16583"
      ]
     },
     "execution_count": 19,
     "metadata": {},
     "output_type": "execute_result"
    }
   ],
   "source": [
    "len(usage)"
   ]
  },
  {
   "cell_type": "code",
   "execution_count": 20,
   "metadata": {
    "collapsed": false
   },
   "outputs": [
    {
     "data": {
      "text/plain": [
       "16583"
      ]
     },
     "execution_count": 20,
     "metadata": {},
     "output_type": "execute_result"
    }
   ],
   "source": [
    "len(usage_relief)"
   ]
  },
  {
   "cell_type": "code",
   "execution_count": 21,
   "metadata": {
    "collapsed": false,
    "scrolled": false
   },
   "outputs": [
    {
     "data": {
      "text/html": [
       "<div>\n",
       "<table border=\"1\" class=\"dataframe\">\n",
       "  <thead>\n",
       "    <tr style=\"text-align: right;\">\n",
       "      <th></th>\n",
       "      <th>relief_stand_idx</th>\n",
       "      <th>date</th>\n",
       "      <th>car_usage</th>\n",
       "      <th>time_usage_hrs</th>\n",
       "      <th>Avg_hrs/car</th>\n",
       "      <th>RS_ID</th>\n",
       "      <th>Location</th>\n",
       "      <th>geometry</th>\n",
       "    </tr>\n",
       "  </thead>\n",
       "  <tbody>\n",
       "    <tr>\n",
       "      <th>0</th>\n",
       "      <td>0</td>\n",
       "      <td>2015-01-01</td>\n",
       "      <td>78</td>\n",
       "      <td>262.999167</td>\n",
       "      <td>3.371784</td>\n",
       "      <td>0</td>\n",
       "      <td>Park Avenue  between E 135th St and E 138th St...</td>\n",
       "      <td>POINT (-73.929918 40.812311)</td>\n",
       "    </tr>\n",
       "    <tr>\n",
       "      <th>1</th>\n",
       "      <td>0</td>\n",
       "      <td>2015-01-02</td>\n",
       "      <td>101</td>\n",
       "      <td>226.645278</td>\n",
       "      <td>2.244013</td>\n",
       "      <td>0</td>\n",
       "      <td>Park Avenue  between E 135th St and E 138th St...</td>\n",
       "      <td>POINT (-73.929918 40.812311)</td>\n",
       "    </tr>\n",
       "    <tr>\n",
       "      <th>2</th>\n",
       "      <td>0</td>\n",
       "      <td>2015-01-03</td>\n",
       "      <td>69</td>\n",
       "      <td>238.721111</td>\n",
       "      <td>3.459726</td>\n",
       "      <td>0</td>\n",
       "      <td>Park Avenue  between E 135th St and E 138th St...</td>\n",
       "      <td>POINT (-73.929918 40.812311)</td>\n",
       "    </tr>\n",
       "    <tr>\n",
       "      <th>3</th>\n",
       "      <td>0</td>\n",
       "      <td>2015-01-04</td>\n",
       "      <td>77</td>\n",
       "      <td>216.010556</td>\n",
       "      <td>2.805332</td>\n",
       "      <td>0</td>\n",
       "      <td>Park Avenue  between E 135th St and E 138th St...</td>\n",
       "      <td>POINT (-73.929918 40.812311)</td>\n",
       "    </tr>\n",
       "    <tr>\n",
       "      <th>4</th>\n",
       "      <td>0</td>\n",
       "      <td>2015-01-05</td>\n",
       "      <td>84</td>\n",
       "      <td>169.230278</td>\n",
       "      <td>2.014646</td>\n",
       "      <td>0</td>\n",
       "      <td>Park Avenue  between E 135th St and E 138th St...</td>\n",
       "      <td>POINT (-73.929918 40.812311)</td>\n",
       "    </tr>\n",
       "  </tbody>\n",
       "</table>\n",
       "</div>"
      ],
      "text/plain": [
       "   relief_stand_idx       date  car_usage  time_usage_hrs  Avg_hrs/car  RS_ID  \\\n",
       "0                 0 2015-01-01         78      262.999167     3.371784      0   \n",
       "1                 0 2015-01-02        101      226.645278     2.244013      0   \n",
       "2                 0 2015-01-03         69      238.721111     3.459726      0   \n",
       "3                 0 2015-01-04         77      216.010556     2.805332      0   \n",
       "4                 0 2015-01-05         84      169.230278     2.014646      0   \n",
       "\n",
       "                                            Location  \\\n",
       "0  Park Avenue  between E 135th St and E 138th St...   \n",
       "1  Park Avenue  between E 135th St and E 138th St...   \n",
       "2  Park Avenue  between E 135th St and E 138th St...   \n",
       "3  Park Avenue  between E 135th St and E 138th St...   \n",
       "4  Park Avenue  between E 135th St and E 138th St...   \n",
       "\n",
       "                       geometry  \n",
       "0  POINT (-73.929918 40.812311)  \n",
       "1  POINT (-73.929918 40.812311)  \n",
       "2  POINT (-73.929918 40.812311)  \n",
       "3  POINT (-73.929918 40.812311)  \n",
       "4  POINT (-73.929918 40.812311)  "
      ]
     },
     "execution_count": 21,
     "metadata": {},
     "output_type": "execute_result"
    }
   ],
   "source": [
    "usage_relief.head()"
   ]
  },
  {
   "cell_type": "code",
   "execution_count": 103,
   "metadata": {
    "collapsed": true
   },
   "outputs": [],
   "source": [
    "usage_relief.to_csv('./usage_with_date_23July.csv')"
   ]
  },
  {
   "cell_type": "markdown",
   "metadata": {},
   "source": [
    "# Statistics of Usage"
   ]
  },
  {
   "cell_type": "code",
   "execution_count": 32,
   "metadata": {
    "collapsed": false
   },
   "outputs": [
    {
     "data": {
      "text/plain": [
       "time_usage_hrs    1166.629202\n",
       "car_usage          549.561644\n",
       "dtype: float64"
      ]
     },
     "execution_count": 32,
     "metadata": {},
     "output_type": "execute_result"
    }
   ],
   "source": [
    "usage_relief.groupby('date').agg({'car_usage':'sum',  'time_usage_hrs':'sum'}).mean()"
   ]
  },
  {
   "cell_type": "code",
   "execution_count": 37,
   "metadata": {
    "collapsed": false
   },
   "outputs": [
    {
     "data": {
      "text/plain": [
       "571.8013505758498"
      ]
     },
     "execution_count": 37,
     "metadata": {},
     "output_type": "execute_result"
    }
   ],
   "source": [
    "usage_relief_means.car_usage.sum()"
   ]
  },
  {
   "cell_type": "code",
   "execution_count": 38,
   "metadata": {
    "collapsed": false
   },
   "outputs": [
    {
     "data": {
      "text/plain": [
       "400.1372497365649"
      ]
     },
     "execution_count": 38,
     "metadata": {},
     "output_type": "execute_result"
    }
   ],
   "source": [
    "usage_relief_means[:10].car_usage.sum()"
   ]
  },
  {
   "cell_type": "code",
   "execution_count": 39,
   "metadata": {
    "collapsed": false
   },
   "outputs": [
    {
     "data": {
      "text/plain": [
       "0.6995452955578875"
      ]
     },
     "execution_count": 39,
     "metadata": {},
     "output_type": "execute_result"
    }
   ],
   "source": [
    "400/571.8"
   ]
  },
  {
   "cell_type": "code",
   "execution_count": 40,
   "metadata": {
    "collapsed": false
   },
   "outputs": [
    {
     "data": {
      "text/plain": [
       "336.1452054794521"
      ]
     },
     "execution_count": 40,
     "metadata": {},
     "output_type": "execute_result"
    }
   ],
   "source": [
    "usage_relief_means[:6].car_usage.sum()"
   ]
  },
  {
   "cell_type": "code",
   "execution_count": 41,
   "metadata": {
    "collapsed": false
   },
   "outputs": [
    {
     "data": {
      "text/plain": [
       "0.6114649681528662"
      ]
     },
     "execution_count": 41,
     "metadata": {},
     "output_type": "execute_result"
    }
   ],
   "source": [
    "336/549.5"
   ]
  },
  {
   "cell_type": "code",
   "execution_count": null,
   "metadata": {
    "collapsed": true
   },
   "outputs": [],
   "source": []
  },
  {
   "cell_type": "code",
   "execution_count": 42,
   "metadata": {
    "collapsed": false
   },
   "outputs": [
    {
     "data": {
      "text/html": [
       "<div>\n",
       "<table border=\"1\" class=\"dataframe\">\n",
       "  <thead>\n",
       "    <tr style=\"text-align: right;\">\n",
       "      <th></th>\n",
       "      <th>relief_stand_idx</th>\n",
       "      <th>date</th>\n",
       "      <th>car_usage</th>\n",
       "      <th>time_usage_hrs</th>\n",
       "      <th>Avg_hrs/car</th>\n",
       "      <th>RS_ID</th>\n",
       "      <th>Location</th>\n",
       "      <th>geometry</th>\n",
       "    </tr>\n",
       "  </thead>\n",
       "  <tbody>\n",
       "    <tr>\n",
       "      <th>0</th>\n",
       "      <td>0</td>\n",
       "      <td>2015-01-01</td>\n",
       "      <td>78</td>\n",
       "      <td>262.999167</td>\n",
       "      <td>3.371784</td>\n",
       "      <td>0</td>\n",
       "      <td>Park Avenue  between E 135th St and E 138th St...</td>\n",
       "      <td>POINT (-73.929918 40.812311)</td>\n",
       "    </tr>\n",
       "    <tr>\n",
       "      <th>1</th>\n",
       "      <td>0</td>\n",
       "      <td>2015-01-02</td>\n",
       "      <td>101</td>\n",
       "      <td>226.645278</td>\n",
       "      <td>2.244013</td>\n",
       "      <td>0</td>\n",
       "      <td>Park Avenue  between E 135th St and E 138th St...</td>\n",
       "      <td>POINT (-73.929918 40.812311)</td>\n",
       "    </tr>\n",
       "    <tr>\n",
       "      <th>2</th>\n",
       "      <td>0</td>\n",
       "      <td>2015-01-03</td>\n",
       "      <td>69</td>\n",
       "      <td>238.721111</td>\n",
       "      <td>3.459726</td>\n",
       "      <td>0</td>\n",
       "      <td>Park Avenue  between E 135th St and E 138th St...</td>\n",
       "      <td>POINT (-73.929918 40.812311)</td>\n",
       "    </tr>\n",
       "    <tr>\n",
       "      <th>3</th>\n",
       "      <td>0</td>\n",
       "      <td>2015-01-04</td>\n",
       "      <td>77</td>\n",
       "      <td>216.010556</td>\n",
       "      <td>2.805332</td>\n",
       "      <td>0</td>\n",
       "      <td>Park Avenue  between E 135th St and E 138th St...</td>\n",
       "      <td>POINT (-73.929918 40.812311)</td>\n",
       "    </tr>\n",
       "    <tr>\n",
       "      <th>4</th>\n",
       "      <td>0</td>\n",
       "      <td>2015-01-05</td>\n",
       "      <td>84</td>\n",
       "      <td>169.230278</td>\n",
       "      <td>2.014646</td>\n",
       "      <td>0</td>\n",
       "      <td>Park Avenue  between E 135th St and E 138th St...</td>\n",
       "      <td>POINT (-73.929918 40.812311)</td>\n",
       "    </tr>\n",
       "    <tr>\n",
       "      <th>5</th>\n",
       "      <td>0</td>\n",
       "      <td>2015-01-06</td>\n",
       "      <td>96</td>\n",
       "      <td>248.690278</td>\n",
       "      <td>2.590524</td>\n",
       "      <td>0</td>\n",
       "      <td>Park Avenue  between E 135th St and E 138th St...</td>\n",
       "      <td>POINT (-73.929918 40.812311)</td>\n",
       "    </tr>\n",
       "    <tr>\n",
       "      <th>6</th>\n",
       "      <td>0</td>\n",
       "      <td>2015-01-07</td>\n",
       "      <td>88</td>\n",
       "      <td>167.647778</td>\n",
       "      <td>1.905088</td>\n",
       "      <td>0</td>\n",
       "      <td>Park Avenue  between E 135th St and E 138th St...</td>\n",
       "      <td>POINT (-73.929918 40.812311)</td>\n",
       "    </tr>\n",
       "    <tr>\n",
       "      <th>7</th>\n",
       "      <td>0</td>\n",
       "      <td>2015-01-08</td>\n",
       "      <td>96</td>\n",
       "      <td>202.828611</td>\n",
       "      <td>2.112798</td>\n",
       "      <td>0</td>\n",
       "      <td>Park Avenue  between E 135th St and E 138th St...</td>\n",
       "      <td>POINT (-73.929918 40.812311)</td>\n",
       "    </tr>\n",
       "    <tr>\n",
       "      <th>8</th>\n",
       "      <td>0</td>\n",
       "      <td>2015-01-09</td>\n",
       "      <td>86</td>\n",
       "      <td>260.494167</td>\n",
       "      <td>3.029002</td>\n",
       "      <td>0</td>\n",
       "      <td>Park Avenue  between E 135th St and E 138th St...</td>\n",
       "      <td>POINT (-73.929918 40.812311)</td>\n",
       "    </tr>\n",
       "    <tr>\n",
       "      <th>9</th>\n",
       "      <td>0</td>\n",
       "      <td>2015-01-10</td>\n",
       "      <td>76</td>\n",
       "      <td>175.779444</td>\n",
       "      <td>2.312887</td>\n",
       "      <td>0</td>\n",
       "      <td>Park Avenue  between E 135th St and E 138th St...</td>\n",
       "      <td>POINT (-73.929918 40.812311)</td>\n",
       "    </tr>\n",
       "    <tr>\n",
       "      <th>10</th>\n",
       "      <td>0</td>\n",
       "      <td>2015-01-11</td>\n",
       "      <td>75</td>\n",
       "      <td>176.017778</td>\n",
       "      <td>2.346904</td>\n",
       "      <td>0</td>\n",
       "      <td>Park Avenue  between E 135th St and E 138th St...</td>\n",
       "      <td>POINT (-73.929918 40.812311)</td>\n",
       "    </tr>\n",
       "    <tr>\n",
       "      <th>11</th>\n",
       "      <td>0</td>\n",
       "      <td>2015-01-12</td>\n",
       "      <td>95</td>\n",
       "      <td>210.114167</td>\n",
       "      <td>2.211728</td>\n",
       "      <td>0</td>\n",
       "      <td>Park Avenue  between E 135th St and E 138th St...</td>\n",
       "      <td>POINT (-73.929918 40.812311)</td>\n",
       "    </tr>\n",
       "    <tr>\n",
       "      <th>12</th>\n",
       "      <td>0</td>\n",
       "      <td>2015-01-13</td>\n",
       "      <td>88</td>\n",
       "      <td>178.250000</td>\n",
       "      <td>2.025568</td>\n",
       "      <td>0</td>\n",
       "      <td>Park Avenue  between E 135th St and E 138th St...</td>\n",
       "      <td>POINT (-73.929918 40.812311)</td>\n",
       "    </tr>\n",
       "    <tr>\n",
       "      <th>13</th>\n",
       "      <td>0</td>\n",
       "      <td>2015-01-14</td>\n",
       "      <td>86</td>\n",
       "      <td>183.240833</td>\n",
       "      <td>2.130707</td>\n",
       "      <td>0</td>\n",
       "      <td>Park Avenue  between E 135th St and E 138th St...</td>\n",
       "      <td>POINT (-73.929918 40.812311)</td>\n",
       "    </tr>\n",
       "    <tr>\n",
       "      <th>14</th>\n",
       "      <td>0</td>\n",
       "      <td>2015-01-15</td>\n",
       "      <td>93</td>\n",
       "      <td>167.071944</td>\n",
       "      <td>1.796473</td>\n",
       "      <td>0</td>\n",
       "      <td>Park Avenue  between E 135th St and E 138th St...</td>\n",
       "      <td>POINT (-73.929918 40.812311)</td>\n",
       "    </tr>\n",
       "    <tr>\n",
       "      <th>15</th>\n",
       "      <td>0</td>\n",
       "      <td>2015-01-16</td>\n",
       "      <td>98</td>\n",
       "      <td>197.470278</td>\n",
       "      <td>2.015003</td>\n",
       "      <td>0</td>\n",
       "      <td>Park Avenue  between E 135th St and E 138th St...</td>\n",
       "      <td>POINT (-73.929918 40.812311)</td>\n",
       "    </tr>\n",
       "    <tr>\n",
       "      <th>16</th>\n",
       "      <td>0</td>\n",
       "      <td>2015-01-17</td>\n",
       "      <td>77</td>\n",
       "      <td>170.315278</td>\n",
       "      <td>2.211887</td>\n",
       "      <td>0</td>\n",
       "      <td>Park Avenue  between E 135th St and E 138th St...</td>\n",
       "      <td>POINT (-73.929918 40.812311)</td>\n",
       "    </tr>\n",
       "    <tr>\n",
       "      <th>17</th>\n",
       "      <td>0</td>\n",
       "      <td>2015-01-18</td>\n",
       "      <td>54</td>\n",
       "      <td>122.840278</td>\n",
       "      <td>2.274820</td>\n",
       "      <td>0</td>\n",
       "      <td>Park Avenue  between E 135th St and E 138th St...</td>\n",
       "      <td>POINT (-73.929918 40.812311)</td>\n",
       "    </tr>\n",
       "    <tr>\n",
       "      <th>18</th>\n",
       "      <td>0</td>\n",
       "      <td>2015-01-19</td>\n",
       "      <td>87</td>\n",
       "      <td>193.217222</td>\n",
       "      <td>2.220888</td>\n",
       "      <td>0</td>\n",
       "      <td>Park Avenue  between E 135th St and E 138th St...</td>\n",
       "      <td>POINT (-73.929918 40.812311)</td>\n",
       "    </tr>\n",
       "    <tr>\n",
       "      <th>19</th>\n",
       "      <td>0</td>\n",
       "      <td>2015-01-20</td>\n",
       "      <td>87</td>\n",
       "      <td>216.546389</td>\n",
       "      <td>2.489039</td>\n",
       "      <td>0</td>\n",
       "      <td>Park Avenue  between E 135th St and E 138th St...</td>\n",
       "      <td>POINT (-73.929918 40.812311)</td>\n",
       "    </tr>\n",
       "    <tr>\n",
       "      <th>20</th>\n",
       "      <td>0</td>\n",
       "      <td>2015-01-21</td>\n",
       "      <td>95</td>\n",
       "      <td>192.994444</td>\n",
       "      <td>2.031520</td>\n",
       "      <td>0</td>\n",
       "      <td>Park Avenue  between E 135th St and E 138th St...</td>\n",
       "      <td>POINT (-73.929918 40.812311)</td>\n",
       "    </tr>\n",
       "    <tr>\n",
       "      <th>21</th>\n",
       "      <td>0</td>\n",
       "      <td>2015-01-22</td>\n",
       "      <td>103</td>\n",
       "      <td>231.980000</td>\n",
       "      <td>2.252233</td>\n",
       "      <td>0</td>\n",
       "      <td>Park Avenue  between E 135th St and E 138th St...</td>\n",
       "      <td>POINT (-73.929918 40.812311)</td>\n",
       "    </tr>\n",
       "    <tr>\n",
       "      <th>22</th>\n",
       "      <td>0</td>\n",
       "      <td>2015-01-23</td>\n",
       "      <td>81</td>\n",
       "      <td>234.851389</td>\n",
       "      <td>2.899400</td>\n",
       "      <td>0</td>\n",
       "      <td>Park Avenue  between E 135th St and E 138th St...</td>\n",
       "      <td>POINT (-73.929918 40.812311)</td>\n",
       "    </tr>\n",
       "    <tr>\n",
       "      <th>23</th>\n",
       "      <td>0</td>\n",
       "      <td>2015-01-24</td>\n",
       "      <td>77</td>\n",
       "      <td>187.044167</td>\n",
       "      <td>2.429145</td>\n",
       "      <td>0</td>\n",
       "      <td>Park Avenue  between E 135th St and E 138th St...</td>\n",
       "      <td>POINT (-73.929918 40.812311)</td>\n",
       "    </tr>\n",
       "    <tr>\n",
       "      <th>24</th>\n",
       "      <td>0</td>\n",
       "      <td>2015-01-25</td>\n",
       "      <td>70</td>\n",
       "      <td>123.343889</td>\n",
       "      <td>1.762056</td>\n",
       "      <td>0</td>\n",
       "      <td>Park Avenue  between E 135th St and E 138th St...</td>\n",
       "      <td>POINT (-73.929918 40.812311)</td>\n",
       "    </tr>\n",
       "    <tr>\n",
       "      <th>25</th>\n",
       "      <td>0</td>\n",
       "      <td>2015-01-26</td>\n",
       "      <td>96</td>\n",
       "      <td>234.181667</td>\n",
       "      <td>2.439392</td>\n",
       "      <td>0</td>\n",
       "      <td>Park Avenue  between E 135th St and E 138th St...</td>\n",
       "      <td>POINT (-73.929918 40.812311)</td>\n",
       "    </tr>\n",
       "    <tr>\n",
       "      <th>26</th>\n",
       "      <td>0</td>\n",
       "      <td>2015-01-27</td>\n",
       "      <td>98</td>\n",
       "      <td>341.693611</td>\n",
       "      <td>3.486670</td>\n",
       "      <td>0</td>\n",
       "      <td>Park Avenue  between E 135th St and E 138th St...</td>\n",
       "      <td>POINT (-73.929918 40.812311)</td>\n",
       "    </tr>\n",
       "    <tr>\n",
       "      <th>27</th>\n",
       "      <td>0</td>\n",
       "      <td>2015-01-28</td>\n",
       "      <td>108</td>\n",
       "      <td>226.126667</td>\n",
       "      <td>2.093765</td>\n",
       "      <td>0</td>\n",
       "      <td>Park Avenue  between E 135th St and E 138th St...</td>\n",
       "      <td>POINT (-73.929918 40.812311)</td>\n",
       "    </tr>\n",
       "    <tr>\n",
       "      <th>28</th>\n",
       "      <td>0</td>\n",
       "      <td>2015-01-29</td>\n",
       "      <td>94</td>\n",
       "      <td>209.619444</td>\n",
       "      <td>2.229994</td>\n",
       "      <td>0</td>\n",
       "      <td>Park Avenue  between E 135th St and E 138th St...</td>\n",
       "      <td>POINT (-73.929918 40.812311)</td>\n",
       "    </tr>\n",
       "    <tr>\n",
       "      <th>29</th>\n",
       "      <td>0</td>\n",
       "      <td>2015-01-30</td>\n",
       "      <td>95</td>\n",
       "      <td>219.410000</td>\n",
       "      <td>2.309579</td>\n",
       "      <td>0</td>\n",
       "      <td>Park Avenue  between E 135th St and E 138th St...</td>\n",
       "      <td>POINT (-73.929918 40.812311)</td>\n",
       "    </tr>\n",
       "    <tr>\n",
       "      <th>...</th>\n",
       "      <td>...</td>\n",
       "      <td>...</td>\n",
       "      <td>...</td>\n",
       "      <td>...</td>\n",
       "      <td>...</td>\n",
       "      <td>...</td>\n",
       "      <td>...</td>\n",
       "      <td>...</td>\n",
       "    </tr>\n",
       "    <tr>\n",
       "      <th>16553</th>\n",
       "      <td>59</td>\n",
       "      <td>2015-10-29</td>\n",
       "      <td>1</td>\n",
       "      <td>1.860278</td>\n",
       "      <td>1.860278</td>\n",
       "      <td>59</td>\n",
       "      <td>West 39th Street between Eighth Avenue and Nin...</td>\n",
       "      <td>POINT (-73.9925626332 40.756005287)</td>\n",
       "    </tr>\n",
       "    <tr>\n",
       "      <th>16554</th>\n",
       "      <td>59</td>\n",
       "      <td>2015-10-30</td>\n",
       "      <td>1</td>\n",
       "      <td>0.920556</td>\n",
       "      <td>0.920556</td>\n",
       "      <td>59</td>\n",
       "      <td>West 39th Street between Eighth Avenue and Nin...</td>\n",
       "      <td>POINT (-73.9925626332 40.756005287)</td>\n",
       "    </tr>\n",
       "    <tr>\n",
       "      <th>16555</th>\n",
       "      <td>59</td>\n",
       "      <td>2015-11-01</td>\n",
       "      <td>2</td>\n",
       "      <td>3.346389</td>\n",
       "      <td>1.673194</td>\n",
       "      <td>59</td>\n",
       "      <td>West 39th Street between Eighth Avenue and Nin...</td>\n",
       "      <td>POINT (-73.9925626332 40.756005287)</td>\n",
       "    </tr>\n",
       "    <tr>\n",
       "      <th>16556</th>\n",
       "      <td>59</td>\n",
       "      <td>2015-11-04</td>\n",
       "      <td>2</td>\n",
       "      <td>8.195556</td>\n",
       "      <td>4.097778</td>\n",
       "      <td>59</td>\n",
       "      <td>West 39th Street between Eighth Avenue and Nin...</td>\n",
       "      <td>POINT (-73.9925626332 40.756005287)</td>\n",
       "    </tr>\n",
       "    <tr>\n",
       "      <th>16557</th>\n",
       "      <td>59</td>\n",
       "      <td>2015-11-05</td>\n",
       "      <td>1</td>\n",
       "      <td>0.600556</td>\n",
       "      <td>0.600556</td>\n",
       "      <td>59</td>\n",
       "      <td>West 39th Street between Eighth Avenue and Nin...</td>\n",
       "      <td>POINT (-73.9925626332 40.756005287)</td>\n",
       "    </tr>\n",
       "    <tr>\n",
       "      <th>16558</th>\n",
       "      <td>59</td>\n",
       "      <td>2015-11-08</td>\n",
       "      <td>2</td>\n",
       "      <td>1.756944</td>\n",
       "      <td>0.878472</td>\n",
       "      <td>59</td>\n",
       "      <td>West 39th Street between Eighth Avenue and Nin...</td>\n",
       "      <td>POINT (-73.9925626332 40.756005287)</td>\n",
       "    </tr>\n",
       "    <tr>\n",
       "      <th>16559</th>\n",
       "      <td>59</td>\n",
       "      <td>2015-11-12</td>\n",
       "      <td>2</td>\n",
       "      <td>4.606667</td>\n",
       "      <td>2.303333</td>\n",
       "      <td>59</td>\n",
       "      <td>West 39th Street between Eighth Avenue and Nin...</td>\n",
       "      <td>POINT (-73.9925626332 40.756005287)</td>\n",
       "    </tr>\n",
       "    <tr>\n",
       "      <th>16560</th>\n",
       "      <td>59</td>\n",
       "      <td>2015-11-13</td>\n",
       "      <td>1</td>\n",
       "      <td>0.989444</td>\n",
       "      <td>0.989444</td>\n",
       "      <td>59</td>\n",
       "      <td>West 39th Street between Eighth Avenue and Nin...</td>\n",
       "      <td>POINT (-73.9925626332 40.756005287)</td>\n",
       "    </tr>\n",
       "    <tr>\n",
       "      <th>16561</th>\n",
       "      <td>59</td>\n",
       "      <td>2015-11-23</td>\n",
       "      <td>1</td>\n",
       "      <td>0.500278</td>\n",
       "      <td>0.500278</td>\n",
       "      <td>59</td>\n",
       "      <td>West 39th Street between Eighth Avenue and Nin...</td>\n",
       "      <td>POINT (-73.9925626332 40.756005287)</td>\n",
       "    </tr>\n",
       "    <tr>\n",
       "      <th>16562</th>\n",
       "      <td>59</td>\n",
       "      <td>2015-11-25</td>\n",
       "      <td>2</td>\n",
       "      <td>7.038333</td>\n",
       "      <td>3.519167</td>\n",
       "      <td>59</td>\n",
       "      <td>West 39th Street between Eighth Avenue and Nin...</td>\n",
       "      <td>POINT (-73.9925626332 40.756005287)</td>\n",
       "    </tr>\n",
       "    <tr>\n",
       "      <th>16563</th>\n",
       "      <td>59</td>\n",
       "      <td>2015-11-27</td>\n",
       "      <td>1</td>\n",
       "      <td>1.003056</td>\n",
       "      <td>1.003056</td>\n",
       "      <td>59</td>\n",
       "      <td>West 39th Street between Eighth Avenue and Nin...</td>\n",
       "      <td>POINT (-73.9925626332 40.756005287)</td>\n",
       "    </tr>\n",
       "    <tr>\n",
       "      <th>16564</th>\n",
       "      <td>59</td>\n",
       "      <td>2015-11-28</td>\n",
       "      <td>1</td>\n",
       "      <td>0.666944</td>\n",
       "      <td>0.666944</td>\n",
       "      <td>59</td>\n",
       "      <td>West 39th Street between Eighth Avenue and Nin...</td>\n",
       "      <td>POINT (-73.9925626332 40.756005287)</td>\n",
       "    </tr>\n",
       "    <tr>\n",
       "      <th>16565</th>\n",
       "      <td>59</td>\n",
       "      <td>2015-11-29</td>\n",
       "      <td>1</td>\n",
       "      <td>1.344444</td>\n",
       "      <td>1.344444</td>\n",
       "      <td>59</td>\n",
       "      <td>West 39th Street between Eighth Avenue and Nin...</td>\n",
       "      <td>POINT (-73.9925626332 40.756005287)</td>\n",
       "    </tr>\n",
       "    <tr>\n",
       "      <th>16566</th>\n",
       "      <td>59</td>\n",
       "      <td>2015-12-01</td>\n",
       "      <td>3</td>\n",
       "      <td>25.263056</td>\n",
       "      <td>8.421019</td>\n",
       "      <td>59</td>\n",
       "      <td>West 39th Street between Eighth Avenue and Nin...</td>\n",
       "      <td>POINT (-73.9925626332 40.756005287)</td>\n",
       "    </tr>\n",
       "    <tr>\n",
       "      <th>16567</th>\n",
       "      <td>59</td>\n",
       "      <td>2015-12-03</td>\n",
       "      <td>1</td>\n",
       "      <td>0.750000</td>\n",
       "      <td>0.750000</td>\n",
       "      <td>59</td>\n",
       "      <td>West 39th Street between Eighth Avenue and Nin...</td>\n",
       "      <td>POINT (-73.9925626332 40.756005287)</td>\n",
       "    </tr>\n",
       "    <tr>\n",
       "      <th>16568</th>\n",
       "      <td>59</td>\n",
       "      <td>2015-12-06</td>\n",
       "      <td>1</td>\n",
       "      <td>2.963611</td>\n",
       "      <td>2.963611</td>\n",
       "      <td>59</td>\n",
       "      <td>West 39th Street between Eighth Avenue and Nin...</td>\n",
       "      <td>POINT (-73.9925626332 40.756005287)</td>\n",
       "    </tr>\n",
       "    <tr>\n",
       "      <th>16569</th>\n",
       "      <td>59</td>\n",
       "      <td>2015-12-10</td>\n",
       "      <td>1</td>\n",
       "      <td>0.921667</td>\n",
       "      <td>0.921667</td>\n",
       "      <td>59</td>\n",
       "      <td>West 39th Street between Eighth Avenue and Nin...</td>\n",
       "      <td>POINT (-73.9925626332 40.756005287)</td>\n",
       "    </tr>\n",
       "    <tr>\n",
       "      <th>16570</th>\n",
       "      <td>59</td>\n",
       "      <td>2015-12-11</td>\n",
       "      <td>2</td>\n",
       "      <td>3.196389</td>\n",
       "      <td>1.598194</td>\n",
       "      <td>59</td>\n",
       "      <td>West 39th Street between Eighth Avenue and Nin...</td>\n",
       "      <td>POINT (-73.9925626332 40.756005287)</td>\n",
       "    </tr>\n",
       "    <tr>\n",
       "      <th>16571</th>\n",
       "      <td>59</td>\n",
       "      <td>2015-12-13</td>\n",
       "      <td>3</td>\n",
       "      <td>2.239167</td>\n",
       "      <td>0.746389</td>\n",
       "      <td>59</td>\n",
       "      <td>West 39th Street between Eighth Avenue and Nin...</td>\n",
       "      <td>POINT (-73.9925626332 40.756005287)</td>\n",
       "    </tr>\n",
       "    <tr>\n",
       "      <th>16572</th>\n",
       "      <td>59</td>\n",
       "      <td>2015-12-14</td>\n",
       "      <td>3</td>\n",
       "      <td>8.808333</td>\n",
       "      <td>2.936111</td>\n",
       "      <td>59</td>\n",
       "      <td>West 39th Street between Eighth Avenue and Nin...</td>\n",
       "      <td>POINT (-73.9925626332 40.756005287)</td>\n",
       "    </tr>\n",
       "    <tr>\n",
       "      <th>16573</th>\n",
       "      <td>59</td>\n",
       "      <td>2015-12-17</td>\n",
       "      <td>1</td>\n",
       "      <td>2.919722</td>\n",
       "      <td>2.919722</td>\n",
       "      <td>59</td>\n",
       "      <td>West 39th Street between Eighth Avenue and Nin...</td>\n",
       "      <td>POINT (-73.9925626332 40.756005287)</td>\n",
       "    </tr>\n",
       "    <tr>\n",
       "      <th>16574</th>\n",
       "      <td>59</td>\n",
       "      <td>2015-12-18</td>\n",
       "      <td>1</td>\n",
       "      <td>2.803333</td>\n",
       "      <td>2.803333</td>\n",
       "      <td>59</td>\n",
       "      <td>West 39th Street between Eighth Avenue and Nin...</td>\n",
       "      <td>POINT (-73.9925626332 40.756005287)</td>\n",
       "    </tr>\n",
       "    <tr>\n",
       "      <th>16575</th>\n",
       "      <td>59</td>\n",
       "      <td>2015-12-20</td>\n",
       "      <td>1</td>\n",
       "      <td>0.993333</td>\n",
       "      <td>0.993333</td>\n",
       "      <td>59</td>\n",
       "      <td>West 39th Street between Eighth Avenue and Nin...</td>\n",
       "      <td>POINT (-73.9925626332 40.756005287)</td>\n",
       "    </tr>\n",
       "    <tr>\n",
       "      <th>16576</th>\n",
       "      <td>59</td>\n",
       "      <td>2015-12-22</td>\n",
       "      <td>1</td>\n",
       "      <td>2.092500</td>\n",
       "      <td>2.092500</td>\n",
       "      <td>59</td>\n",
       "      <td>West 39th Street between Eighth Avenue and Nin...</td>\n",
       "      <td>POINT (-73.9925626332 40.756005287)</td>\n",
       "    </tr>\n",
       "    <tr>\n",
       "      <th>16577</th>\n",
       "      <td>59</td>\n",
       "      <td>2015-12-24</td>\n",
       "      <td>4</td>\n",
       "      <td>7.322778</td>\n",
       "      <td>1.830694</td>\n",
       "      <td>59</td>\n",
       "      <td>West 39th Street between Eighth Avenue and Nin...</td>\n",
       "      <td>POINT (-73.9925626332 40.756005287)</td>\n",
       "    </tr>\n",
       "    <tr>\n",
       "      <th>16578</th>\n",
       "      <td>59</td>\n",
       "      <td>2015-12-25</td>\n",
       "      <td>3</td>\n",
       "      <td>2.496111</td>\n",
       "      <td>0.832037</td>\n",
       "      <td>59</td>\n",
       "      <td>West 39th Street between Eighth Avenue and Nin...</td>\n",
       "      <td>POINT (-73.9925626332 40.756005287)</td>\n",
       "    </tr>\n",
       "    <tr>\n",
       "      <th>16579</th>\n",
       "      <td>59</td>\n",
       "      <td>2015-12-26</td>\n",
       "      <td>1</td>\n",
       "      <td>1.385556</td>\n",
       "      <td>1.385556</td>\n",
       "      <td>59</td>\n",
       "      <td>West 39th Street between Eighth Avenue and Nin...</td>\n",
       "      <td>POINT (-73.9925626332 40.756005287)</td>\n",
       "    </tr>\n",
       "    <tr>\n",
       "      <th>16580</th>\n",
       "      <td>59</td>\n",
       "      <td>2015-12-27</td>\n",
       "      <td>1</td>\n",
       "      <td>4.166667</td>\n",
       "      <td>4.166667</td>\n",
       "      <td>59</td>\n",
       "      <td>West 39th Street between Eighth Avenue and Nin...</td>\n",
       "      <td>POINT (-73.9925626332 40.756005287)</td>\n",
       "    </tr>\n",
       "    <tr>\n",
       "      <th>16581</th>\n",
       "      <td>59</td>\n",
       "      <td>2015-12-29</td>\n",
       "      <td>2</td>\n",
       "      <td>3.140833</td>\n",
       "      <td>1.570417</td>\n",
       "      <td>59</td>\n",
       "      <td>West 39th Street between Eighth Avenue and Nin...</td>\n",
       "      <td>POINT (-73.9925626332 40.756005287)</td>\n",
       "    </tr>\n",
       "    <tr>\n",
       "      <th>16582</th>\n",
       "      <td>59</td>\n",
       "      <td>2015-12-30</td>\n",
       "      <td>2</td>\n",
       "      <td>1.672500</td>\n",
       "      <td>0.836250</td>\n",
       "      <td>59</td>\n",
       "      <td>West 39th Street between Eighth Avenue and Nin...</td>\n",
       "      <td>POINT (-73.9925626332 40.756005287)</td>\n",
       "    </tr>\n",
       "  </tbody>\n",
       "</table>\n",
       "<p>16583 rows × 8 columns</p>\n",
       "</div>"
      ],
      "text/plain": [
       "       relief_stand_idx       date  car_usage  time_usage_hrs  Avg_hrs/car  \\\n",
       "0                     0 2015-01-01         78      262.999167     3.371784   \n",
       "1                     0 2015-01-02        101      226.645278     2.244013   \n",
       "2                     0 2015-01-03         69      238.721111     3.459726   \n",
       "3                     0 2015-01-04         77      216.010556     2.805332   \n",
       "4                     0 2015-01-05         84      169.230278     2.014646   \n",
       "5                     0 2015-01-06         96      248.690278     2.590524   \n",
       "6                     0 2015-01-07         88      167.647778     1.905088   \n",
       "7                     0 2015-01-08         96      202.828611     2.112798   \n",
       "8                     0 2015-01-09         86      260.494167     3.029002   \n",
       "9                     0 2015-01-10         76      175.779444     2.312887   \n",
       "10                    0 2015-01-11         75      176.017778     2.346904   \n",
       "11                    0 2015-01-12         95      210.114167     2.211728   \n",
       "12                    0 2015-01-13         88      178.250000     2.025568   \n",
       "13                    0 2015-01-14         86      183.240833     2.130707   \n",
       "14                    0 2015-01-15         93      167.071944     1.796473   \n",
       "15                    0 2015-01-16         98      197.470278     2.015003   \n",
       "16                    0 2015-01-17         77      170.315278     2.211887   \n",
       "17                    0 2015-01-18         54      122.840278     2.274820   \n",
       "18                    0 2015-01-19         87      193.217222     2.220888   \n",
       "19                    0 2015-01-20         87      216.546389     2.489039   \n",
       "20                    0 2015-01-21         95      192.994444     2.031520   \n",
       "21                    0 2015-01-22        103      231.980000     2.252233   \n",
       "22                    0 2015-01-23         81      234.851389     2.899400   \n",
       "23                    0 2015-01-24         77      187.044167     2.429145   \n",
       "24                    0 2015-01-25         70      123.343889     1.762056   \n",
       "25                    0 2015-01-26         96      234.181667     2.439392   \n",
       "26                    0 2015-01-27         98      341.693611     3.486670   \n",
       "27                    0 2015-01-28        108      226.126667     2.093765   \n",
       "28                    0 2015-01-29         94      209.619444     2.229994   \n",
       "29                    0 2015-01-30         95      219.410000     2.309579   \n",
       "...                 ...        ...        ...             ...          ...   \n",
       "16553                59 2015-10-29          1        1.860278     1.860278   \n",
       "16554                59 2015-10-30          1        0.920556     0.920556   \n",
       "16555                59 2015-11-01          2        3.346389     1.673194   \n",
       "16556                59 2015-11-04          2        8.195556     4.097778   \n",
       "16557                59 2015-11-05          1        0.600556     0.600556   \n",
       "16558                59 2015-11-08          2        1.756944     0.878472   \n",
       "16559                59 2015-11-12          2        4.606667     2.303333   \n",
       "16560                59 2015-11-13          1        0.989444     0.989444   \n",
       "16561                59 2015-11-23          1        0.500278     0.500278   \n",
       "16562                59 2015-11-25          2        7.038333     3.519167   \n",
       "16563                59 2015-11-27          1        1.003056     1.003056   \n",
       "16564                59 2015-11-28          1        0.666944     0.666944   \n",
       "16565                59 2015-11-29          1        1.344444     1.344444   \n",
       "16566                59 2015-12-01          3       25.263056     8.421019   \n",
       "16567                59 2015-12-03          1        0.750000     0.750000   \n",
       "16568                59 2015-12-06          1        2.963611     2.963611   \n",
       "16569                59 2015-12-10          1        0.921667     0.921667   \n",
       "16570                59 2015-12-11          2        3.196389     1.598194   \n",
       "16571                59 2015-12-13          3        2.239167     0.746389   \n",
       "16572                59 2015-12-14          3        8.808333     2.936111   \n",
       "16573                59 2015-12-17          1        2.919722     2.919722   \n",
       "16574                59 2015-12-18          1        2.803333     2.803333   \n",
       "16575                59 2015-12-20          1        0.993333     0.993333   \n",
       "16576                59 2015-12-22          1        2.092500     2.092500   \n",
       "16577                59 2015-12-24          4        7.322778     1.830694   \n",
       "16578                59 2015-12-25          3        2.496111     0.832037   \n",
       "16579                59 2015-12-26          1        1.385556     1.385556   \n",
       "16580                59 2015-12-27          1        4.166667     4.166667   \n",
       "16581                59 2015-12-29          2        3.140833     1.570417   \n",
       "16582                59 2015-12-30          2        1.672500     0.836250   \n",
       "\n",
       "       RS_ID                                           Location  \\\n",
       "0          0  Park Avenue  between E 135th St and E 138th St...   \n",
       "1          0  Park Avenue  between E 135th St and E 138th St...   \n",
       "2          0  Park Avenue  between E 135th St and E 138th St...   \n",
       "3          0  Park Avenue  between E 135th St and E 138th St...   \n",
       "4          0  Park Avenue  between E 135th St and E 138th St...   \n",
       "5          0  Park Avenue  between E 135th St and E 138th St...   \n",
       "6          0  Park Avenue  between E 135th St and E 138th St...   \n",
       "7          0  Park Avenue  between E 135th St and E 138th St...   \n",
       "8          0  Park Avenue  between E 135th St and E 138th St...   \n",
       "9          0  Park Avenue  between E 135th St and E 138th St...   \n",
       "10         0  Park Avenue  between E 135th St and E 138th St...   \n",
       "11         0  Park Avenue  between E 135th St and E 138th St...   \n",
       "12         0  Park Avenue  between E 135th St and E 138th St...   \n",
       "13         0  Park Avenue  between E 135th St and E 138th St...   \n",
       "14         0  Park Avenue  between E 135th St and E 138th St...   \n",
       "15         0  Park Avenue  between E 135th St and E 138th St...   \n",
       "16         0  Park Avenue  between E 135th St and E 138th St...   \n",
       "17         0  Park Avenue  between E 135th St and E 138th St...   \n",
       "18         0  Park Avenue  between E 135th St and E 138th St...   \n",
       "19         0  Park Avenue  between E 135th St and E 138th St...   \n",
       "20         0  Park Avenue  between E 135th St and E 138th St...   \n",
       "21         0  Park Avenue  between E 135th St and E 138th St...   \n",
       "22         0  Park Avenue  between E 135th St and E 138th St...   \n",
       "23         0  Park Avenue  between E 135th St and E 138th St...   \n",
       "24         0  Park Avenue  between E 135th St and E 138th St...   \n",
       "25         0  Park Avenue  between E 135th St and E 138th St...   \n",
       "26         0  Park Avenue  between E 135th St and E 138th St...   \n",
       "27         0  Park Avenue  between E 135th St and E 138th St...   \n",
       "28         0  Park Avenue  between E 135th St and E 138th St...   \n",
       "29         0  Park Avenue  between E 135th St and E 138th St...   \n",
       "...      ...                                                ...   \n",
       "16553     59  West 39th Street between Eighth Avenue and Nin...   \n",
       "16554     59  West 39th Street between Eighth Avenue and Nin...   \n",
       "16555     59  West 39th Street between Eighth Avenue and Nin...   \n",
       "16556     59  West 39th Street between Eighth Avenue and Nin...   \n",
       "16557     59  West 39th Street between Eighth Avenue and Nin...   \n",
       "16558     59  West 39th Street between Eighth Avenue and Nin...   \n",
       "16559     59  West 39th Street between Eighth Avenue and Nin...   \n",
       "16560     59  West 39th Street between Eighth Avenue and Nin...   \n",
       "16561     59  West 39th Street between Eighth Avenue and Nin...   \n",
       "16562     59  West 39th Street between Eighth Avenue and Nin...   \n",
       "16563     59  West 39th Street between Eighth Avenue and Nin...   \n",
       "16564     59  West 39th Street between Eighth Avenue and Nin...   \n",
       "16565     59  West 39th Street between Eighth Avenue and Nin...   \n",
       "16566     59  West 39th Street between Eighth Avenue and Nin...   \n",
       "16567     59  West 39th Street between Eighth Avenue and Nin...   \n",
       "16568     59  West 39th Street between Eighth Avenue and Nin...   \n",
       "16569     59  West 39th Street between Eighth Avenue and Nin...   \n",
       "16570     59  West 39th Street between Eighth Avenue and Nin...   \n",
       "16571     59  West 39th Street between Eighth Avenue and Nin...   \n",
       "16572     59  West 39th Street between Eighth Avenue and Nin...   \n",
       "16573     59  West 39th Street between Eighth Avenue and Nin...   \n",
       "16574     59  West 39th Street between Eighth Avenue and Nin...   \n",
       "16575     59  West 39th Street between Eighth Avenue and Nin...   \n",
       "16576     59  West 39th Street between Eighth Avenue and Nin...   \n",
       "16577     59  West 39th Street between Eighth Avenue and Nin...   \n",
       "16578     59  West 39th Street between Eighth Avenue and Nin...   \n",
       "16579     59  West 39th Street between Eighth Avenue and Nin...   \n",
       "16580     59  West 39th Street between Eighth Avenue and Nin...   \n",
       "16581     59  West 39th Street between Eighth Avenue and Nin...   \n",
       "16582     59  West 39th Street between Eighth Avenue and Nin...   \n",
       "\n",
       "                                  geometry  \n",
       "0             POINT (-73.929918 40.812311)  \n",
       "1             POINT (-73.929918 40.812311)  \n",
       "2             POINT (-73.929918 40.812311)  \n",
       "3             POINT (-73.929918 40.812311)  \n",
       "4             POINT (-73.929918 40.812311)  \n",
       "5             POINT (-73.929918 40.812311)  \n",
       "6             POINT (-73.929918 40.812311)  \n",
       "7             POINT (-73.929918 40.812311)  \n",
       "8             POINT (-73.929918 40.812311)  \n",
       "9             POINT (-73.929918 40.812311)  \n",
       "10            POINT (-73.929918 40.812311)  \n",
       "11            POINT (-73.929918 40.812311)  \n",
       "12            POINT (-73.929918 40.812311)  \n",
       "13            POINT (-73.929918 40.812311)  \n",
       "14            POINT (-73.929918 40.812311)  \n",
       "15            POINT (-73.929918 40.812311)  \n",
       "16            POINT (-73.929918 40.812311)  \n",
       "17            POINT (-73.929918 40.812311)  \n",
       "18            POINT (-73.929918 40.812311)  \n",
       "19            POINT (-73.929918 40.812311)  \n",
       "20            POINT (-73.929918 40.812311)  \n",
       "21            POINT (-73.929918 40.812311)  \n",
       "22            POINT (-73.929918 40.812311)  \n",
       "23            POINT (-73.929918 40.812311)  \n",
       "24            POINT (-73.929918 40.812311)  \n",
       "25            POINT (-73.929918 40.812311)  \n",
       "26            POINT (-73.929918 40.812311)  \n",
       "27            POINT (-73.929918 40.812311)  \n",
       "28            POINT (-73.929918 40.812311)  \n",
       "29            POINT (-73.929918 40.812311)  \n",
       "...                                    ...  \n",
       "16553  POINT (-73.9925626332 40.756005287)  \n",
       "16554  POINT (-73.9925626332 40.756005287)  \n",
       "16555  POINT (-73.9925626332 40.756005287)  \n",
       "16556  POINT (-73.9925626332 40.756005287)  \n",
       "16557  POINT (-73.9925626332 40.756005287)  \n",
       "16558  POINT (-73.9925626332 40.756005287)  \n",
       "16559  POINT (-73.9925626332 40.756005287)  \n",
       "16560  POINT (-73.9925626332 40.756005287)  \n",
       "16561  POINT (-73.9925626332 40.756005287)  \n",
       "16562  POINT (-73.9925626332 40.756005287)  \n",
       "16563  POINT (-73.9925626332 40.756005287)  \n",
       "16564  POINT (-73.9925626332 40.756005287)  \n",
       "16565  POINT (-73.9925626332 40.756005287)  \n",
       "16566  POINT (-73.9925626332 40.756005287)  \n",
       "16567  POINT (-73.9925626332 40.756005287)  \n",
       "16568  POINT (-73.9925626332 40.756005287)  \n",
       "16569  POINT (-73.9925626332 40.756005287)  \n",
       "16570  POINT (-73.9925626332 40.756005287)  \n",
       "16571  POINT (-73.9925626332 40.756005287)  \n",
       "16572  POINT (-73.9925626332 40.756005287)  \n",
       "16573  POINT (-73.9925626332 40.756005287)  \n",
       "16574  POINT (-73.9925626332 40.756005287)  \n",
       "16575  POINT (-73.9925626332 40.756005287)  \n",
       "16576  POINT (-73.9925626332 40.756005287)  \n",
       "16577  POINT (-73.9925626332 40.756005287)  \n",
       "16578  POINT (-73.9925626332 40.756005287)  \n",
       "16579  POINT (-73.9925626332 40.756005287)  \n",
       "16580  POINT (-73.9925626332 40.756005287)  \n",
       "16581  POINT (-73.9925626332 40.756005287)  \n",
       "16582  POINT (-73.9925626332 40.756005287)  \n",
       "\n",
       "[16583 rows x 8 columns]"
      ]
     },
     "execution_count": 42,
     "metadata": {},
     "output_type": "execute_result"
    }
   ],
   "source": [
    "usage_relief.set_index('date').groupby(pd.TimeGrouper('W')).agg({'car_usage':'mean'})"
   ]
  },
  {
   "cell_type": "code",
   "execution_count": null,
   "metadata": {
    "collapsed": true
   },
   "outputs": [],
   "source": []
  },
  {
   "cell_type": "code",
   "execution_count": null,
   "metadata": {
    "collapsed": true
   },
   "outputs": [],
   "source": []
  },
  {
   "cell_type": "code",
   "execution_count": null,
   "metadata": {
    "collapsed": true
   },
   "outputs": [],
   "source": []
  },
  {
   "cell_type": "code",
   "execution_count": null,
   "metadata": {
    "collapsed": true
   },
   "outputs": [],
   "source": []
  },
  {
   "cell_type": "code",
   "execution_count": 23,
   "metadata": {
    "collapsed": true
   },
   "outputs": [],
   "source": [
    "usage_relief_median = usage_relief.groupby('relief_stand_idx').agg({'car_usage':'median','time_usage_hrs':'median', 'geometry':'first', 'Location':'first'})\n",
    "usage_relief_median.reset_index(inplace=True)"
   ]
  },
  {
   "cell_type": "code",
   "execution_count": 25,
   "metadata": {
    "collapsed": true
   },
   "outputs": [],
   "source": [
    "usage_relief_median = usage_relief_median.sort_values(by='car_usage', ascending=False)\n",
    "\n",
    "usage_relief_median.reset_index(inplace=True, drop=True)"
   ]
  },
  {
   "cell_type": "code",
   "execution_count": 27,
   "metadata": {
    "collapsed": false
   },
   "outputs": [],
   "source": [
    "usage_relief_means = usage_relief.groupby('relief_stand_idx').agg({'car_usage':'mean','time_usage_hrs':'mean', 'geometry':'first', 'Location':'first'})\n",
    "usage_relief_means.reset_index(inplace=True)"
   ]
  },
  {
   "cell_type": "code",
   "execution_count": 28,
   "metadata": {
    "collapsed": false
   },
   "outputs": [
    {
     "data": {
      "text/html": [
       "<div>\n",
       "<table border=\"1\" class=\"dataframe\">\n",
       "  <thead>\n",
       "    <tr style=\"text-align: right;\">\n",
       "      <th></th>\n",
       "      <th>relief_stand_idx</th>\n",
       "      <th>geometry</th>\n",
       "      <th>Location</th>\n",
       "      <th>time_usage_hrs</th>\n",
       "      <th>car_usage</th>\n",
       "    </tr>\n",
       "  </thead>\n",
       "  <tbody>\n",
       "    <tr>\n",
       "      <th>0</th>\n",
       "      <td>0</td>\n",
       "      <td>POINT (-73.929918 40.812311)</td>\n",
       "      <td>Park Avenue  between E 135th St and E 138th St...</td>\n",
       "      <td>170.228819</td>\n",
       "      <td>76.764384</td>\n",
       "    </tr>\n",
       "    <tr>\n",
       "      <th>1</th>\n",
       "      <td>1</td>\n",
       "      <td>POINT (-73.98652069390001 40.6731545147)</td>\n",
       "      <td>Fourth Avenue between Third St and Sixth St</td>\n",
       "      <td>74.487917</td>\n",
       "      <td>28.268493</td>\n",
       "    </tr>\n",
       "    <tr>\n",
       "      <th>2</th>\n",
       "      <td>2</td>\n",
       "      <td>POINT (-73.9602709752 40.7185812457)</td>\n",
       "      <td>North 6th Street between Berry St and Wythe St</td>\n",
       "      <td>1.469766</td>\n",
       "      <td>1.202247</td>\n",
       "    </tr>\n",
       "    <tr>\n",
       "      <th>3</th>\n",
       "      <td>3</td>\n",
       "      <td>POINT (-73.9311791758 40.6594997188)</td>\n",
       "      <td>Utica Avenue between Winthrop St and Rutland Blvd</td>\n",
       "      <td>1.642468</td>\n",
       "      <td>1.175258</td>\n",
       "    </tr>\n",
       "    <tr>\n",
       "      <th>4</th>\n",
       "      <td>4</td>\n",
       "      <td>POINT (-74.0022979229 40.7502959021)</td>\n",
       "      <td>Tenth Avenue between W 26th St and W 28th St</td>\n",
       "      <td>10.076512</td>\n",
       "      <td>7.964187</td>\n",
       "    </tr>\n",
       "  </tbody>\n",
       "</table>\n",
       "</div>"
      ],
      "text/plain": [
       "   relief_stand_idx                                  geometry  \\\n",
       "0                 0              POINT (-73.929918 40.812311)   \n",
       "1                 1  POINT (-73.98652069390001 40.6731545147)   \n",
       "2                 2      POINT (-73.9602709752 40.7185812457)   \n",
       "3                 3      POINT (-73.9311791758 40.6594997188)   \n",
       "4                 4      POINT (-74.0022979229 40.7502959021)   \n",
       "\n",
       "                                            Location  time_usage_hrs  \\\n",
       "0  Park Avenue  between E 135th St and E 138th St...      170.228819   \n",
       "1        Fourth Avenue between Third St and Sixth St       74.487917   \n",
       "2     North 6th Street between Berry St and Wythe St        1.469766   \n",
       "3  Utica Avenue between Winthrop St and Rutland Blvd        1.642468   \n",
       "4       Tenth Avenue between W 26th St and W 28th St       10.076512   \n",
       "\n",
       "   car_usage  \n",
       "0  76.764384  \n",
       "1  28.268493  \n",
       "2   1.202247  \n",
       "3   1.175258  \n",
       "4   7.964187  "
      ]
     },
     "execution_count": 28,
     "metadata": {},
     "output_type": "execute_result"
    }
   ],
   "source": [
    "usage_relief_means.head()"
   ]
  },
  {
   "cell_type": "code",
   "execution_count": 29,
   "metadata": {
    "collapsed": false
   },
   "outputs": [],
   "source": [
    "usage_relief_means = usage_relief_means.sort_values(by='car_usage', ascending=False)\n",
    "usage_relief_means.reset_index(inplace=True, drop=True)"
   ]
  },
  {
   "cell_type": "code",
   "execution_count": 30,
   "metadata": {
    "collapsed": false
   },
   "outputs": [],
   "source": [
    "for i in range(len(usage_relief_means)):\n",
    "    usage_relief_means.loc[i,'lng'] = str(usage_relief_means.geometry[i]).replace('(', '').replace(')', '').split(' ')[1]\n",
    "    usage_relief_means.loc[i,'lat'] = str(usage_relief_means.geometry[i]).replace('(', '').replace(')', '').split(' ')[2]"
   ]
  },
  {
   "cell_type": "code",
   "execution_count": 31,
   "metadata": {
    "collapsed": false,
    "scrolled": false
   },
   "outputs": [
    {
     "data": {
      "text/html": [
       "<div>\n",
       "<table border=\"1\" class=\"dataframe\">\n",
       "  <thead>\n",
       "    <tr style=\"text-align: right;\">\n",
       "      <th></th>\n",
       "      <th>relief_stand_idx</th>\n",
       "      <th>geometry</th>\n",
       "      <th>Location</th>\n",
       "      <th>time_usage_hrs</th>\n",
       "      <th>car_usage</th>\n",
       "      <th>lng</th>\n",
       "      <th>lat</th>\n",
       "    </tr>\n",
       "  </thead>\n",
       "  <tbody>\n",
       "    <tr>\n",
       "      <th>0</th>\n",
       "      <td>44</td>\n",
       "      <td>POINT (-73.9284084512 40.7467204482)</td>\n",
       "      <td>36th St between Skillman Ave and 43rd Ave</td>\n",
       "      <td>274.369763</td>\n",
       "      <td>99.852055</td>\n",
       "      <td>-73.9284084512</td>\n",
       "      <td>40.7467204482</td>\n",
       "    </tr>\n",
       "    <tr>\n",
       "      <th>1</th>\n",
       "      <td>0</td>\n",
       "      <td>POINT (-73.929918 40.812311)</td>\n",
       "      <td>Park Avenue  between E 135th St and E 138th St...</td>\n",
       "      <td>170.228819</td>\n",
       "      <td>76.764384</td>\n",
       "      <td>-73.929918</td>\n",
       "      <td>40.812311</td>\n",
       "    </tr>\n",
       "    <tr>\n",
       "      <th>2</th>\n",
       "      <td>26</td>\n",
       "      <td>POINT (-73.9826412972 40.7424036887)</td>\n",
       "      <td>Lexington Ave between E 28th St and E 27th St</td>\n",
       "      <td>77.613121</td>\n",
       "      <td>66.501370</td>\n",
       "      <td>-73.9826412972</td>\n",
       "      <td>40.7424036887</td>\n",
       "    </tr>\n",
       "    <tr>\n",
       "      <th>3</th>\n",
       "      <td>20</td>\n",
       "      <td>POINT (-73.983200633 40.7430167211)</td>\n",
       "      <td>E 28th St between Park Ave S and Lexington Ave</td>\n",
       "      <td>40.508620</td>\n",
       "      <td>34.123288</td>\n",
       "      <td>-73.983200633</td>\n",
       "      <td>40.7430167211</td>\n",
       "    </tr>\n",
       "    <tr>\n",
       "      <th>4</th>\n",
       "      <td>38</td>\n",
       "      <td>POINT (-73.99590092450001 40.7615746731)</td>\n",
       "      <td>W 44th St between Eleventh Ave and Tenth Ave</td>\n",
       "      <td>68.851008</td>\n",
       "      <td>30.635616</td>\n",
       "      <td>-73.99590092450001</td>\n",
       "      <td>40.7615746731</td>\n",
       "    </tr>\n",
       "  </tbody>\n",
       "</table>\n",
       "</div>"
      ],
      "text/plain": [
       "   relief_stand_idx                                  geometry  \\\n",
       "0                44      POINT (-73.9284084512 40.7467204482)   \n",
       "1                 0              POINT (-73.929918 40.812311)   \n",
       "2                26      POINT (-73.9826412972 40.7424036887)   \n",
       "3                20       POINT (-73.983200633 40.7430167211)   \n",
       "4                38  POINT (-73.99590092450001 40.7615746731)   \n",
       "\n",
       "                                            Location  time_usage_hrs  \\\n",
       "0          36th St between Skillman Ave and 43rd Ave      274.369763   \n",
       "1  Park Avenue  between E 135th St and E 138th St...      170.228819   \n",
       "2      Lexington Ave between E 28th St and E 27th St       77.613121   \n",
       "3     E 28th St between Park Ave S and Lexington Ave       40.508620   \n",
       "4       W 44th St between Eleventh Ave and Tenth Ave       68.851008   \n",
       "\n",
       "   car_usage                 lng            lat  \n",
       "0  99.852055      -73.9284084512  40.7467204482  \n",
       "1  76.764384          -73.929918      40.812311  \n",
       "2  66.501370      -73.9826412972  40.7424036887  \n",
       "3  34.123288       -73.983200633  40.7430167211  \n",
       "4  30.635616  -73.99590092450001  40.7615746731  "
      ]
     },
     "execution_count": 31,
     "metadata": {},
     "output_type": "execute_result"
    }
   ],
   "source": [
    "usage_relief_means.head()"
   ]
  },
  {
   "cell_type": "code",
   "execution_count": 29,
   "metadata": {
    "collapsed": true
   },
   "outputs": [],
   "source": [
    "usage_relief_means.to_csv(\"./Capstone - Taxi Relief Stand/Data_Warehouse/Relief_stands_data/relief_stand_usage_means_23July.csv\")"
   ]
  },
  {
   "cell_type": "code",
   "execution_count": 30,
   "metadata": {
    "collapsed": false
   },
   "outputs": [],
   "source": [
    "crs = {'init': 'epsg:4326', 'no_defs': True}\n",
    "usage_relief_means = gp.GeoDataFrame(usage_relief_means, crs =crs)"
   ]
  },
  {
   "cell_type": "code",
   "execution_count": 31,
   "metadata": {
    "collapsed": false
   },
   "outputs": [
    {
     "data": {
      "text/plain": [
       "{'init': 'epsg:4326', 'no_defs': True}"
      ]
     },
     "execution_count": 31,
     "metadata": {},
     "output_type": "execute_result"
    }
   ],
   "source": [
    "usage_relief_means.crs"
   ]
  },
  {
   "cell_type": "code",
   "execution_count": 32,
   "metadata": {
    "collapsed": false
   },
   "outputs": [
    {
     "data": {
      "text/plain": [
       "{'init': 'epsg:4326', 'no_defs': True}"
      ]
     },
     "execution_count": 32,
     "metadata": {},
     "output_type": "execute_result"
    }
   ],
   "source": [
    "hexagons = gp.read_file(\".\\Capstone - Taxi Relief Stand\\Data_Warehouse\\Hexagon_Shapefile_4003\\hexagons_clipped.shp\")\n",
    "hexagons = hexagons.to_crs(epsg=4326)\n",
    "hexagons.drop(['Id'], axis=1, inplace=True)\n",
    "hexagons.crs"
   ]
  },
  {
   "cell_type": "code",
   "execution_count": 33,
   "metadata": {
    "collapsed": false,
    "scrolled": false
   },
   "outputs": [],
   "source": [
    "relief_hexagon = gp.sjoin(hexagons,usage_relief_means)"
   ]
  },
  {
   "cell_type": "code",
   "execution_count": 34,
   "metadata": {
    "collapsed": false
   },
   "outputs": [
    {
     "data": {
      "text/html": [
       "<div>\n",
       "<table border=\"1\" class=\"dataframe\">\n",
       "  <thead>\n",
       "    <tr style=\"text-align: right;\">\n",
       "      <th></th>\n",
       "      <th>GRID_ID</th>\n",
       "      <th>geometry</th>\n",
       "      <th>index_right</th>\n",
       "      <th>relief_stand_idx</th>\n",
       "      <th>Location</th>\n",
       "      <th>time_usage_hrs</th>\n",
       "      <th>car_usage</th>\n",
       "      <th>lng</th>\n",
       "      <th>lat</th>\n",
       "    </tr>\n",
       "  </thead>\n",
       "  <tbody>\n",
       "    <tr>\n",
       "      <th>69</th>\n",
       "      <td>BF-38</td>\n",
       "      <td>POLYGON ((-73.98418964174329 40.75916442037367...</td>\n",
       "      <td>36</td>\n",
       "      <td>12</td>\n",
       "      <td>Broadway between W 48th St and W 47th St</td>\n",
       "      <td>2.599435</td>\n",
       "      <td>2.069930</td>\n",
       "      <td>-73.9848850666</td>\n",
       "      <td>40.7597864269</td>\n",
       "    </tr>\n",
       "    <tr>\n",
       "      <th>69</th>\n",
       "      <td>BF-38</td>\n",
       "      <td>POLYGON ((-73.98418964174329 40.75916442037367...</td>\n",
       "      <td>38</td>\n",
       "      <td>6</td>\n",
       "      <td>Eighth Avenue between W 46th St and W 47th St ...</td>\n",
       "      <td>4.129727</td>\n",
       "      <td>1.852518</td>\n",
       "      <td>-73.9876413089</td>\n",
       "      <td>40.7601329837</td>\n",
       "    </tr>\n",
       "  </tbody>\n",
       "</table>\n",
       "</div>"
      ],
      "text/plain": [
       "   GRID_ID                                           geometry  index_right  \\\n",
       "69   BF-38  POLYGON ((-73.98418964174329 40.75916442037367...           36   \n",
       "69   BF-38  POLYGON ((-73.98418964174329 40.75916442037367...           38   \n",
       "\n",
       "    relief_stand_idx                                           Location  \\\n",
       "69                12           Broadway between W 48th St and W 47th St   \n",
       "69                 6  Eighth Avenue between W 46th St and W 47th St ...   \n",
       "\n",
       "    time_usage_hrs  car_usage             lng            lat  \n",
       "69        2.599435   2.069930  -73.9848850666  40.7597864269  \n",
       "69        4.129727   1.852518  -73.9876413089  40.7601329837  "
      ]
     },
     "execution_count": 34,
     "metadata": {},
     "output_type": "execute_result"
    }
   ],
   "source": [
    "relief_hexagon.head(2)"
   ]
  },
  {
   "cell_type": "code",
   "execution_count": 35,
   "metadata": {
    "collapsed": false
   },
   "outputs": [
    {
     "data": {
      "text/plain": [
       "60"
      ]
     },
     "execution_count": 35,
     "metadata": {},
     "output_type": "execute_result"
    }
   ],
   "source": [
    "len(relief_hexagon)"
   ]
  },
  {
   "cell_type": "code",
   "execution_count": 36,
   "metadata": {
    "collapsed": true
   },
   "outputs": [],
   "source": [
    "relief_hexagon.drop(['index_right'], axis=1, inplace=True)"
   ]
  },
  {
   "cell_type": "code",
   "execution_count": 37,
   "metadata": {
    "collapsed": false
   },
   "outputs": [
    {
     "data": {
      "text/plain": [
       "array([u'BF-38', u'BB-52', u'BQ-62', u'BE-36', u'BB-47', u'BD-38',\n",
       "       u'BR-26', u'BE-39', u'BN-40', u'BE-37', u'BK-48', u'BB-43',\n",
       "       u'BD-42', u'BD-48', u'BO-41', u'BV-43', u'BE-38', u'BE-49',\n",
       "       u'BD-43', u'BR-41', u'BC-44', u'BU-42', u'BV-42', u'BP-43',\n",
       "       u'BL-35', u'BF-43', u'BF-40', u'BN-35', u'BC-40', u'BF-59',\n",
       "       u'BR-42', u'BX-40', u'BG-37', u'BB-48', u'BM-35', u'BF-45',\n",
       "       u'BF-44', u'BG-42', u'BG-43', u'BA-49', u'BD-36', u'BQ-41',\n",
       "       u'BF-41', u'BE-43', u'BE-42', u'BF-42'], dtype=object)"
      ]
     },
     "execution_count": 37,
     "metadata": {},
     "output_type": "execute_result"
    }
   ],
   "source": [
    "relief_hexagon.GRID_ID.unique()"
   ]
  },
  {
   "cell_type": "code",
   "execution_count": 38,
   "metadata": {
    "collapsed": false,
    "scrolled": false
   },
   "outputs": [],
   "source": [
    "relief_hexagon = relief_hexagon.sort_values('car_usage', ascending=False)\n",
    "relief_hexagon.reset_index(inplace=True, drop=True)"
   ]
  },
  {
   "cell_type": "code",
   "execution_count": 39,
   "metadata": {
    "collapsed": true
   },
   "outputs": [],
   "source": [
    "relief_hexagon.to_csv(\"./relief_stands_with_gridid.csv\")"
   ]
  },
  {
   "cell_type": "markdown",
   "metadata": {},
   "source": [
    "### Top Used Relief Stands "
   ]
  },
  {
   "cell_type": "code",
   "execution_count": 40,
   "metadata": {
    "collapsed": true
   },
   "outputs": [],
   "source": [
    "top_trs = relief_hexagon.loc[:9]"
   ]
  },
  {
   "cell_type": "code",
   "execution_count": 105,
   "metadata": {
    "collapsed": false
   },
   "outputs": [
    {
     "data": {
      "text/html": [
       "<div>\n",
       "<table border=\"1\" class=\"dataframe\">\n",
       "  <thead>\n",
       "    <tr style=\"text-align: right;\">\n",
       "      <th></th>\n",
       "      <th>GRID_ID</th>\n",
       "      <th>geometry</th>\n",
       "      <th>relief_stand_idx</th>\n",
       "      <th>Location</th>\n",
       "      <th>time_usage_hrs</th>\n",
       "      <th>car_usage</th>\n",
       "      <th>lng</th>\n",
       "      <th>lat</th>\n",
       "    </tr>\n",
       "  </thead>\n",
       "  <tbody>\n",
       "    <tr>\n",
       "      <th>0</th>\n",
       "      <td>BR-41</td>\n",
       "      <td>POLYGON ((-73.92561089492317 40.74871370297019...</td>\n",
       "      <td>44</td>\n",
       "      <td>36th St between Skillman Ave and 43rd Ave</td>\n",
       "      <td>274.369763</td>\n",
       "      <td>99.852055</td>\n",
       "      <td>-73.9284084512</td>\n",
       "      <td>40.7467204482</td>\n",
       "    </tr>\n",
       "    <tr>\n",
       "      <th>1</th>\n",
       "      <td>BR-26</td>\n",
       "      <td>POLYGON ((-73.92712801229941 40.80919559216895...</td>\n",
       "      <td>0</td>\n",
       "      <td>Park Avenue  between E 135th St and E 138th St...</td>\n",
       "      <td>170.228819</td>\n",
       "      <td>76.764384</td>\n",
       "      <td>-73.929918</td>\n",
       "      <td>40.812311</td>\n",
       "    </tr>\n",
       "    <tr>\n",
       "      <th>2</th>\n",
       "      <td>BG-42</td>\n",
       "      <td>POLYGON ((-73.97944485982342 40.74039365532082...</td>\n",
       "      <td>26</td>\n",
       "      <td>Lexington Ave between E 28th St and E 27th St</td>\n",
       "      <td>77.613121</td>\n",
       "      <td>66.501370</td>\n",
       "      <td>-73.9826412972</td>\n",
       "      <td>40.7424036887</td>\n",
       "    </tr>\n",
       "    <tr>\n",
       "      <th>3</th>\n",
       "      <td>BG-42</td>\n",
       "      <td>POLYGON ((-73.97944485982342 40.74039365532082...</td>\n",
       "      <td>20</td>\n",
       "      <td>E 28th St between Park Ave S and Lexington Ave</td>\n",
       "      <td>40.508620</td>\n",
       "      <td>34.123288</td>\n",
       "      <td>-73.983200633</td>\n",
       "      <td>40.7430167211</td>\n",
       "    </tr>\n",
       "    <tr>\n",
       "      <th>4</th>\n",
       "      <td>BD-38</td>\n",
       "      <td>POLYGON ((-73.99369078885718 40.75916533252825...</td>\n",
       "      <td>38</td>\n",
       "      <td>W 44th St between Eleventh Ave and Tenth Ave</td>\n",
       "      <td>68.851008</td>\n",
       "      <td>30.635616</td>\n",
       "      <td>-73.99590092450001</td>\n",
       "      <td>40.7615746731</td>\n",
       "    </tr>\n",
       "    <tr>\n",
       "      <th>5</th>\n",
       "      <td>BF-59</td>\n",
       "      <td>POLYGON ((-73.98895439435282 40.67365673876675...</td>\n",
       "      <td>1</td>\n",
       "      <td>Fourth Avenue between Third St and Sixth St</td>\n",
       "      <td>74.487917</td>\n",
       "      <td>28.268493</td>\n",
       "      <td>-73.98652069390001</td>\n",
       "      <td>40.6731545147</td>\n",
       "    </tr>\n",
       "    <tr>\n",
       "      <th>6</th>\n",
       "      <td>BD-43</td>\n",
       "      <td>POLYGON ((-73.99369276370746 40.73830975620657...</td>\n",
       "      <td>34</td>\n",
       "      <td>W 21st St between Sixth Ave and Seventh Ave</td>\n",
       "      <td>82.728021</td>\n",
       "      <td>27.205479</td>\n",
       "      <td>-73.9951494156</td>\n",
       "      <td>40.7422345232</td>\n",
       "    </tr>\n",
       "    <tr>\n",
       "      <th>7</th>\n",
       "      <td>BF-43</td>\n",
       "      <td>POLYGON ((-73.98419459055367 40.73830884433479...</td>\n",
       "      <td>27</td>\n",
       "      <td>Lexington Ave between E 25th St and E 26th St</td>\n",
       "      <td>18.054627</td>\n",
       "      <td>14.019178</td>\n",
       "      <td>-73.9835073963</td>\n",
       "      <td>40.7411272158</td>\n",
       "    </tr>\n",
       "    <tr>\n",
       "      <th>8</th>\n",
       "      <td>BX-40</td>\n",
       "      <td>POLYGON ((-73.89710550131231 40.75286288273336...</td>\n",
       "      <td>49</td>\n",
       "      <td>64th St between 34th Ave and 35th Ave</td>\n",
       "      <td>41.798145</td>\n",
       "      <td>11.671233</td>\n",
       "      <td>-73.8988282241</td>\n",
       "      <td>40.7513249518</td>\n",
       "    </tr>\n",
       "    <tr>\n",
       "      <th>9</th>\n",
       "      <td>BG-43</td>\n",
       "      <td>POLYGON ((-73.97786247479662 40.7383078012184,...</td>\n",
       "      <td>17</td>\n",
       "      <td>E23rd St between First Ave and Second Ave</td>\n",
       "      <td>17.879849</td>\n",
       "      <td>11.096154</td>\n",
       "      <td>-73.97966365880001</td>\n",
       "      <td>40.7374184059</td>\n",
       "    </tr>\n",
       "    <tr>\n",
       "      <th>10</th>\n",
       "      <td>BR-42</td>\n",
       "      <td>POLYGON ((-73.92561555227408 40.74454258845679...</td>\n",
       "      <td>45</td>\n",
       "      <td>43rd Avenue between 36th St and 37th St (site ...</td>\n",
       "      <td>26.884782</td>\n",
       "      <td>9.510989</td>\n",
       "      <td>-73.928043</td>\n",
       "      <td>40.74605</td>\n",
       "    </tr>\n",
       "    <tr>\n",
       "      <th>11</th>\n",
       "      <td>BF-45</td>\n",
       "      <td>POLYGON ((-73.98736143914839 40.73413811324465...</td>\n",
       "      <td>13</td>\n",
       "      <td>Third Avenue between E 14th St and E 15th St  ...</td>\n",
       "      <td>22.326855</td>\n",
       "      <td>9.276712</td>\n",
       "      <td>-73.9869263289</td>\n",
       "      <td>40.7337163043</td>\n",
       "    </tr>\n",
       "  </tbody>\n",
       "</table>\n",
       "</div>"
      ],
      "text/plain": [
       "   GRID_ID                                           geometry  \\\n",
       "0    BR-41  POLYGON ((-73.92561089492317 40.74871370297019...   \n",
       "1    BR-26  POLYGON ((-73.92712801229941 40.80919559216895...   \n",
       "2    BG-42  POLYGON ((-73.97944485982342 40.74039365532082...   \n",
       "3    BG-42  POLYGON ((-73.97944485982342 40.74039365532082...   \n",
       "4    BD-38  POLYGON ((-73.99369078885718 40.75916533252825...   \n",
       "5    BF-59  POLYGON ((-73.98895439435282 40.67365673876675...   \n",
       "6    BD-43  POLYGON ((-73.99369276370746 40.73830975620657...   \n",
       "7    BF-43  POLYGON ((-73.98419459055367 40.73830884433479...   \n",
       "8    BX-40  POLYGON ((-73.89710550131231 40.75286288273336...   \n",
       "9    BG-43  POLYGON ((-73.97786247479662 40.7383078012184,...   \n",
       "10   BR-42  POLYGON ((-73.92561555227408 40.74454258845679...   \n",
       "11   BF-45  POLYGON ((-73.98736143914839 40.73413811324465...   \n",
       "\n",
       "    relief_stand_idx                                           Location  \\\n",
       "0                 44          36th St between Skillman Ave and 43rd Ave   \n",
       "1                  0  Park Avenue  between E 135th St and E 138th St...   \n",
       "2                 26      Lexington Ave between E 28th St and E 27th St   \n",
       "3                 20     E 28th St between Park Ave S and Lexington Ave   \n",
       "4                 38       W 44th St between Eleventh Ave and Tenth Ave   \n",
       "5                  1        Fourth Avenue between Third St and Sixth St   \n",
       "6                 34        W 21st St between Sixth Ave and Seventh Ave   \n",
       "7                 27      Lexington Ave between E 25th St and E 26th St   \n",
       "8                 49              64th St between 34th Ave and 35th Ave   \n",
       "9                 17          E23rd St between First Ave and Second Ave   \n",
       "10                45  43rd Avenue between 36th St and 37th St (site ...   \n",
       "11                13  Third Avenue between E 14th St and E 15th St  ...   \n",
       "\n",
       "    time_usage_hrs  car_usage                 lng            lat  \n",
       "0       274.369763  99.852055      -73.9284084512  40.7467204482  \n",
       "1       170.228819  76.764384          -73.929918      40.812311  \n",
       "2        77.613121  66.501370      -73.9826412972  40.7424036887  \n",
       "3        40.508620  34.123288       -73.983200633  40.7430167211  \n",
       "4        68.851008  30.635616  -73.99590092450001  40.7615746731  \n",
       "5        74.487917  28.268493  -73.98652069390001  40.6731545147  \n",
       "6        82.728021  27.205479      -73.9951494156  40.7422345232  \n",
       "7        18.054627  14.019178      -73.9835073963  40.7411272158  \n",
       "8        41.798145  11.671233      -73.8988282241  40.7513249518  \n",
       "9        17.879849  11.096154  -73.97966365880001  40.7374184059  \n",
       "10       26.884782   9.510989          -73.928043       40.74605  \n",
       "11       22.326855   9.276712      -73.9869263289  40.7337163043  "
      ]
     },
     "execution_count": 105,
     "metadata": {},
     "output_type": "execute_result"
    }
   ],
   "source": [
    "relief_hexagon.loc[:11]"
   ]
  },
  {
   "cell_type": "code",
   "execution_count": null,
   "metadata": {
    "collapsed": true
   },
   "outputs": [],
   "source": []
  },
  {
   "cell_type": "markdown",
   "metadata": {},
   "source": [
    "## Least Used Relief Stands"
   ]
  },
  {
   "cell_type": "code",
   "execution_count": 42,
   "metadata": {
    "collapsed": true
   },
   "outputs": [],
   "source": [
    "bottom_trs = relief_hexagon.loc[50:]"
   ]
  },
  {
   "cell_type": "code",
   "execution_count": 43,
   "metadata": {
    "collapsed": false,
    "scrolled": false
   },
   "outputs": [
    {
     "data": {
      "text/html": [
       "<div>\n",
       "<table border=\"1\" class=\"dataframe\">\n",
       "  <thead>\n",
       "    <tr style=\"text-align: right;\">\n",
       "      <th></th>\n",
       "      <th>GRID_ID</th>\n",
       "      <th>geometry</th>\n",
       "      <th>relief_stand_idx</th>\n",
       "      <th>Location</th>\n",
       "      <th>time_usage_hrs</th>\n",
       "      <th>car_usage</th>\n",
       "      <th>lng</th>\n",
       "      <th>lat</th>\n",
       "    </tr>\n",
       "  </thead>\n",
       "  <tbody>\n",
       "    <tr>\n",
       "      <th>50</th>\n",
       "      <td>BQ-41</td>\n",
       "      <td>POLYGON ((-73.93194825880404 40.74454650426817...</td>\n",
       "      <td>54</td>\n",
       "      <td>Van Dam St between Queens Blvd and Skillman Ave</td>\n",
       "      <td>2.152127</td>\n",
       "      <td>1.290076</td>\n",
       "      <td>-73.9332505683</td>\n",
       "      <td>40.7456061491</td>\n",
       "    </tr>\n",
       "    <tr>\n",
       "      <th>51</th>\n",
       "      <td>BN-35</td>\n",
       "      <td>POLYGON ((-73.94617494584973 40.77166624838458...</td>\n",
       "      <td>24</td>\n",
       "      <td>E 86th St between Henderson Place and York Ave</td>\n",
       "      <td>1.800540</td>\n",
       "      <td>1.266187</td>\n",
       "      <td>-73.94615713970001</td>\n",
       "      <td>40.7755721721</td>\n",
       "    </tr>\n",
       "    <tr>\n",
       "      <th>52</th>\n",
       "      <td>BF-40</td>\n",
       "      <td>POLYGON ((-73.98419162163926 40.75082219750515...</td>\n",
       "      <td>9</td>\n",
       "      <td>Sixth Avenue between W 39th St and W 40th St</td>\n",
       "      <td>2.106654</td>\n",
       "      <td>1.218045</td>\n",
       "      <td>-73.9852168116</td>\n",
       "      <td>40.753280021</td>\n",
       "    </tr>\n",
       "    <tr>\n",
       "      <th>53</th>\n",
       "      <td>BK-48</td>\n",
       "      <td>POLYGON ((-73.96046277159091 40.71536193640826...</td>\n",
       "      <td>2</td>\n",
       "      <td>North 6th Street between Berry St and Wythe St</td>\n",
       "      <td>1.469766</td>\n",
       "      <td>1.202247</td>\n",
       "      <td>-73.9602709752</td>\n",
       "      <td>40.7185812457</td>\n",
       "    </tr>\n",
       "    <tr>\n",
       "      <th>54</th>\n",
       "      <td>BQ-62</td>\n",
       "      <td>POLYGON ((-73.93203761355002 40.65695254875806...</td>\n",
       "      <td>3</td>\n",
       "      <td>Utica Avenue between Winthrop St and Rutland Blvd</td>\n",
       "      <td>1.642468</td>\n",
       "      <td>1.175258</td>\n",
       "      <td>-73.9311791758</td>\n",
       "      <td>40.6594997188</td>\n",
       "    </tr>\n",
       "    <tr>\n",
       "      <th>55</th>\n",
       "      <td>BE-38</td>\n",
       "      <td>POLYGON ((-73.98894056088741 40.75707941944726...</td>\n",
       "      <td>37</td>\n",
       "      <td>W 41st St between Eighth Ave and Ninth Ave</td>\n",
       "      <td>2.210521</td>\n",
       "      <td>1.134615</td>\n",
       "      <td>-73.99166181130001</td>\n",
       "      <td>40.7572612863</td>\n",
       "    </tr>\n",
       "    <tr>\n",
       "      <th>56</th>\n",
       "      <td>BO-41</td>\n",
       "      <td>POLYGON ((-73.94144731936135 40.74455172512204...</td>\n",
       "      <td>47</td>\n",
       "      <td>45th Ave between 45th Ave Rdwy and 23rd St</td>\n",
       "      <td>4.265577</td>\n",
       "      <td>1.128205</td>\n",
       "      <td>-73.944729</td>\n",
       "      <td>40.746821</td>\n",
       "    </tr>\n",
       "    <tr>\n",
       "      <th>57</th>\n",
       "      <td>BM-35</td>\n",
       "      <td>POLYGON ((-73.95092794725863 40.76958281956595...</td>\n",
       "      <td>22</td>\n",
       "      <td>E 77th St between First Ave and Second Ave</td>\n",
       "      <td>2.248242</td>\n",
       "      <td>1.127273</td>\n",
       "      <td>-73.95479019370001</td>\n",
       "      <td>40.7715463493</td>\n",
       "    </tr>\n",
       "    <tr>\n",
       "      <th>58</th>\n",
       "      <td>BO-41</td>\n",
       "      <td>POLYGON ((-73.94144731936135 40.74455172512204...</td>\n",
       "      <td>51</td>\n",
       "      <td>Pearson St between Jackson Ave and Dead End</td>\n",
       "      <td>3.321132</td>\n",
       "      <td>1.120879</td>\n",
       "      <td>-73.94440899999999</td>\n",
       "      <td>40.745483</td>\n",
       "    </tr>\n",
       "    <tr>\n",
       "      <th>59</th>\n",
       "      <td>BP-43</td>\n",
       "      <td>(POLYGON ((-73.94118816680611 40.7402902170636...</td>\n",
       "      <td>50</td>\n",
       "      <td>Hunters Point Ave between 27th St and 30th St ...</td>\n",
       "      <td>1.850370</td>\n",
       "      <td>1.000000</td>\n",
       "      <td>-73.93973699999999</td>\n",
       "      <td>40.740636</td>\n",
       "    </tr>\n",
       "  </tbody>\n",
       "</table>\n",
       "</div>"
      ],
      "text/plain": [
       "   GRID_ID                                           geometry  \\\n",
       "50   BQ-41  POLYGON ((-73.93194825880404 40.74454650426817...   \n",
       "51   BN-35  POLYGON ((-73.94617494584973 40.77166624838458...   \n",
       "52   BF-40  POLYGON ((-73.98419162163926 40.75082219750515...   \n",
       "53   BK-48  POLYGON ((-73.96046277159091 40.71536193640826...   \n",
       "54   BQ-62  POLYGON ((-73.93203761355002 40.65695254875806...   \n",
       "55   BE-38  POLYGON ((-73.98894056088741 40.75707941944726...   \n",
       "56   BO-41  POLYGON ((-73.94144731936135 40.74455172512204...   \n",
       "57   BM-35  POLYGON ((-73.95092794725863 40.76958281956595...   \n",
       "58   BO-41  POLYGON ((-73.94144731936135 40.74455172512204...   \n",
       "59   BP-43  (POLYGON ((-73.94118816680611 40.7402902170636...   \n",
       "\n",
       "    relief_stand_idx                                           Location  \\\n",
       "50                54    Van Dam St between Queens Blvd and Skillman Ave   \n",
       "51                24     E 86th St between Henderson Place and York Ave   \n",
       "52                 9       Sixth Avenue between W 39th St and W 40th St   \n",
       "53                 2     North 6th Street between Berry St and Wythe St   \n",
       "54                 3  Utica Avenue between Winthrop St and Rutland Blvd   \n",
       "55                37         W 41st St between Eighth Ave and Ninth Ave   \n",
       "56                47         45th Ave between 45th Ave Rdwy and 23rd St   \n",
       "57                22         E 77th St between First Ave and Second Ave   \n",
       "58                51        Pearson St between Jackson Ave and Dead End   \n",
       "59                50  Hunters Point Ave between 27th St and 30th St ...   \n",
       "\n",
       "    time_usage_hrs  car_usage                 lng            lat  \n",
       "50        2.152127   1.290076      -73.9332505683  40.7456061491  \n",
       "51        1.800540   1.266187  -73.94615713970001  40.7755721721  \n",
       "52        2.106654   1.218045      -73.9852168116   40.753280021  \n",
       "53        1.469766   1.202247      -73.9602709752  40.7185812457  \n",
       "54        1.642468   1.175258      -73.9311791758  40.6594997188  \n",
       "55        2.210521   1.134615  -73.99166181130001  40.7572612863  \n",
       "56        4.265577   1.128205          -73.944729      40.746821  \n",
       "57        2.248242   1.127273  -73.95479019370001  40.7715463493  \n",
       "58        3.321132   1.120879  -73.94440899999999      40.745483  \n",
       "59        1.850370   1.000000  -73.93973699999999      40.740636  "
      ]
     },
     "execution_count": 43,
     "metadata": {},
     "output_type": "execute_result"
    }
   ],
   "source": [
    "relief_hexagon.loc[50:]"
   ]
  },
  {
   "cell_type": "markdown",
   "metadata": {},
   "source": [
    "# Collect data about characteristics"
   ]
  },
  {
   "cell_type": "markdown",
   "metadata": {},
   "source": [
    "## Idle points , pickups and dropoffs"
   ]
  },
  {
   "cell_type": "code",
   "execution_count": 44,
   "metadata": {
    "collapsed": true
   },
   "outputs": [],
   "source": [
    "idle = pd.read_csv(\"./Capstone - Taxi Relief Stand/Data_Warehouse/Hadoop_Processed_Data/Hex_2015.csv\")\n",
    "idle.drop(['Unnamed: 0'], axis=1, inplace=True)"
   ]
  },
  {
   "cell_type": "code",
   "execution_count": 45,
   "metadata": {
    "collapsed": false
   },
   "outputs": [
    {
     "data": {
      "text/html": [
       "<div>\n",
       "<table border=\"1\" class=\"dataframe\">\n",
       "  <thead>\n",
       "    <tr style=\"text-align: right;\">\n",
       "      <th></th>\n",
       "      <th>GRID</th>\n",
       "      <th>date</th>\n",
       "      <th>idle_count</th>\n",
       "      <th>idle_time_count</th>\n",
       "      <th>pickup_count</th>\n",
       "      <th>dropoff_count</th>\n",
       "    </tr>\n",
       "  </thead>\n",
       "  <tbody>\n",
       "    <tr>\n",
       "      <th>0</th>\n",
       "      <td>AT-69</td>\n",
       "      <td>150815</td>\n",
       "      <td>1.0</td>\n",
       "      <td>2393.0</td>\n",
       "      <td>0.0</td>\n",
       "      <td>0.0</td>\n",
       "    </tr>\n",
       "    <tr>\n",
       "      <th>1</th>\n",
       "      <td>AT-70</td>\n",
       "      <td>150101</td>\n",
       "      <td>1.0</td>\n",
       "      <td>2403.0</td>\n",
       "      <td>0.0</td>\n",
       "      <td>0.0</td>\n",
       "    </tr>\n",
       "    <tr>\n",
       "      <th>2</th>\n",
       "      <td>AT-70</td>\n",
       "      <td>150103</td>\n",
       "      <td>1.0</td>\n",
       "      <td>45271.0</td>\n",
       "      <td>0.0</td>\n",
       "      <td>0.0</td>\n",
       "    </tr>\n",
       "    <tr>\n",
       "      <th>3</th>\n",
       "      <td>AT-70</td>\n",
       "      <td>150308</td>\n",
       "      <td>1.0</td>\n",
       "      <td>3830.0</td>\n",
       "      <td>0.0</td>\n",
       "      <td>0.0</td>\n",
       "    </tr>\n",
       "    <tr>\n",
       "      <th>4</th>\n",
       "      <td>AT-70</td>\n",
       "      <td>150410</td>\n",
       "      <td>1.0</td>\n",
       "      <td>1800.0</td>\n",
       "      <td>0.0</td>\n",
       "      <td>0.0</td>\n",
       "    </tr>\n",
       "  </tbody>\n",
       "</table>\n",
       "</div>"
      ],
      "text/plain": [
       "    GRID    date  idle_count  idle_time_count  pickup_count  dropoff_count\n",
       "0  AT-69  150815         1.0           2393.0           0.0            0.0\n",
       "1  AT-70  150101         1.0           2403.0           0.0            0.0\n",
       "2  AT-70  150103         1.0          45271.0           0.0            0.0\n",
       "3  AT-70  150308         1.0           3830.0           0.0            0.0\n",
       "4  AT-70  150410         1.0           1800.0           0.0            0.0"
      ]
     },
     "execution_count": 45,
     "metadata": {},
     "output_type": "execute_result"
    }
   ],
   "source": [
    "idle.head()"
   ]
  },
  {
   "cell_type": "code",
   "execution_count": 46,
   "metadata": {
    "collapsed": false
   },
   "outputs": [
    {
     "data": {
      "text/html": [
       "<div>\n",
       "<table border=\"1\" class=\"dataframe\">\n",
       "  <thead>\n",
       "    <tr style=\"text-align: right;\">\n",
       "      <th></th>\n",
       "      <th>GRID</th>\n",
       "      <th>idle_count</th>\n",
       "      <th>idle_time_count</th>\n",
       "      <th>pickup_count</th>\n",
       "      <th>dropoff_count</th>\n",
       "    </tr>\n",
       "  </thead>\n",
       "  <tbody>\n",
       "    <tr>\n",
       "      <th>0</th>\n",
       "      <td>AT-53</td>\n",
       "      <td>0.000000</td>\n",
       "      <td>0.000000</td>\n",
       "      <td>0.500000</td>\n",
       "      <td>0.500000</td>\n",
       "    </tr>\n",
       "    <tr>\n",
       "      <th>1</th>\n",
       "      <td>AT-54</td>\n",
       "      <td>0.000000</td>\n",
       "      <td>0.000000</td>\n",
       "      <td>0.000000</td>\n",
       "      <td>1.000000</td>\n",
       "    </tr>\n",
       "    <tr>\n",
       "      <th>2</th>\n",
       "      <td>AT-69</td>\n",
       "      <td>0.038462</td>\n",
       "      <td>1.533974</td>\n",
       "      <td>0.230769</td>\n",
       "      <td>0.730769</td>\n",
       "    </tr>\n",
       "    <tr>\n",
       "      <th>3</th>\n",
       "      <td>AT-70</td>\n",
       "      <td>0.257812</td>\n",
       "      <td>61.077083</td>\n",
       "      <td>0.140625</td>\n",
       "      <td>0.867188</td>\n",
       "    </tr>\n",
       "    <tr>\n",
       "      <th>4</th>\n",
       "      <td>AT-71</td>\n",
       "      <td>0.073746</td>\n",
       "      <td>13.605949</td>\n",
       "      <td>0.123894</td>\n",
       "      <td>2.752212</td>\n",
       "    </tr>\n",
       "  </tbody>\n",
       "</table>\n",
       "</div>"
      ],
      "text/plain": [
       "    GRID  idle_count  idle_time_count  pickup_count  dropoff_count\n",
       "0  AT-53    0.000000         0.000000      0.500000       0.500000\n",
       "1  AT-54    0.000000         0.000000      0.000000       1.000000\n",
       "2  AT-69    0.038462         1.533974      0.230769       0.730769\n",
       "3  AT-70    0.257812        61.077083      0.140625       0.867188\n",
       "4  AT-71    0.073746        13.605949      0.123894       2.752212"
      ]
     },
     "execution_count": 46,
     "metadata": {},
     "output_type": "execute_result"
    }
   ],
   "source": [
    "idle.date = map(lambda x: dt.date(2015,int(str(idle.date[x])[2:4]),int(str(idle.date[x])[4:6])), idle.date)\n",
    "idle.date = pd.to_datetime(idle.date)\n",
    "idle.idle_time_count = idle.idle_time_count/60.0 \n",
    "idle_grids = idle.groupby('GRID').agg({'idle_count':'mean','idle_time_count':'mean',\n",
    "                                       'pickup_count':'mean', 'dropoff_count':'mean'})\n",
    "idle_grids.reset_index(inplace=True)\n",
    "idle_grids.head()"
   ]
  },
  {
   "cell_type": "code",
   "execution_count": 47,
   "metadata": {
    "collapsed": false
   },
   "outputs": [
    {
     "data": {
      "text/plain": [
       "{'init': 'epsg:4326', 'no_defs': True}"
      ]
     },
     "execution_count": 47,
     "metadata": {},
     "output_type": "execute_result"
    }
   ],
   "source": [
    "hexagons = gp.read_file(\".\\Capstone - Taxi Relief Stand\\Data_Warehouse\\Hexagon_Shapefile_4003\\hexagons_clipped.shp\")\n",
    "hexagons = hexagons.to_crs(epsg=4326)\n",
    "hexagons.drop(['Id'], axis=1, inplace=True)\n",
    "hexagons.crs"
   ]
  },
  {
   "cell_type": "code",
   "execution_count": 48,
   "metadata": {
    "collapsed": false
   },
   "outputs": [
    {
     "data": {
      "text/html": [
       "<div>\n",
       "<table border=\"1\" class=\"dataframe\">\n",
       "  <thead>\n",
       "    <tr style=\"text-align: right;\">\n",
       "      <th></th>\n",
       "      <th>GRID_ID</th>\n",
       "      <th>geometry</th>\n",
       "    </tr>\n",
       "  </thead>\n",
       "  <tbody>\n",
       "    <tr>\n",
       "      <th>0</th>\n",
       "      <td>BZ-45</td>\n",
       "      <td>POLYGON ((-73.88922678226744 40.72991440009237...</td>\n",
       "    </tr>\n",
       "    <tr>\n",
       "      <th>1</th>\n",
       "      <td>CC-66</td>\n",
       "      <td>POLYGON ((-73.8751493522219 40.64022017573762,...</td>\n",
       "    </tr>\n",
       "    <tr>\n",
       "      <th>2</th>\n",
       "      <td>CF-32</td>\n",
       "      <td>POLYGON ((-73.85951521552445 40.78556019282625...</td>\n",
       "    </tr>\n",
       "    <tr>\n",
       "      <th>3</th>\n",
       "      <td>BG-76</td>\n",
       "      <td>POLYGON ((-73.97948851930843 40.59857430474219...</td>\n",
       "    </tr>\n",
       "    <tr>\n",
       "      <th>4</th>\n",
       "      <td>CP-44</td>\n",
       "      <td>POLYGON ((-73.8132394398212 40.7339873629611, ...</td>\n",
       "    </tr>\n",
       "  </tbody>\n",
       "</table>\n",
       "</div>"
      ],
      "text/plain": [
       "  GRID_ID                                           geometry\n",
       "0   BZ-45  POLYGON ((-73.88922678226744 40.72991440009237...\n",
       "1   CC-66  POLYGON ((-73.8751493522219 40.64022017573762,...\n",
       "2   CF-32  POLYGON ((-73.85951521552445 40.78556019282625...\n",
       "3   BG-76  POLYGON ((-73.97948851930843 40.59857430474219...\n",
       "4   CP-44  POLYGON ((-73.8132394398212 40.7339873629611, ..."
      ]
     },
     "execution_count": 48,
     "metadata": {},
     "output_type": "execute_result"
    }
   ],
   "source": [
    "hexagons.head()"
   ]
  },
  {
   "cell_type": "code",
   "execution_count": 49,
   "metadata": {
    "collapsed": false
   },
   "outputs": [],
   "source": [
    "nyc_grids = pd.merge(hexagons, idle_grids, left_on='GRID_ID', right_on='GRID', how='left').fillna(0)\n",
    "nyc_grids.drop(['GRID'], axis = 1, inplace = True)"
   ]
  },
  {
   "cell_type": "code",
   "execution_count": 50,
   "metadata": {
    "collapsed": false
   },
   "outputs": [
    {
     "data": {
      "text/html": [
       "<div>\n",
       "<table border=\"1\" class=\"dataframe\">\n",
       "  <thead>\n",
       "    <tr style=\"text-align: right;\">\n",
       "      <th></th>\n",
       "      <th>GRID_ID</th>\n",
       "      <th>geometry</th>\n",
       "      <th>idle_count</th>\n",
       "      <th>idle_time_count</th>\n",
       "      <th>pickup_count</th>\n",
       "      <th>dropoff_count</th>\n",
       "    </tr>\n",
       "  </thead>\n",
       "  <tbody>\n",
       "    <tr>\n",
       "      <th>0</th>\n",
       "      <td>BZ-45</td>\n",
       "      <td>POLYGON ((-73.88922678226744 40.72991440009237...</td>\n",
       "      <td>0.000000</td>\n",
       "      <td>0.000000</td>\n",
       "      <td>0.000000</td>\n",
       "      <td>0.000000</td>\n",
       "    </tr>\n",
       "    <tr>\n",
       "      <th>1</th>\n",
       "      <td>CC-66</td>\n",
       "      <td>POLYGON ((-73.8751493522219 40.64022017573762,...</td>\n",
       "      <td>0.618750</td>\n",
       "      <td>209.358646</td>\n",
       "      <td>0.396875</td>\n",
       "      <td>1.431250</td>\n",
       "    </tr>\n",
       "    <tr>\n",
       "      <th>2</th>\n",
       "      <td>CF-32</td>\n",
       "      <td>POLYGON ((-73.85951521552445 40.78556019282625...</td>\n",
       "      <td>0.000000</td>\n",
       "      <td>0.000000</td>\n",
       "      <td>0.000000</td>\n",
       "      <td>0.000000</td>\n",
       "    </tr>\n",
       "    <tr>\n",
       "      <th>3</th>\n",
       "      <td>BG-76</td>\n",
       "      <td>POLYGON ((-73.97948851930843 40.59857430474219...</td>\n",
       "      <td>3.293151</td>\n",
       "      <td>1175.579635</td>\n",
       "      <td>0.150685</td>\n",
       "      <td>4.169863</td>\n",
       "    </tr>\n",
       "    <tr>\n",
       "      <th>4</th>\n",
       "      <td>CP-44</td>\n",
       "      <td>POLYGON ((-73.8132394398212 40.7339873629611, ...</td>\n",
       "      <td>1.890411</td>\n",
       "      <td>428.033836</td>\n",
       "      <td>1.320548</td>\n",
       "      <td>16.690411</td>\n",
       "    </tr>\n",
       "  </tbody>\n",
       "</table>\n",
       "</div>"
      ],
      "text/plain": [
       "  GRID_ID                                           geometry  idle_count  \\\n",
       "0   BZ-45  POLYGON ((-73.88922678226744 40.72991440009237...    0.000000   \n",
       "1   CC-66  POLYGON ((-73.8751493522219 40.64022017573762,...    0.618750   \n",
       "2   CF-32  POLYGON ((-73.85951521552445 40.78556019282625...    0.000000   \n",
       "3   BG-76  POLYGON ((-73.97948851930843 40.59857430474219...    3.293151   \n",
       "4   CP-44  POLYGON ((-73.8132394398212 40.7339873629611, ...    1.890411   \n",
       "\n",
       "   idle_time_count  pickup_count  dropoff_count  \n",
       "0         0.000000      0.000000       0.000000  \n",
       "1       209.358646      0.396875       1.431250  \n",
       "2         0.000000      0.000000       0.000000  \n",
       "3      1175.579635      0.150685       4.169863  \n",
       "4       428.033836      1.320548      16.690411  "
      ]
     },
     "execution_count": 50,
     "metadata": {},
     "output_type": "execute_result"
    }
   ],
   "source": [
    "nyc_grids.head()"
   ]
  },
  {
   "cell_type": "markdown",
   "metadata": {},
   "source": [
    "# Violations"
   ]
  },
  {
   "cell_type": "code",
   "execution_count": 51,
   "metadata": {
    "collapsed": false
   },
   "outputs": [],
   "source": [
    "hexa_vio = pd.read_csv(\"./Capstone - Taxi Relief Stand/Data_Warehouse/Parking Tickets/violations_nyc_2015.csv\")"
   ]
  },
  {
   "cell_type": "code",
   "execution_count": 52,
   "metadata": {
    "collapsed": false
   },
   "outputs": [],
   "source": [
    "hexa_vio.drop(['Unnamed: 0', 'Violation Code', 'geometry'], axis=1, inplace=True)"
   ]
  },
  {
   "cell_type": "code",
   "execution_count": 53,
   "metadata": {
    "collapsed": false
   },
   "outputs": [
    {
     "data": {
      "text/html": [
       "<div>\n",
       "<table border=\"1\" class=\"dataframe\">\n",
       "  <thead>\n",
       "    <tr style=\"text-align: right;\">\n",
       "      <th></th>\n",
       "      <th>Summons Number</th>\n",
       "      <th>Issue Date</th>\n",
       "      <th>GRID_ID</th>\n",
       "    </tr>\n",
       "  </thead>\n",
       "  <tbody>\n",
       "    <tr>\n",
       "      <th>0</th>\n",
       "      <td>5084467648</td>\n",
       "      <td>2015-01-01</td>\n",
       "      <td>BH-57</td>\n",
       "    </tr>\n",
       "    <tr>\n",
       "      <th>1</th>\n",
       "      <td>5084489838</td>\n",
       "      <td>2015-01-03</td>\n",
       "      <td>BH-57</td>\n",
       "    </tr>\n",
       "    <tr>\n",
       "      <th>2</th>\n",
       "      <td>5084520651</td>\n",
       "      <td>2015-01-05</td>\n",
       "      <td>BH-57</td>\n",
       "    </tr>\n",
       "    <tr>\n",
       "      <th>3</th>\n",
       "      <td>5084522751</td>\n",
       "      <td>2015-01-05</td>\n",
       "      <td>BH-57</td>\n",
       "    </tr>\n",
       "    <tr>\n",
       "      <th>4</th>\n",
       "      <td>5084511868</td>\n",
       "      <td>2015-01-05</td>\n",
       "      <td>BH-57</td>\n",
       "    </tr>\n",
       "  </tbody>\n",
       "</table>\n",
       "</div>"
      ],
      "text/plain": [
       "   Summons Number  Issue Date GRID_ID\n",
       "0      5084467648  2015-01-01   BH-57\n",
       "1      5084489838  2015-01-03   BH-57\n",
       "2      5084520651  2015-01-05   BH-57\n",
       "3      5084522751  2015-01-05   BH-57\n",
       "4      5084511868  2015-01-05   BH-57"
      ]
     },
     "execution_count": 53,
     "metadata": {},
     "output_type": "execute_result"
    }
   ],
   "source": [
    "hexa_vio.head()"
   ]
  },
  {
   "cell_type": "code",
   "execution_count": 54,
   "metadata": {
    "collapsed": false
   },
   "outputs": [],
   "source": [
    "hexa_vio['Issue Date'] = pd.to_datetime(hexa_vio['Issue Date'])"
   ]
  },
  {
   "cell_type": "code",
   "execution_count": 55,
   "metadata": {
    "collapsed": false
   },
   "outputs": [
    {
     "data": {
      "text/html": [
       "<div>\n",
       "<table border=\"1\" class=\"dataframe\">\n",
       "  <thead>\n",
       "    <tr style=\"text-align: right;\">\n",
       "      <th></th>\n",
       "      <th>GRID_ID</th>\n",
       "      <th>violations</th>\n",
       "    </tr>\n",
       "  </thead>\n",
       "  <tbody>\n",
       "    <tr>\n",
       "      <th>0</th>\n",
       "      <td>AU-67</td>\n",
       "      <td>1</td>\n",
       "    </tr>\n",
       "    <tr>\n",
       "      <th>1</th>\n",
       "      <td>AU-68</td>\n",
       "      <td>1</td>\n",
       "    </tr>\n",
       "    <tr>\n",
       "      <th>2</th>\n",
       "      <td>AU-69</td>\n",
       "      <td>6</td>\n",
       "    </tr>\n",
       "    <tr>\n",
       "      <th>3</th>\n",
       "      <td>AU-73</td>\n",
       "      <td>1</td>\n",
       "    </tr>\n",
       "    <tr>\n",
       "      <th>4</th>\n",
       "      <td>AV-68</td>\n",
       "      <td>5</td>\n",
       "    </tr>\n",
       "  </tbody>\n",
       "</table>\n",
       "</div>"
      ],
      "text/plain": [
       "  GRID_ID  violations\n",
       "0   AU-67           1\n",
       "1   AU-68           1\n",
       "2   AU-69           6\n",
       "3   AU-73           1\n",
       "4   AV-68           5"
      ]
     },
     "execution_count": 55,
     "metadata": {},
     "output_type": "execute_result"
    }
   ],
   "source": [
    "hexa_vio = hexa_vio.groupby('GRID_ID').agg({'Summons Number':'count'})\n",
    "hexa_vio.reset_index(inplace=True)\n",
    "hexa_vio.columns = ['GRID_ID', 'violations']\n",
    "hexa_vio.head()"
   ]
  },
  {
   "cell_type": "code",
   "execution_count": 56,
   "metadata": {
    "collapsed": false
   },
   "outputs": [],
   "source": [
    "nyc_grids = pd.merge(nyc_grids, hexa_vio, on='GRID_ID', how='left').fillna(0)"
   ]
  },
  {
   "cell_type": "code",
   "execution_count": 57,
   "metadata": {
    "collapsed": false
   },
   "outputs": [
    {
     "data": {
      "text/html": [
       "<div>\n",
       "<table border=\"1\" class=\"dataframe\">\n",
       "  <thead>\n",
       "    <tr style=\"text-align: right;\">\n",
       "      <th></th>\n",
       "      <th>GRID_ID</th>\n",
       "      <th>geometry</th>\n",
       "      <th>idle_count</th>\n",
       "      <th>idle_time_count</th>\n",
       "      <th>pickup_count</th>\n",
       "      <th>dropoff_count</th>\n",
       "      <th>violations</th>\n",
       "    </tr>\n",
       "  </thead>\n",
       "  <tbody>\n",
       "    <tr>\n",
       "      <th>0</th>\n",
       "      <td>BZ-45</td>\n",
       "      <td>POLYGON ((-73.88922678226744 40.72991440009237...</td>\n",
       "      <td>0.000000</td>\n",
       "      <td>0.000000</td>\n",
       "      <td>0.000000</td>\n",
       "      <td>0.000000</td>\n",
       "      <td>0.0</td>\n",
       "    </tr>\n",
       "    <tr>\n",
       "      <th>1</th>\n",
       "      <td>CC-66</td>\n",
       "      <td>POLYGON ((-73.8751493522219 40.64022017573762,...</td>\n",
       "      <td>0.618750</td>\n",
       "      <td>209.358646</td>\n",
       "      <td>0.396875</td>\n",
       "      <td>1.431250</td>\n",
       "      <td>1.0</td>\n",
       "    </tr>\n",
       "    <tr>\n",
       "      <th>2</th>\n",
       "      <td>CF-32</td>\n",
       "      <td>POLYGON ((-73.85951521552445 40.78556019282625...</td>\n",
       "      <td>0.000000</td>\n",
       "      <td>0.000000</td>\n",
       "      <td>0.000000</td>\n",
       "      <td>0.000000</td>\n",
       "      <td>0.0</td>\n",
       "    </tr>\n",
       "    <tr>\n",
       "      <th>3</th>\n",
       "      <td>BG-76</td>\n",
       "      <td>POLYGON ((-73.97948851930843 40.59857430474219...</td>\n",
       "      <td>3.293151</td>\n",
       "      <td>1175.579635</td>\n",
       "      <td>0.150685</td>\n",
       "      <td>4.169863</td>\n",
       "      <td>0.0</td>\n",
       "    </tr>\n",
       "    <tr>\n",
       "      <th>4</th>\n",
       "      <td>CP-44</td>\n",
       "      <td>POLYGON ((-73.8132394398212 40.7339873629611, ...</td>\n",
       "      <td>1.890411</td>\n",
       "      <td>428.033836</td>\n",
       "      <td>1.320548</td>\n",
       "      <td>16.690411</td>\n",
       "      <td>1.0</td>\n",
       "    </tr>\n",
       "  </tbody>\n",
       "</table>\n",
       "</div>"
      ],
      "text/plain": [
       "  GRID_ID                                           geometry  idle_count  \\\n",
       "0   BZ-45  POLYGON ((-73.88922678226744 40.72991440009237...    0.000000   \n",
       "1   CC-66  POLYGON ((-73.8751493522219 40.64022017573762,...    0.618750   \n",
       "2   CF-32  POLYGON ((-73.85951521552445 40.78556019282625...    0.000000   \n",
       "3   BG-76  POLYGON ((-73.97948851930843 40.59857430474219...    3.293151   \n",
       "4   CP-44  POLYGON ((-73.8132394398212 40.7339873629611, ...    1.890411   \n",
       "\n",
       "   idle_time_count  pickup_count  dropoff_count  violations  \n",
       "0         0.000000      0.000000       0.000000         0.0  \n",
       "1       209.358646      0.396875       1.431250         1.0  \n",
       "2         0.000000      0.000000       0.000000         0.0  \n",
       "3      1175.579635      0.150685       4.169863         0.0  \n",
       "4       428.033836      1.320548      16.690411         1.0  "
      ]
     },
     "execution_count": 57,
     "metadata": {},
     "output_type": "execute_result"
    }
   ],
   "source": [
    "nyc_grids.head()"
   ]
  },
  {
   "cell_type": "markdown",
   "metadata": {},
   "source": [
    "## Parks"
   ]
  },
  {
   "cell_type": "code",
   "execution_count": 58,
   "metadata": {
    "collapsed": true
   },
   "outputs": [],
   "source": [
    "parks = pd.read_csv(\"./Capstone - Taxi Relief Stand/Data_Warehouse/Parks/grid_parks.csv\")"
   ]
  },
  {
   "cell_type": "code",
   "execution_count": 59,
   "metadata": {
    "collapsed": false
   },
   "outputs": [
    {
     "data": {
      "text/html": [
       "<div>\n",
       "<table border=\"1\" class=\"dataframe\">\n",
       "  <thead>\n",
       "    <tr style=\"text-align: right;\">\n",
       "      <th></th>\n",
       "      <th>cartodb_id</th>\n",
       "      <th>the_geom</th>\n",
       "      <th>field_1</th>\n",
       "      <th>grid_id</th>\n",
       "      <th>id</th>\n",
       "      <th>count_vals</th>\n",
       "      <th>count_vals_density</th>\n",
       "    </tr>\n",
       "  </thead>\n",
       "  <tbody>\n",
       "    <tr>\n",
       "      <th>0</th>\n",
       "      <td>7</td>\n",
       "      <td>0106000020E61000000100000001030000000100000007...</td>\n",
       "      <td>6</td>\n",
       "      <td>CK-57</td>\n",
       "      <td>0</td>\n",
       "      <td>3</td>\n",
       "      <td>0.000016</td>\n",
       "    </tr>\n",
       "    <tr>\n",
       "      <th>1</th>\n",
       "      <td>10</td>\n",
       "      <td>0106000020E61000000100000001030000000100000007...</td>\n",
       "      <td>9</td>\n",
       "      <td>CH-44</td>\n",
       "      <td>0</td>\n",
       "      <td>3</td>\n",
       "      <td>0.000016</td>\n",
       "    </tr>\n",
       "  </tbody>\n",
       "</table>\n",
       "</div>"
      ],
      "text/plain": [
       "   cartodb_id                                           the_geom  field_1  \\\n",
       "0           7  0106000020E61000000100000001030000000100000007...        6   \n",
       "1          10  0106000020E61000000100000001030000000100000007...        9   \n",
       "\n",
       "  grid_id  id  count_vals  count_vals_density  \n",
       "0   CK-57   0           3            0.000016  \n",
       "1   CH-44   0           3            0.000016  "
      ]
     },
     "execution_count": 59,
     "metadata": {},
     "output_type": "execute_result"
    }
   ],
   "source": [
    "parks.head(2)"
   ]
  },
  {
   "cell_type": "code",
   "execution_count": 60,
   "metadata": {
    "collapsed": false,
    "scrolled": false
   },
   "outputs": [
    {
     "data": {
      "text/plain": [
       "Index([u'cartodb_id', u'the_geom', u'field_1', u'grid_id', u'id',\n",
       "       u'count_vals', u'count_vals_density'],\n",
       "      dtype='object')"
      ]
     },
     "execution_count": 60,
     "metadata": {},
     "output_type": "execute_result"
    }
   ],
   "source": [
    "parks.columns"
   ]
  },
  {
   "cell_type": "code",
   "execution_count": 61,
   "metadata": {
    "collapsed": true
   },
   "outputs": [],
   "source": [
    "parks.drop([u'cartodb_id', u'the_geom', u'field_1', u'id',\n",
    "        u'count_vals_density'], axis=1, inplace = True)"
   ]
  },
  {
   "cell_type": "code",
   "execution_count": 62,
   "metadata": {
    "collapsed": true
   },
   "outputs": [],
   "source": [
    "parks.columns = ['GRID_ID', 'parks']"
   ]
  },
  {
   "cell_type": "code",
   "execution_count": 63,
   "metadata": {
    "collapsed": false
   },
   "outputs": [
    {
     "data": {
      "text/html": [
       "<div>\n",
       "<table border=\"1\" class=\"dataframe\">\n",
       "  <thead>\n",
       "    <tr style=\"text-align: right;\">\n",
       "      <th></th>\n",
       "      <th>GRID_ID</th>\n",
       "      <th>parks</th>\n",
       "    </tr>\n",
       "  </thead>\n",
       "  <tbody>\n",
       "    <tr>\n",
       "      <th>0</th>\n",
       "      <td>CK-57</td>\n",
       "      <td>3</td>\n",
       "    </tr>\n",
       "    <tr>\n",
       "      <th>1</th>\n",
       "      <td>CH-44</td>\n",
       "      <td>3</td>\n",
       "    </tr>\n",
       "    <tr>\n",
       "      <th>2</th>\n",
       "      <td>BU-26</td>\n",
       "      <td>1</td>\n",
       "    </tr>\n",
       "    <tr>\n",
       "      <th>3</th>\n",
       "      <td>DE-41</td>\n",
       "      <td>1</td>\n",
       "    </tr>\n",
       "    <tr>\n",
       "      <th>4</th>\n",
       "      <td>BR-57</td>\n",
       "      <td>1</td>\n",
       "    </tr>\n",
       "  </tbody>\n",
       "</table>\n",
       "</div>"
      ],
      "text/plain": [
       "  GRID_ID  parks\n",
       "0   CK-57      3\n",
       "1   CH-44      3\n",
       "2   BU-26      1\n",
       "3   DE-41      1\n",
       "4   BR-57      1"
      ]
     },
     "execution_count": 63,
     "metadata": {},
     "output_type": "execute_result"
    }
   ],
   "source": [
    "parks.head()"
   ]
  },
  {
   "cell_type": "code",
   "execution_count": 64,
   "metadata": {
    "collapsed": false
   },
   "outputs": [
    {
     "data": {
      "text/html": [
       "<div>\n",
       "<table border=\"1\" class=\"dataframe\">\n",
       "  <thead>\n",
       "    <tr style=\"text-align: right;\">\n",
       "      <th></th>\n",
       "      <th>GRID_ID</th>\n",
       "      <th>geometry</th>\n",
       "      <th>idle_count</th>\n",
       "      <th>idle_time_count</th>\n",
       "      <th>pickup_count</th>\n",
       "      <th>dropoff_count</th>\n",
       "      <th>violations</th>\n",
       "      <th>parks</th>\n",
       "    </tr>\n",
       "  </thead>\n",
       "  <tbody>\n",
       "    <tr>\n",
       "      <th>0</th>\n",
       "      <td>BZ-45</td>\n",
       "      <td>POLYGON ((-73.88922678226744 40.72991440009237...</td>\n",
       "      <td>0.000000</td>\n",
       "      <td>0.000000</td>\n",
       "      <td>0.000000</td>\n",
       "      <td>0.000000</td>\n",
       "      <td>0.0</td>\n",
       "      <td>0.0</td>\n",
       "    </tr>\n",
       "    <tr>\n",
       "      <th>1</th>\n",
       "      <td>CC-66</td>\n",
       "      <td>POLYGON ((-73.8751493522219 40.64022017573762,...</td>\n",
       "      <td>0.618750</td>\n",
       "      <td>209.358646</td>\n",
       "      <td>0.396875</td>\n",
       "      <td>1.431250</td>\n",
       "      <td>1.0</td>\n",
       "      <td>0.0</td>\n",
       "    </tr>\n",
       "    <tr>\n",
       "      <th>2</th>\n",
       "      <td>CF-32</td>\n",
       "      <td>POLYGON ((-73.85951521552445 40.78556019282625...</td>\n",
       "      <td>0.000000</td>\n",
       "      <td>0.000000</td>\n",
       "      <td>0.000000</td>\n",
       "      <td>0.000000</td>\n",
       "      <td>0.0</td>\n",
       "      <td>0.0</td>\n",
       "    </tr>\n",
       "    <tr>\n",
       "      <th>3</th>\n",
       "      <td>BG-76</td>\n",
       "      <td>POLYGON ((-73.97948851930843 40.59857430474219...</td>\n",
       "      <td>3.293151</td>\n",
       "      <td>1175.579635</td>\n",
       "      <td>0.150685</td>\n",
       "      <td>4.169863</td>\n",
       "      <td>0.0</td>\n",
       "      <td>0.0</td>\n",
       "    </tr>\n",
       "    <tr>\n",
       "      <th>4</th>\n",
       "      <td>CP-44</td>\n",
       "      <td>POLYGON ((-73.8132394398212 40.7339873629611, ...</td>\n",
       "      <td>1.890411</td>\n",
       "      <td>428.033836</td>\n",
       "      <td>1.320548</td>\n",
       "      <td>16.690411</td>\n",
       "      <td>1.0</td>\n",
       "      <td>0.0</td>\n",
       "    </tr>\n",
       "  </tbody>\n",
       "</table>\n",
       "</div>"
      ],
      "text/plain": [
       "  GRID_ID                                           geometry  idle_count  \\\n",
       "0   BZ-45  POLYGON ((-73.88922678226744 40.72991440009237...    0.000000   \n",
       "1   CC-66  POLYGON ((-73.8751493522219 40.64022017573762,...    0.618750   \n",
       "2   CF-32  POLYGON ((-73.85951521552445 40.78556019282625...    0.000000   \n",
       "3   BG-76  POLYGON ((-73.97948851930843 40.59857430474219...    3.293151   \n",
       "4   CP-44  POLYGON ((-73.8132394398212 40.7339873629611, ...    1.890411   \n",
       "\n",
       "   idle_time_count  pickup_count  dropoff_count  violations  parks  \n",
       "0         0.000000      0.000000       0.000000         0.0    0.0  \n",
       "1       209.358646      0.396875       1.431250         1.0    0.0  \n",
       "2         0.000000      0.000000       0.000000         0.0    0.0  \n",
       "3      1175.579635      0.150685       4.169863         0.0    0.0  \n",
       "4       428.033836      1.320548      16.690411         1.0    0.0  "
      ]
     },
     "execution_count": 64,
     "metadata": {},
     "output_type": "execute_result"
    }
   ],
   "source": [
    "nyc_grids = pd.merge(nyc_grids, parks, on='GRID_ID', how='left').fillna(0)\n",
    "nyc_grids.head()"
   ]
  },
  {
   "cell_type": "markdown",
   "metadata": {},
   "source": [
    "## Restaurants"
   ]
  },
  {
   "cell_type": "code",
   "execution_count": 65,
   "metadata": {
    "collapsed": true
   },
   "outputs": [],
   "source": [
    "restaurants = pd.read_csv(\"./Capstone - Taxi Relief Stand/Data_Warehouse/Hexagon_Features_Restaurants/Hexagon_Feature.csv\")"
   ]
  },
  {
   "cell_type": "code",
   "execution_count": 66,
   "metadata": {
    "collapsed": false
   },
   "outputs": [
    {
     "data": {
      "text/html": [
       "<div>\n",
       "<table border=\"1\" class=\"dataframe\">\n",
       "  <thead>\n",
       "    <tr style=\"text-align: right;\">\n",
       "      <th></th>\n",
       "      <th>Unnamed: 0</th>\n",
       "      <th>GRID_ID</th>\n",
       "      <th>Id</th>\n",
       "      <th>geometry</th>\n",
       "      <th>centers</th>\n",
       "      <th>lon</th>\n",
       "      <th>lat</th>\n",
       "      <th>restaurant_indian</th>\n",
       "      <th>restaurant_cheap</th>\n",
       "      <th>hotel</th>\n",
       "      <th>Bangladesh</th>\n",
       "    </tr>\n",
       "  </thead>\n",
       "  <tbody>\n",
       "    <tr>\n",
       "      <th>0</th>\n",
       "      <td>0</td>\n",
       "      <td>BZ-45</td>\n",
       "      <td>1</td>\n",
       "      <td>POLYGON ((-73.88922678226746 40.72991440009238...</td>\n",
       "      <td>POINT (-73.89080619307887 40.73200147282016)</td>\n",
       "      <td>-73.890806</td>\n",
       "      <td>40.732001</td>\n",
       "      <td>0</td>\n",
       "      <td>7</td>\n",
       "      <td>0</td>\n",
       "      <td>0</td>\n",
       "    </tr>\n",
       "    <tr>\n",
       "      <th>1</th>\n",
       "      <td>1</td>\n",
       "      <td>CC-66</td>\n",
       "      <td>2</td>\n",
       "      <td>POLYGON ((-73.87514935222191 40.64022017573761...</td>\n",
       "      <td>POINT (-73.87672619958167 40.64230746486044)</td>\n",
       "      <td>-73.876726</td>\n",
       "      <td>40.642307</td>\n",
       "      <td>0</td>\n",
       "      <td>0</td>\n",
       "      <td>0</td>\n",
       "      <td>0</td>\n",
       "    </tr>\n",
       "  </tbody>\n",
       "</table>\n",
       "</div>"
      ],
      "text/plain": [
       "   Unnamed: 0 GRID_ID  Id                                           geometry  \\\n",
       "0           0   BZ-45   1  POLYGON ((-73.88922678226746 40.72991440009238...   \n",
       "1           1   CC-66   2  POLYGON ((-73.87514935222191 40.64022017573761...   \n",
       "\n",
       "                                        centers        lon        lat  \\\n",
       "0  POINT (-73.89080619307887 40.73200147282016) -73.890806  40.732001   \n",
       "1  POINT (-73.87672619958167 40.64230746486044) -73.876726  40.642307   \n",
       "\n",
       "   restaurant_indian  restaurant_cheap  hotel  Bangladesh  \n",
       "0                  0                 7      0           0  \n",
       "1                  0                 0      0           0  "
      ]
     },
     "execution_count": 66,
     "metadata": {},
     "output_type": "execute_result"
    }
   ],
   "source": [
    "restaurants.head(2)"
   ]
  },
  {
   "cell_type": "code",
   "execution_count": 67,
   "metadata": {
    "collapsed": false
   },
   "outputs": [
    {
     "data": {
      "text/plain": [
       "Index([u'Unnamed: 0', u'GRID_ID', u'Id', u'geometry', u'centers', u'lon',\n",
       "       u'lat', u'restaurant_indian', u'restaurant_cheap', u'hotel',\n",
       "       u'Bangladesh'],\n",
       "      dtype='object')"
      ]
     },
     "execution_count": 67,
     "metadata": {},
     "output_type": "execute_result"
    }
   ],
   "source": [
    "restaurants.columns"
   ]
  },
  {
   "cell_type": "code",
   "execution_count": 68,
   "metadata": {
    "collapsed": true
   },
   "outputs": [],
   "source": [
    "restaurants.drop([u'Unnamed: 0', u'Id', u'geometry', u'centers', u'lon',\n",
    "       u'lat'], axis=1, inplace = True)"
   ]
  },
  {
   "cell_type": "code",
   "execution_count": 69,
   "metadata": {
    "collapsed": false
   },
   "outputs": [
    {
     "data": {
      "text/html": [
       "<div>\n",
       "<table border=\"1\" class=\"dataframe\">\n",
       "  <thead>\n",
       "    <tr style=\"text-align: right;\">\n",
       "      <th></th>\n",
       "      <th>GRID_ID</th>\n",
       "      <th>restaurant_indian</th>\n",
       "      <th>restaurant_cheap</th>\n",
       "      <th>hotel</th>\n",
       "      <th>Bangladesh</th>\n",
       "    </tr>\n",
       "  </thead>\n",
       "  <tbody>\n",
       "    <tr>\n",
       "      <th>0</th>\n",
       "      <td>BZ-45</td>\n",
       "      <td>0</td>\n",
       "      <td>7</td>\n",
       "      <td>0</td>\n",
       "      <td>0</td>\n",
       "    </tr>\n",
       "    <tr>\n",
       "      <th>1</th>\n",
       "      <td>CC-66</td>\n",
       "      <td>0</td>\n",
       "      <td>0</td>\n",
       "      <td>0</td>\n",
       "      <td>0</td>\n",
       "    </tr>\n",
       "    <tr>\n",
       "      <th>2</th>\n",
       "      <td>CF-32</td>\n",
       "      <td>0</td>\n",
       "      <td>0</td>\n",
       "      <td>0</td>\n",
       "      <td>0</td>\n",
       "    </tr>\n",
       "    <tr>\n",
       "      <th>3</th>\n",
       "      <td>BG-76</td>\n",
       "      <td>0</td>\n",
       "      <td>17</td>\n",
       "      <td>0</td>\n",
       "      <td>0</td>\n",
       "    </tr>\n",
       "    <tr>\n",
       "      <th>4</th>\n",
       "      <td>CP-44</td>\n",
       "      <td>0</td>\n",
       "      <td>4</td>\n",
       "      <td>0</td>\n",
       "      <td>0</td>\n",
       "    </tr>\n",
       "  </tbody>\n",
       "</table>\n",
       "</div>"
      ],
      "text/plain": [
       "  GRID_ID  restaurant_indian  restaurant_cheap  hotel  Bangladesh\n",
       "0   BZ-45                  0                 7      0           0\n",
       "1   CC-66                  0                 0      0           0\n",
       "2   CF-32                  0                 0      0           0\n",
       "3   BG-76                  0                17      0           0\n",
       "4   CP-44                  0                 4      0           0"
      ]
     },
     "execution_count": 69,
     "metadata": {},
     "output_type": "execute_result"
    }
   ],
   "source": [
    "restaurants.head()"
   ]
  },
  {
   "cell_type": "code",
   "execution_count": 70,
   "metadata": {
    "collapsed": false
   },
   "outputs": [],
   "source": [
    "restaurants.columns = [u'GRID_ID', u'rest_indian', u'rest_cheap',\n",
    "       u'hotel', u'Bangladesh']"
   ]
  },
  {
   "cell_type": "code",
   "execution_count": 71,
   "metadata": {
    "collapsed": false
   },
   "outputs": [
    {
     "data": {
      "text/html": [
       "<div>\n",
       "<table border=\"1\" class=\"dataframe\">\n",
       "  <thead>\n",
       "    <tr style=\"text-align: right;\">\n",
       "      <th></th>\n",
       "      <th>GRID_ID</th>\n",
       "      <th>rest_indian</th>\n",
       "      <th>rest_cheap</th>\n",
       "      <th>hotel</th>\n",
       "      <th>Bangladesh</th>\n",
       "    </tr>\n",
       "  </thead>\n",
       "  <tbody>\n",
       "    <tr>\n",
       "      <th>0</th>\n",
       "      <td>BZ-45</td>\n",
       "      <td>0</td>\n",
       "      <td>7</td>\n",
       "      <td>0</td>\n",
       "      <td>0</td>\n",
       "    </tr>\n",
       "    <tr>\n",
       "      <th>1</th>\n",
       "      <td>CC-66</td>\n",
       "      <td>0</td>\n",
       "      <td>0</td>\n",
       "      <td>0</td>\n",
       "      <td>0</td>\n",
       "    </tr>\n",
       "  </tbody>\n",
       "</table>\n",
       "</div>"
      ],
      "text/plain": [
       "  GRID_ID  rest_indian  rest_cheap  hotel  Bangladesh\n",
       "0   BZ-45            0           7      0           0\n",
       "1   CC-66            0           0      0           0"
      ]
     },
     "execution_count": 71,
     "metadata": {},
     "output_type": "execute_result"
    }
   ],
   "source": [
    "restaurants.head(2)"
   ]
  },
  {
   "cell_type": "code",
   "execution_count": 72,
   "metadata": {
    "collapsed": false
   },
   "outputs": [
    {
     "data": {
      "text/html": [
       "<div>\n",
       "<table border=\"1\" class=\"dataframe\">\n",
       "  <thead>\n",
       "    <tr style=\"text-align: right;\">\n",
       "      <th></th>\n",
       "      <th>GRID_ID</th>\n",
       "      <th>geometry</th>\n",
       "      <th>idle_count</th>\n",
       "      <th>idle_time_count</th>\n",
       "      <th>pickup_count</th>\n",
       "      <th>dropoff_count</th>\n",
       "      <th>violations</th>\n",
       "      <th>parks</th>\n",
       "      <th>rest_indian</th>\n",
       "      <th>rest_cheap</th>\n",
       "      <th>hotel</th>\n",
       "      <th>Bangladesh</th>\n",
       "    </tr>\n",
       "  </thead>\n",
       "  <tbody>\n",
       "    <tr>\n",
       "      <th>0</th>\n",
       "      <td>BZ-45</td>\n",
       "      <td>POLYGON ((-73.88922678226744 40.72991440009237...</td>\n",
       "      <td>0.000000</td>\n",
       "      <td>0.000000</td>\n",
       "      <td>0.000000</td>\n",
       "      <td>0.000000</td>\n",
       "      <td>0.0</td>\n",
       "      <td>0.0</td>\n",
       "      <td>0</td>\n",
       "      <td>7</td>\n",
       "      <td>0</td>\n",
       "      <td>0</td>\n",
       "    </tr>\n",
       "    <tr>\n",
       "      <th>1</th>\n",
       "      <td>CC-66</td>\n",
       "      <td>POLYGON ((-73.8751493522219 40.64022017573762,...</td>\n",
       "      <td>0.618750</td>\n",
       "      <td>209.358646</td>\n",
       "      <td>0.396875</td>\n",
       "      <td>1.431250</td>\n",
       "      <td>1.0</td>\n",
       "      <td>0.0</td>\n",
       "      <td>0</td>\n",
       "      <td>0</td>\n",
       "      <td>0</td>\n",
       "      <td>0</td>\n",
       "    </tr>\n",
       "    <tr>\n",
       "      <th>2</th>\n",
       "      <td>CF-32</td>\n",
       "      <td>POLYGON ((-73.85951521552445 40.78556019282625...</td>\n",
       "      <td>0.000000</td>\n",
       "      <td>0.000000</td>\n",
       "      <td>0.000000</td>\n",
       "      <td>0.000000</td>\n",
       "      <td>0.0</td>\n",
       "      <td>0.0</td>\n",
       "      <td>0</td>\n",
       "      <td>0</td>\n",
       "      <td>0</td>\n",
       "      <td>0</td>\n",
       "    </tr>\n",
       "    <tr>\n",
       "      <th>3</th>\n",
       "      <td>BG-76</td>\n",
       "      <td>POLYGON ((-73.97948851930843 40.59857430474219...</td>\n",
       "      <td>3.293151</td>\n",
       "      <td>1175.579635</td>\n",
       "      <td>0.150685</td>\n",
       "      <td>4.169863</td>\n",
       "      <td>0.0</td>\n",
       "      <td>0.0</td>\n",
       "      <td>0</td>\n",
       "      <td>17</td>\n",
       "      <td>0</td>\n",
       "      <td>0</td>\n",
       "    </tr>\n",
       "    <tr>\n",
       "      <th>4</th>\n",
       "      <td>CP-44</td>\n",
       "      <td>POLYGON ((-73.8132394398212 40.7339873629611, ...</td>\n",
       "      <td>1.890411</td>\n",
       "      <td>428.033836</td>\n",
       "      <td>1.320548</td>\n",
       "      <td>16.690411</td>\n",
       "      <td>1.0</td>\n",
       "      <td>0.0</td>\n",
       "      <td>0</td>\n",
       "      <td>4</td>\n",
       "      <td>0</td>\n",
       "      <td>0</td>\n",
       "    </tr>\n",
       "  </tbody>\n",
       "</table>\n",
       "</div>"
      ],
      "text/plain": [
       "  GRID_ID                                           geometry  idle_count  \\\n",
       "0   BZ-45  POLYGON ((-73.88922678226744 40.72991440009237...    0.000000   \n",
       "1   CC-66  POLYGON ((-73.8751493522219 40.64022017573762,...    0.618750   \n",
       "2   CF-32  POLYGON ((-73.85951521552445 40.78556019282625...    0.000000   \n",
       "3   BG-76  POLYGON ((-73.97948851930843 40.59857430474219...    3.293151   \n",
       "4   CP-44  POLYGON ((-73.8132394398212 40.7339873629611, ...    1.890411   \n",
       "\n",
       "   idle_time_count  pickup_count  dropoff_count  violations  parks  \\\n",
       "0         0.000000      0.000000       0.000000         0.0    0.0   \n",
       "1       209.358646      0.396875       1.431250         1.0    0.0   \n",
       "2         0.000000      0.000000       0.000000         0.0    0.0   \n",
       "3      1175.579635      0.150685       4.169863         0.0    0.0   \n",
       "4       428.033836      1.320548      16.690411         1.0    0.0   \n",
       "\n",
       "   rest_indian  rest_cheap  hotel  Bangladesh  \n",
       "0            0           7      0           0  \n",
       "1            0           0      0           0  \n",
       "2            0           0      0           0  \n",
       "3            0          17      0           0  \n",
       "4            0           4      0           0  "
      ]
     },
     "execution_count": 72,
     "metadata": {},
     "output_type": "execute_result"
    }
   ],
   "source": [
    "nyc_grids = pd.merge(nyc_grids, restaurants, on='GRID_ID', how='left').fillna(0)\n",
    "nyc_grids.head()"
   ]
  },
  {
   "cell_type": "markdown",
   "metadata": {},
   "source": [
    "## No. of relief stands"
   ]
  },
  {
   "cell_type": "markdown",
   "metadata": {},
   "source": [
    "### 60 relief stands"
   ]
  },
  {
   "cell_type": "code",
   "execution_count": 73,
   "metadata": {
    "collapsed": false
   },
   "outputs": [],
   "source": [
    "rs_count = relief_hexagon.groupby('GRID_ID').agg({'relief_stand_idx':'count'})\n",
    "rs_count.reset_index(inplace = True)\n",
    "rs_count.columns = ['GRID_ID', 'rs_count']"
   ]
  },
  {
   "cell_type": "code",
   "execution_count": 74,
   "metadata": {
    "collapsed": false
   },
   "outputs": [
    {
     "data": {
      "text/html": [
       "<div>\n",
       "<table border=\"1\" class=\"dataframe\">\n",
       "  <thead>\n",
       "    <tr style=\"text-align: right;\">\n",
       "      <th></th>\n",
       "      <th>GRID_ID</th>\n",
       "      <th>rs_count</th>\n",
       "    </tr>\n",
       "  </thead>\n",
       "  <tbody>\n",
       "    <tr>\n",
       "      <th>0</th>\n",
       "      <td>BA-49</td>\n",
       "      <td>1</td>\n",
       "    </tr>\n",
       "    <tr>\n",
       "      <th>1</th>\n",
       "      <td>BB-43</td>\n",
       "      <td>1</td>\n",
       "    </tr>\n",
       "    <tr>\n",
       "      <th>2</th>\n",
       "      <td>BB-47</td>\n",
       "      <td>1</td>\n",
       "    </tr>\n",
       "    <tr>\n",
       "      <th>3</th>\n",
       "      <td>BB-48</td>\n",
       "      <td>1</td>\n",
       "    </tr>\n",
       "    <tr>\n",
       "      <th>4</th>\n",
       "      <td>BB-52</td>\n",
       "      <td>1</td>\n",
       "    </tr>\n",
       "  </tbody>\n",
       "</table>\n",
       "</div>"
      ],
      "text/plain": [
       "  GRID_ID  rs_count\n",
       "0   BA-49         1\n",
       "1   BB-43         1\n",
       "2   BB-47         1\n",
       "3   BB-48         1\n",
       "4   BB-52         1"
      ]
     },
     "execution_count": 74,
     "metadata": {},
     "output_type": "execute_result"
    }
   ],
   "source": [
    "rs_count.head()"
   ]
  },
  {
   "cell_type": "code",
   "execution_count": 75,
   "metadata": {
    "collapsed": false
   },
   "outputs": [
    {
     "data": {
      "text/html": [
       "<div>\n",
       "<table border=\"1\" class=\"dataframe\">\n",
       "  <thead>\n",
       "    <tr style=\"text-align: right;\">\n",
       "      <th></th>\n",
       "      <th>GRID_ID</th>\n",
       "      <th>geometry</th>\n",
       "      <th>idle_count</th>\n",
       "      <th>idle_time_count</th>\n",
       "      <th>pickup_count</th>\n",
       "      <th>dropoff_count</th>\n",
       "      <th>violations</th>\n",
       "      <th>parks</th>\n",
       "      <th>rest_indian</th>\n",
       "      <th>rest_cheap</th>\n",
       "      <th>hotel</th>\n",
       "      <th>Bangladesh</th>\n",
       "      <th>rs_count</th>\n",
       "    </tr>\n",
       "  </thead>\n",
       "  <tbody>\n",
       "    <tr>\n",
       "      <th>0</th>\n",
       "      <td>BZ-45</td>\n",
       "      <td>POLYGON ((-73.88922678226744 40.72991440009237...</td>\n",
       "      <td>0.000000</td>\n",
       "      <td>0.000000</td>\n",
       "      <td>0.000000</td>\n",
       "      <td>0.000000</td>\n",
       "      <td>0.0</td>\n",
       "      <td>0.0</td>\n",
       "      <td>0</td>\n",
       "      <td>7</td>\n",
       "      <td>0</td>\n",
       "      <td>0</td>\n",
       "      <td>0.0</td>\n",
       "    </tr>\n",
       "    <tr>\n",
       "      <th>1</th>\n",
       "      <td>CC-66</td>\n",
       "      <td>POLYGON ((-73.8751493522219 40.64022017573762,...</td>\n",
       "      <td>0.618750</td>\n",
       "      <td>209.358646</td>\n",
       "      <td>0.396875</td>\n",
       "      <td>1.431250</td>\n",
       "      <td>1.0</td>\n",
       "      <td>0.0</td>\n",
       "      <td>0</td>\n",
       "      <td>0</td>\n",
       "      <td>0</td>\n",
       "      <td>0</td>\n",
       "      <td>0.0</td>\n",
       "    </tr>\n",
       "    <tr>\n",
       "      <th>2</th>\n",
       "      <td>CF-32</td>\n",
       "      <td>POLYGON ((-73.85951521552445 40.78556019282625...</td>\n",
       "      <td>0.000000</td>\n",
       "      <td>0.000000</td>\n",
       "      <td>0.000000</td>\n",
       "      <td>0.000000</td>\n",
       "      <td>0.0</td>\n",
       "      <td>0.0</td>\n",
       "      <td>0</td>\n",
       "      <td>0</td>\n",
       "      <td>0</td>\n",
       "      <td>0</td>\n",
       "      <td>0.0</td>\n",
       "    </tr>\n",
       "    <tr>\n",
       "      <th>3</th>\n",
       "      <td>BG-76</td>\n",
       "      <td>POLYGON ((-73.97948851930843 40.59857430474219...</td>\n",
       "      <td>3.293151</td>\n",
       "      <td>1175.579635</td>\n",
       "      <td>0.150685</td>\n",
       "      <td>4.169863</td>\n",
       "      <td>0.0</td>\n",
       "      <td>0.0</td>\n",
       "      <td>0</td>\n",
       "      <td>17</td>\n",
       "      <td>0</td>\n",
       "      <td>0</td>\n",
       "      <td>0.0</td>\n",
       "    </tr>\n",
       "    <tr>\n",
       "      <th>4</th>\n",
       "      <td>CP-44</td>\n",
       "      <td>POLYGON ((-73.8132394398212 40.7339873629611, ...</td>\n",
       "      <td>1.890411</td>\n",
       "      <td>428.033836</td>\n",
       "      <td>1.320548</td>\n",
       "      <td>16.690411</td>\n",
       "      <td>1.0</td>\n",
       "      <td>0.0</td>\n",
       "      <td>0</td>\n",
       "      <td>4</td>\n",
       "      <td>0</td>\n",
       "      <td>0</td>\n",
       "      <td>0.0</td>\n",
       "    </tr>\n",
       "  </tbody>\n",
       "</table>\n",
       "</div>"
      ],
      "text/plain": [
       "  GRID_ID                                           geometry  idle_count  \\\n",
       "0   BZ-45  POLYGON ((-73.88922678226744 40.72991440009237...    0.000000   \n",
       "1   CC-66  POLYGON ((-73.8751493522219 40.64022017573762,...    0.618750   \n",
       "2   CF-32  POLYGON ((-73.85951521552445 40.78556019282625...    0.000000   \n",
       "3   BG-76  POLYGON ((-73.97948851930843 40.59857430474219...    3.293151   \n",
       "4   CP-44  POLYGON ((-73.8132394398212 40.7339873629611, ...    1.890411   \n",
       "\n",
       "   idle_time_count  pickup_count  dropoff_count  violations  parks  \\\n",
       "0         0.000000      0.000000       0.000000         0.0    0.0   \n",
       "1       209.358646      0.396875       1.431250         1.0    0.0   \n",
       "2         0.000000      0.000000       0.000000         0.0    0.0   \n",
       "3      1175.579635      0.150685       4.169863         0.0    0.0   \n",
       "4       428.033836      1.320548      16.690411         1.0    0.0   \n",
       "\n",
       "   rest_indian  rest_cheap  hotel  Bangladesh  rs_count  \n",
       "0            0           7      0           0       0.0  \n",
       "1            0           0      0           0       0.0  \n",
       "2            0           0      0           0       0.0  \n",
       "3            0          17      0           0       0.0  \n",
       "4            0           4      0           0       0.0  "
      ]
     },
     "execution_count": 75,
     "metadata": {},
     "output_type": "execute_result"
    }
   ],
   "source": [
    "nyc_grids = pd.merge(nyc_grids, rs_count, on='GRID_ID', how='left').fillna(0)\n",
    "nyc_grids.head()"
   ]
  },
  {
   "cell_type": "markdown",
   "metadata": {},
   "source": [
    "## Extract the final dataframe with all features for nyc"
   ]
  },
  {
   "cell_type": "code",
   "execution_count": 76,
   "metadata": {
    "collapsed": false
   },
   "outputs": [],
   "source": [
    "nyc_grids.to_file(\"./vish_final_hexagon_df.shp\")"
   ]
  },
  {
   "cell_type": "code",
   "execution_count": 96,
   "metadata": {
    "collapsed": false
   },
   "outputs": [
    {
     "data": {
      "text/plain": [
       "geopandas.geodataframe.GeoDataFrame"
      ]
     },
     "execution_count": 96,
     "metadata": {},
     "output_type": "execute_result"
    }
   ],
   "source": [
    "type(nyc_grids)"
   ]
  },
  {
   "cell_type": "code",
   "execution_count": 99,
   "metadata": {
    "collapsed": false
   },
   "outputs": [
    {
     "ename": "ValueError",
     "evalue": "Null layer",
     "output_type": "error",
     "traceback": [
      "\u001b[0;31m---------------------------------------------------------------------------\u001b[0m",
      "\u001b[0;31mValueError\u001b[0m                                Traceback (most recent call last)",
      "\u001b[0;32m<ipython-input-99-7a79174814c5>\u001b[0m in \u001b[0;36m<module>\u001b[0;34m()\u001b[0m\n\u001b[0;32m----> 1\u001b[0;31m \u001b[0mnyc_grids\u001b[0m\u001b[1;33m.\u001b[0m\u001b[0mto_file\u001b[0m\u001b[1;33m(\u001b[0m\u001b[1;34m'./vish_final_hexagon_df.gpx'\u001b[0m\u001b[1;33m,\u001b[0m \u001b[1;34m'GPX'\u001b[0m\u001b[1;33m)\u001b[0m\u001b[1;33m\u001b[0m\u001b[0m\n\u001b[0m",
      "\u001b[0;32mC:\\Users\\Vishwajeet\\Anaconda2\\lib\\site-packages\\geopandas\\geodataframe.pyc\u001b[0m in \u001b[0;36mto_file\u001b[0;34m(self, filename, driver, schema, **kwargs)\u001b[0m\n\u001b[1;32m    341\u001b[0m         \"\"\"\n\u001b[1;32m    342\u001b[0m         \u001b[1;32mfrom\u001b[0m \u001b[0mgeopandas\u001b[0m\u001b[1;33m.\u001b[0m\u001b[0mio\u001b[0m\u001b[1;33m.\u001b[0m\u001b[0mfile\u001b[0m \u001b[1;32mimport\u001b[0m \u001b[0mto_file\u001b[0m\u001b[1;33m\u001b[0m\u001b[0m\n\u001b[0;32m--> 343\u001b[0;31m         \u001b[0mto_file\u001b[0m\u001b[1;33m(\u001b[0m\u001b[0mself\u001b[0m\u001b[1;33m,\u001b[0m \u001b[0mfilename\u001b[0m\u001b[1;33m,\u001b[0m \u001b[0mdriver\u001b[0m\u001b[1;33m,\u001b[0m \u001b[0mschema\u001b[0m\u001b[1;33m,\u001b[0m \u001b[1;33m**\u001b[0m\u001b[0mkwargs\u001b[0m\u001b[1;33m)\u001b[0m\u001b[1;33m\u001b[0m\u001b[0m\n\u001b[0m\u001b[1;32m    344\u001b[0m \u001b[1;33m\u001b[0m\u001b[0m\n\u001b[1;32m    345\u001b[0m     \u001b[1;32mdef\u001b[0m \u001b[0mto_crs\u001b[0m\u001b[1;33m(\u001b[0m\u001b[0mself\u001b[0m\u001b[1;33m,\u001b[0m \u001b[0mcrs\u001b[0m\u001b[1;33m=\u001b[0m\u001b[0mNone\u001b[0m\u001b[1;33m,\u001b[0m \u001b[0mepsg\u001b[0m\u001b[1;33m=\u001b[0m\u001b[0mNone\u001b[0m\u001b[1;33m,\u001b[0m \u001b[0minplace\u001b[0m\u001b[1;33m=\u001b[0m\u001b[0mFalse\u001b[0m\u001b[1;33m)\u001b[0m\u001b[1;33m:\u001b[0m\u001b[1;33m\u001b[0m\u001b[0m\n",
      "\u001b[0;32mC:\\Users\\Vishwajeet\\Anaconda2\\lib\\site-packages\\geopandas\\io\\file.pyc\u001b[0m in \u001b[0;36mto_file\u001b[0;34m(df, filename, driver, schema, **kwargs)\u001b[0m\n\u001b[1;32m     59\u001b[0m     \u001b[0mfilename\u001b[0m \u001b[1;33m=\u001b[0m \u001b[0mos\u001b[0m\u001b[1;33m.\u001b[0m\u001b[0mpath\u001b[0m\u001b[1;33m.\u001b[0m\u001b[0mabspath\u001b[0m\u001b[1;33m(\u001b[0m\u001b[0mos\u001b[0m\u001b[1;33m.\u001b[0m\u001b[0mpath\u001b[0m\u001b[1;33m.\u001b[0m\u001b[0mexpanduser\u001b[0m\u001b[1;33m(\u001b[0m\u001b[0mfilename\u001b[0m\u001b[1;33m)\u001b[0m\u001b[1;33m)\u001b[0m\u001b[1;33m\u001b[0m\u001b[0m\n\u001b[1;32m     60\u001b[0m     with fiona.open(filename, 'w', driver=driver, crs=df.crs,\n\u001b[0;32m---> 61\u001b[0;31m                     schema=schema, **kwargs) as c:\n\u001b[0m\u001b[1;32m     62\u001b[0m         \u001b[1;32mfor\u001b[0m \u001b[0mfeature\u001b[0m \u001b[1;32min\u001b[0m \u001b[0mdf\u001b[0m\u001b[1;33m.\u001b[0m\u001b[0miterfeatures\u001b[0m\u001b[1;33m(\u001b[0m\u001b[1;33m)\u001b[0m\u001b[1;33m:\u001b[0m\u001b[1;33m\u001b[0m\u001b[0m\n\u001b[1;32m     63\u001b[0m             \u001b[0mc\u001b[0m\u001b[1;33m.\u001b[0m\u001b[0mwrite\u001b[0m\u001b[1;33m(\u001b[0m\u001b[0mfeature\u001b[0m\u001b[1;33m)\u001b[0m\u001b[1;33m\u001b[0m\u001b[0m\n",
      "\u001b[0;32mC:\\Users\\Vishwajeet\\Anaconda2\\lib\\site-packages\\fiona\\__init__.pyc\u001b[0m in \u001b[0;36mopen\u001b[0;34m(path, mode, driver, schema, crs, encoding, layer, vfs, enabled_drivers, crs_wkt)\u001b[0m\n\u001b[1;32m    177\u001b[0m         c = Collection(path, mode, crs=crs, driver=driver, schema=this_schema,\n\u001b[1;32m    178\u001b[0m                        \u001b[0mencoding\u001b[0m\u001b[1;33m=\u001b[0m\u001b[0mencoding\u001b[0m\u001b[1;33m,\u001b[0m \u001b[0mlayer\u001b[0m\u001b[1;33m=\u001b[0m\u001b[0mlayer\u001b[0m\u001b[1;33m,\u001b[0m \u001b[0mvsi\u001b[0m\u001b[1;33m=\u001b[0m\u001b[0mvsi\u001b[0m\u001b[1;33m,\u001b[0m \u001b[0marchive\u001b[0m\u001b[1;33m=\u001b[0m\u001b[0marchive\u001b[0m\u001b[1;33m,\u001b[0m\u001b[1;33m\u001b[0m\u001b[0m\n\u001b[0;32m--> 179\u001b[0;31m                        enabled_drivers=enabled_drivers, crs_wkt=crs_wkt)\n\u001b[0m\u001b[1;32m    180\u001b[0m     \u001b[1;32melse\u001b[0m\u001b[1;33m:\u001b[0m\u001b[1;33m\u001b[0m\u001b[0m\n\u001b[1;32m    181\u001b[0m         raise ValueError(\n",
      "\u001b[0;32mC:\\Users\\Vishwajeet\\Anaconda2\\lib\\site-packages\\fiona\\collection.pyc\u001b[0m in \u001b[0;36m__init__\u001b[0;34m(self, path, mode, driver, schema, crs, encoding, layer, vsi, archive, enabled_drivers, crs_wkt, **kwargs)\u001b[0m\n\u001b[1;32m    156\u001b[0m             \u001b[0mself\u001b[0m\u001b[1;33m.\u001b[0m\u001b[0mencoding\u001b[0m \u001b[1;33m=\u001b[0m \u001b[0mencoding\u001b[0m\u001b[1;33m\u001b[0m\u001b[0m\n\u001b[1;32m    157\u001b[0m             \u001b[0mself\u001b[0m\u001b[1;33m.\u001b[0m\u001b[0msession\u001b[0m \u001b[1;33m=\u001b[0m \u001b[0mWritingSession\u001b[0m\u001b[1;33m(\u001b[0m\u001b[1;33m)\u001b[0m\u001b[1;33m\u001b[0m\u001b[0m\n\u001b[0;32m--> 158\u001b[0;31m             \u001b[0mself\u001b[0m\u001b[1;33m.\u001b[0m\u001b[0msession\u001b[0m\u001b[1;33m.\u001b[0m\u001b[0mstart\u001b[0m\u001b[1;33m(\u001b[0m\u001b[0mself\u001b[0m\u001b[1;33m,\u001b[0m \u001b[1;33m**\u001b[0m\u001b[0mkwargs\u001b[0m\u001b[1;33m)\u001b[0m\u001b[1;33m\u001b[0m\u001b[0m\n\u001b[0m\u001b[1;32m    159\u001b[0m             \u001b[0mself\u001b[0m\u001b[1;33m.\u001b[0m\u001b[0mencoding\u001b[0m \u001b[1;33m=\u001b[0m \u001b[0mencoding\u001b[0m \u001b[1;32mor\u001b[0m \u001b[0mself\u001b[0m\u001b[1;33m.\u001b[0m\u001b[0msession\u001b[0m\u001b[1;33m.\u001b[0m\u001b[0mget_fileencoding\u001b[0m\u001b[1;33m(\u001b[0m\u001b[1;33m)\u001b[0m\u001b[1;33m.\u001b[0m\u001b[0mlower\u001b[0m\u001b[1;33m(\u001b[0m\u001b[1;33m)\u001b[0m\u001b[1;33m\u001b[0m\u001b[0m\n\u001b[1;32m    160\u001b[0m \u001b[1;33m\u001b[0m\u001b[0m\n",
      "\u001b[0;32mfiona\\ogrext.pyx\u001b[0m in \u001b[0;36mfiona.ogrext.WritingSession.start (fiona/ogrext.c:16368)\u001b[0;34m()\u001b[0m\n",
      "\u001b[0;31mValueError\u001b[0m: Null layer"
     ]
    }
   ],
   "source": [
    "nyc_grids.to_file('./vish_final_hexagon_df.gpx', 'GPX')"
   ]
  },
  {
   "cell_type": "code",
   "execution_count": 77,
   "metadata": {
    "collapsed": true
   },
   "outputs": [],
   "source": [
    "nyc_grids.to_csv(\"./vish_final_hexagon_df.csv\")"
   ]
  },
  {
   "cell_type": "markdown",
   "metadata": {
    "collapsed": true
   },
   "source": [
    "# Usage Statistics of 60 relief stands"
   ]
  },
  {
   "cell_type": "code",
   "execution_count": 78,
   "metadata": {
    "collapsed": false
   },
   "outputs": [
    {
     "data": {
      "text/html": [
       "<div>\n",
       "<table border=\"1\" class=\"dataframe\">\n",
       "  <thead>\n",
       "    <tr style=\"text-align: right;\">\n",
       "      <th></th>\n",
       "      <th>relief_stand_idx</th>\n",
       "      <th>date</th>\n",
       "      <th>car_usage</th>\n",
       "      <th>time_usage_hrs</th>\n",
       "      <th>Avg_hrs/car</th>\n",
       "      <th>RS_ID</th>\n",
       "      <th>Location</th>\n",
       "      <th>geometry</th>\n",
       "    </tr>\n",
       "  </thead>\n",
       "  <tbody>\n",
       "    <tr>\n",
       "      <th>0</th>\n",
       "      <td>0</td>\n",
       "      <td>2015-01-01</td>\n",
       "      <td>78</td>\n",
       "      <td>262.999167</td>\n",
       "      <td>3.371784</td>\n",
       "      <td>0</td>\n",
       "      <td>Park Avenue  between E 135th St and E 138th St...</td>\n",
       "      <td>POINT (-73.929918 40.812311)</td>\n",
       "    </tr>\n",
       "    <tr>\n",
       "      <th>1</th>\n",
       "      <td>0</td>\n",
       "      <td>2015-01-02</td>\n",
       "      <td>101</td>\n",
       "      <td>226.645278</td>\n",
       "      <td>2.244013</td>\n",
       "      <td>0</td>\n",
       "      <td>Park Avenue  between E 135th St and E 138th St...</td>\n",
       "      <td>POINT (-73.929918 40.812311)</td>\n",
       "    </tr>\n",
       "  </tbody>\n",
       "</table>\n",
       "</div>"
      ],
      "text/plain": [
       "   relief_stand_idx       date  car_usage  time_usage_hrs  Avg_hrs/car  RS_ID  \\\n",
       "0                 0 2015-01-01         78      262.999167     3.371784      0   \n",
       "1                 0 2015-01-02        101      226.645278     2.244013      0   \n",
       "\n",
       "                                            Location  \\\n",
       "0  Park Avenue  between E 135th St and E 138th St...   \n",
       "1  Park Avenue  between E 135th St and E 138th St...   \n",
       "\n",
       "                       geometry  \n",
       "0  POINT (-73.929918 40.812311)  \n",
       "1  POINT (-73.929918 40.812311)  "
      ]
     },
     "execution_count": 78,
     "metadata": {},
     "output_type": "execute_result"
    }
   ],
   "source": [
    "usage_relief.head(2)"
   ]
  },
  {
   "cell_type": "code",
   "execution_count": 79,
   "metadata": {
    "collapsed": false,
    "scrolled": false
   },
   "outputs": [],
   "source": [
    "top_trs_usage = usage_relief[usage_relief.relief_stand_idx.isin(top_trs.relief_stand_idx)].set_index('date').groupby([pd.TimeGrouper('M')]).agg({'car_usage':'sum',\n",
    "                                                                                      'time_usage_hrs':'sum'})"
   ]
  },
  {
   "cell_type": "code",
   "execution_count": 80,
   "metadata": {
    "collapsed": false
   },
   "outputs": [
    {
     "data": {
      "text/html": [
       "<div>\n",
       "<table border=\"1\" class=\"dataframe\">\n",
       "  <thead>\n",
       "    <tr style=\"text-align: right;\">\n",
       "      <th></th>\n",
       "      <th>time_usage_hrs</th>\n",
       "      <th>car_usage</th>\n",
       "    </tr>\n",
       "    <tr>\n",
       "      <th>date</th>\n",
       "      <th></th>\n",
       "      <th></th>\n",
       "    </tr>\n",
       "  </thead>\n",
       "  <tbody>\n",
       "    <tr>\n",
       "      <th>2015-01-31</th>\n",
       "      <td>27679.370000</td>\n",
       "      <td>12823</td>\n",
       "    </tr>\n",
       "    <tr>\n",
       "      <th>2015-02-28</th>\n",
       "      <td>24995.013334</td>\n",
       "      <td>11798</td>\n",
       "    </tr>\n",
       "    <tr>\n",
       "      <th>2015-03-31</th>\n",
       "      <td>26195.539722</td>\n",
       "      <td>12579</td>\n",
       "    </tr>\n",
       "    <tr>\n",
       "      <th>2015-04-30</th>\n",
       "      <td>25464.741111</td>\n",
       "      <td>12056</td>\n",
       "    </tr>\n",
       "    <tr>\n",
       "      <th>2015-05-31</th>\n",
       "      <td>26975.078889</td>\n",
       "      <td>12442</td>\n",
       "    </tr>\n",
       "  </tbody>\n",
       "</table>\n",
       "</div>"
      ],
      "text/plain": [
       "            time_usage_hrs  car_usage\n",
       "date                                 \n",
       "2015-01-31    27679.370000      12823\n",
       "2015-02-28    24995.013334      11798\n",
       "2015-03-31    26195.539722      12579\n",
       "2015-04-30    25464.741111      12056\n",
       "2015-05-31    26975.078889      12442"
      ]
     },
     "execution_count": 80,
     "metadata": {},
     "output_type": "execute_result"
    }
   ],
   "source": [
    "top_trs_usage.head()"
   ]
  },
  {
   "cell_type": "code",
   "execution_count": 81,
   "metadata": {
    "collapsed": false
   },
   "outputs": [
    {
     "data": {
      "text/plain": [
       "<matplotlib.text.Text at 0xc2dcb38>"
      ]
     },
     "execution_count": 81,
     "metadata": {},
     "output_type": "execute_result"
    },
    {
     "data": {
      "image/png": "[encoded data removed]",
      "text/plain": [
       "<matplotlib.figure.Figure at 0xc2a8cf8>"
      ]
     },
     "metadata": {},
     "output_type": "display_data"
    }
   ],
   "source": [
    "top_trs_usage.plot()\n",
    "plt.title('Usage of Top 10 Taxi/FHV Relief Stands by month')\n",
    "plt.ylabel('Usage')"
   ]
  },
  {
   "cell_type": "code",
   "execution_count": 82,
   "metadata": {
    "collapsed": false
   },
   "outputs": [],
   "source": [
    "garage = [44, 0, 38, 1, 34, 49]\n",
    "top = [26, 20, 27, 17]\n",
    "top_trs_garage_usage = usage_relief[usage_relief.relief_stand_idx.isin(garage)]\n",
    "top_trs_nongarage_usage = usage_relief[usage_relief.relief_stand_idx.isin(top)]\n",
    "top_trs_nongarage_usage = top_trs_nongarage_usage.set_index('date').groupby(pd.TimeGrouper('M')).agg({'car_usage':'sum', \n",
    "                                                                                                'time_usage_hrs':'sum'})\n",
    "top_trs_garage_usage = top_trs_garage_usage.set_index('date').groupby(pd.TimeGrouper('M')).agg({'car_usage':'sum', \n",
    "                                                                                                'time_usage_hrs':'sum'})"
   ]
  },
  {
   "cell_type": "code",
   "execution_count": 83,
   "metadata": {
    "collapsed": false
   },
   "outputs": [
    {
     "data": {
      "text/html": [
       "<div>\n",
       "<table border=\"1\" class=\"dataframe\">\n",
       "  <thead>\n",
       "    <tr style=\"text-align: right;\">\n",
       "      <th></th>\n",
       "      <th>time_usage_hrs</th>\n",
       "      <th>car_usage</th>\n",
       "    </tr>\n",
       "    <tr>\n",
       "      <th>date</th>\n",
       "      <th></th>\n",
       "      <th></th>\n",
       "    </tr>\n",
       "  </thead>\n",
       "  <tbody>\n",
       "    <tr>\n",
       "      <th>2015-01-31</th>\n",
       "      <td>22453.798056</td>\n",
       "      <td>8379</td>\n",
       "    </tr>\n",
       "    <tr>\n",
       "      <th>2015-02-28</th>\n",
       "      <td>20347.570001</td>\n",
       "      <td>7888</td>\n",
       "    </tr>\n",
       "    <tr>\n",
       "      <th>2015-03-31</th>\n",
       "      <td>21123.726666</td>\n",
       "      <td>8511</td>\n",
       "    </tr>\n",
       "    <tr>\n",
       "      <th>2015-04-30</th>\n",
       "      <td>20397.836111</td>\n",
       "      <td>8106</td>\n",
       "    </tr>\n",
       "    <tr>\n",
       "      <th>2015-05-31</th>\n",
       "      <td>22217.012500</td>\n",
       "      <td>8687</td>\n",
       "    </tr>\n",
       "  </tbody>\n",
       "</table>\n",
       "</div>"
      ],
      "text/plain": [
       "            time_usage_hrs  car_usage\n",
       "date                                 \n",
       "2015-01-31    22453.798056       8379\n",
       "2015-02-28    20347.570001       7888\n",
       "2015-03-31    21123.726666       8511\n",
       "2015-04-30    20397.836111       8106\n",
       "2015-05-31    22217.012500       8687"
      ]
     },
     "execution_count": 83,
     "metadata": {},
     "output_type": "execute_result"
    }
   ],
   "source": [
    "top_trs_garage_usage.head()"
   ]
  },
  {
   "cell_type": "code",
   "execution_count": 84,
   "metadata": {
    "collapsed": false
   },
   "outputs": [
    {
     "data": {
      "text/plain": [
       "<matplotlib.text.Text at 0x10cb1320>"
      ]
     },
     "execution_count": 84,
     "metadata": {},
     "output_type": "execute_result"
    },
    {
     "data": {
      "image/png": "[encoded data removed]",
      "text/plain": [
       "<matplotlib.figure.Figure at 0xcdc8f98>"
      ]
     },
     "metadata": {},
     "output_type": "display_data"
    },
    {
     "data": {
      "image/png": "[encoded data removed]",
      "text/plain": [
       "<matplotlib.figure.Figure at 0x18034780>"
      ]
     },
     "metadata": {},
     "output_type": "display_data"
    }
   ],
   "source": [
    "top_trs_garage_usage.plot()\n",
    "plt.title('Usage of Top 10 Taxi/FHV Relief Stands near garage by month')\n",
    "plt.ylabel('Usage')\n",
    "\n",
    "top_trs_nongarage_usage.plot()\n",
    "plt.title('Usage of Top 10 Taxi/FHV Relief Stands not near garage by month')\n",
    "plt.ylabel('Usage')"
   ]
  },
  {
   "cell_type": "code",
   "execution_count": 85,
   "metadata": {
    "collapsed": false
   },
   "outputs": [],
   "source": [
    "top_hexagons = nyc_grids[nyc_grids.GRID_ID.isin(top_trs.GRID_ID)]\n",
    "top_hexagons = top_hexagons.set_index('GRID_ID')"
   ]
  },
  {
   "cell_type": "code",
   "execution_count": 86,
   "metadata": {
    "collapsed": false
   },
   "outputs": [
    {
     "data": {
      "text/html": [
       "<div>\n",
       "<table border=\"1\" class=\"dataframe\">\n",
       "  <thead>\n",
       "    <tr style=\"text-align: right;\">\n",
       "      <th></th>\n",
       "      <th>geometry</th>\n",
       "      <th>idle_count</th>\n",
       "      <th>idle_time_count</th>\n",
       "      <th>pickup_count</th>\n",
       "      <th>dropoff_count</th>\n",
       "      <th>violations</th>\n",
       "      <th>parks</th>\n",
       "      <th>rest_indian</th>\n",
       "      <th>rest_cheap</th>\n",
       "      <th>hotel</th>\n",
       "      <th>Bangladesh</th>\n",
       "      <th>rs_count</th>\n",
       "    </tr>\n",
       "    <tr>\n",
       "      <th>GRID_ID</th>\n",
       "      <th></th>\n",
       "      <th></th>\n",
       "      <th></th>\n",
       "      <th></th>\n",
       "      <th></th>\n",
       "      <th></th>\n",
       "      <th></th>\n",
       "      <th></th>\n",
       "      <th></th>\n",
       "      <th></th>\n",
       "      <th></th>\n",
       "      <th></th>\n",
       "    </tr>\n",
       "  </thead>\n",
       "  <tbody>\n",
       "    <tr>\n",
       "      <th>BD-38</th>\n",
       "      <td>POLYGON ((-73.99369078885718 40.75916533252825...</td>\n",
       "      <td>264.106849</td>\n",
       "      <td>39771.855753</td>\n",
       "      <td>1898.265753</td>\n",
       "      <td>1787.104110</td>\n",
       "      <td>1604.0</td>\n",
       "      <td>0.0</td>\n",
       "      <td>1</td>\n",
       "      <td>50</td>\n",
       "      <td>31</td>\n",
       "      <td>0</td>\n",
       "      <td>2.0</td>\n",
       "    </tr>\n",
       "    <tr>\n",
       "      <th>BR-26</th>\n",
       "      <td>POLYGON ((-73.92712801229941 40.80919559216895...</td>\n",
       "      <td>336.361644</td>\n",
       "      <td>50631.320822</td>\n",
       "      <td>83.756164</td>\n",
       "      <td>73.810959</td>\n",
       "      <td>26.0</td>\n",
       "      <td>0.0</td>\n",
       "      <td>0</td>\n",
       "      <td>19</td>\n",
       "      <td>1</td>\n",
       "      <td>0</td>\n",
       "      <td>1.0</td>\n",
       "    </tr>\n",
       "  </tbody>\n",
       "</table>\n",
       "</div>"
      ],
      "text/plain": [
       "                                                  geometry  idle_count  \\\n",
       "GRID_ID                                                                  \n",
       "BD-38    POLYGON ((-73.99369078885718 40.75916533252825...  264.106849   \n",
       "BR-26    POLYGON ((-73.92712801229941 40.80919559216895...  336.361644   \n",
       "\n",
       "         idle_time_count  pickup_count  dropoff_count  violations  parks  \\\n",
       "GRID_ID                                                                    \n",
       "BD-38       39771.855753   1898.265753    1787.104110      1604.0    0.0   \n",
       "BR-26       50631.320822     83.756164      73.810959        26.0    0.0   \n",
       "\n",
       "         rest_indian  rest_cheap  hotel  Bangladesh  rs_count  \n",
       "GRID_ID                                                        \n",
       "BD-38              1          50     31           0       2.0  \n",
       "BR-26              0          19      1           0       1.0  "
      ]
     },
     "execution_count": 86,
     "metadata": {},
     "output_type": "execute_result"
    }
   ],
   "source": [
    "top_hexagons.head(2)"
   ]
  },
  {
   "cell_type": "code",
   "execution_count": 87,
   "metadata": {
    "collapsed": true
   },
   "outputs": [],
   "source": [
    "bottom_hexagons = nyc_grids[nyc_grids.GRID_ID.isin(bottom_trs.GRID_ID)]\n",
    "bottom_hexagons = bottom_hexagons.set_index('GRID_ID')"
   ]
  },
  {
   "cell_type": "code",
   "execution_count": 88,
   "metadata": {
    "collapsed": false
   },
   "outputs": [
    {
     "data": {
      "text/html": [
       "<div>\n",
       "<table border=\"1\" class=\"dataframe\">\n",
       "  <thead>\n",
       "    <tr style=\"text-align: right;\">\n",
       "      <th></th>\n",
       "      <th>geometry</th>\n",
       "      <th>idle_count</th>\n",
       "      <th>idle_time_count</th>\n",
       "      <th>pickup_count</th>\n",
       "      <th>dropoff_count</th>\n",
       "      <th>violations</th>\n",
       "      <th>parks</th>\n",
       "      <th>rest_indian</th>\n",
       "      <th>rest_cheap</th>\n",
       "      <th>hotel</th>\n",
       "      <th>Bangladesh</th>\n",
       "      <th>rs_count</th>\n",
       "    </tr>\n",
       "    <tr>\n",
       "      <th>GRID_ID</th>\n",
       "      <th></th>\n",
       "      <th></th>\n",
       "      <th></th>\n",
       "      <th></th>\n",
       "      <th></th>\n",
       "      <th></th>\n",
       "      <th></th>\n",
       "      <th></th>\n",
       "      <th></th>\n",
       "      <th></th>\n",
       "      <th></th>\n",
       "      <th></th>\n",
       "    </tr>\n",
       "  </thead>\n",
       "  <tbody>\n",
       "    <tr>\n",
       "      <th>BQ-62</th>\n",
       "      <td>POLYGON ((-73.93203761355002 40.65695254875806...</td>\n",
       "      <td>3.391781</td>\n",
       "      <td>792.526438</td>\n",
       "      <td>2.758904</td>\n",
       "      <td>11.980822</td>\n",
       "      <td>0.0</td>\n",
       "      <td>0.0</td>\n",
       "      <td>1</td>\n",
       "      <td>8</td>\n",
       "      <td>1</td>\n",
       "      <td>0</td>\n",
       "      <td>1.0</td>\n",
       "    </tr>\n",
       "    <tr>\n",
       "      <th>BK-48</th>\n",
       "      <td>POLYGON ((-73.96046277159091 40.71536193640826...</td>\n",
       "      <td>3.197260</td>\n",
       "      <td>263.738447</td>\n",
       "      <td>498.852055</td>\n",
       "      <td>456.769863</td>\n",
       "      <td>1.0</td>\n",
       "      <td>0.0</td>\n",
       "      <td>0</td>\n",
       "      <td>13</td>\n",
       "      <td>9</td>\n",
       "      <td>0</td>\n",
       "      <td>1.0</td>\n",
       "    </tr>\n",
       "  </tbody>\n",
       "</table>\n",
       "</div>"
      ],
      "text/plain": [
       "                                                  geometry  idle_count  \\\n",
       "GRID_ID                                                                  \n",
       "BQ-62    POLYGON ((-73.93203761355002 40.65695254875806...    3.391781   \n",
       "BK-48    POLYGON ((-73.96046277159091 40.71536193640826...    3.197260   \n",
       "\n",
       "         idle_time_count  pickup_count  dropoff_count  violations  parks  \\\n",
       "GRID_ID                                                                    \n",
       "BQ-62         792.526438      2.758904      11.980822         0.0    0.0   \n",
       "BK-48         263.738447    498.852055     456.769863         1.0    0.0   \n",
       "\n",
       "         rest_indian  rest_cheap  hotel  Bangladesh  rs_count  \n",
       "GRID_ID                                                        \n",
       "BQ-62              1           8      1           0       1.0  \n",
       "BK-48              0          13      9           0       1.0  "
      ]
     },
     "execution_count": 88,
     "metadata": {},
     "output_type": "execute_result"
    }
   ],
   "source": [
    "bottom_hexagons.head(2)"
   ]
  },
  {
   "cell_type": "code",
   "execution_count": 95,
   "metadata": {
    "collapsed": false
   },
   "outputs": [
    {
     "data": {
      "text/plain": [
       "{'boxes': [<matplotlib.lines.Line2D at 0x18b582b0>],\n",
       " 'caps': [<matplotlib.lines.Line2D at 0x18b58eb8>,\n",
       "  <matplotlib.lines.Line2D at 0x18b65470>],\n",
       " 'fliers': [<matplotlib.lines.Line2D at 0x18b65f60>],\n",
       " 'means': [],\n",
       " 'medians': [<matplotlib.lines.Line2D at 0x18b659e8>],\n",
       " 'whiskers': [<matplotlib.lines.Line2D at 0x18b583c8>,\n",
       "  <matplotlib.lines.Line2D at 0x18b58940>]}"
      ]
     },
     "execution_count": 95,
     "metadata": {},
     "output_type": "execute_result"
    },
    {
     "data": {
      "image/png": "[encoded data removed]",
      "text/plain": [
       "<matplotlib.figure.Figure at 0x111f7eb8>"
      ]
     },
     "metadata": {},
     "output_type": "display_data"
    }
   ],
   "source": [
    "plt.boxplot(top_hexagons.idle_time_count)\n",
    "plt.boxplot(bottom_hexagons.idle_time_count)"
   ]
  },
  {
   "cell_type": "code",
   "execution_count": null,
   "metadata": {
    "collapsed": true
   },
   "outputs": [],
   "source": []
  }
 ],
 "metadata": {
  "anaconda-cloud": {},
  "kernelspec": {
   "display_name": "Python [conda root]",
   "language": "python",
   "name": "conda-root-py"
  },
  "language_info": {
   "codemirror_mode": {
    "name": "ipython",
    "version": 2
   },
   "file_extension": ".py",
   "mimetype": "text/x-python",
   "name": "python",
   "nbconvert_exporter": "python",
   "pygments_lexer": "ipython2",
   "version": "2.7.12"
  }
 },
 "nbformat": 4,
 "nbformat_minor": 1
}
