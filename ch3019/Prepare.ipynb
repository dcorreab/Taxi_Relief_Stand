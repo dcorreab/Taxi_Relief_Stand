{
 "cells": [
  {
   "cell_type": "code",
   "execution_count": 111,
   "metadata": {
    "ExecuteTime": {
     "end_time": "2017-07-25T16:16:30.951668Z",
     "start_time": "2017-07-25T16:16:30.942554Z"
    },
    "collapsed": true
   },
   "outputs": [],
   "source": [
    "import pandas as pd\n",
    "import geopandas as gpd\n",
    "import numpy as np\n",
    "import shapely.geometry as geom\n",
    "from fiona.crs import from_epsg\n",
    "from itertools import product"
   ]
  },
  {
   "cell_type": "code",
   "execution_count": 2,
   "metadata": {
    "ExecuteTime": {
     "end_time": "2017-07-23T19:17:22.589877Z",
     "start_time": "2017-07-23T19:17:20.851413Z"
    },
    "collapsed": true
   },
   "outputs": [],
   "source": [
    "hexagon = gpd.GeoDataFrame.from_file('/Users/nnhoucheng/Taxi_Relief_Stand_Spark/Hexagon_clipped.geojson')"
   ]
  },
  {
   "cell_type": "code",
   "execution_count": 171,
   "metadata": {
    "ExecuteTime": {
     "end_time": "2017-07-27T00:55:54.034782Z",
     "start_time": "2017-07-27T00:55:53.886960Z"
    },
    "collapsed": false
   },
   "outputs": [
    {
     "data": {
      "text/html": [
       "<div>\n",
       "<style>\n",
       "    .dataframe thead tr:only-child th {\n",
       "        text-align: right;\n",
       "    }\n",
       "\n",
       "    .dataframe thead th {\n",
       "        text-align: left;\n",
       "    }\n",
       "\n",
       "    .dataframe tbody tr th {\n",
       "        vertical-align: top;\n",
       "    }\n",
       "</style>\n",
       "<table border=\"1\" class=\"dataframe\">\n",
       "  <thead>\n",
       "    <tr style=\"text-align: right;\">\n",
       "      <th></th>\n",
       "      <th>GRID_ID</th>\n",
       "      <th>geometry</th>\n",
       "      <th>id</th>\n",
       "    </tr>\n",
       "  </thead>\n",
       "  <tbody>\n",
       "    <tr>\n",
       "      <th>0</th>\n",
       "      <td>BZ-45</td>\n",
       "      <td>POLYGON ((1014951.499084486 205223.478088384, ...</td>\n",
       "      <td>0</td>\n",
       "    </tr>\n",
       "    <tr>\n",
       "      <th>1</th>\n",
       "      <td>CC-66</td>\n",
       "      <td>POLYGON ((1018899.721130365 172550.5435180648,...</td>\n",
       "      <td>0</td>\n",
       "    </tr>\n",
       "    <tr>\n",
       "      <th>2</th>\n",
       "      <td>CF-32</td>\n",
       "      <td>POLYGON ((1023153.727822219 225508.8404002782,...</td>\n",
       "      <td>0</td>\n",
       "    </tr>\n",
       "    <tr>\n",
       "      <th>3</th>\n",
       "      <td>BG-76</td>\n",
       "      <td>POLYGON ((989946.0928955073 157353.829895009, ...</td>\n",
       "      <td>0</td>\n",
       "    </tr>\n",
       "    <tr>\n",
       "      <th>4</th>\n",
       "      <td>CP-44</td>\n",
       "      <td>POLYGON ((1036008.683288587 206743.149475106, ...</td>\n",
       "      <td>0</td>\n",
       "    </tr>\n",
       "  </tbody>\n",
       "</table>\n",
       "</div>"
      ],
      "text/plain": [
       "  GRID_ID                                           geometry id\n",
       "0   BZ-45  POLYGON ((1014951.499084486 205223.478088384, ...  0\n",
       "1   CC-66  POLYGON ((1018899.721130365 172550.5435180648,...  0\n",
       "2   CF-32  POLYGON ((1023153.727822219 225508.8404002782,...  0\n",
       "3   BG-76  POLYGON ((989946.0928955073 157353.829895009, ...  0\n",
       "4   CP-44  POLYGON ((1036008.683288587 206743.149475106, ...  0"
      ]
     },
     "execution_count": 171,
     "metadata": {},
     "output_type": "execute_result"
    }
   ],
   "source": [
    "hexagon.head()"
   ]
  },
  {
   "cell_type": "code",
   "execution_count": 12,
   "metadata": {
    "ExecuteTime": {
     "end_time": "2017-07-23T19:21:13.569624Z",
     "start_time": "2017-07-23T19:21:13.559113Z"
    },
    "collapsed": false
   },
   "outputs": [],
   "source": [
    "manhattan_id = pd.read_csv('manhattan_grids.csv', index_col=0)['0'].values"
   ]
  },
  {
   "cell_type": "code",
   "execution_count": 39,
   "metadata": {
    "ExecuteTime": {
     "end_time": "2017-07-23T19:33:12.190022Z",
     "start_time": "2017-07-23T19:33:12.154739Z"
    },
    "collapsed": false
   },
   "outputs": [],
   "source": [
    "hexagon_manhattan = hexagon[hexagon.GRID_ID.isin(manhattan_id)].reset_index(drop=True)\n",
    "hexagon_manhattan['centroid'] = hexagon_manhattan.geometry.centroid"
   ]
  },
  {
   "cell_type": "code",
   "execution_count": 51,
   "metadata": {
    "ExecuteTime": {
     "end_time": "2017-07-23T19:39:18.747988Z",
     "start_time": "2017-07-23T19:39:18.743560Z"
    },
    "collapsed": true
   },
   "outputs": [],
   "source": [
    "def distance(p):\n",
    "    p1, p2 = p\n",
    "    return np.sqrt((p1.x - p2.x)**2 + (p1.y - p2.y)**2)"
   ]
  },
  {
   "cell_type": "code",
   "execution_count": 28,
   "metadata": {
    "ExecuteTime": {
     "end_time": "2017-07-23T19:25:31.448434Z",
     "start_time": "2017-07-23T19:25:31.439135Z"
    },
    "collapsed": false
   },
   "outputs": [],
   "source": [
    "p1 = hexagon_manhattan[hexagon_manhattan.GRID_ID == 'BE-42'].geometry.centroid.values[0]"
   ]
  },
  {
   "cell_type": "code",
   "execution_count": 29,
   "metadata": {
    "ExecuteTime": {
     "end_time": "2017-07-23T19:25:40.469765Z",
     "start_time": "2017-07-23T19:25:40.463015Z"
    },
    "collapsed": false
   },
   "outputs": [],
   "source": [
    "p2 = hexagon_manhattan[hexagon_manhattan.GRID_ID == 'BE-43'].geometry.centroid.values[0]"
   ]
  },
  {
   "cell_type": "code",
   "execution_count": 78,
   "metadata": {
    "ExecuteTime": {
     "end_time": "2017-07-23T19:49:44.825056Z",
     "start_time": "2017-07-23T19:49:44.818549Z"
    },
    "collapsed": false
   },
   "outputs": [
    {
     "data": {
      "text/plain": [
       "1519.671393502882"
      ]
     },
     "execution_count": 78,
     "metadata": {},
     "output_type": "execute_result"
    }
   ],
   "source": [
    "distance((p1,p2))"
   ]
  },
  {
   "cell_type": "code",
   "execution_count": 79,
   "metadata": {
    "ExecuteTime": {
     "end_time": "2017-07-23T19:49:55.416228Z",
     "start_time": "2017-07-23T19:49:55.411215Z"
    },
    "collapsed": true
   },
   "outputs": [],
   "source": [
    "def check_d(dis):\n",
    "    if dis == 0:\n",
    "        return 0\n",
    "    elif dis <= 1521:\n",
    "        return 1\n",
    "    else:\n",
    "        return 0"
   ]
  },
  {
   "cell_type": "code",
   "execution_count": 80,
   "metadata": {
    "ExecuteTime": {
     "end_time": "2017-07-23T19:50:18.098370Z",
     "start_time": "2017-07-23T19:49:56.739141Z"
    },
    "collapsed": false
   },
   "outputs": [],
   "source": [
    "matrix = map(distance,product(hexagon_manhattan.centroid, hexagon_manhattan.centroid))\n",
    "matrix = np.array(list(map(check_d, matrix))).reshape(432,432)"
   ]
  },
  {
   "cell_type": "code",
   "execution_count": 81,
   "metadata": {
    "ExecuteTime": {
     "end_time": "2017-07-23T19:50:20.971506Z",
     "start_time": "2017-07-23T19:50:20.959749Z"
    },
    "collapsed": false
   },
   "outputs": [
    {
     "data": {
      "text/plain": [
       "array([3, 2, 6, 6, 0, 6, 6, 6, 3, 3, 6, 6, 4, 4, 6, 3, 2, 6, 6, 6, 6, 3, 4,\n",
       "       3, 2, 6, 6, 2, 6, 2, 2, 3, 6, 6, 6, 6, 4, 5, 3, 6, 3, 0, 3, 6, 5, 1,\n",
       "       2, 6, 3, 5, 6, 4, 6, 4, 5, 6, 6, 6, 1, 3, 6, 6, 6, 2, 6, 6, 6, 6, 3,\n",
       "       3, 5, 5, 6, 3, 6, 3, 6, 6, 2, 5, 0, 6, 6, 6, 4, 3, 3, 6, 5, 2, 6, 6,\n",
       "       6, 3, 6, 6, 2, 2, 6, 6, 6, 3, 5, 6, 6, 1, 6, 3, 5, 6, 2, 6, 2, 4, 6,\n",
       "       6, 3, 6, 3, 6, 5, 1, 6, 6, 6, 5, 4, 3, 6, 3, 3, 4, 6, 3, 3, 1, 6, 3,\n",
       "       2, 5, 4, 0, 6, 6, 6, 6, 5, 6, 6, 6, 6, 4, 3, 6, 2, 2, 1, 5, 4, 6, 3,\n",
       "       3, 6, 6, 6, 6, 5, 3, 5, 6, 4, 6, 5, 6, 3, 2, 6, 5, 6, 5, 4, 6, 3, 6,\n",
       "       1, 3, 6, 3, 1, 5, 6, 4, 6, 5, 6, 6, 5, 3, 6, 6, 5, 6, 3, 6, 6, 4, 2,\n",
       "       2, 3, 5, 4, 6, 4, 2, 3, 3, 6, 4, 3, 6, 3, 2, 6, 4, 6, 6, 6, 4, 3, 6,\n",
       "       6, 6, 4, 6, 6, 2, 6, 1, 6, 6, 3, 3, 6, 6, 6, 6, 6, 1, 6, 5, 6, 3, 6,\n",
       "       5, 6, 6, 0, 2, 6, 3, 6, 6, 6, 5, 5, 6, 6, 6, 6, 3, 5, 0, 2, 2, 4, 6,\n",
       "       3, 6, 6, 3, 6, 3, 6, 5, 6, 6, 3, 2, 6, 3, 6, 6, 6, 2, 4, 6, 6, 6, 5,\n",
       "       6, 3, 5, 6, 3, 4, 6, 3, 6, 6, 3, 6, 5, 5, 2, 6, 2, 6, 4, 4, 3, 6, 6,\n",
       "       5, 6, 2, 6, 6, 6, 2, 5, 3, 0, 3, 6, 4, 3, 2, 3, 2, 6, 6, 4, 6, 6, 6,\n",
       "       5, 6, 3, 6, 6, 6, 6, 6, 6, 6, 6, 4, 3, 6, 4, 3, 2, 5, 6, 2, 1, 3, 6,\n",
       "       5, 2, 3, 6, 5, 3, 5, 6, 4, 6, 6, 6, 3, 1, 6, 6, 4, 3, 6, 3, 6, 5, 3,\n",
       "       3, 6, 3, 4, 6, 6, 6, 6, 6, 5, 6, 3, 6, 6, 0, 0, 5, 6, 6, 6, 3, 6, 5,\n",
       "       5, 6, 4, 5, 6, 6, 6, 5, 3, 6, 6, 6, 6, 3, 1, 6, 4, 6])"
      ]
     },
     "execution_count": 81,
     "metadata": {},
     "output_type": "execute_result"
    }
   ],
   "source": [
    "np.sum(matrix, axis=0)"
   ]
  },
  {
   "cell_type": "code",
   "execution_count": 88,
   "metadata": {
    "ExecuteTime": {
     "end_time": "2017-07-23T19:56:19.050899Z",
     "start_time": "2017-07-23T19:56:19.042794Z"
    },
    "collapsed": false
   },
   "outputs": [
    {
     "data": {
      "text/plain": [
       "array([  4,  41,  80, 141, 256, 271, 331, 405, 406])"
      ]
     },
     "execution_count": 88,
     "metadata": {},
     "output_type": "execute_result"
    }
   ],
   "source": [
    "np.where(np.sum(matrix, axis=0) == 0)[0]"
   ]
  },
  {
   "cell_type": "code",
   "execution_count": 89,
   "metadata": {
    "ExecuteTime": {
     "end_time": "2017-07-23T19:56:55.263641Z",
     "start_time": "2017-07-23T19:56:55.249216Z"
    },
    "collapsed": false
   },
   "outputs": [
    {
     "data": {
      "text/plain": [
       "4      BK-44\n",
       "41     BP-36\n",
       "80     BT-15\n",
       "141     BS-9\n",
       "256    BS-16\n",
       "271    BK-46\n",
       "331    BV-12\n",
       "405    BG-51\n",
       "406    BR-18\n",
       "Name: GRID_ID, dtype: object"
      ]
     },
     "execution_count": 89,
     "metadata": {},
     "output_type": "execute_result"
    }
   ],
   "source": [
    "hexagon_manhattan.GRID_ID[np.where(np.sum(matrix, axis=0) == 0)[0]]"
   ]
  },
  {
   "cell_type": "code",
   "execution_count": 94,
   "metadata": {
    "ExecuteTime": {
     "end_time": "2017-07-23T19:59:22.832854Z",
     "start_time": "2017-07-23T19:59:22.826129Z"
    },
    "collapsed": false
   },
   "outputs": [],
   "source": [
    "manhattan_id_final = set(manhattan_id) - set(hexagon_manhattan.GRID_ID[np.where(np.sum(matrix, axis=0) == 0)[0]])"
   ]
  },
  {
   "cell_type": "code",
   "execution_count": 97,
   "metadata": {
    "ExecuteTime": {
     "end_time": "2017-07-23T20:00:29.752766Z",
     "start_time": "2017-07-23T20:00:29.744207Z"
    },
    "collapsed": false
   },
   "outputs": [],
   "source": [
    "pd.DataFrame(list(manhattan_id_final)).to_csv('manhattan_grids_final.csv')"
   ]
  },
  {
   "cell_type": "markdown",
   "metadata": {},
   "source": [
    "# Final"
   ]
  },
  {
   "cell_type": "code",
   "execution_count": 103,
   "metadata": {
    "ExecuteTime": {
     "end_time": "2017-07-23T20:03:32.474557Z",
     "start_time": "2017-07-23T20:03:32.447093Z"
    },
    "collapsed": true
   },
   "outputs": [],
   "source": [
    "hexagon_manhattan = hexagon[hexagon.GRID_ID.isin(manhattan_id_final)].reset_index(drop=True)\n",
    "hexagon_manhattan['centroid'] = hexagon_manhattan.geometry.centroid"
   ]
  },
  {
   "cell_type": "code",
   "execution_count": 104,
   "metadata": {
    "ExecuteTime": {
     "end_time": "2017-07-23T20:03:54.254054Z",
     "start_time": "2017-07-23T20:03:35.232548Z"
    },
    "collapsed": false
   },
   "outputs": [],
   "source": [
    "matrix = map(distance,product(hexagon_manhattan.centroid, hexagon_manhattan.centroid))\n",
    "matrix = np.array(list(map(check_d, matrix))).reshape(423,423)"
   ]
  },
  {
   "cell_type": "code",
   "execution_count": 108,
   "metadata": {
    "ExecuteTime": {
     "end_time": "2017-07-23T20:10:12.986635Z",
     "start_time": "2017-07-23T20:10:12.976486Z"
    },
    "collapsed": false
   },
   "outputs": [],
   "source": [
    "np.save('neighbour.npy', matrix)"
   ]
  },
  {
   "cell_type": "markdown",
   "metadata": {},
   "source": [
    "## Request"
   ]
  },
  {
   "cell_type": "code",
   "execution_count": 115,
   "metadata": {
    "ExecuteTime": {
     "end_time": "2017-07-25T16:25:19.809858Z",
     "start_time": "2017-07-25T16:25:19.771636Z"
    },
    "collapsed": false
   },
   "outputs": [],
   "source": [
    "request_dat = gpd.GeoDataFrame.from_file(\"stand_requests/stand_requests.shp\")\n",
    "request_dat = request_dat.set_geometry(\"geometry\")\n",
    "request_dat.crs = from_epsg(4326)\n",
    "request_dat = request_dat.to_crs(epsg=2263)"
   ]
  },
  {
   "cell_type": "code",
   "execution_count": 117,
   "metadata": {
    "ExecuteTime": {
     "end_time": "2017-07-25T16:26:43.885660Z",
     "start_time": "2017-07-25T16:26:43.875543Z"
    },
    "collapsed": false
   },
   "outputs": [],
   "source": [
    "request_dat = request_dat[request_dat.borough == 'Manhattan']"
   ]
  },
  {
   "cell_type": "code",
   "execution_count": 118,
   "metadata": {
    "ExecuteTime": {
     "end_time": "2017-07-25T16:27:42.358437Z",
     "start_time": "2017-07-25T16:27:42.317676Z"
    },
    "collapsed": false
   },
   "outputs": [
    {
     "data": {
      "text/html": [
       "<div>\n",
       "<style>\n",
       "    .dataframe thead tr:only-child th {\n",
       "        text-align: right;\n",
       "    }\n",
       "\n",
       "    .dataframe thead th {\n",
       "        text-align: left;\n",
       "    }\n",
       "\n",
       "    .dataframe tbody tr th {\n",
       "        vertical-align: top;\n",
       "    }\n",
       "</style>\n",
       "<table border=\"1\" class=\"dataframe\">\n",
       "  <thead>\n",
       "    <tr style=\"text-align: right;\">\n",
       "      <th></th>\n",
       "      <th>borough</th>\n",
       "      <th>cartodb_id</th>\n",
       "      <th>dot_reques</th>\n",
       "      <th>geometry</th>\n",
       "      <th>lat</th>\n",
       "      <th>location</th>\n",
       "      <th>long</th>\n",
       "      <th>request_no</th>\n",
       "      <th>side_of_st</th>\n",
       "      <th>stand_type</th>\n",
       "    </tr>\n",
       "  </thead>\n",
       "  <tbody>\n",
       "    <tr>\n",
       "      <th>5</th>\n",
       "      <td>Manhattan</td>\n",
       "      <td>6</td>\n",
       "      <td>2016-12-13</td>\n",
       "      <td>POINT (992245.7025136991 224493.0037671806)</td>\n",
       "      <td>40.782854</td>\n",
       "      <td>Central Park Westb/w 81st Street and 83rd Street</td>\n",
       "      <td>-73.971128</td>\n",
       "      <td>Top 10 recommendations</td>\n",
       "      <td>N or S</td>\n",
       "      <td>FHV/Taxi Relief Stand</td>\n",
       "    </tr>\n",
       "    <tr>\n",
       "      <th>6</th>\n",
       "      <td>Manhattan</td>\n",
       "      <td>7</td>\n",
       "      <td>2016-12-13</td>\n",
       "      <td>POINT (991808.3901657631 215697.8566142494)</td>\n",
       "      <td>40.758714</td>\n",
       "      <td>Park Avenue b/w 57th Street and 51st Street</td>\n",
       "      <td>-73.972717</td>\n",
       "      <td>Top 10 recommendations</td>\n",
       "      <td>N or S</td>\n",
       "      <td>FHV/Taxi Relief Stand</td>\n",
       "    </tr>\n",
       "    <tr>\n",
       "      <th>7</th>\n",
       "      <td>Manhattan</td>\n",
       "      <td>8</td>\n",
       "      <td>2016-12-13</td>\n",
       "      <td>POINT (992255.2704169294 216476.5790030815)</td>\n",
       "      <td>40.760851</td>\n",
       "      <td>Park Avenue b/w 57th Street and 51st Street</td>\n",
       "      <td>-73.971103</td>\n",
       "      <td>Top 10 recommendations</td>\n",
       "      <td>N or S</td>\n",
       "      <td>FHV/Taxi Relief Stand</td>\n",
       "    </tr>\n",
       "    <tr>\n",
       "      <th>8</th>\n",
       "      <td>Manhattan</td>\n",
       "      <td>9</td>\n",
       "      <td>2016-12-13</td>\n",
       "      <td>POINT (988560.1314406431 204798.0735094974)</td>\n",
       "      <td>40.728799</td>\n",
       "      <td>1st Avenue b/w 11th Street and 9th Street</td>\n",
       "      <td>-73.984449</td>\n",
       "      <td>Top 10 recommendations</td>\n",
       "      <td>N or S</td>\n",
       "      <td>FHV/Taxi Relief Stand</td>\n",
       "    </tr>\n",
       "    <tr>\n",
       "      <th>9</th>\n",
       "      <td>Manhattan</td>\n",
       "      <td>10</td>\n",
       "      <td>2016-12-13</td>\n",
       "      <td>POINT (984587.6112602645 202704.6117430017)</td>\n",
       "      <td>40.723054</td>\n",
       "      <td>Broadway Prince Street and Broome Street</td>\n",
       "      <td>-73.998782</td>\n",
       "      <td>Top 10 recommendations</td>\n",
       "      <td>N or S</td>\n",
       "      <td>FHV/Taxi Relief Stand</td>\n",
       "    </tr>\n",
       "    <tr>\n",
       "      <th>10</th>\n",
       "      <td>Manhattan</td>\n",
       "      <td>11</td>\n",
       "      <td>2016-12-13</td>\n",
       "      <td>POINT (980654.6532773225 195344.3093272524)</td>\n",
       "      <td>40.702851</td>\n",
       "      <td>Broadway Beaver Street and Water Street</td>\n",
       "      <td>-74.012967</td>\n",
       "      <td>Top 10 recommendations</td>\n",
       "      <td>N or S</td>\n",
       "      <td>FHV/Taxi Relief Stand</td>\n",
       "    </tr>\n",
       "    <tr>\n",
       "      <th>11</th>\n",
       "      <td>Manhattan</td>\n",
       "      <td>12</td>\n",
       "      <td>2016-12-13</td>\n",
       "      <td>POINT (980557.4337903388 196014.6909668889)</td>\n",
       "      <td>40.704691</td>\n",
       "      <td>Broadway Beaver Street and Water Street</td>\n",
       "      <td>-74.013318</td>\n",
       "      <td>Top 10 recommendations</td>\n",
       "      <td>N or S</td>\n",
       "      <td>FHV/Taxi Relief Stand</td>\n",
       "    </tr>\n",
       "    <tr>\n",
       "      <th>18</th>\n",
       "      <td>Manhattan</td>\n",
       "      <td>19</td>\n",
       "      <td>2016-12-13</td>\n",
       "      <td>POINT (1000834.28874055 226979.9286140759)</td>\n",
       "      <td>40.789668</td>\n",
       "      <td>106th Streetb/w FDR Drive and 2nd Avenue</td>\n",
       "      <td>-73.940109</td>\n",
       "      <td>Additional recommendation for new relief stands</td>\n",
       "      <td>N or S</td>\n",
       "      <td>FHV/Taxi Relief Stand</td>\n",
       "    </tr>\n",
       "    <tr>\n",
       "      <th>19</th>\n",
       "      <td>Manhattan</td>\n",
       "      <td>20</td>\n",
       "      <td>2016-12-13</td>\n",
       "      <td>POINT (994092.1008055966 232522.8895537063)</td>\n",
       "      <td>40.804892</td>\n",
       "      <td>112th Streetb/w Broadway and Amsterdam</td>\n",
       "      <td>-73.964449</td>\n",
       "      <td>Additional recommendation for new relief stands</td>\n",
       "      <td>N or S</td>\n",
       "      <td>FHV/Taxi Relief Stand</td>\n",
       "    </tr>\n",
       "    <tr>\n",
       "      <th>20</th>\n",
       "      <td>Manhattan</td>\n",
       "      <td>21</td>\n",
       "      <td>2016-12-13</td>\n",
       "      <td>POINT (997803.093404907 240146.5871629955)</td>\n",
       "      <td>40.825812</td>\n",
       "      <td>144th Streetb/w Riverside and St. Nicholas Avenue</td>\n",
       "      <td>-73.951029</td>\n",
       "      <td>Additional recommendation for new relief stands</td>\n",
       "      <td>N or S</td>\n",
       "      <td>FHV/Taxi Relief Stand</td>\n",
       "    </tr>\n",
       "    <tr>\n",
       "      <th>21</th>\n",
       "      <td>Manhattan</td>\n",
       "      <td>22</td>\n",
       "      <td>2016-12-13</td>\n",
       "      <td>POINT (998870.354582129 239548.6024147599)</td>\n",
       "      <td>40.824169</td>\n",
       "      <td>144th Streetb/w Riverside and St. Nicholas Avenue</td>\n",
       "      <td>-73.947174</td>\n",
       "      <td>Additional recommendation for new relief stands</td>\n",
       "      <td>N or S</td>\n",
       "      <td>FHV/Taxi Relief Stand</td>\n",
       "    </tr>\n",
       "    <tr>\n",
       "      <th>22</th>\n",
       "      <td>Manhattan</td>\n",
       "      <td>23</td>\n",
       "      <td>2016-12-13</td>\n",
       "      <td>POINT (999433.2772651704 239574.4519766997)</td>\n",
       "      <td>40.824239</td>\n",
       "      <td>144th Streetb/w Riverside and St. Nicholas Avenue</td>\n",
       "      <td>-73.945140</td>\n",
       "      <td>Additional recommendation for new relief stands</td>\n",
       "      <td>N or S</td>\n",
       "      <td>FHV/Taxi Relief Stand</td>\n",
       "    </tr>\n",
       "  </tbody>\n",
       "</table>\n",
       "</div>"
      ],
      "text/plain": [
       "      borough  cartodb_id  dot_reques  \\\n",
       "5   Manhattan           6  2016-12-13   \n",
       "6   Manhattan           7  2016-12-13   \n",
       "7   Manhattan           8  2016-12-13   \n",
       "8   Manhattan           9  2016-12-13   \n",
       "9   Manhattan          10  2016-12-13   \n",
       "10  Manhattan          11  2016-12-13   \n",
       "11  Manhattan          12  2016-12-13   \n",
       "18  Manhattan          19  2016-12-13   \n",
       "19  Manhattan          20  2016-12-13   \n",
       "20  Manhattan          21  2016-12-13   \n",
       "21  Manhattan          22  2016-12-13   \n",
       "22  Manhattan          23  2016-12-13   \n",
       "\n",
       "                                       geometry        lat  \\\n",
       "5   POINT (992245.7025136991 224493.0037671806)  40.782854   \n",
       "6   POINT (991808.3901657631 215697.8566142494)  40.758714   \n",
       "7   POINT (992255.2704169294 216476.5790030815)  40.760851   \n",
       "8   POINT (988560.1314406431 204798.0735094974)  40.728799   \n",
       "9   POINT (984587.6112602645 202704.6117430017)  40.723054   \n",
       "10  POINT (980654.6532773225 195344.3093272524)  40.702851   \n",
       "11  POINT (980557.4337903388 196014.6909668889)  40.704691   \n",
       "18   POINT (1000834.28874055 226979.9286140759)  40.789668   \n",
       "19  POINT (994092.1008055966 232522.8895537063)  40.804892   \n",
       "20   POINT (997803.093404907 240146.5871629955)  40.825812   \n",
       "21   POINT (998870.354582129 239548.6024147599)  40.824169   \n",
       "22  POINT (999433.2772651704 239574.4519766997)  40.824239   \n",
       "\n",
       "                                             location       long  \\\n",
       "5    Central Park Westb/w 81st Street and 83rd Street -73.971128   \n",
       "6         Park Avenue b/w 57th Street and 51st Street -73.972717   \n",
       "7         Park Avenue b/w 57th Street and 51st Street -73.971103   \n",
       "8           1st Avenue b/w 11th Street and 9th Street -73.984449   \n",
       "9            Broadway Prince Street and Broome Street -73.998782   \n",
       "10            Broadway Beaver Street and Water Street -74.012967   \n",
       "11            Broadway Beaver Street and Water Street -74.013318   \n",
       "18           106th Streetb/w FDR Drive and 2nd Avenue -73.940109   \n",
       "19             112th Streetb/w Broadway and Amsterdam -73.964449   \n",
       "20  144th Streetb/w Riverside and St. Nicholas Avenue -73.951029   \n",
       "21  144th Streetb/w Riverside and St. Nicholas Avenue -73.947174   \n",
       "22  144th Streetb/w Riverside and St. Nicholas Avenue -73.945140   \n",
       "\n",
       "                                         request_no side_of_st  \\\n",
       "5                            Top 10 recommendations     N or S   \n",
       "6                            Top 10 recommendations     N or S   \n",
       "7                            Top 10 recommendations     N or S   \n",
       "8                            Top 10 recommendations     N or S   \n",
       "9                            Top 10 recommendations     N or S   \n",
       "10                           Top 10 recommendations     N or S   \n",
       "11                           Top 10 recommendations     N or S   \n",
       "18  Additional recommendation for new relief stands     N or S   \n",
       "19  Additional recommendation for new relief stands     N or S   \n",
       "20  Additional recommendation for new relief stands     N or S   \n",
       "21  Additional recommendation for new relief stands     N or S   \n",
       "22  Additional recommendation for new relief stands     N or S   \n",
       "\n",
       "               stand_type  \n",
       "5   FHV/Taxi Relief Stand  \n",
       "6   FHV/Taxi Relief Stand  \n",
       "7   FHV/Taxi Relief Stand  \n",
       "8   FHV/Taxi Relief Stand  \n",
       "9   FHV/Taxi Relief Stand  \n",
       "10  FHV/Taxi Relief Stand  \n",
       "11  FHV/Taxi Relief Stand  \n",
       "18  FHV/Taxi Relief Stand  \n",
       "19  FHV/Taxi Relief Stand  \n",
       "20  FHV/Taxi Relief Stand  \n",
       "21  FHV/Taxi Relief Stand  \n",
       "22  FHV/Taxi Relief Stand  "
      ]
     },
     "execution_count": 118,
     "metadata": {},
     "output_type": "execute_result"
    }
   ],
   "source": [
    "request_dat"
   ]
  },
  {
   "cell_type": "code",
   "execution_count": 151,
   "metadata": {
    "ExecuteTime": {
     "end_time": "2017-07-25T22:54:23.006264Z",
     "start_time": "2017-07-25T22:54:22.999207Z"
    },
    "collapsed": true
   },
   "outputs": [],
   "source": [
    "def find_id(p):\n",
    "    for i in hexagon_manhattan.index.values:\n",
    "        if hexagon_manhattan.loc[i, 'geometry'].contains(p):\n",
    "            return hexagon_manhattan.loc[i, 'GRID_ID']\n",
    "    return None"
   ]
  },
  {
   "cell_type": "code",
   "execution_count": 121,
   "metadata": {
    "ExecuteTime": {
     "end_time": "2017-07-25T16:51:10.970309Z",
     "start_time": "2017-07-25T16:51:10.802388Z"
    },
    "collapsed": false
   },
   "outputs": [],
   "source": [
    "req_id = request_dat.geometry.apply(find_id)"
   ]
  },
  {
   "cell_type": "code",
   "execution_count": 123,
   "metadata": {
    "ExecuteTime": {
     "end_time": "2017-07-25T16:51:38.626213Z",
     "start_time": "2017-07-25T16:51:38.616077Z"
    },
    "collapsed": false
   },
   "outputs": [],
   "source": [
    "np.save('req_id.npy', np.array(req_id))"
   ]
  },
  {
   "cell_type": "markdown",
   "metadata": {},
   "source": [
    "## Usage"
   ]
  },
  {
   "cell_type": "code",
   "execution_count": 125,
   "metadata": {
    "ExecuteTime": {
     "end_time": "2017-07-25T22:36:15.195585Z",
     "start_time": "2017-07-25T22:36:15.079379Z"
    },
    "collapsed": false
   },
   "outputs": [],
   "source": [
    "usage = pd.read_csv('/Users/nnhoucheng/Taxi_Relief_Stand_Spark/usage_2015_July23.csv')"
   ]
  },
  {
   "cell_type": "code",
   "execution_count": 139,
   "metadata": {
    "ExecuteTime": {
     "end_time": "2017-07-25T22:44:43.853873Z",
     "start_time": "2017-07-25T22:44:43.805124Z"
    },
    "collapsed": true
   },
   "outputs": [],
   "source": [
    "relief = gpd.GeoDataFrame.from_file('/Users/nnhoucheng/Taxi_Relief_Stand_Spark/relief_stands_23July.geojson')\n",
    "relief = relief.set_geometry(\"geometry\")\n",
    "relief.crs = from_epsg(4326)\n",
    "relief = relief.to_crs(epsg=2263)"
   ]
  },
  {
   "cell_type": "code",
   "execution_count": 129,
   "metadata": {
    "ExecuteTime": {
     "end_time": "2017-07-25T22:40:06.861963Z",
     "start_time": "2017-07-25T22:40:06.846268Z"
    },
    "collapsed": false
   },
   "outputs": [],
   "source": [
    "usage_annual = usage.groupby('relief_stand_idx').agg({'car_usage': 'mean',\n",
    "                                                      'time_usage': 'mean'})\n",
    "usage_annual.reset_index(inplace=True)"
   ]
  },
  {
   "cell_type": "code",
   "execution_count": 152,
   "metadata": {
    "ExecuteTime": {
     "end_time": "2017-07-25T22:54:27.793667Z",
     "start_time": "2017-07-25T22:54:27.198375Z"
    },
    "collapsed": false
   },
   "outputs": [],
   "source": [
    "relief_id = relief.geometry.apply(find_id)"
   ]
  },
  {
   "cell_type": "code",
   "execution_count": 158,
   "metadata": {
    "ExecuteTime": {
     "end_time": "2017-07-26T02:30:01.853750Z",
     "start_time": "2017-07-26T02:30:01.813818Z"
    },
    "collapsed": false
   },
   "outputs": [
    {
     "data": {
      "text/html": [
       "<div>\n",
       "<style>\n",
       "    .dataframe thead tr:only-child th {\n",
       "        text-align: right;\n",
       "    }\n",
       "\n",
       "    .dataframe thead th {\n",
       "        text-align: left;\n",
       "    }\n",
       "\n",
       "    .dataframe tbody tr th {\n",
       "        vertical-align: top;\n",
       "    }\n",
       "</style>\n",
       "<table border=\"1\" class=\"dataframe\">\n",
       "  <thead>\n",
       "    <tr style=\"text-align: right;\">\n",
       "      <th></th>\n",
       "      <th>relief_stand_idx</th>\n",
       "      <th>time_usage</th>\n",
       "      <th>car_usage</th>\n",
       "    </tr>\n",
       "  </thead>\n",
       "  <tbody>\n",
       "    <tr>\n",
       "      <th>0</th>\n",
       "      <td>0</td>\n",
       "      <td>612823.747945</td>\n",
       "      <td>76.764384</td>\n",
       "    </tr>\n",
       "    <tr>\n",
       "      <th>1</th>\n",
       "      <td>1</td>\n",
       "      <td>268156.501370</td>\n",
       "      <td>28.268493</td>\n",
       "    </tr>\n",
       "    <tr>\n",
       "      <th>2</th>\n",
       "      <td>2</td>\n",
       "      <td>5291.157303</td>\n",
       "      <td>1.202247</td>\n",
       "    </tr>\n",
       "    <tr>\n",
       "      <th>3</th>\n",
       "      <td>3</td>\n",
       "      <td>5912.886598</td>\n",
       "      <td>1.175258</td>\n",
       "    </tr>\n",
       "    <tr>\n",
       "      <th>4</th>\n",
       "      <td>4</td>\n",
       "      <td>36275.443526</td>\n",
       "      <td>7.964187</td>\n",
       "    </tr>\n",
       "    <tr>\n",
       "      <th>5</th>\n",
       "      <td>5</td>\n",
       "      <td>44927.545205</td>\n",
       "      <td>6.323288</td>\n",
       "    </tr>\n",
       "    <tr>\n",
       "      <th>6</th>\n",
       "      <td>6</td>\n",
       "      <td>14867.017986</td>\n",
       "      <td>1.852518</td>\n",
       "    </tr>\n",
       "    <tr>\n",
       "      <th>7</th>\n",
       "      <td>7</td>\n",
       "      <td>31610.483333</td>\n",
       "      <td>4.947222</td>\n",
       "    </tr>\n",
       "    <tr>\n",
       "      <th>8</th>\n",
       "      <td>8</td>\n",
       "      <td>13577.113772</td>\n",
       "      <td>3.116766</td>\n",
       "    </tr>\n",
       "    <tr>\n",
       "      <th>9</th>\n",
       "      <td>9</td>\n",
       "      <td>7583.954887</td>\n",
       "      <td>1.218045</td>\n",
       "    </tr>\n",
       "    <tr>\n",
       "      <th>10</th>\n",
       "      <td>10</td>\n",
       "      <td>13968.701439</td>\n",
       "      <td>1.802158</td>\n",
       "    </tr>\n",
       "    <tr>\n",
       "      <th>11</th>\n",
       "      <td>11</td>\n",
       "      <td>11863.664360</td>\n",
       "      <td>2.536332</td>\n",
       "    </tr>\n",
       "    <tr>\n",
       "      <th>12</th>\n",
       "      <td>12</td>\n",
       "      <td>9357.965035</td>\n",
       "      <td>2.069930</td>\n",
       "    </tr>\n",
       "    <tr>\n",
       "      <th>13</th>\n",
       "      <td>13</td>\n",
       "      <td>80376.679452</td>\n",
       "      <td>9.276712</td>\n",
       "    </tr>\n",
       "    <tr>\n",
       "      <th>14</th>\n",
       "      <td>14</td>\n",
       "      <td>69186.151099</td>\n",
       "      <td>8.074176</td>\n",
       "    </tr>\n",
       "    <tr>\n",
       "      <th>15</th>\n",
       "      <td>15</td>\n",
       "      <td>14906.052419</td>\n",
       "      <td>1.709677</td>\n",
       "    </tr>\n",
       "    <tr>\n",
       "      <th>16</th>\n",
       "      <td>16</td>\n",
       "      <td>13978.767068</td>\n",
       "      <td>1.582329</td>\n",
       "    </tr>\n",
       "    <tr>\n",
       "      <th>17</th>\n",
       "      <td>17</td>\n",
       "      <td>64367.456044</td>\n",
       "      <td>11.096154</td>\n",
       "    </tr>\n",
       "    <tr>\n",
       "      <th>18</th>\n",
       "      <td>18</td>\n",
       "      <td>20963.014327</td>\n",
       "      <td>3.406877</td>\n",
       "    </tr>\n",
       "    <tr>\n",
       "      <th>19</th>\n",
       "      <td>19</td>\n",
       "      <td>24707.682451</td>\n",
       "      <td>5.899721</td>\n",
       "    </tr>\n",
       "    <tr>\n",
       "      <th>20</th>\n",
       "      <td>20</td>\n",
       "      <td>145831.032877</td>\n",
       "      <td>34.123288</td>\n",
       "    </tr>\n",
       "    <tr>\n",
       "      <th>21</th>\n",
       "      <td>21</td>\n",
       "      <td>28034.027548</td>\n",
       "      <td>7.382920</td>\n",
       "    </tr>\n",
       "    <tr>\n",
       "      <th>22</th>\n",
       "      <td>22</td>\n",
       "      <td>8093.672727</td>\n",
       "      <td>1.127273</td>\n",
       "    </tr>\n",
       "    <tr>\n",
       "      <th>23</th>\n",
       "      <td>23</td>\n",
       "      <td>8992.523316</td>\n",
       "      <td>1.435233</td>\n",
       "    </tr>\n",
       "    <tr>\n",
       "      <th>24</th>\n",
       "      <td>24</td>\n",
       "      <td>6481.942446</td>\n",
       "      <td>1.266187</td>\n",
       "    </tr>\n",
       "    <tr>\n",
       "      <th>25</th>\n",
       "      <td>25</td>\n",
       "      <td>19341.459877</td>\n",
       "      <td>2.759259</td>\n",
       "    </tr>\n",
       "    <tr>\n",
       "      <th>26</th>\n",
       "      <td>26</td>\n",
       "      <td>279407.235616</td>\n",
       "      <td>66.501370</td>\n",
       "    </tr>\n",
       "    <tr>\n",
       "      <th>27</th>\n",
       "      <td>27</td>\n",
       "      <td>64996.657534</td>\n",
       "      <td>14.019178</td>\n",
       "    </tr>\n",
       "    <tr>\n",
       "      <th>28</th>\n",
       "      <td>28</td>\n",
       "      <td>19746.372832</td>\n",
       "      <td>3.471098</td>\n",
       "    </tr>\n",
       "    <tr>\n",
       "      <th>29</th>\n",
       "      <td>29</td>\n",
       "      <td>48535.743094</td>\n",
       "      <td>8.660221</td>\n",
       "    </tr>\n",
       "    <tr>\n",
       "      <th>30</th>\n",
       "      <td>30</td>\n",
       "      <td>12801.936842</td>\n",
       "      <td>2.364912</td>\n",
       "    </tr>\n",
       "    <tr>\n",
       "      <th>31</th>\n",
       "      <td>31</td>\n",
       "      <td>8162.554974</td>\n",
       "      <td>1.486911</td>\n",
       "    </tr>\n",
       "    <tr>\n",
       "      <th>32</th>\n",
       "      <td>32</td>\n",
       "      <td>27167.867435</td>\n",
       "      <td>5.478386</td>\n",
       "    </tr>\n",
       "    <tr>\n",
       "      <th>33</th>\n",
       "      <td>33</td>\n",
       "      <td>14267.033493</td>\n",
       "      <td>1.483254</td>\n",
       "    </tr>\n",
       "    <tr>\n",
       "      <th>34</th>\n",
       "      <td>34</td>\n",
       "      <td>297820.876712</td>\n",
       "      <td>27.205479</td>\n",
       "    </tr>\n",
       "    <tr>\n",
       "      <th>35</th>\n",
       "      <td>35</td>\n",
       "      <td>14004.417614</td>\n",
       "      <td>4.113636</td>\n",
       "    </tr>\n",
       "    <tr>\n",
       "      <th>36</th>\n",
       "      <td>36</td>\n",
       "      <td>7684.475610</td>\n",
       "      <td>1.906504</td>\n",
       "    </tr>\n",
       "    <tr>\n",
       "      <th>37</th>\n",
       "      <td>37</td>\n",
       "      <td>7957.875000</td>\n",
       "      <td>1.134615</td>\n",
       "    </tr>\n",
       "    <tr>\n",
       "      <th>38</th>\n",
       "      <td>38</td>\n",
       "      <td>247863.627397</td>\n",
       "      <td>30.635616</td>\n",
       "    </tr>\n",
       "    <tr>\n",
       "      <th>39</th>\n",
       "      <td>39</td>\n",
       "      <td>82501.470914</td>\n",
       "      <td>6.914127</td>\n",
       "    </tr>\n",
       "    <tr>\n",
       "      <th>40</th>\n",
       "      <td>40</td>\n",
       "      <td>28372.218543</td>\n",
       "      <td>2.516556</td>\n",
       "    </tr>\n",
       "    <tr>\n",
       "      <th>41</th>\n",
       "      <td>41</td>\n",
       "      <td>5901.734940</td>\n",
       "      <td>1.427711</td>\n",
       "    </tr>\n",
       "    <tr>\n",
       "      <th>42</th>\n",
       "      <td>42</td>\n",
       "      <td>25581.290055</td>\n",
       "      <td>6.635359</td>\n",
       "    </tr>\n",
       "    <tr>\n",
       "      <th>43</th>\n",
       "      <td>43</td>\n",
       "      <td>7860.807339</td>\n",
       "      <td>1.766055</td>\n",
       "    </tr>\n",
       "    <tr>\n",
       "      <th>44</th>\n",
       "      <td>44</td>\n",
       "      <td>987731.147945</td>\n",
       "      <td>99.852055</td>\n",
       "    </tr>\n",
       "    <tr>\n",
       "      <th>45</th>\n",
       "      <td>45</td>\n",
       "      <td>96785.214286</td>\n",
       "      <td>9.510989</td>\n",
       "    </tr>\n",
       "    <tr>\n",
       "      <th>46</th>\n",
       "      <td>46</td>\n",
       "      <td>31341.316456</td>\n",
       "      <td>2.689873</td>\n",
       "    </tr>\n",
       "    <tr>\n",
       "      <th>47</th>\n",
       "      <td>47</td>\n",
       "      <td>15356.076923</td>\n",
       "      <td>1.128205</td>\n",
       "    </tr>\n",
       "    <tr>\n",
       "      <th>48</th>\n",
       "      <td>48</td>\n",
       "      <td>17246.769585</td>\n",
       "      <td>1.460829</td>\n",
       "    </tr>\n",
       "    <tr>\n",
       "      <th>49</th>\n",
       "      <td>49</td>\n",
       "      <td>150473.323288</td>\n",
       "      <td>11.671233</td>\n",
       "    </tr>\n",
       "    <tr>\n",
       "      <th>50</th>\n",
       "      <td>50</td>\n",
       "      <td>6661.333333</td>\n",
       "      <td>1.000000</td>\n",
       "    </tr>\n",
       "    <tr>\n",
       "      <th>51</th>\n",
       "      <td>51</td>\n",
       "      <td>11956.076923</td>\n",
       "      <td>1.120879</td>\n",
       "    </tr>\n",
       "    <tr>\n",
       "      <th>52</th>\n",
       "      <td>52</td>\n",
       "      <td>101641.196133</td>\n",
       "      <td>8.262431</td>\n",
       "    </tr>\n",
       "    <tr>\n",
       "      <th>53</th>\n",
       "      <td>53</td>\n",
       "      <td>59404.417582</td>\n",
       "      <td>7.807692</td>\n",
       "    </tr>\n",
       "    <tr>\n",
       "      <th>54</th>\n",
       "      <td>54</td>\n",
       "      <td>7747.656489</td>\n",
       "      <td>1.290076</td>\n",
       "    </tr>\n",
       "    <tr>\n",
       "      <th>55</th>\n",
       "      <td>55</td>\n",
       "      <td>26476.367589</td>\n",
       "      <td>2.086957</td>\n",
       "    </tr>\n",
       "    <tr>\n",
       "      <th>56</th>\n",
       "      <td>56</td>\n",
       "      <td>30609.377778</td>\n",
       "      <td>2.412698</td>\n",
       "    </tr>\n",
       "    <tr>\n",
       "      <th>57</th>\n",
       "      <td>57</td>\n",
       "      <td>15536.475083</td>\n",
       "      <td>2.561462</td>\n",
       "    </tr>\n",
       "    <tr>\n",
       "      <th>58</th>\n",
       "      <td>58</td>\n",
       "      <td>8439.960227</td>\n",
       "      <td>1.448864</td>\n",
       "    </tr>\n",
       "    <tr>\n",
       "      <th>59</th>\n",
       "      <td>59</td>\n",
       "      <td>10223.745763</td>\n",
       "      <td>1.395480</td>\n",
       "    </tr>\n",
       "  </tbody>\n",
       "</table>\n",
       "</div>"
      ],
      "text/plain": [
       "    relief_stand_idx     time_usage  car_usage\n",
       "0                  0  612823.747945  76.764384\n",
       "1                  1  268156.501370  28.268493\n",
       "2                  2    5291.157303   1.202247\n",
       "3                  3    5912.886598   1.175258\n",
       "4                  4   36275.443526   7.964187\n",
       "5                  5   44927.545205   6.323288\n",
       "6                  6   14867.017986   1.852518\n",
       "7                  7   31610.483333   4.947222\n",
       "8                  8   13577.113772   3.116766\n",
       "9                  9    7583.954887   1.218045\n",
       "10                10   13968.701439   1.802158\n",
       "11                11   11863.664360   2.536332\n",
       "12                12    9357.965035   2.069930\n",
       "13                13   80376.679452   9.276712\n",
       "14                14   69186.151099   8.074176\n",
       "15                15   14906.052419   1.709677\n",
       "16                16   13978.767068   1.582329\n",
       "17                17   64367.456044  11.096154\n",
       "18                18   20963.014327   3.406877\n",
       "19                19   24707.682451   5.899721\n",
       "20                20  145831.032877  34.123288\n",
       "21                21   28034.027548   7.382920\n",
       "22                22    8093.672727   1.127273\n",
       "23                23    8992.523316   1.435233\n",
       "24                24    6481.942446   1.266187\n",
       "25                25   19341.459877   2.759259\n",
       "26                26  279407.235616  66.501370\n",
       "27                27   64996.657534  14.019178\n",
       "28                28   19746.372832   3.471098\n",
       "29                29   48535.743094   8.660221\n",
       "30                30   12801.936842   2.364912\n",
       "31                31    8162.554974   1.486911\n",
       "32                32   27167.867435   5.478386\n",
       "33                33   14267.033493   1.483254\n",
       "34                34  297820.876712  27.205479\n",
       "35                35   14004.417614   4.113636\n",
       "36                36    7684.475610   1.906504\n",
       "37                37    7957.875000   1.134615\n",
       "38                38  247863.627397  30.635616\n",
       "39                39   82501.470914   6.914127\n",
       "40                40   28372.218543   2.516556\n",
       "41                41    5901.734940   1.427711\n",
       "42                42   25581.290055   6.635359\n",
       "43                43    7860.807339   1.766055\n",
       "44                44  987731.147945  99.852055\n",
       "45                45   96785.214286   9.510989\n",
       "46                46   31341.316456   2.689873\n",
       "47                47   15356.076923   1.128205\n",
       "48                48   17246.769585   1.460829\n",
       "49                49  150473.323288  11.671233\n",
       "50                50    6661.333333   1.000000\n",
       "51                51   11956.076923   1.120879\n",
       "52                52  101641.196133   8.262431\n",
       "53                53   59404.417582   7.807692\n",
       "54                54    7747.656489   1.290076\n",
       "55                55   26476.367589   2.086957\n",
       "56                56   30609.377778   2.412698\n",
       "57                57   15536.475083   2.561462\n",
       "58                58    8439.960227   1.448864\n",
       "59                59   10223.745763   1.395480"
      ]
     },
     "execution_count": 158,
     "metadata": {},
     "output_type": "execute_result"
    }
   ],
   "source": [
    "usage_annual"
   ]
  },
  {
   "cell_type": "code",
   "execution_count": 159,
   "metadata": {
    "ExecuteTime": {
     "end_time": "2017-07-26T02:31:41.680216Z",
     "start_time": "2017-07-26T02:31:41.644396Z"
    },
    "collapsed": true
   },
   "outputs": [],
   "source": [
    "hex_usage = {}\n",
    "for i,idx in enumerate(relief_id):\n",
    "    if idx:\n",
    "        u = hex_usage.get(idx, (0,0))\n",
    "        hex_usage[idx] = (u[0]+usage_annual.loc[i,'time_usage'], u[1]+usage_annual.loc[i,'car_usage'])"
   ]
  },
  {
   "cell_type": "code",
   "execution_count": 167,
   "metadata": {
    "ExecuteTime": {
     "end_time": "2017-07-26T02:35:30.942135Z",
     "start_time": "2017-07-26T02:35:30.931377Z"
    },
    "collapsed": false
   },
   "outputs": [],
   "source": [
    "df_hex_usage = pd.DataFrame(hex_usage).transpose()\n",
    "df_hex_usage.reset_index(inplace=True)\n",
    "df_hex_usage.rename(columns={'index': 'GRID_ID',\n",
    "                             0: 'time_usage',\n",
    "                             1: 'car_usage'}, inplace=True)"
   ]
  },
  {
   "cell_type": "code",
   "execution_count": 169,
   "metadata": {
    "ExecuteTime": {
     "end_time": "2017-07-26T02:35:54.483729Z",
     "start_time": "2017-07-26T02:35:54.469756Z"
    },
    "collapsed": false
   },
   "outputs": [],
   "source": [
    "df_hex_usage.to_csv('hex_usage.csv')"
   ]
  }
 ],
 "metadata": {
  "anaconda-cloud": {},
  "kernelspec": {
   "display_name": "Python [conda root]",
   "language": "python",
   "name": "conda-root-py"
  },
  "language_info": {
   "codemirror_mode": {
    "name": "ipython",
    "version": 3
   },
   "file_extension": ".py",
   "mimetype": "text/x-python",
   "name": "python",
   "nbconvert_exporter": "python",
   "pygments_lexer": "ipython3",
   "version": "3.5.2"
  }
 },
 "nbformat": 4,
 "nbformat_minor": 1
}
