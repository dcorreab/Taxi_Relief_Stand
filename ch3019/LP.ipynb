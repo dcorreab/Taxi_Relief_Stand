{
 "cells": [
  {
   "cell_type": "code",
   "execution_count": 2,
   "metadata": {
    "ExecuteTime": {
     "end_time": "2017-07-30T14:22:42.200963Z",
     "start_time": "2017-07-30T14:22:42.163567Z"
    },
    "collapsed": false
   },
   "outputs": [],
   "source": [
    "import pandas as pd\n",
    "import geopandas as gpd\n",
    "import numpy as np\n",
    "import matplotlib.pyplot as plt\n",
    "import geopandas as gpd\n",
    "from fiona.crs import from_epsg\n",
    "import pulp\n",
    "from sklearn import linear_model\n",
    "import statsmodels.api as sm\n",
    "import shapely\n",
    "import re\n",
    "from itertools import product\n",
    "\n",
    "%matplotlib inline"
   ]
  },
  {
   "cell_type": "markdown",
   "metadata": {},
   "source": [
    "# Data"
   ]
  },
  {
   "cell_type": "code",
   "execution_count": 3,
   "metadata": {
    "ExecuteTime": {
     "end_time": "2017-07-30T14:22:43.675651Z",
     "start_time": "2017-07-30T14:22:43.620625Z"
    },
    "collapsed": true
   },
   "outputs": [],
   "source": [
    "man = pd.read_csv('manhattan_grids_final.csv', index_col=0)\n",
    "man.rename(columns={'0': 'GRID_ID'}, inplace=True)"
   ]
  },
  {
   "cell_type": "code",
   "execution_count": 4,
   "metadata": {
    "ExecuteTime": {
     "end_time": "2017-07-30T14:22:44.487181Z",
     "start_time": "2017-07-30T14:22:44.462998Z"
    },
    "collapsed": true
   },
   "outputs": [],
   "source": [
    "matrix = np.load('neighbour.npy')"
   ]
  },
  {
   "cell_type": "code",
   "execution_count": 5,
   "metadata": {
    "ExecuteTime": {
     "end_time": "2017-07-30T14:22:45.825938Z",
     "start_time": "2017-07-30T14:22:45.621108Z"
    },
    "collapsed": true
   },
   "outputs": [],
   "source": [
    "df = gpd.GeoDataFrame.from_file('Manhattan/manhattan.shp')"
   ]
  },
  {
   "cell_type": "code",
   "execution_count": 6,
   "metadata": {
    "ExecuteTime": {
     "end_time": "2017-07-30T14:22:46.107634Z",
     "start_time": "2017-07-30T14:22:46.097708Z"
    },
    "collapsed": true
   },
   "outputs": [],
   "source": [
    "hex_usage = pd.read_csv('hex_usage.csv', index_col=0)"
   ]
  },
  {
   "cell_type": "code",
   "execution_count": 7,
   "metadata": {
    "ExecuteTime": {
     "end_time": "2017-07-30T14:22:46.862509Z",
     "start_time": "2017-07-30T14:22:46.805520Z"
    },
    "collapsed": false
   },
   "outputs": [],
   "source": [
    "df_man = gpd.GeoDataFrame(pd.merge(man, df, on='GRID_ID', how='left'))\n",
    "\n",
    "df_man = df_man.merge(hex_usage, on='GRID_ID', how='left')\n",
    "df_man.fillna(0, inplace=True)"
   ]
  },
  {
   "cell_type": "code",
   "execution_count": 8,
   "metadata": {
    "ExecuteTime": {
     "end_time": "2017-07-30T14:22:47.506497Z",
     "start_time": "2017-07-30T14:22:47.493251Z"
    },
    "collapsed": false
   },
   "outputs": [
    {
     "data": {
      "text/plain": [
       "0.04767913045565828"
      ]
     },
     "execution_count": 8,
     "metadata": {},
     "output_type": "execute_result"
    }
   ],
   "source": [
    "df_man.car_usage.sum() / df_man.idle_count.sum()"
   ]
  },
  {
   "cell_type": "markdown",
   "metadata": {},
   "source": [
    "# Regression"
   ]
  },
  {
   "cell_type": "code",
   "execution_count": 9,
   "metadata": {
    "ExecuteTime": {
     "end_time": "2017-07-30T14:22:49.751884Z",
     "start_time": "2017-07-30T14:22:49.740592Z"
    },
    "collapsed": false
   },
   "outputs": [],
   "source": [
    "hu = hex_usage.merge(df, on='GRID_ID', how='left')"
   ]
  },
  {
   "cell_type": "code",
   "execution_count": 10,
   "metadata": {
    "ExecuteTime": {
     "end_time": "2017-07-30T14:22:50.372352Z",
     "start_time": "2017-07-30T14:22:50.365326Z"
    },
    "collapsed": false
   },
   "outputs": [
    {
     "data": {
      "text/plain": [
       "Index(['GRID_ID', 'time_usage', 'car_usage', 'Bangladesh', 'dropoff_co',\n",
       "       'geometry', 'hotel', 'idle_count', 'idle_time_', 'parks', 'pickup_cou',\n",
       "       'rest_cheap', 'rest_india', 'rs_count', 'violations'],\n",
       "      dtype='object')"
      ]
     },
     "execution_count": 10,
     "metadata": {},
     "output_type": "execute_result"
    }
   ],
   "source": [
    "hu.columns"
   ]
  },
  {
   "cell_type": "code",
   "execution_count": 11,
   "metadata": {
    "ExecuteTime": {
     "end_time": "2017-07-30T14:23:29.061580Z",
     "start_time": "2017-07-30T14:23:29.040722Z"
    },
    "collapsed": false
   },
   "outputs": [],
   "source": [
    "hu['ratio'] = hu.apply(lambda row: row['car_usage']/row[\"idle_count\"], axis=1)\n",
    "y_train = hu['ratio']\n",
    "x_train = hu.loc[:,['dropoff_co', 'pickup_cou', 'hotel', 'parks', 'rest_cheap']]"
   ]
  },
  {
   "cell_type": "code",
   "execution_count": 12,
   "metadata": {
    "ExecuteTime": {
     "end_time": "2017-07-30T14:23:31.009938Z",
     "start_time": "2017-07-30T14:23:30.728674Z"
    },
    "collapsed": false,
    "scrolled": false
   },
   "outputs": [
    {
     "name": "stdout",
     "output_type": "stream",
     "text": [
      "dropoff_co\n",
      "                            OLS Regression Results                            \n",
      "==============================================================================\n",
      "Dep. Variable:                  ratio   R-squared:                       0.216\n",
      "Model:                            OLS   Adj. R-squared:                  0.190\n",
      "Method:                 Least Squares   F-statistic:                     8.276\n",
      "Date:                Sun, 30 Jul 2017   Prob (F-statistic):            0.00733\n",
      "Time:                        14:23:30   Log-Likelihood:                 7.5574\n",
      "No. Observations:                  32   AIC:                            -11.11\n",
      "Df Residuals:                      30   BIC:                            -8.183\n",
      "Df Model:                           1                                         \n",
      "Covariance Type:            nonrobust                                         \n",
      "==============================================================================\n",
      "                 coef    std err          t      P>|t|      [0.025      0.975]\n",
      "------------------------------------------------------------------------------\n",
      "const          0.4213      0.078      5.387      0.000       0.262       0.581\n",
      "dropoff_co -8.509e-05   2.96e-05     -2.877      0.007      -0.000   -2.47e-05\n",
      "==============================================================================\n",
      "Omnibus:                       21.874   Durbin-Watson:                   2.311\n",
      "Prob(Omnibus):                  0.000   Jarque-Bera (JB):               34.910\n",
      "Skew:                           1.657   Prob(JB):                     2.63e-08\n",
      "Kurtosis:                       6.899   Cond. No.                     5.93e+03\n",
      "==============================================================================\n",
      "\n",
      "Warnings:\n",
      "[1] Standard Errors assume that the covariance matrix of the errors is correctly specified.\n",
      "[2] The condition number is large, 5.93e+03. This might indicate that there are\n",
      "strong multicollinearity or other numerical problems.\n",
      "\n",
      "\n",
      "pickup_cou\n",
      "                            OLS Regression Results                            \n",
      "==============================================================================\n",
      "Dep. Variable:                  ratio   R-squared:                       0.215\n",
      "Model:                            OLS   Adj. R-squared:                  0.188\n",
      "Method:                 Least Squares   F-statistic:                     8.193\n",
      "Date:                Sun, 30 Jul 2017   Prob (F-statistic):            0.00760\n",
      "Time:                        14:23:30   Log-Likelihood:                 7.5225\n",
      "No. Observations:                  32   AIC:                            -11.05\n",
      "Df Residuals:                      30   BIC:                            -8.114\n",
      "Df Model:                           1                                         \n",
      "Covariance Type:            nonrobust                                         \n",
      "==============================================================================\n",
      "                 coef    std err          t      P>|t|      [0.025      0.975]\n",
      "------------------------------------------------------------------------------\n",
      "const          0.4042      0.073      5.519      0.000       0.255       0.554\n",
      "pickup_cou -6.874e-05    2.4e-05     -2.862      0.008      -0.000   -1.97e-05\n",
      "==============================================================================\n",
      "Omnibus:                       23.255   Durbin-Watson:                   2.289\n",
      "Prob(Omnibus):                  0.000   Jarque-Bera (JB):               40.103\n",
      "Skew:                           1.716   Prob(JB):                     1.96e-09\n",
      "Kurtosis:                       7.278   Cond. No.                     6.39e+03\n",
      "==============================================================================\n",
      "\n",
      "Warnings:\n",
      "[1] Standard Errors assume that the covariance matrix of the errors is correctly specified.\n",
      "[2] The condition number is large, 6.39e+03. This might indicate that there are\n",
      "strong multicollinearity or other numerical problems.\n",
      "\n",
      "\n",
      "hotel\n",
      "                            OLS Regression Results                            \n",
      "==============================================================================\n",
      "Dep. Variable:                  ratio   R-squared:                       0.039\n",
      "Model:                            OLS   Adj. R-squared:                  0.007\n",
      "Method:                 Least Squares   F-statistic:                     1.209\n",
      "Date:                Sun, 30 Jul 2017   Prob (F-statistic):              0.280\n",
      "Time:                        14:23:30   Log-Likelihood:                 4.2918\n",
      "No. Observations:                  32   AIC:                            -4.584\n",
      "Df Residuals:                      30   BIC:                            -1.652\n",
      "Df Model:                           1                                         \n",
      "Covariance Type:            nonrobust                                         \n",
      "==============================================================================\n",
      "                 coef    std err          t      P>|t|      [0.025      0.975]\n",
      "------------------------------------------------------------------------------\n",
      "const          0.3120      0.092      3.384      0.002       0.124       0.500\n",
      "hotel         -0.0027      0.002     -1.100      0.280      -0.008       0.002\n",
      "==============================================================================\n",
      "Omnibus:                       30.755   Durbin-Watson:                   2.137\n",
      "Prob(Omnibus):                  0.000   Jarque-Bera (JB):               70.483\n",
      "Skew:                           2.166   Prob(JB):                     4.95e-16\n",
      "Kurtosis:                       8.840   Cond. No.                         89.3\n",
      "==============================================================================\n",
      "\n",
      "Warnings:\n",
      "[1] Standard Errors assume that the covariance matrix of the errors is correctly specified.\n",
      "\n",
      "\n",
      "parks\n",
      "                            OLS Regression Results                            \n",
      "==============================================================================\n",
      "Dep. Variable:                  ratio   R-squared:                       0.005\n",
      "Model:                            OLS   Adj. R-squared:                 -0.028\n",
      "Method:                 Least Squares   F-statistic:                    0.1606\n",
      "Date:                Sun, 30 Jul 2017   Prob (F-statistic):              0.691\n",
      "Time:                        14:23:30   Log-Likelihood:                 3.7449\n",
      "No. Observations:                  32   AIC:                            -3.490\n",
      "Df Residuals:                      30   BIC:                           -0.5583\n",
      "Df Model:                           1                                         \n",
      "Covariance Type:            nonrobust                                         \n",
      "==============================================================================\n",
      "                 coef    std err          t      P>|t|      [0.025      0.975]\n",
      "------------------------------------------------------------------------------\n",
      "const          0.2149      0.041      5.205      0.000       0.131       0.299\n",
      "parks          0.0540      0.135      0.401      0.691      -0.221       0.329\n",
      "==============================================================================\n",
      "Omnibus:                       36.040   Durbin-Watson:                   2.243\n",
      "Prob(Omnibus):                  0.000   Jarque-Bera (JB):              105.045\n",
      "Skew:                           2.452   Prob(JB):                     1.55e-23\n",
      "Kurtosis:                      10.399   Cond. No.                         3.46\n",
      "==============================================================================\n",
      "\n",
      "Warnings:\n",
      "[1] Standard Errors assume that the covariance matrix of the errors is correctly specified.\n",
      "\n",
      "\n",
      "rest_cheap\n",
      "                            OLS Regression Results                            \n",
      "==============================================================================\n",
      "Dep. Variable:                  ratio   R-squared:                       0.080\n",
      "Model:                            OLS   Adj. R-squared:                  0.049\n",
      "Method:                 Least Squares   F-statistic:                     2.612\n",
      "Date:                Sun, 30 Jul 2017   Prob (F-statistic):              0.117\n",
      "Time:                        14:23:30   Log-Likelihood:                 4.9950\n",
      "No. Observations:                  32   AIC:                            -5.990\n",
      "Df Residuals:                      30   BIC:                            -3.059\n",
      "Df Model:                           1                                         \n",
      "Covariance Type:            nonrobust                                         \n",
      "==============================================================================\n",
      "                 coef    std err          t      P>|t|      [0.025      0.975]\n",
      "------------------------------------------------------------------------------\n",
      "const          0.6477      0.267      2.422      0.022       0.102       1.194\n",
      "rest_cheap    -0.0088      0.005     -1.616      0.117      -0.020       0.002\n",
      "==============================================================================\n",
      "Omnibus:                       41.739   Durbin-Watson:                   2.142\n",
      "Prob(Omnibus):                  0.000   Jarque-Bera (JB):              156.988\n",
      "Skew:                           2.777   Prob(JB):                     8.14e-35\n",
      "Kurtosis:                      12.322   Cond. No.                         349.\n",
      "==============================================================================\n",
      "\n",
      "Warnings:\n",
      "[1] Standard Errors assume that the covariance matrix of the errors is correctly specified.\n",
      "\n",
      "\n"
     ]
    }
   ],
   "source": [
    "for c in x_train.columns:\n",
    "    lr = sm.OLS(y_train, sm.add_constant(x_train[c])).fit()\n",
    "    print(c)\n",
    "    print(lr.summary())\n",
    "    print('\\n')"
   ]
  },
  {
   "cell_type": "code",
   "execution_count": 33,
   "metadata": {
    "ExecuteTime": {
     "end_time": "2017-07-30T20:31:33.628870Z",
     "start_time": "2017-07-30T20:31:33.296121Z"
    },
    "collapsed": false
   },
   "outputs": [
    {
     "data": {
      "text/html": [
       "<table class=\"simpletable\">\n",
       "<caption>OLS Regression Results</caption>\n",
       "<tr>\n",
       "  <th>Dep. Variable:</th>          <td>ratio</td>      <th>  R-squared:         </th> <td>   0.550</td>\n",
       "</tr>\n",
       "<tr>\n",
       "  <th>Model:</th>                   <td>OLS</td>       <th>  Adj. R-squared:    </th> <td>   0.486</td>\n",
       "</tr>\n",
       "<tr>\n",
       "  <th>Method:</th>             <td>Least Squares</td>  <th>  F-statistic:       </th> <td>   8.568</td>\n",
       "</tr>\n",
       "<tr>\n",
       "  <th>Date:</th>             <td>Sun, 30 Jul 2017</td> <th>  Prob (F-statistic):</th> <td>0.000120</td>\n",
       "</tr>\n",
       "<tr>\n",
       "  <th>Time:</th>                 <td>20:31:33</td>     <th>  Log-Likelihood:    </th> <td>  5.0544</td>\n",
       "</tr>\n",
       "<tr>\n",
       "  <th>No. Observations:</th>      <td>    32</td>      <th>  AIC:               </th> <td>  -2.109</td>\n",
       "</tr>\n",
       "<tr>\n",
       "  <th>Df Residuals:</th>          <td>    28</td>      <th>  BIC:               </th> <td>   3.754</td>\n",
       "</tr>\n",
       "<tr>\n",
       "  <th>Df Model:</th>              <td>     4</td>      <th>                     </th>     <td> </td>   \n",
       "</tr>\n",
       "<tr>\n",
       "  <th>Covariance Type:</th>      <td>nonrobust</td>    <th>                     </th>     <td> </td>   \n",
       "</tr>\n",
       "</table>\n",
       "<table class=\"simpletable\">\n",
       "<tr>\n",
       "       <td></td>         <th>coef</th>     <th>std err</th>      <th>t</th>      <th>P>|t|</th>  <th>[0.025</th>    <th>0.975]</th>  \n",
       "</tr>\n",
       "<tr>\n",
       "  <th>dropoff_co</th> <td> 4.695e-06</td> <td>    0.000</td> <td>    0.029</td> <td> 0.977</td> <td>   -0.000</td> <td>    0.000</td>\n",
       "</tr>\n",
       "<tr>\n",
       "  <th>pickup_cou</th> <td>-7.727e-05</td> <td>    0.000</td> <td>   -0.585</td> <td> 0.563</td> <td>   -0.000</td> <td>    0.000</td>\n",
       "</tr>\n",
       "<tr>\n",
       "  <th>hotel</th>      <td>    0.0016</td> <td>    0.003</td> <td>    0.550</td> <td> 0.587</td> <td>   -0.004</td> <td>    0.008</td>\n",
       "</tr>\n",
       "<tr>\n",
       "  <th>rest_cheap</th> <td>    0.0071</td> <td>    0.002</td> <td>    3.154</td> <td> 0.004</td> <td>    0.003</td> <td>    0.012</td>\n",
       "</tr>\n",
       "</table>\n",
       "<table class=\"simpletable\">\n",
       "<tr>\n",
       "  <th>Omnibus:</th>       <td>21.445</td> <th>  Durbin-Watson:     </th> <td>   2.338</td>\n",
       "</tr>\n",
       "<tr>\n",
       "  <th>Prob(Omnibus):</th> <td> 0.000</td> <th>  Jarque-Bera (JB):  </th> <td>  31.316</td>\n",
       "</tr>\n",
       "<tr>\n",
       "  <th>Skew:</th>          <td> 1.709</td> <th>  Prob(JB):          </th> <td>1.58e-07</td>\n",
       "</tr>\n",
       "<tr>\n",
       "  <th>Kurtosis:</th>      <td> 6.437</td> <th>  Cond. No.          </th> <td>    343.</td>\n",
       "</tr>\n",
       "</table>"
      ],
      "text/plain": [
       "<class 'statsmodels.iolib.summary.Summary'>\n",
       "\"\"\"\n",
       "                            OLS Regression Results                            \n",
       "==============================================================================\n",
       "Dep. Variable:                  ratio   R-squared:                       0.550\n",
       "Model:                            OLS   Adj. R-squared:                  0.486\n",
       "Method:                 Least Squares   F-statistic:                     8.568\n",
       "Date:                Sun, 30 Jul 2017   Prob (F-statistic):           0.000120\n",
       "Time:                        20:31:33   Log-Likelihood:                 5.0544\n",
       "No. Observations:                  32   AIC:                            -2.109\n",
       "Df Residuals:                      28   BIC:                             3.754\n",
       "Df Model:                           4                                         \n",
       "Covariance Type:            nonrobust                                         \n",
       "==============================================================================\n",
       "                 coef    std err          t      P>|t|      [0.025      0.975]\n",
       "------------------------------------------------------------------------------\n",
       "dropoff_co  4.695e-06      0.000      0.029      0.977      -0.000       0.000\n",
       "pickup_cou -7.727e-05      0.000     -0.585      0.563      -0.000       0.000\n",
       "hotel          0.0016      0.003      0.550      0.587      -0.004       0.008\n",
       "rest_cheap     0.0071      0.002      3.154      0.004       0.003       0.012\n",
       "==============================================================================\n",
       "Omnibus:                       21.445   Durbin-Watson:                   2.338\n",
       "Prob(Omnibus):                  0.000   Jarque-Bera (JB):               31.316\n",
       "Skew:                           1.709   Prob(JB):                     1.58e-07\n",
       "Kurtosis:                       6.437   Cond. No.                         343.\n",
       "==============================================================================\n",
       "\n",
       "Warnings:\n",
       "[1] Standard Errors assume that the covariance matrix of the errors is correctly specified.\n",
       "\"\"\""
      ]
     },
     "execution_count": 33,
     "metadata": {},
     "output_type": "execute_result"
    }
   ],
   "source": [
    "lr = sm.OLS(y_train, x_train.drop('parks', axis=1)).fit()\n",
    "lr.summary()"
   ]
  },
  {
   "cell_type": "code",
   "execution_count": 35,
   "metadata": {
    "ExecuteTime": {
     "end_time": "2017-07-30T20:34:07.148874Z",
     "start_time": "2017-07-30T20:34:06.958691Z"
    },
    "collapsed": false
   },
   "outputs": [
    {
     "data": {
      "text/plain": [
       "0.1420665323177491"
      ]
     },
     "execution_count": 35,
     "metadata": {},
     "output_type": "execute_result"
    }
   ],
   "source": [
    "p = lr.predict(df_man.loc[:,['dropoff_co', 'pickup_cou', 'hotel', 'rest_cheap']])\n",
    "\n",
    "inl = hu.GRID_ID.apply(lambda n: np.where(df_man.GRID_ID == n)[0][0])\n",
    "\n",
    "p[inl] = hu['ratio']\n",
    "\n",
    "p[np.where(p < 0)[0]] = 0\n",
    "\n",
    "p.mean()"
   ]
  },
  {
   "cell_type": "code",
   "execution_count": 13,
   "metadata": {
    "ExecuteTime": {
     "end_time": "2017-07-30T14:23:36.325084Z",
     "start_time": "2017-07-30T14:23:36.279722Z"
    },
    "collapsed": false
   },
   "outputs": [],
   "source": [
    "lr = sm.OLS(y_train, sm.add_constant(x_train.drop('parks', axis=1))).fit()"
   ]
  },
  {
   "cell_type": "code",
   "execution_count": 14,
   "metadata": {
    "ExecuteTime": {
     "end_time": "2017-07-30T14:23:37.130416Z",
     "start_time": "2017-07-30T14:23:37.094651Z"
    },
    "collapsed": false
   },
   "outputs": [
    {
     "data": {
      "text/html": [
       "<table class=\"simpletable\">\n",
       "<caption>OLS Regression Results</caption>\n",
       "<tr>\n",
       "  <th>Dep. Variable:</th>          <td>ratio</td>      <th>  R-squared:         </th> <td>   0.246</td>\n",
       "</tr>\n",
       "<tr>\n",
       "  <th>Model:</th>                   <td>OLS</td>       <th>  Adj. R-squared:    </th> <td>   0.134</td>\n",
       "</tr>\n",
       "<tr>\n",
       "  <th>Method:</th>             <td>Least Squares</td>  <th>  F-statistic:       </th> <td>   2.198</td>\n",
       "</tr>\n",
       "<tr>\n",
       "  <th>Date:</th>             <td>Sun, 30 Jul 2017</td> <th>  Prob (F-statistic):</th>  <td>0.0960</td> \n",
       "</tr>\n",
       "<tr>\n",
       "  <th>Time:</th>                 <td>14:23:37</td>     <th>  Log-Likelihood:    </th> <td>  8.1699</td>\n",
       "</tr>\n",
       "<tr>\n",
       "  <th>No. Observations:</th>      <td>    32</td>      <th>  AIC:               </th> <td>  -6.340</td>\n",
       "</tr>\n",
       "<tr>\n",
       "  <th>Df Residuals:</th>          <td>    27</td>      <th>  BIC:               </th> <td>  0.9889</td>\n",
       "</tr>\n",
       "<tr>\n",
       "  <th>Df Model:</th>              <td>     4</td>      <th>                     </th>     <td> </td>   \n",
       "</tr>\n",
       "<tr>\n",
       "  <th>Covariance Type:</th>      <td>nonrobust</td>    <th>                     </th>     <td> </td>   \n",
       "</tr>\n",
       "</table>\n",
       "<table class=\"simpletable\">\n",
       "<tr>\n",
       "       <td></td>         <th>coef</th>     <th>std err</th>      <th>t</th>      <th>P>|t|</th>  <th>[0.025</th>    <th>0.975]</th>  \n",
       "</tr>\n",
       "<tr>\n",
       "  <th>const</th>      <td>    0.6246</td> <td>    0.259</td> <td>    2.409</td> <td> 0.023</td> <td>    0.093</td> <td>    1.156</td>\n",
       "</tr>\n",
       "<tr>\n",
       "  <th>dropoff_co</th> <td>-5.376e-05</td> <td>    0.000</td> <td>   -0.356</td> <td> 0.725</td> <td>   -0.000</td> <td>    0.000</td>\n",
       "</tr>\n",
       "<tr>\n",
       "  <th>pickup_cou</th> <td>-2.589e-05</td> <td>    0.000</td> <td>   -0.209</td> <td> 0.836</td> <td>   -0.000</td> <td>    0.000</td>\n",
       "</tr>\n",
       "<tr>\n",
       "  <th>hotel</th>      <td>    0.0013</td> <td>    0.003</td> <td>    0.489</td> <td> 0.629</td> <td>   -0.004</td> <td>    0.007</td>\n",
       "</tr>\n",
       "<tr>\n",
       "  <th>rest_cheap</th> <td>   -0.0052</td> <td>    0.006</td> <td>   -0.940</td> <td> 0.355</td> <td>   -0.017</td> <td>    0.006</td>\n",
       "</tr>\n",
       "</table>\n",
       "<table class=\"simpletable\">\n",
       "<tr>\n",
       "  <th>Omnibus:</th>       <td>29.038</td> <th>  Durbin-Watson:     </th> <td>   2.314</td>\n",
       "</tr>\n",
       "<tr>\n",
       "  <th>Prob(Omnibus):</th> <td> 0.000</td> <th>  Jarque-Bera (JB):  </th> <td>  64.854</td>\n",
       "</tr>\n",
       "<tr>\n",
       "  <th>Skew:</th>          <td> 2.026</td> <th>  Prob(JB):          </th> <td>8.26e-15</td>\n",
       "</tr>\n",
       "<tr>\n",
       "  <th>Kurtosis:</th>      <td> 8.677</td> <th>  Cond. No.          </th> <td>2.90e+04</td>\n",
       "</tr>\n",
       "</table>"
      ],
      "text/plain": [
       "<class 'statsmodels.iolib.summary.Summary'>\n",
       "\"\"\"\n",
       "                            OLS Regression Results                            \n",
       "==============================================================================\n",
       "Dep. Variable:                  ratio   R-squared:                       0.246\n",
       "Model:                            OLS   Adj. R-squared:                  0.134\n",
       "Method:                 Least Squares   F-statistic:                     2.198\n",
       "Date:                Sun, 30 Jul 2017   Prob (F-statistic):             0.0960\n",
       "Time:                        14:23:37   Log-Likelihood:                 8.1699\n",
       "No. Observations:                  32   AIC:                            -6.340\n",
       "Df Residuals:                      27   BIC:                            0.9889\n",
       "Df Model:                           4                                         \n",
       "Covariance Type:            nonrobust                                         \n",
       "==============================================================================\n",
       "                 coef    std err          t      P>|t|      [0.025      0.975]\n",
       "------------------------------------------------------------------------------\n",
       "const          0.6246      0.259      2.409      0.023       0.093       1.156\n",
       "dropoff_co -5.376e-05      0.000     -0.356      0.725      -0.000       0.000\n",
       "pickup_cou -2.589e-05      0.000     -0.209      0.836      -0.000       0.000\n",
       "hotel          0.0013      0.003      0.489      0.629      -0.004       0.007\n",
       "rest_cheap    -0.0052      0.006     -0.940      0.355      -0.017       0.006\n",
       "==============================================================================\n",
       "Omnibus:                       29.038   Durbin-Watson:                   2.314\n",
       "Prob(Omnibus):                  0.000   Jarque-Bera (JB):               64.854\n",
       "Skew:                           2.026   Prob(JB):                     8.26e-15\n",
       "Kurtosis:                       8.677   Cond. No.                     2.90e+04\n",
       "==============================================================================\n",
       "\n",
       "Warnings:\n",
       "[1] Standard Errors assume that the covariance matrix of the errors is correctly specified.\n",
       "[2] The condition number is large, 2.9e+04. This might indicate that there are\n",
       "strong multicollinearity or other numerical problems.\n",
       "\"\"\""
      ]
     },
     "execution_count": 14,
     "metadata": {},
     "output_type": "execute_result"
    }
   ],
   "source": [
    "lr.summary()"
   ]
  },
  {
   "cell_type": "code",
   "execution_count": null,
   "metadata": {
    "ExecuteTime": {
     "end_time": "2017-07-30T20:32:08.788822Z",
     "start_time": "2017-07-30T20:32:08.657541Z"
    },
    "collapsed": false
   },
   "outputs": [],
   "source": [
    "plt.scatter(lr.predict(sm.add_constant(x_train.drop('parks', axis=1))), y_train)"
   ]
  },
  {
   "cell_type": "code",
   "execution_count": 16,
   "metadata": {
    "ExecuteTime": {
     "end_time": "2017-07-30T14:23:42.324045Z",
     "start_time": "2017-07-30T14:23:42.268706Z"
    },
    "collapsed": true
   },
   "outputs": [],
   "source": [
    "p = lr.predict(sm.add_constant(df_man.loc[:,['dropoff_co', 'pickup_cou', 'hotel', 'rest_cheap']]))\n",
    "\n",
    "inl = hu.GRID_ID.apply(lambda n: np.where(df_man.GRID_ID == n)[0][0])\n",
    "\n",
    "p[inl] = hu['ratio']\n",
    "\n",
    "p[np.where(p < 0)[0]] = 0"
   ]
  },
  {
   "cell_type": "code",
   "execution_count": 17,
   "metadata": {
    "ExecuteTime": {
     "end_time": "2017-07-30T14:23:43.184263Z",
     "start_time": "2017-07-30T14:23:43.176537Z"
    },
    "collapsed": false
   },
   "outputs": [
    {
     "data": {
      "text/plain": [
       "0.4356955159555918"
      ]
     },
     "execution_count": 17,
     "metadata": {},
     "output_type": "execute_result"
    }
   ],
   "source": [
    "p.mean()"
   ]
  },
  {
   "cell_type": "markdown",
   "metadata": {},
   "source": [
    "# LP"
   ]
  },
  {
   "cell_type": "code",
   "execution_count": 36,
   "metadata": {
    "ExecuteTime": {
     "end_time": "2017-07-30T20:34:21.792659Z",
     "start_time": "2017-07-30T20:34:21.737228Z"
    },
    "collapsed": true
   },
   "outputs": [],
   "source": [
    "size = 423\n",
    "R = 20\n",
    "w0 = 0.8\n",
    "w1 = 0.2\n",
    "alpha = 10."
   ]
  },
  {
   "cell_type": "code",
   "execution_count": 37,
   "metadata": {
    "ExecuteTime": {
     "end_time": "2017-07-30T20:34:22.912615Z",
     "start_time": "2017-07-30T20:34:22.311424Z"
    },
    "collapsed": false
   },
   "outputs": [],
   "source": [
    "trs_model = pulp.LpProblem(\"trs Problem\", pulp.LpMaximize)\n",
    "\n",
    "### Independant Variables\n",
    "\n",
    "x = pulp.LpVariable.dict('x_%s', range(size))\n",
    "y = pulp.LpVariable.dict('y_%s', range(size), lowBound=0, upBound=1, cat=\"Binary\")\n",
    "\n",
    "### Object Function\n",
    "\n",
    "c = df_man.apply(lambda row: (row['violations']+1)/(row[\"idle_count\"]+1), axis=1)\n",
    "trs_model += sum([c[i] * p[i] * x[i] for i in range(size)])\n",
    "\n",
    "### Constraints\n",
    "\n",
    "trs_model += sum([y[i] for i in range(size)]) <= R\n",
    "\n",
    "for i in range(size):\n",
    "    trs_model += x[i] <= df_man.loc[i, \"idle_count\"]/alpha\n",
    "    trs_model += x[i] <= w0*y[i] + w1*sum([y[j] for j in np.where(matrix[i, :] == 1)[0]])"
   ]
  },
  {
   "cell_type": "code",
   "execution_count": 38,
   "metadata": {
    "ExecuteTime": {
     "end_time": "2017-07-30T20:34:24.068783Z",
     "start_time": "2017-07-30T20:34:23.705759Z"
    },
    "collapsed": false
   },
   "outputs": [
    {
     "data": {
      "text/plain": [
       "1"
      ]
     },
     "execution_count": 38,
     "metadata": {},
     "output_type": "execute_result"
    }
   ],
   "source": [
    "trs_model.solve()"
   ]
  },
  {
   "cell_type": "code",
   "execution_count": 39,
   "metadata": {
    "ExecuteTime": {
     "end_time": "2017-07-30T20:34:24.801914Z",
     "start_time": "2017-07-30T20:34:24.776351Z"
    },
    "collapsed": false
   },
   "outputs": [],
   "source": [
    "ids = []\n",
    "for v in trs_model.variables():\n",
    "    if v.name.startswith(\"y\") & (v.varValue == 1):\n",
    "        ids.append(df_man.loc[int(v.name[2:]),'GRID_ID'])"
   ]
  },
  {
   "cell_type": "code",
   "execution_count": 40,
   "metadata": {
    "ExecuteTime": {
     "end_time": "2017-07-30T20:34:25.794587Z",
     "start_time": "2017-07-30T20:34:25.787549Z"
    },
    "collapsed": false
   },
   "outputs": [
    {
     "data": {
      "text/plain": [
       "['BG-33',\n",
       " 'BK-37',\n",
       " 'BL-32',\n",
       " 'BG-43',\n",
       " 'BN-38',\n",
       " 'AZ-54',\n",
       " 'BM-33',\n",
       " 'BI-38',\n",
       " 'BH-41',\n",
       " 'BG-40',\n",
       " 'BL-34',\n",
       " 'BH-39',\n",
       " 'BG-41',\n",
       " 'BN-34',\n",
       " 'BC-37',\n",
       " 'BG-36',\n",
       " 'BH-44',\n",
       " 'BF-37',\n",
       " 'BE-45',\n",
       " 'BB-51']"
      ]
     },
     "execution_count": 40,
     "metadata": {},
     "output_type": "execute_result"
    }
   ],
   "source": [
    "ids"
   ]
  },
  {
   "cell_type": "code",
   "execution_count": 289,
   "metadata": {
    "ExecuteTime": {
     "end_time": "2017-07-26T04:54:56.635221Z",
     "start_time": "2017-07-26T04:54:56.628618Z"
    },
    "collapsed": false
   },
   "outputs": [
    {
     "data": {
      "text/plain": [
       "['BI-30',\n",
       " 'BG-33',\n",
       " 'BO-34',\n",
       " 'BK-37',\n",
       " 'BL-32',\n",
       " 'BG-43',\n",
       " 'BF-34',\n",
       " 'BN-38',\n",
       " 'AZ-54',\n",
       " 'BM-33',\n",
       " 'BH-41',\n",
       " 'BG-40',\n",
       " 'BG-41',\n",
       " 'BI-40',\n",
       " 'BN-34',\n",
       " 'BC-37',\n",
       " 'BH-31',\n",
       " 'BF-33',\n",
       " 'BH-44',\n",
       " 'BB-51']"
      ]
     },
     "execution_count": 289,
     "metadata": {},
     "output_type": "execute_result"
    }
   ],
   "source": [
    "ids"
   ]
  },
  {
   "cell_type": "code",
   "execution_count": 32,
   "metadata": {
    "ExecuteTime": {
     "end_time": "2017-07-30T16:10:44.345809Z",
     "start_time": "2017-07-30T16:10:44.135446Z"
    },
    "collapsed": false
   },
   "outputs": [
    {
     "data": {
      "text/html": [
       "<div>\n",
       "<style>\n",
       "    .dataframe thead tr:only-child th {\n",
       "        text-align: right;\n",
       "    }\n",
       "\n",
       "    .dataframe thead th {\n",
       "        text-align: left;\n",
       "    }\n",
       "\n",
       "    .dataframe tbody tr th {\n",
       "        vertical-align: top;\n",
       "    }\n",
       "</style>\n",
       "<table border=\"1\" class=\"dataframe\">\n",
       "  <thead>\n",
       "    <tr style=\"text-align: right;\">\n",
       "      <th></th>\n",
       "      <th>GRID_ID</th>\n",
       "      <th>Bangladesh</th>\n",
       "      <th>dropoff_co</th>\n",
       "      <th>geometry</th>\n",
       "      <th>hotel</th>\n",
       "      <th>idle_count</th>\n",
       "      <th>idle_time_</th>\n",
       "      <th>parks</th>\n",
       "      <th>pickup_cou</th>\n",
       "      <th>rest_cheap</th>\n",
       "      <th>rest_india</th>\n",
       "      <th>rs_count</th>\n",
       "      <th>violations</th>\n",
       "      <th>time_usage</th>\n",
       "      <th>car_usage</th>\n",
       "    </tr>\n",
       "  </thead>\n",
       "  <tbody>\n",
       "    <tr>\n",
       "      <th>3</th>\n",
       "      <td>BN-38</td>\n",
       "      <td>0</td>\n",
       "      <td>69.109589</td>\n",
       "      <td>(POLYGON ((-73.94618505770103 40.7591529356944...</td>\n",
       "      <td>0</td>\n",
       "      <td>0.241096</td>\n",
       "      <td>30.129954</td>\n",
       "      <td>0.0</td>\n",
       "      <td>11.717808</td>\n",
       "      <td>1</td>\n",
       "      <td>0</td>\n",
       "      <td>0.0</td>\n",
       "      <td>0.0</td>\n",
       "      <td>0.000000</td>\n",
       "      <td>0.000000</td>\n",
       "    </tr>\n",
       "    <tr>\n",
       "      <th>32</th>\n",
       "      <td>BH-41</td>\n",
       "      <td>1</td>\n",
       "      <td>2925.164384</td>\n",
       "      <td>POLYGON ((-73.97469324903844 40.74664938686355...</td>\n",
       "      <td>50</td>\n",
       "      <td>23.024658</td>\n",
       "      <td>1749.799772</td>\n",
       "      <td>0.0</td>\n",
       "      <td>2981.969863</td>\n",
       "      <td>50</td>\n",
       "      <td>0</td>\n",
       "      <td>0.0</td>\n",
       "      <td>544.0</td>\n",
       "      <td>0.000000</td>\n",
       "      <td>0.000000</td>\n",
       "    </tr>\n",
       "    <tr>\n",
       "      <th>35</th>\n",
       "      <td>BN-34</td>\n",
       "      <td>0</td>\n",
       "      <td>1875.624658</td>\n",
       "      <td>POLYGON ((-73.94617157438803 40.77583734753376...</td>\n",
       "      <td>8</td>\n",
       "      <td>17.380822</td>\n",
       "      <td>1507.581233</td>\n",
       "      <td>0.0</td>\n",
       "      <td>1562.520548</td>\n",
       "      <td>50</td>\n",
       "      <td>0</td>\n",
       "      <td>0.0</td>\n",
       "      <td>326.0</td>\n",
       "      <td>0.000000</td>\n",
       "      <td>0.000000</td>\n",
       "    </tr>\n",
       "    <tr>\n",
       "      <th>40</th>\n",
       "      <td>BH-31</td>\n",
       "      <td>0</td>\n",
       "      <td>1555.449315</td>\n",
       "      <td>POLYGON ((-73.97467739456413 40.78836042243055...</td>\n",
       "      <td>15</td>\n",
       "      <td>9.106849</td>\n",
       "      <td>954.452009</td>\n",
       "      <td>1.0</td>\n",
       "      <td>1624.035616</td>\n",
       "      <td>27</td>\n",
       "      <td>0</td>\n",
       "      <td>0.0</td>\n",
       "      <td>102.0</td>\n",
       "      <td>0.000000</td>\n",
       "      <td>0.000000</td>\n",
       "    </tr>\n",
       "    <tr>\n",
       "      <th>53</th>\n",
       "      <td>BH-44</td>\n",
       "      <td>0</td>\n",
       "      <td>885.046575</td>\n",
       "      <td>POLYGON ((-73.97944614657862 40.73622253401575...</td>\n",
       "      <td>3</td>\n",
       "      <td>7.405479</td>\n",
       "      <td>672.986986</td>\n",
       "      <td>1.0</td>\n",
       "      <td>721.243836</td>\n",
       "      <td>28</td>\n",
       "      <td>0</td>\n",
       "      <td>0.0</td>\n",
       "      <td>357.0</td>\n",
       "      <td>0.000000</td>\n",
       "      <td>0.000000</td>\n",
       "    </tr>\n",
       "    <tr>\n",
       "      <th>96</th>\n",
       "      <td>BB-51</td>\n",
       "      <td>0</td>\n",
       "      <td>1516.671233</td>\n",
       "      <td>POLYGON ((-74.00160715346745 40.70702644080368...</td>\n",
       "      <td>19</td>\n",
       "      <td>21.093151</td>\n",
       "      <td>1382.732283</td>\n",
       "      <td>0.0</td>\n",
       "      <td>1417.646575</td>\n",
       "      <td>50</td>\n",
       "      <td>0</td>\n",
       "      <td>0.0</td>\n",
       "      <td>267.0</td>\n",
       "      <td>0.000000</td>\n",
       "      <td>0.000000</td>\n",
       "    </tr>\n",
       "    <tr>\n",
       "      <th>126</th>\n",
       "      <td>BI-30</td>\n",
       "      <td>0</td>\n",
       "      <td>1467.643836</td>\n",
       "      <td>POLYGON ((-73.96992379505959 40.79044482471627...</td>\n",
       "      <td>16</td>\n",
       "      <td>12.383562</td>\n",
       "      <td>1402.868128</td>\n",
       "      <td>0.0</td>\n",
       "      <td>1424.526027</td>\n",
       "      <td>36</td>\n",
       "      <td>0</td>\n",
       "      <td>0.0</td>\n",
       "      <td>141.0</td>\n",
       "      <td>0.000000</td>\n",
       "      <td>0.000000</td>\n",
       "    </tr>\n",
       "    <tr>\n",
       "      <th>127</th>\n",
       "      <td>BG-33</td>\n",
       "      <td>0</td>\n",
       "      <td>2297.131507</td>\n",
       "      <td>POLYGON ((-73.97943327177249 40.77793363370015...</td>\n",
       "      <td>25</td>\n",
       "      <td>21.334247</td>\n",
       "      <td>1364.602648</td>\n",
       "      <td>0.0</td>\n",
       "      <td>2803.479452</td>\n",
       "      <td>41</td>\n",
       "      <td>0</td>\n",
       "      <td>0.0</td>\n",
       "      <td>303.0</td>\n",
       "      <td>0.000000</td>\n",
       "      <td>0.000000</td>\n",
       "    </tr>\n",
       "    <tr>\n",
       "      <th>151</th>\n",
       "      <td>BO-34</td>\n",
       "      <td>0</td>\n",
       "      <td>352.750685</td>\n",
       "      <td>POLYGON ((-73.94375042797807 40.77375064134599...</td>\n",
       "      <td>4</td>\n",
       "      <td>4.224658</td>\n",
       "      <td>506.457808</td>\n",
       "      <td>2.0</td>\n",
       "      <td>250.747945</td>\n",
       "      <td>27</td>\n",
       "      <td>0</td>\n",
       "      <td>0.0</td>\n",
       "      <td>106.0</td>\n",
       "      <td>0.000000</td>\n",
       "      <td>0.000000</td>\n",
       "    </tr>\n",
       "    <tr>\n",
       "      <th>179</th>\n",
       "      <td>BK-37</td>\n",
       "      <td>0</td>\n",
       "      <td>2251.010959</td>\n",
       "      <td>POLYGON ((-73.9604355359559 40.76124426549935,...</td>\n",
       "      <td>13</td>\n",
       "      <td>8.632877</td>\n",
       "      <td>1013.926164</td>\n",
       "      <td>0.0</td>\n",
       "      <td>2145.906849</td>\n",
       "      <td>50</td>\n",
       "      <td>0</td>\n",
       "      <td>0.0</td>\n",
       "      <td>368.0</td>\n",
       "      <td>0.000000</td>\n",
       "      <td>0.000000</td>\n",
       "    </tr>\n",
       "    <tr>\n",
       "      <th>185</th>\n",
       "      <td>BL-32</td>\n",
       "      <td>0</td>\n",
       "      <td>1043.583562</td>\n",
       "      <td>POLYGON ((-73.95566954591047 40.78418358599539...</td>\n",
       "      <td>7</td>\n",
       "      <td>4.117808</td>\n",
       "      <td>350.173105</td>\n",
       "      <td>0.0</td>\n",
       "      <td>846.517808</td>\n",
       "      <td>23</td>\n",
       "      <td>1</td>\n",
       "      <td>0.0</td>\n",
       "      <td>8.0</td>\n",
       "      <td>0.000000</td>\n",
       "      <td>0.000000</td>\n",
       "    </tr>\n",
       "    <tr>\n",
       "      <th>193</th>\n",
       "      <td>BG-43</td>\n",
       "      <td>0</td>\n",
       "      <td>2222.208219</td>\n",
       "      <td>POLYGON ((-73.97786247479662 40.7383078012184,...</td>\n",
       "      <td>21</td>\n",
       "      <td>25.156164</td>\n",
       "      <td>2455.092740</td>\n",
       "      <td>0.0</td>\n",
       "      <td>2164.942466</td>\n",
       "      <td>50</td>\n",
       "      <td>0</td>\n",
       "      <td>2.0</td>\n",
       "      <td>1467.0</td>\n",
       "      <td>72807.416271</td>\n",
       "      <td>12.545017</td>\n",
       "    </tr>\n",
       "    <tr>\n",
       "      <th>222</th>\n",
       "      <td>BF-34</td>\n",
       "      <td>0</td>\n",
       "      <td>1059.205479</td>\n",
       "      <td>POLYGON ((-73.98418568046321 40.77584883506189...</td>\n",
       "      <td>12</td>\n",
       "      <td>14.421918</td>\n",
       "      <td>857.209680</td>\n",
       "      <td>0.0</td>\n",
       "      <td>931.986301</td>\n",
       "      <td>24</td>\n",
       "      <td>0</td>\n",
       "      <td>0.0</td>\n",
       "      <td>227.0</td>\n",
       "      <td>0.000000</td>\n",
       "      <td>0.000000</td>\n",
       "    </tr>\n",
       "    <tr>\n",
       "      <th>305</th>\n",
       "      <td>AZ-54</td>\n",
       "      <td>0</td>\n",
       "      <td>0.333333</td>\n",
       "      <td>POLYGON ((-74.01517482154192 40.69325668040776...</td>\n",
       "      <td>0</td>\n",
       "      <td>0.000000</td>\n",
       "      <td>0.000000</td>\n",
       "      <td>0.0</td>\n",
       "      <td>0.666667</td>\n",
       "      <td>0</td>\n",
       "      <td>0</td>\n",
       "      <td>0.0</td>\n",
       "      <td>0.0</td>\n",
       "      <td>0.000000</td>\n",
       "      <td>0.000000</td>\n",
       "    </tr>\n",
       "    <tr>\n",
       "      <th>306</th>\n",
       "      <td>BM-33</td>\n",
       "      <td>0</td>\n",
       "      <td>2877.013699</td>\n",
       "      <td>POLYGON ((-73.95092179957403 40.77792501778687...</td>\n",
       "      <td>10</td>\n",
       "      <td>19.109589</td>\n",
       "      <td>2278.430411</td>\n",
       "      <td>0.0</td>\n",
       "      <td>3070.506849</td>\n",
       "      <td>50</td>\n",
       "      <td>0</td>\n",
       "      <td>0.0</td>\n",
       "      <td>328.0</td>\n",
       "      <td>0.000000</td>\n",
       "      <td>0.000000</td>\n",
       "    </tr>\n",
       "    <tr>\n",
       "      <th>320</th>\n",
       "      <td>BG-40</td>\n",
       "      <td>0</td>\n",
       "      <td>4014.520548</td>\n",
       "      <td>POLYGON ((-73.97944228582973 40.74873589006965...</td>\n",
       "      <td>50</td>\n",
       "      <td>13.287671</td>\n",
       "      <td>1185.971644</td>\n",
       "      <td>0.0</td>\n",
       "      <td>3473.117808</td>\n",
       "      <td>50</td>\n",
       "      <td>0</td>\n",
       "      <td>0.0</td>\n",
       "      <td>443.0</td>\n",
       "      <td>0.000000</td>\n",
       "      <td>0.000000</td>\n",
       "    </tr>\n",
       "    <tr>\n",
       "      <th>340</th>\n",
       "      <td>BG-41</td>\n",
       "      <td>0</td>\n",
       "      <td>2945.912329</td>\n",
       "      <td>POLYGON ((-73.97944357290707 40.74456477418032...</td>\n",
       "      <td>50</td>\n",
       "      <td>17.934247</td>\n",
       "      <td>1544.892055</td>\n",
       "      <td>0.0</td>\n",
       "      <td>3393.030137</td>\n",
       "      <td>50</td>\n",
       "      <td>0</td>\n",
       "      <td>0.0</td>\n",
       "      <td>408.0</td>\n",
       "      <td>0.000000</td>\n",
       "      <td>0.000000</td>\n",
       "    </tr>\n",
       "    <tr>\n",
       "      <th>341</th>\n",
       "      <td>BI-40</td>\n",
       "      <td>1</td>\n",
       "      <td>2851.356164</td>\n",
       "      <td>POLYGON ((-73.96994262634995 40.74873380282945...</td>\n",
       "      <td>50</td>\n",
       "      <td>35.958904</td>\n",
       "      <td>2632.678219</td>\n",
       "      <td>0.0</td>\n",
       "      <td>2960.734247</td>\n",
       "      <td>50</td>\n",
       "      <td>0</td>\n",
       "      <td>0.0</td>\n",
       "      <td>225.0</td>\n",
       "      <td>0.000000</td>\n",
       "      <td>0.000000</td>\n",
       "    </tr>\n",
       "    <tr>\n",
       "      <th>371</th>\n",
       "      <td>BC-37</td>\n",
       "      <td>0</td>\n",
       "      <td>848.589041</td>\n",
       "      <td>POLYGON ((-73.99910832557036 40.76466250017567...</td>\n",
       "      <td>12</td>\n",
       "      <td>8.487671</td>\n",
       "      <td>882.974201</td>\n",
       "      <td>0.0</td>\n",
       "      <td>617.843836</td>\n",
       "      <td>15</td>\n",
       "      <td>0</td>\n",
       "      <td>0.0</td>\n",
       "      <td>263.0</td>\n",
       "      <td>0.000000</td>\n",
       "      <td>0.000000</td>\n",
       "    </tr>\n",
       "    <tr>\n",
       "      <th>422</th>\n",
       "      <td>BF-33</td>\n",
       "      <td>0</td>\n",
       "      <td>454.704110</td>\n",
       "      <td>POLYGON ((-73.98260012410412 40.78210525145519...</td>\n",
       "      <td>21</td>\n",
       "      <td>25.589041</td>\n",
       "      <td>1558.966484</td>\n",
       "      <td>0.0</td>\n",
       "      <td>321.150685</td>\n",
       "      <td>16</td>\n",
       "      <td>0</td>\n",
       "      <td>0.0</td>\n",
       "      <td>155.0</td>\n",
       "      <td>0.000000</td>\n",
       "      <td>0.000000</td>\n",
       "    </tr>\n",
       "  </tbody>\n",
       "</table>\n",
       "</div>"
      ],
      "text/plain": [
       "    GRID_ID  Bangladesh   dropoff_co  \\\n",
       "3     BN-38           0    69.109589   \n",
       "32    BH-41           1  2925.164384   \n",
       "35    BN-34           0  1875.624658   \n",
       "40    BH-31           0  1555.449315   \n",
       "53    BH-44           0   885.046575   \n",
       "96    BB-51           0  1516.671233   \n",
       "126   BI-30           0  1467.643836   \n",
       "127   BG-33           0  2297.131507   \n",
       "151   BO-34           0   352.750685   \n",
       "179   BK-37           0  2251.010959   \n",
       "185   BL-32           0  1043.583562   \n",
       "193   BG-43           0  2222.208219   \n",
       "222   BF-34           0  1059.205479   \n",
       "305   AZ-54           0     0.333333   \n",
       "306   BM-33           0  2877.013699   \n",
       "320   BG-40           0  4014.520548   \n",
       "340   BG-41           0  2945.912329   \n",
       "341   BI-40           1  2851.356164   \n",
       "371   BC-37           0   848.589041   \n",
       "422   BF-33           0   454.704110   \n",
       "\n",
       "                                              geometry  hotel  idle_count  \\\n",
       "3    (POLYGON ((-73.94618505770103 40.7591529356944...      0    0.241096   \n",
       "32   POLYGON ((-73.97469324903844 40.74664938686355...     50   23.024658   \n",
       "35   POLYGON ((-73.94617157438803 40.77583734753376...      8   17.380822   \n",
       "40   POLYGON ((-73.97467739456413 40.78836042243055...     15    9.106849   \n",
       "53   POLYGON ((-73.97944614657862 40.73622253401575...      3    7.405479   \n",
       "96   POLYGON ((-74.00160715346745 40.70702644080368...     19   21.093151   \n",
       "126  POLYGON ((-73.96992379505959 40.79044482471627...     16   12.383562   \n",
       "127  POLYGON ((-73.97943327177249 40.77793363370015...     25   21.334247   \n",
       "151  POLYGON ((-73.94375042797807 40.77375064134599...      4    4.224658   \n",
       "179  POLYGON ((-73.9604355359559 40.76124426549935,...     13    8.632877   \n",
       "185  POLYGON ((-73.95566954591047 40.78418358599539...      7    4.117808   \n",
       "193  POLYGON ((-73.97786247479662 40.7383078012184,...     21   25.156164   \n",
       "222  POLYGON ((-73.98418568046321 40.77584883506189...     12   14.421918   \n",
       "305  POLYGON ((-74.01517482154192 40.69325668040776...      0    0.000000   \n",
       "306  POLYGON ((-73.95092179957403 40.77792501778687...     10   19.109589   \n",
       "320  POLYGON ((-73.97944228582973 40.74873589006965...     50   13.287671   \n",
       "340  POLYGON ((-73.97944357290707 40.74456477418032...     50   17.934247   \n",
       "341  POLYGON ((-73.96994262634995 40.74873380282945...     50   35.958904   \n",
       "371  POLYGON ((-73.99910832557036 40.76466250017567...     12    8.487671   \n",
       "422  POLYGON ((-73.98260012410412 40.78210525145519...     21   25.589041   \n",
       "\n",
       "      idle_time_  parks   pickup_cou  rest_cheap  rest_india  rs_count  \\\n",
       "3      30.129954    0.0    11.717808           1           0       0.0   \n",
       "32   1749.799772    0.0  2981.969863          50           0       0.0   \n",
       "35   1507.581233    0.0  1562.520548          50           0       0.0   \n",
       "40    954.452009    1.0  1624.035616          27           0       0.0   \n",
       "53    672.986986    1.0   721.243836          28           0       0.0   \n",
       "96   1382.732283    0.0  1417.646575          50           0       0.0   \n",
       "126  1402.868128    0.0  1424.526027          36           0       0.0   \n",
       "127  1364.602648    0.0  2803.479452          41           0       0.0   \n",
       "151   506.457808    2.0   250.747945          27           0       0.0   \n",
       "179  1013.926164    0.0  2145.906849          50           0       0.0   \n",
       "185   350.173105    0.0   846.517808          23           1       0.0   \n",
       "193  2455.092740    0.0  2164.942466          50           0       2.0   \n",
       "222   857.209680    0.0   931.986301          24           0       0.0   \n",
       "305     0.000000    0.0     0.666667           0           0       0.0   \n",
       "306  2278.430411    0.0  3070.506849          50           0       0.0   \n",
       "320  1185.971644    0.0  3473.117808          50           0       0.0   \n",
       "340  1544.892055    0.0  3393.030137          50           0       0.0   \n",
       "341  2632.678219    0.0  2960.734247          50           0       0.0   \n",
       "371   882.974201    0.0   617.843836          15           0       0.0   \n",
       "422  1558.966484    0.0   321.150685          16           0       0.0   \n",
       "\n",
       "     violations    time_usage  car_usage  \n",
       "3           0.0      0.000000   0.000000  \n",
       "32        544.0      0.000000   0.000000  \n",
       "35        326.0      0.000000   0.000000  \n",
       "40        102.0      0.000000   0.000000  \n",
       "53        357.0      0.000000   0.000000  \n",
       "96        267.0      0.000000   0.000000  \n",
       "126       141.0      0.000000   0.000000  \n",
       "127       303.0      0.000000   0.000000  \n",
       "151       106.0      0.000000   0.000000  \n",
       "179       368.0      0.000000   0.000000  \n",
       "185         8.0      0.000000   0.000000  \n",
       "193      1467.0  72807.416271  12.545017  \n",
       "222       227.0      0.000000   0.000000  \n",
       "305         0.0      0.000000   0.000000  \n",
       "306       328.0      0.000000   0.000000  \n",
       "320       443.0      0.000000   0.000000  \n",
       "340       408.0      0.000000   0.000000  \n",
       "341       225.0      0.000000   0.000000  \n",
       "371       263.0      0.000000   0.000000  \n",
       "422       155.0      0.000000   0.000000  "
      ]
     },
     "execution_count": 32,
     "metadata": {},
     "output_type": "execute_result"
    }
   ],
   "source": [
    "df_man[df_man.GRID_ID.isin(ids)]"
   ]
  },
  {
   "cell_type": "code",
   "execution_count": 24,
   "metadata": {
    "ExecuteTime": {
     "end_time": "2017-07-30T14:24:54.383853Z",
     "start_time": "2017-07-30T14:24:50.016628Z"
    },
    "collapsed": false
   },
   "outputs": [
    {
     "data": {
      "text/plain": [
       "<matplotlib.axes._subplots.AxesSubplot at 0x1171ce7b8>"
      ]
     },
     "execution_count": 24,
     "metadata": {},
     "output_type": "execute_result"
    },
    {
     "data": {
      "image/png": "[encoded data removed]",
      "text/plain": [
       "<matplotlib.figure.Figure at 0x1171c8ba8>"
      ]
     },
     "metadata": {},
     "output_type": "display_data"
    }
   ],
   "source": [
    "fig0, ax0 = plt.subplots(num=0, figsize=(10,13))\n",
    "df_man.plot(ax=ax0, color='white')\n",
    "df_man[df_man.GRID_ID.isin(ids)].plot(ax=ax0, color='blue')\n",
    "#df_man[df_man.rs_count>0].plot(ax=ax0, color='red')"
   ]
  },
  {
   "cell_type": "markdown",
   "metadata": {},
   "source": [
    "# Final"
   ]
  },
  {
   "cell_type": "code",
   "execution_count": 396,
   "metadata": {
    "ExecuteTime": {
     "end_time": "2017-07-27T09:26:04.185501Z",
     "start_time": "2017-07-27T09:26:04.164124Z"
    },
    "collapsed": false
   },
   "outputs": [],
   "source": [
    "def togeo(string):\n",
    "    m = re.findall(r\"(\\d+.\\d+) (\\d+.\\d+)\", string)\n",
    "    coords = list(map(lambda x: (float(x[0]), float(x[1])), m))\n",
    "    poly = shapely.geometry.Polygon(coords)\n",
    "    return poly"
   ]
  },
  {
   "cell_type": "code",
   "execution_count": 399,
   "metadata": {
    "ExecuteTime": {
     "end_time": "2017-07-27T09:28:47.633660Z",
     "start_time": "2017-07-27T09:28:45.979454Z"
    },
    "collapsed": false
   },
   "outputs": [
    {
     "data": {
      "text/html": [
       "<div>\n",
       "<style>\n",
       "    .dataframe thead tr:only-child th {\n",
       "        text-align: right;\n",
       "    }\n",
       "\n",
       "    .dataframe thead th {\n",
       "        text-align: left;\n",
       "    }\n",
       "\n",
       "    .dataframe tbody tr th {\n",
       "        vertical-align: top;\n",
       "    }\n",
       "</style>\n",
       "<table border=\"1\" class=\"dataframe\">\n",
       "  <thead>\n",
       "    <tr style=\"text-align: right;\">\n",
       "      <th></th>\n",
       "      <th>GRID_ID</th>\n",
       "      <th>geometry</th>\n",
       "      <th>idle_count</th>\n",
       "      <th>idle_time_count</th>\n",
       "      <th>pickup_count</th>\n",
       "      <th>dropoff_count</th>\n",
       "      <th>violations</th>\n",
       "      <th>parks</th>\n",
       "      <th>rest_indian</th>\n",
       "      <th>rest_cheap</th>\n",
       "      <th>hotel</th>\n",
       "      <th>Bangladesh</th>\n",
       "      <th>rs_count</th>\n",
       "    </tr>\n",
       "  </thead>\n",
       "  <tbody>\n",
       "    <tr>\n",
       "      <th>0</th>\n",
       "      <td>BZ-45</td>\n",
       "      <td>POLYGON ((73.88922678226744 40.72991440009237,...</td>\n",
       "      <td>0</td>\n",
       "      <td>0</td>\n",
       "      <td>0</td>\n",
       "      <td>0</td>\n",
       "      <td>0</td>\n",
       "      <td>0</td>\n",
       "      <td>0</td>\n",
       "      <td>7</td>\n",
       "      <td>0</td>\n",
       "      <td>0</td>\n",
       "      <td>0</td>\n",
       "    </tr>\n",
       "    <tr>\n",
       "      <th>1</th>\n",
       "      <td>CC-66</td>\n",
       "      <td>POLYGON ((73.8751493522219 40.64022017573762, ...</td>\n",
       "      <td>0.61875</td>\n",
       "      <td>209.3586458</td>\n",
       "      <td>0.396875</td>\n",
       "      <td>1.43125</td>\n",
       "      <td>1</td>\n",
       "      <td>0</td>\n",
       "      <td>0</td>\n",
       "      <td>0</td>\n",
       "      <td>0</td>\n",
       "      <td>0</td>\n",
       "      <td>0</td>\n",
       "    </tr>\n",
       "    <tr>\n",
       "      <th>2</th>\n",
       "      <td>CF-32</td>\n",
       "      <td>POLYGON ((73.85951521552445 40.78556019282625,...</td>\n",
       "      <td>0</td>\n",
       "      <td>0</td>\n",
       "      <td>0</td>\n",
       "      <td>0</td>\n",
       "      <td>0</td>\n",
       "      <td>0</td>\n",
       "      <td>0</td>\n",
       "      <td>0</td>\n",
       "      <td>0</td>\n",
       "      <td>0</td>\n",
       "      <td>0</td>\n",
       "    </tr>\n",
       "    <tr>\n",
       "      <th>3</th>\n",
       "      <td>BG-76</td>\n",
       "      <td>POLYGON ((73.97948851930843 40.59857430474219,...</td>\n",
       "      <td>3.293150685</td>\n",
       "      <td>1175.579635</td>\n",
       "      <td>0.150684932</td>\n",
       "      <td>4.169863014</td>\n",
       "      <td>0</td>\n",
       "      <td>0</td>\n",
       "      <td>0</td>\n",
       "      <td>17</td>\n",
       "      <td>0</td>\n",
       "      <td>0</td>\n",
       "      <td>0</td>\n",
       "    </tr>\n",
       "    <tr>\n",
       "      <th>4</th>\n",
       "      <td>CP-44</td>\n",
       "      <td>POLYGON ((73.8132394398212 40.7339873629611, 7...</td>\n",
       "      <td>1.890410959</td>\n",
       "      <td>428.0338356</td>\n",
       "      <td>1.320547945</td>\n",
       "      <td>16.69041096</td>\n",
       "      <td>1</td>\n",
       "      <td>0</td>\n",
       "      <td>0</td>\n",
       "      <td>4</td>\n",
       "      <td>0</td>\n",
       "      <td>0</td>\n",
       "      <td>0</td>\n",
       "    </tr>\n",
       "  </tbody>\n",
       "</table>\n",
       "</div>"
      ],
      "text/plain": [
       "  GRID_ID                                           geometry   idle_count  \\\n",
       "0   BZ-45  POLYGON ((73.88922678226744 40.72991440009237,...            0   \n",
       "1   CC-66  POLYGON ((73.8751493522219 40.64022017573762, ...      0.61875   \n",
       "2   CF-32  POLYGON ((73.85951521552445 40.78556019282625,...            0   \n",
       "3   BG-76  POLYGON ((73.97948851930843 40.59857430474219,...  3.293150685   \n",
       "4   CP-44  POLYGON ((73.8132394398212 40.7339873629611, 7...  1.890410959   \n",
       "\n",
       "  idle_time_count pickup_count dropoff_count violations parks rest_indian  \\\n",
       "0               0            0             0          0     0           0   \n",
       "1     209.3586458     0.396875       1.43125          1     0           0   \n",
       "2               0            0             0          0     0           0   \n",
       "3     1175.579635  0.150684932   4.169863014          0     0           0   \n",
       "4     428.0338356  1.320547945   16.69041096          1     0           0   \n",
       "\n",
       "  rest_cheap hotel Bangladesh rs_count  \n",
       "0          7     0          0        0  \n",
       "1          0     0          0        0  \n",
       "2          0     0          0        0  \n",
       "3         17     0          0        0  \n",
       "4          4     0          0        0  "
      ]
     },
     "execution_count": 399,
     "metadata": {},
     "output_type": "execute_result"
    }
   ],
   "source": [
    "df = pd.read_csv('Final_dataset.csv', index_col=0)\n",
    "df = df.iloc[:, :13]\n",
    "df.drop(746088, axis=0, inplace=True)\n",
    "df.reset_index(drop=True, inplace=True)\n",
    "df = gpd.GeoDataFrame(df)\n",
    "df.geometry = df.geometry.apply(togeo)\n",
    "df.set_geometry('geometry')\n",
    "df.head()"
   ]
  },
  {
   "cell_type": "code",
   "execution_count": 314,
   "metadata": {
    "ExecuteTime": {
     "end_time": "2017-07-26T23:57:49.907675Z",
     "start_time": "2017-07-26T23:57:49.833438Z"
    },
    "collapsed": true
   },
   "outputs": [],
   "source": [
    "def distance(p):\n",
    "    p1, p2 = p\n",
    "    return np.sqrt((p1.x - p2.x)**2 + (p1.y - p2.y)**2)\n",
    "\n",
    "def check_d(dis):\n",
    "    if dis == 0:\n",
    "        return 0\n",
    "    elif dis <= 1521:\n",
    "        return 1\n",
    "    else:\n",
    "        return 0"
   ]
  },
  {
   "cell_type": "code",
   "execution_count": 374,
   "metadata": {
    "ExecuteTime": {
     "end_time": "2017-07-27T01:04:54.761870Z",
     "start_time": "2017-07-27T00:31:47.129912Z"
    },
    "collapsed": false
   },
   "outputs": [],
   "source": [
    "t = df.geometry.centroid\n",
    "ma = map(distance,product(t, t))\n",
    "ma = np.array(list(map(check_d, ma))).reshape(len(df),len(df))"
   ]
  },
  {
   "cell_type": "code",
   "execution_count": 376,
   "metadata": {
    "ExecuteTime": {
     "end_time": "2017-07-27T09:09:14.155122Z",
     "start_time": "2017-07-27T09:09:14.032905Z"
    },
    "collapsed": false
   },
   "outputs": [
    {
     "data": {
      "text/plain": [
       "(4004, 4004)"
      ]
     },
     "execution_count": 376,
     "metadata": {},
     "output_type": "execute_result"
    }
   ],
   "source": [
    "ma.shape"
   ]
  },
  {
   "cell_type": "code",
   "execution_count": 401,
   "metadata": {
    "ExecuteTime": {
     "end_time": "2017-07-27T09:33:34.554284Z",
     "start_time": "2017-07-27T09:33:33.764103Z"
    },
    "collapsed": true
   },
   "outputs": [],
   "source": [
    "mm = np.delete(ma, 2217, 0)\n",
    "mm = np.delete(mm, 2217, 1)"
   ]
  },
  {
   "cell_type": "code",
   "execution_count": 405,
   "metadata": {
    "ExecuteTime": {
     "end_time": "2017-07-27T09:35:26.647437Z",
     "start_time": "2017-07-27T09:35:26.628027Z"
    },
    "collapsed": true
   },
   "outputs": [],
   "source": [
    "size = 4003\n",
    "R = 50\n",
    "w0 = 0.8\n",
    "w1 = 0.2\n",
    "alpha = 10."
   ]
  },
  {
   "cell_type": "code",
   "execution_count": 388,
   "metadata": {
    "ExecuteTime": {
     "end_time": "2017-07-27T09:17:36.276764Z",
     "start_time": "2017-07-27T09:17:36.252285Z"
    },
    "collapsed": false
   },
   "outputs": [
    {
     "data": {
      "text/plain": [
       "array(['idle_count', 'idle_time_count', 'pickup_count', 'dropoff_count',\n",
       "       'violations', 'parks', 'rest_indian', 'rest_cheap', 'hotel',\n",
       "       'Bangladesh', 'rs_count'], dtype=object)"
      ]
     },
     "execution_count": 388,
     "metadata": {},
     "output_type": "execute_result"
    }
   ],
   "source": [
    "df.columns.values[2:]"
   ]
  },
  {
   "cell_type": "code",
   "execution_count": 393,
   "metadata": {
    "ExecuteTime": {
     "end_time": "2017-07-27T09:24:39.964085Z",
     "start_time": "2017-07-27T09:24:39.945214Z"
    },
    "collapsed": false
   },
   "outputs": [
    {
     "name": "stdout",
     "output_type": "stream",
     "text": [
      "2217  -73.89445203279931 40.78418860645169\n"
     ]
    }
   ],
   "source": [
    "for i,v in enumerate(df.idle_count):\n",
    "    try:\n",
    "        float(v)\n",
    "    except ValueError:\n",
    "        print(i,v)"
   ]
  },
  {
   "cell_type": "code",
   "execution_count": 398,
   "metadata": {
    "ExecuteTime": {
     "end_time": "2017-07-27T09:28:23.366125Z",
     "start_time": "2017-07-27T09:28:23.332213Z"
    },
    "collapsed": false
   },
   "outputs": [
    {
     "data": {
      "text/plain": [
       "GRID_ID             -73.89445316149207 40.78418433640422\n",
       "geometry            -73.89445315878415 40.78418604465411\n",
       "idle_count          -73.89445203279931 40.78418860645169\n",
       "idle_time_count     -73.89445090444644 40.78419116734659\n",
       "pickup_count        -73.89445090038377 40.78419373017169\n",
       "dropoff_count       -73.89444977321531 40.78419629106765\n",
       "violations          -73.89444864486072 40.78419885286301\n",
       "parks               -73.89444639475359 40.78420055905453\n",
       "rest_indian         -73.89444626753254 40.78420084709867\n",
       "rest_cheap          -73.89444526639889 40.78420312084986\n",
       "hotel                 -73.8944441380439 40.7842056826452\n",
       "Bangladesh          -73.89444301222999 40.78420738896588\n",
       "rs_count            -73.89444076076748 40.78420994973246\n",
       "Name: 746088, dtype: object"
      ]
     },
     "execution_count": 398,
     "metadata": {},
     "output_type": "execute_result"
    }
   ],
   "source": [
    "df.loc[746088]"
   ]
  },
  {
   "cell_type": "code",
   "execution_count": 403,
   "metadata": {
    "ExecuteTime": {
     "end_time": "2017-07-27T09:34:15.181195Z",
     "start_time": "2017-07-27T09:34:15.122816Z"
    },
    "collapsed": false
   },
   "outputs": [],
   "source": [
    "for c in df.columns.values[2:]:\n",
    "    df[c] = df[c].astype(float)"
   ]
  },
  {
   "cell_type": "code",
   "execution_count": null,
   "metadata": {
    "ExecuteTime": {
     "start_time": "2017-07-27T13:35:28.608Z"
    },
    "collapsed": false
   },
   "outputs": [],
   "source": [
    "trs_model = pulp.LpProblem(\"trs Problem\", pulp.LpMaximize)\n",
    "\n",
    "### Independant Variables\n",
    "\n",
    "x = pulp.LpVariable.dict('x_%s', range(size))\n",
    "y = pulp.LpVariable.dict('y_%s', range(size), lowBound=0, upBound=1, cat=\"Binary\")\n",
    "\n",
    "### Object Function\n",
    "\n",
    "c = df.apply(lambda row: (row['violations']+1)/(row[\"idle_count\"]+1), axis=1)\n",
    "trs_model += sum([c[i] * x[i] for i in range(size)])\n",
    "\n",
    "### Constraints\n",
    "\n",
    "trs_model += sum([y[i] for i in range(size)]) <= R\n",
    "\n",
    "for i in range(size):\n",
    "    trs_model += x[i] <= df.loc[i, \"idle_count\"]/alpha\n",
    "    trs_model += x[i] <= w0*y[i] + w1*sum([y[j] for j in np.where(mm[i, :] == 1)[0]])"
   ]
  },
  {
   "cell_type": "code",
   "execution_count": null,
   "metadata": {
    "ExecuteTime": {
     "start_time": "2017-07-27T13:37:18.547Z"
    },
    "collapsed": true
   },
   "outputs": [],
   "source": [
    "trs_model.solve()"
   ]
  },
  {
   "cell_type": "code",
   "execution_count": null,
   "metadata": {
    "collapsed": true
   },
   "outputs": [],
   "source": [
    "ids = []\n",
    "for v in trs_model.variables():\n",
    "    if v.name.startswith(\"y\") & (v.varValue == 1):\n",
    "        ids.append(df_man.loc[int(v.name[2:]),'GRID_ID'])\n",
    "ids"
   ]
  },
  {
   "cell_type": "code",
   "execution_count": null,
   "metadata": {
    "collapsed": true
   },
   "outputs": [],
   "source": [
    "fig1, ax1 = plt.subplots(num=1, figsize=(10,13))\n",
    "df.plot(ax=ax0, color='white')\n",
    "df[df.GRID_ID.isin(ids)].plot(ax=ax0, color='blue')"
   ]
  }
 ],
 "metadata": {
  "anaconda-cloud": {},
  "kernelspec": {
   "display_name": "Python [conda root]",
   "language": "python",
   "name": "conda-root-py"
  },
  "language_info": {
   "codemirror_mode": {
    "name": "ipython",
    "version": 3
   },
   "file_extension": ".py",
   "mimetype": "text/x-python",
   "name": "python",
   "nbconvert_exporter": "python",
   "pygments_lexer": "ipython3",
   "version": "3.5.2"
  }
 },
 "nbformat": 4,
 "nbformat_minor": 1
}
